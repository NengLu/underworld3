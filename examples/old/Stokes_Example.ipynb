{
 "cells": [
  {
   "cell_type": "markdown",
   "metadata": {},
   "source": [
    "# Stokes example based on Julian's PETSc example."
   ]
  },
  {
   "cell_type": "code",
   "execution_count": 1,
   "metadata": {},
   "outputs": [],
   "source": [
    "import petsc4py.PETSc as PETSc\n",
    "import underworld3 as uw\n",
    "import numpy as np"
   ]
  },
  {
   "cell_type": "markdown",
   "metadata": {},
   "source": [
    "## Create Mesh"
   ]
  },
  {
   "cell_type": "code",
   "execution_count": 2,
   "metadata": {},
   "outputs": [],
   "source": [
    "mesh = uw.FeMesh(elementRes=[20,20], minCoords=(-1.0, -1.0), maxCoords=(1.0, 1.0), simplex=True)\n",
    "mesh.save(\"mesh.h5\")"
   ]
  },
  {
   "cell_type": "code",
   "execution_count": 3,
   "metadata": {},
   "outputs": [],
   "source": [
    "snes = PETSc.SNES().create(comm=mesh.plex.comm)\n",
    "snes.setDM(mesh.plex)"
   ]
  },
  {
   "cell_type": "markdown",
   "metadata": {},
   "source": [
    "## Setup Discretisation DM"
   ]
  },
  {
   "cell_type": "markdown",
   "metadata": {},
   "source": [
    "## Velocity"
   ]
  },
  {
   "cell_type": "code",
   "execution_count": 4,
   "metadata": {},
   "outputs": [],
   "source": [
    "# Get Communicator from DM\n",
    "comm = mesh.plex.comm\n",
    "# Create Default FE\n",
    "fe_vel = PETSc.FE().createDefault(dim=mesh.dim, nc=2, isSimplex=mesh.isSimplex, qorder=-1, comm=comm)\n",
    "# Set Name\n",
    "fe_vel.setName(\"velocity\")\n",
    "# Get Quadrature\n",
    "fe_vel_quad = fe_vel.getQuadrature()\n",
    "# Get Face Quadrature\n",
    "fe_vel_face_quad = fe_vel.getFaceQuadrature()"
   ]
  },
  {
   "cell_type": "markdown",
   "metadata": {},
   "source": [
    "## Pressure"
   ]
  },
  {
   "cell_type": "code",
   "execution_count": 5,
   "metadata": {},
   "outputs": [
    {
     "data": {
      "text/plain": [
       "<petsc4py.PETSc.FE at 0x7f533a1472b0>"
      ]
     },
     "execution_count": 5,
     "metadata": {},
     "output_type": "execute_result"
    }
   ],
   "source": [
    "# Create Default FE\n",
    "fe_pres = PETSc.FE().createDefault(dim=mesh.dim, nc=1, isSimplex=mesh.isSimplex, qorder=-1, comm=comm)\n",
    "# Set Name\n",
    "fe_pres.setName(\"pressure\")\n",
    "# Set Quadrature\n",
    "fe_pres.setQuadrature(fe_vel_quad)\n",
    "# Set Face Quadrature\n",
    "fe_pres.setFaceQuadrature(fe_vel_face_quad)"
   ]
  },
  {
   "cell_type": "code",
   "execution_count": 6,
   "metadata": {},
   "outputs": [],
   "source": [
    "# Set discretisation and boundary conditions for each mesh\n",
    "# Must set the fields before creating the section\n",
    "# If you don't create a section, we can't get a vector\n",
    "mesh.plex.setField(0, fe_vel)\n",
    "mesh.plex.setField(1, fe_pres)\n",
    "origSect = mesh.plex.createSection([2,1], [2,0,0,0,0,1])\n",
    "mesh.plex.setDefaultSection(origSect)\n",
    "mesh.plex.createDS()"
   ]
  },
  {
   "cell_type": "markdown",
   "metadata": {},
   "source": [
    "## Set up saddle point system, aka stokes"
   ]
  },
  {
   "cell_type": "code",
   "execution_count": 7,
   "metadata": {},
   "outputs": [],
   "source": [
    "from underworld3.stokes import StokesSetup"
   ]
  },
  {
   "cell_type": "code",
   "execution_count": 8,
   "metadata": {},
   "outputs": [],
   "source": [
    "StokesSetup(mesh.plex)"
   ]
  },
  {
   "cell_type": "markdown",
   "metadata": {},
   "source": [
    "## Auxiliary Fields"
   ]
  },
  {
   "cell_type": "markdown",
   "metadata": {},
   "source": [
    "### density and viscosity"
   ]
  },
  {
   "cell_type": "code",
   "execution_count": 9,
   "metadata": {},
   "outputs": [
    {
     "data": {
      "text/plain": [
       "<petsc4py.PETSc.FE at 0x7f533a147e08>"
      ]
     },
     "execution_count": 9,
     "metadata": {},
     "output_type": "execute_result"
    }
   ],
   "source": [
    "fe_density = PETSc.FE().createDefault(dim=mesh.dim, nc=1, isSimplex=mesh.isSimplex, qorder=-1, comm=comm)\n",
    "fe_density.setName(\"density\")\n",
    "fe_density.setQuadrature(fe_vel_quad)\n",
    "fe_density.setFaceQuadrature(fe_vel_face_quad)\n",
    "\n",
    "fe_viscosity = PETSc.FE().createDefault(dim=mesh.dim, nc=1, isSimplex=mesh.isSimplex, qorder=-1, comm=comm)\n",
    "fe_viscosity.setName(\"viscosity\")\n",
    "fe_viscosity.setQuadrature(fe_vel_quad)\n",
    "fe_viscosity.setFaceQuadrature(fe_vel_face_quad)"
   ]
  },
  {
   "cell_type": "markdown",
   "metadata": {},
   "source": [
    "#### Set up auxiliary DM"
   ]
  },
  {
   "cell_type": "code",
   "execution_count": 10,
   "metadata": {},
   "outputs": [],
   "source": [
    "coords = mesh.plex.getCoordinates()\n",
    "dmAux = mesh.plex.clone()\n",
    "mesh.plex.compose(\"dmAux\", dmAux)"
   ]
  },
  {
   "cell_type": "code",
   "execution_count": 11,
   "metadata": {},
   "outputs": [],
   "source": [
    "dmAux.setCoordinates(coords)\n",
    "dmAux.setField(0, fe_density)\n",
    "dmAux.setField(1, fe_viscosity)\n",
    "section = mesh.plex.createSection([1,1], [1,0,0,1,0,0])\n",
    "dmAux.setSection(section)\n",
    "dmAux.createDS()"
   ]
  },
  {
   "cell_type": "markdown",
   "metadata": {},
   "source": [
    "#### Set up auxiliary fields"
   ]
  },
  {
   "cell_type": "code",
   "execution_count": 12,
   "metadata": {},
   "outputs": [],
   "source": [
    "A = dmAux.createLocalVector()\n",
    "\n",
    "# Get Coordinates\n",
    "coords_vec = dmAux.getCoordinates()\n",
    "\n",
    "nf = dmAux.getNumFields()\n",
    "\n",
    "R = coords_vec.array[0::nf]**2 + coords_vec.array[1::nf]**2\n",
    "densities = np.where(R < 0.2**2, 1.5, 0.1) # circle\n",
    "viscosities = np.where(R < 0.2**2, 3.0, 1.0) # circle\n",
    "\n",
    "_, ises, _ = dmAux.createFieldDecomposition()\n",
    "# Might need to use the context manager here.\n",
    "# With A as v:...v[0:nf] = ...\n",
    "A[ises[0]] = densities\n",
    "A[ises[1]] = viscosities\n",
    "\n",
    "mesh.plex.compose(\"A\", A)"
   ]
  },
  {
   "cell_type": "markdown",
   "metadata": {},
   "source": [
    "#### Outputs"
   ]
  },
  {
   "cell_type": "code",
   "execution_count": 13,
   "metadata": {},
   "outputs": [],
   "source": [
    "gVec = dmAux.createGlobalVector()\n",
    "gVec.setName(\"auxiliary\")\n",
    "dmAux.localToGlobal(A, gVec)\n",
    "viewer = PETSc.Viewer().createHDF5(\"auxiliary.h5\", \"w\")\n",
    "viewer(gVec)\n",
    "viewer(dmAux)\n",
    "del viewer\n",
    "from underworld3.petsc_gen_xdmf import generateXdmf\n",
    "generateXdmf(\"auxiliary.h5\")"
   ]
  },
  {
   "cell_type": "code",
   "execution_count": 14,
   "metadata": {},
   "outputs": [
    {
     "data": {
      "text/plain": [
       "<petsc4py.PETSc.FE at 0x7f533a1472b0>"
      ]
     },
     "execution_count": 14,
     "metadata": {},
     "output_type": "execute_result"
    }
   ],
   "source": [
    "dmAux.destroy()\n",
    "fe_viscosity.destroy()\n",
    "fe_density.destroy()\n",
    "fe_vel.destroy()\n",
    "fe_pres.destroy()"
   ]
  },
  {
   "cell_type": "code",
   "execution_count": 15,
   "metadata": {},
   "outputs": [
    {
     "ename": "AttributeError",
     "evalue": "'petsc4py.PETSc.DMPlex' object has no attribute 'createClosureIndex'",
     "output_type": "error",
     "traceback": [
      "\u001b[0;31m---------------------------------------------------------------------------\u001b[0m",
      "\u001b[0;31mAttributeError\u001b[0m                            Traceback (most recent call last)",
      "\u001b[0;32m<ipython-input-15-34247566afe9>\u001b[0m in \u001b[0;36m<module>\u001b[0;34m\u001b[0m\n\u001b[1;32m      1\u001b[0m \u001b[0;31m#Create Closure index...(missing) (Added to petsc4py)\u001b[0m\u001b[0;34m\u001b[0m\u001b[0;34m\u001b[0m\u001b[0;34m\u001b[0m\u001b[0m\n\u001b[0;32m----> 2\u001b[0;31m \u001b[0mmesh\u001b[0m\u001b[0;34m.\u001b[0m\u001b[0mplex\u001b[0m\u001b[0;34m.\u001b[0m\u001b[0mcreateClosureIndex\u001b[0m\u001b[0;34m(\u001b[0m\u001b[0;32mNone\u001b[0m\u001b[0;34m)\u001b[0m\u001b[0;34m\u001b[0m\u001b[0;34m\u001b[0m\u001b[0m\n\u001b[0m",
      "\u001b[0;31mAttributeError\u001b[0m: 'petsc4py.PETSc.DMPlex' object has no attribute 'createClosureIndex'"
     ]
    }
   ],
   "source": [
    "#Create Closure index...(missing) (Added to petsc4py)\n",
    "mesh.plex.createClosureIndex(None)"
   ]
  },
  {
   "cell_type": "code",
   "execution_count": 16,
   "metadata": {},
   "outputs": [],
   "source": [
    "U = mesh.plex.createGlobalVector()\n",
    "U.setName(\"solution\")"
   ]
  },
  {
   "cell_type": "markdown",
   "metadata": {},
   "source": [
    "### Set Initial guess"
   ]
  },
  {
   "cell_type": "code",
   "execution_count": 17,
   "metadata": {},
   "outputs": [],
   "source": [
    "_, ises, _ = mesh.plex.createFieldDecomposition()"
   ]
  },
  {
   "cell_type": "code",
   "execution_count": 18,
   "metadata": {},
   "outputs": [],
   "source": [
    "U[ises[0]] = np.zeros_like(ises[0]) # Zero Vector velocity\n",
    "U[ises[1]] = np.ones_like(ises[1]) # One scalar for pressure"
   ]
  },
  {
   "cell_type": "markdown",
   "metadata": {},
   "source": [
    "## Create Pressure Null Space"
   ]
  },
  {
   "cell_type": "code",
   "execution_count": 19,
   "metadata": {},
   "outputs": [],
   "source": [
    "from underworld3.stokes import NullSpaceSetup"
   ]
  },
  {
   "cell_type": "code",
   "execution_count": 20,
   "metadata": {},
   "outputs": [],
   "source": [
    "NullSpaceSetup(mesh.plex)"
   ]
  },
  {
   "cell_type": "markdown",
   "metadata": {},
   "source": [
    "## Set SNES Convergence"
   ]
  },
  {
   "cell_type": "code",
   "execution_count": 21,
   "metadata": {},
   "outputs": [],
   "source": [
    "snes.setConvergenceTest(\"default\")"
   ]
  },
  {
   "cell_type": "code",
   "execution_count": 22,
   "metadata": {},
   "outputs": [],
   "source": [
    "mesh.plex.setSNESLocalFEM()"
   ]
  },
  {
   "cell_type": "code",
   "execution_count": 23,
   "metadata": {},
   "outputs": [
    {
     "ename": "Error",
     "evalue": "error code 60\n[0] SNESSolve() line 4459 in /tmp/petsc-build/petsc/src/snes/interface/snes.c\n[0] SNESSolve_NEWTONLS() line 175 in /tmp/petsc-build/petsc/src/snes/impls/ls/ls.c\n[0] SNESComputeFunction() line 2343 in /tmp/petsc-build/petsc/src/snes/interface/snes.c\n[0] SNESComputeFunction_DMLocal() line 70 in /tmp/petsc-build/petsc/src/snes/utils/dmlocalsnes.c\n[0] DMPlexSNESComputeBoundaryFEM() line 1673 in /tmp/petsc-build/petsc/src/snes/utils/dmplexsnes.c\n[0] DMPlexInsertBoundaryValues() line 1019 in /tmp/petsc-build/petsc/src/dm/impls/plex/plexfem.c\n[0] DMPlexInsertBoundaryValues_Plex() line 969 in /tmp/petsc-build/petsc/src/dm/impls/plex/plexfem.c\n[0] DMPlexInsertBoundaryValuesEssential() line 754 in /tmp/petsc-build/petsc/src/dm/impls/plex/plexfem.c\n[0] DMProjectFunctionLabelLocal() line 7724 in /tmp/petsc-build/petsc/src/dm/interface/dm.c\n[0] DMProjectFunctionLabelLocal_Plex() line 707 in /tmp/petsc-build/petsc/src/dm/impls/plex/plexproject.c\n[0] DMProjectLocal_Generic_Plex() line 565 in /tmp/petsc-build/petsc/src/dm/impls/plex/plexproject.c\n[0] Nonconforming object sizes\n[0] The section point closure size 4 != dual space dimension 3",
     "output_type": "error",
     "traceback": [
      "\u001b[0;31m---------------------------------------------------------------------------\u001b[0m",
      "\u001b[0;31mError\u001b[0m                                     Traceback (most recent call last)",
      "\u001b[0;32m<ipython-input-23-301a7316f513>\u001b[0m in \u001b[0;36m<module>\u001b[0;34m\u001b[0m\n\u001b[0;32m----> 1\u001b[0;31m \u001b[0msnes\u001b[0m\u001b[0;34m.\u001b[0m\u001b[0msolve\u001b[0m\u001b[0;34m(\u001b[0m\u001b[0;32mNone\u001b[0m\u001b[0;34m,\u001b[0m \u001b[0mU\u001b[0m\u001b[0;34m)\u001b[0m\u001b[0;34m\u001b[0m\u001b[0;34m\u001b[0m\u001b[0m\n\u001b[0m",
      "\u001b[0;32mPETSc/SNES.pyx\u001b[0m in \u001b[0;36mpetsc4py.PETSc.SNES.solve\u001b[0;34m()\u001b[0m\n",
      "\u001b[0;31mError\u001b[0m: error code 60\n[0] SNESSolve() line 4459 in /tmp/petsc-build/petsc/src/snes/interface/snes.c\n[0] SNESSolve_NEWTONLS() line 175 in /tmp/petsc-build/petsc/src/snes/impls/ls/ls.c\n[0] SNESComputeFunction() line 2343 in /tmp/petsc-build/petsc/src/snes/interface/snes.c\n[0] SNESComputeFunction_DMLocal() line 70 in /tmp/petsc-build/petsc/src/snes/utils/dmlocalsnes.c\n[0] DMPlexSNESComputeBoundaryFEM() line 1673 in /tmp/petsc-build/petsc/src/snes/utils/dmplexsnes.c\n[0] DMPlexInsertBoundaryValues() line 1019 in /tmp/petsc-build/petsc/src/dm/impls/plex/plexfem.c\n[0] DMPlexInsertBoundaryValues_Plex() line 969 in /tmp/petsc-build/petsc/src/dm/impls/plex/plexfem.c\n[0] DMPlexInsertBoundaryValuesEssential() line 754 in /tmp/petsc-build/petsc/src/dm/impls/plex/plexfem.c\n[0] DMProjectFunctionLabelLocal() line 7724 in /tmp/petsc-build/petsc/src/dm/interface/dm.c\n[0] DMProjectFunctionLabelLocal_Plex() line 707 in /tmp/petsc-build/petsc/src/dm/impls/plex/plexproject.c\n[0] DMProjectLocal_Generic_Plex() line 565 in /tmp/petsc-build/petsc/src/dm/impls/plex/plexproject.c\n[0] Nonconforming object sizes\n[0] The section point closure size 4 != dual space dimension 3"
     ]
    }
   ],
   "source": [
    "snes.solve(None, U)"
   ]
  },
  {
   "cell_type": "code",
   "execution_count": null,
   "metadata": {},
   "outputs": [],
   "source": [
    "U.destroy()\n",
    "snes.destroy()\n",
    "mesh.plex.destroy()"
   ]
  }
 ],
 "metadata": {
  "file_extension": ".py",
  "kernelspec": {
   "display_name": "Python 3",
   "language": "python",
   "name": "python3"
  },
  "language_info": {
   "codemirror_mode": {
    "name": "ipython",
    "version": 3
   },
   "file_extension": ".py",
   "mimetype": "text/x-python",
   "name": "python",
   "nbconvert_exporter": "python",
   "pygments_lexer": "ipython3",
   "version": "3.7.3"
  },
  "mimetype": "text/x-python",
  "name": "python",
  "npconvert_exporter": "python",
  "pygments_lexer": "ipython3",
  "version": 3
 },
 "nbformat": 4,
 "nbformat_minor": 2
}
