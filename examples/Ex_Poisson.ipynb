{
 "cells": [
  {
   "cell_type": "code",
   "execution_count": 1,
   "metadata": {},
   "outputs": [],
   "source": [
    "from petsc4py import PETSc\n",
    "import underworld3 as uw\n",
    "from underworld3.stokes import Stokes\n",
    "import numpy as np\n",
    "\n",
    "options = PETSc.Options()\n",
    "# options[\"snes_monitor_short\"] = True\n",
    "# options[\"snes_converged_reason\"] = True\n",
    "options[\"pc_type\"]  = \"svd\"\n",
    "# options[\"snes_type\"]  = \"fas\"\n",
    "# options[\"ksp_rtol\"] =  1.0e-10\n",
    "options[\"snes_converged_reason\"] = None\n",
    "options[\"snes_monitor_short\"] = None\n",
    "options[\"snes_view\"]=None\n",
    "options[\"ksp_rtol\"] = 1.0e-10\n",
    "# options[\"ksp_monitor_short\"] = None\n",
    "# options[\"snes_rtol\"] = 1.0e-10"
   ]
  },
  {
   "cell_type": "code",
   "execution_count": 2,
   "metadata": {},
   "outputs": [],
   "source": [
    "mesh = uw.Mesh()"
   ]
  },
  {
   "cell_type": "code",
   "execution_count": 3,
   "metadata": {},
   "outputs": [
    {
     "output_type": "error",
     "ename": "TypeError",
     "evalue": "__init__() takes at least 5 positional arguments (4 given)",
     "traceback": [
      "\u001b[0;31m---------------------------------------------------------------------------\u001b[0m",
      "\u001b[0;31mTypeError\u001b[0m                                 Traceback (most recent call last)",
      "\u001b[0;32m<ipython-input-3-c21f37c5c0fd>\u001b[0m in \u001b[0;36m<module>\u001b[0;34m\u001b[0m\n\u001b[1;32m      1\u001b[0m \u001b[0;31m# Create Poisson object\u001b[0m\u001b[0;34m\u001b[0m\u001b[0;34m\u001b[0m\u001b[0;34m\u001b[0m\u001b[0m\n\u001b[0;32m----> 2\u001b[0;31m \u001b[0mstokes\u001b[0m \u001b[0;34m=\u001b[0m \u001b[0mStokes\u001b[0m\u001b[0;34m(\u001b[0m\u001b[0mmesh\u001b[0m\u001b[0;34m)\u001b[0m\u001b[0;34m\u001b[0m\u001b[0;34m\u001b[0m\u001b[0m\n\u001b[0m",
      "\u001b[0;32munderworld3/stokes.pyx\u001b[0m in \u001b[0;36munderworld3.stokes.Stokes.__init__\u001b[0;34m()\u001b[0m\n",
      "\u001b[0;32munderworld3/mesh.pyx\u001b[0m in \u001b[0;36munderworld3.mesh.MeshVariable.__init__\u001b[0;34m()\u001b[0m\n",
      "\u001b[0;31mTypeError\u001b[0m: __init__() takes at least 5 positional arguments (4 given)"
     ]
    }
   ],
   "source": [
    "# Create Poisson object\n",
    "stokes = Stokes(mesh)"
   ]
  },
  {
   "cell_type": "code",
   "execution_count": 4,
   "metadata": {},
   "outputs": [],
   "source": [
    "# Set some things\n",
    "poisson.k = 1. \n",
    "poisson.h = 0.\n",
    "poisson.add_dirichlet_bc( 1., 1 )  # index 1 is bottom boundary\n",
    "poisson.add_dirichlet_bc( 0., 3 )  # index 3 is top boundary\n"
   ]
  },
  {
   "cell_type": "code",
   "execution_count": 5,
   "metadata": {},
   "outputs": [
    {
     "output_type": "error",
     "ename": "NameError",
     "evalue": "name 'sympy' is not defined",
     "traceback": [
      "\u001b[0;31m---------------------------------------------------------------------------\u001b[0m",
      "\u001b[0;31mNameError\u001b[0m                                 Traceback (most recent call last)",
      "\u001b[0;32m<ipython-input-5-c211a0e7408f>\u001b[0m in \u001b[0;36m<module>\u001b[0;34m\u001b[0m\n\u001b[1;32m      1\u001b[0m \u001b[0;31m# Solve time\u001b[0m\u001b[0;34m\u001b[0m\u001b[0;34m\u001b[0m\u001b[0;34m\u001b[0m\u001b[0m\n\u001b[0;32m----> 2\u001b[0;31m \u001b[0mpoisson\u001b[0m\u001b[0;34m.\u001b[0m\u001b[0msolve\u001b[0m\u001b[0;34m(\u001b[0m\u001b[0;34m)\u001b[0m\u001b[0;34m\u001b[0m\u001b[0;34m\u001b[0m\u001b[0m\n\u001b[0m\u001b[1;32m      3\u001b[0m \u001b[0msoln\u001b[0m \u001b[0;34m=\u001b[0m \u001b[0mpoisson\u001b[0m\u001b[0;34m.\u001b[0m\u001b[0mu_local\u001b[0m\u001b[0;34m\u001b[0m\u001b[0;34m\u001b[0m\u001b[0m\n",
      "\u001b[0;32munderworld3/poisson.pyx\u001b[0m in \u001b[0;36munderworld3.poisson.Poisson.solve\u001b[0;34m()\u001b[0m\n",
      "\u001b[0;32munderworld3/poisson.pyx\u001b[0m in \u001b[0;36munderworld3.poisson.Poisson._setup_terms\u001b[0;34m()\u001b[0m\n",
      "\u001b[0;32m/opt/venv/lib/python3.7/site-packages/underworld3/_jitextension.py\u001b[0m in \u001b[0;36mdiff_fn1_wrt_fn2\u001b[0;34m(fn1, fn2)\u001b[0m\n\u001b[1;32m     10\u001b[0m     \u001b[0;32mif\u001b[0m \u001b[0mfn2\u001b[0m\u001b[0;34m.\u001b[0m\u001b[0mis_zero\u001b[0m\u001b[0;34m:\u001b[0m\u001b[0;34m\u001b[0m\u001b[0;34m\u001b[0m\u001b[0m\n\u001b[1;32m     11\u001b[0m         \u001b[0;32mreturn\u001b[0m \u001b[0;36m0\u001b[0m\u001b[0;34m\u001b[0m\u001b[0;34m\u001b[0m\u001b[0m\n\u001b[0;32m---> 12\u001b[0;31m     \u001b[0mdummy\u001b[0m \u001b[0;34m=\u001b[0m \u001b[0msympy\u001b[0m\u001b[0;34m.\u001b[0m\u001b[0mSymbol\u001b[0m\u001b[0;34m(\u001b[0m\u001b[0;34m\"dummy\"\u001b[0m\u001b[0;34m)\u001b[0m\u001b[0;34m\u001b[0m\u001b[0;34m\u001b[0m\u001b[0m\n\u001b[0m\u001b[1;32m     13\u001b[0m     \u001b[0;32mreturn\u001b[0m \u001b[0mfn1\u001b[0m\u001b[0;34m.\u001b[0m\u001b[0msubs\u001b[0m\u001b[0;34m(\u001b[0m\u001b[0mfn2\u001b[0m\u001b[0;34m,\u001b[0m\u001b[0mdummy\u001b[0m\u001b[0;34m)\u001b[0m\u001b[0;34m.\u001b[0m\u001b[0mdiff\u001b[0m\u001b[0;34m(\u001b[0m\u001b[0mdummy\u001b[0m\u001b[0;34m)\u001b[0m\u001b[0;34m.\u001b[0m\u001b[0msubs\u001b[0m\u001b[0;34m(\u001b[0m\u001b[0mdummy\u001b[0m\u001b[0;34m,\u001b[0m\u001b[0mfn2\u001b[0m\u001b[0;34m)\u001b[0m\u001b[0;34m\u001b[0m\u001b[0;34m\u001b[0m\u001b[0m\n\u001b[1;32m     14\u001b[0m \u001b[0;34m\u001b[0m\u001b[0m\n",
      "\u001b[0;31mNameError\u001b[0m: name 'sympy' is not defined"
     ]
    }
   ],
   "source": [
    "# Solve time\n",
    "poisson.solve()\n",
    "soln = poisson.u_local"
   ]
  },
  {
   "cell_type": "code",
   "execution_count": 6,
   "metadata": {},
   "outputs": [],
   "source": [
    "# Check. Construct simple linear which is solution for \n",
    "# above config.  Exclude boundaries from mesh data. \n",
    "import numpy as np\n",
    "if not np.allclose((1. - mesh.data[:,1]),soln.array):\n",
    "    raise RuntimeError(\"Unexpected values encountered.\")"
   ]
  },
  {
   "cell_type": "code",
   "execution_count": 7,
   "metadata": {},
   "outputs": [],
   "source": [
    "# Now let's construct something a little more complex.\n",
    "# First get the coord system off the mesh/dm.\n",
    "N = mesh.N"
   ]
  },
  {
   "cell_type": "code",
   "execution_count": 8,
   "metadata": {},
   "outputs": [],
   "source": [
    "# Create some function using one of the base scalars N.x/N.y/N.z\n",
    "import sympy\n",
    "k = sympy.exp(-N.y)"
   ]
  },
  {
   "cell_type": "code",
   "execution_count": 9,
   "metadata": {},
   "outputs": [
    {
     "output_type": "execute_result",
     "data": {
      "text/plain": "exp(-N.y)",
      "text/latex": "$\\displaystyle e^{- \\mathbf{{y}_{N}}}$"
     },
     "metadata": {},
     "execution_count": 9
    }
   ],
   "source": [
    "# View\n",
    "k"
   ]
  },
  {
   "cell_type": "code",
   "execution_count": 10,
   "metadata": {},
   "outputs": [],
   "source": [
    "# Don't forget to set the diffusivity\n",
    "poisson.k = k"
   ]
  },
  {
   "cell_type": "code",
   "execution_count": 11,
   "metadata": {},
   "outputs": [],
   "source": [
    "poisson.solve()"
   ]
  },
  {
   "cell_type": "code",
   "execution_count": 12,
   "metadata": {},
   "outputs": [],
   "source": [
    "# Simply confirm different results\n",
    "if np.allclose(soln.array, poisson.u_local.array):\n",
    "    raise RuntimeError(\"Unexpected values encountered.\")"
   ]
  },
  {
   "cell_type": "code",
   "execution_count": 13,
   "metadata": {},
   "outputs": [],
   "source": [
    "# nonlinear example\n",
    "mesh = uw.Mesh( elementRes=(8, 8), simplex=False )\n",
    "poisson = Poisson(mesh, degree=1)"
   ]
  },
  {
   "cell_type": "code",
   "execution_count": 14,
   "metadata": {},
   "outputs": [],
   "source": [
    "u = poisson.u.fn"
   ]
  },
  {
   "cell_type": "code",
   "execution_count": 15,
   "metadata": {},
   "outputs": [
    {
     "output_type": "execute_result",
     "data": {
      "text/plain": "0.5*Derivative(u(N.x, N.y), N.x)**2 + 0.5*Derivative(u(N.x, N.y), N.y)**2",
      "text/latex": "$\\displaystyle 0.5 \\left(\\frac{\\partial}{\\partial \\mathbf{{x}_{N}}} u{\\left(\\mathbf{{x}_{N}},\\mathbf{{y}_{N}} \\right)}\\right)^{2} + 0.5 \\left(\\frac{\\partial}{\\partial \\mathbf{{y}_{N}}} u{\\left(\\mathbf{{x}_{N}},\\mathbf{{y}_{N}} \\right)}\\right)^{2}$"
     },
     "metadata": {},
     "execution_count": 15
    }
   ],
   "source": [
    "from sympy.vector import gradient\n",
    "nabla_u = gradient(u)\n",
    "poisson.k = 0.5*(nabla_u.dot(nabla_u))\n",
    "poisson.k"
   ]
  },
  {
   "cell_type": "code",
   "execution_count": 16,
   "metadata": {},
   "outputs": [
    {
     "output_type": "execute_result",
     "data": {
      "text/plain": "16*N.x**2 + 16*N.y**2",
      "text/latex": "$\\displaystyle 16 \\mathbf{{x}_{N}}^{2} + 16 \\mathbf{{y}_{N}}^{2}$"
     },
     "metadata": {},
     "execution_count": 16
    }
   ],
   "source": [
    "N = mesh.N\n",
    "abs_r2 = (N.x**2 + N.y**2)\n",
    "poisson.h = 16*abs_r2\n",
    "poisson.h"
   ]
  },
  {
   "cell_type": "code",
   "execution_count": 17,
   "metadata": {},
   "outputs": [],
   "source": [
    "poisson.add_dirichlet_bc(abs_r2, [1,] )\n",
    "poisson.add_dirichlet_bc(abs_r2, [2,] )\n",
    "poisson.add_dirichlet_bc(abs_r2, [3,] )\n",
    "poisson.add_dirichlet_bc(abs_r2, [4,] )"
   ]
  },
  {
   "cell_type": "code",
   "execution_count": 18,
   "metadata": {},
   "outputs": [],
   "source": [
    "poisson._setup_terms()\n",
    "soln = poisson.u_local"
   ]
  },
  {
   "cell_type": "code",
   "execution_count": 19,
   "metadata": {},
   "outputs": [],
   "source": [
    "poisson.solve(setup=False)\n",
    "soln = poisson.u_local"
   ]
  },
  {
   "cell_type": "code",
   "execution_count": 69,
   "metadata": {},
   "outputs": [
    {
     "output_type": "stream",
     "name": "stdout",
     "text": "L2 = 0.004771100355452879\n"
    }
   ],
   "source": [
    "exact = mesh.data[:,0]**2 + mesh.data[:,1]**2\n",
    "l2 = np.linalg.norm(exact-soln.array[:])\n",
    "print(\"L2 = {}\".format(l2))\n",
    "if not np.allclose(soln.array,exact,rtol=7.e-2):\n",
    "    raise RuntimeError(\"Unexpected values encountered.\")"
   ]
  }
 ],
 "metadata": {
  "language_info": {
   "name": "python",
   "codemirror_mode": {
    "name": "ipython",
    "version": 3
   },
   "version": "3.7.3-final"
  },
  "orig_nbformat": 2,
  "file_extension": ".py",
  "mimetype": "text/x-python",
  "name": "python",
  "npconvert_exporter": "python",
  "pygments_lexer": "ipython3",
  "version": 3,
  "kernelspec": {
   "name": "python37364bitvenvvirtualenv5e01bc017a90406fbb78d33eabae6a8c",
   "display_name": "Python 3.7.3 64-bit ('venv': virtualenv)"
  }
 },
 "nbformat": 4,
 "nbformat_minor": 2
}