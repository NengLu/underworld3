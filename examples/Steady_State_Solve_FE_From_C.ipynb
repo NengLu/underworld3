{
 "cells": [
  {
   "cell_type": "markdown",
   "metadata": {},
   "source": [
    "# Steady State Solve\n",
    "\n",
    "Example is based on Julian's Laplace example."
   ]
  },
  {
   "cell_type": "code",
   "execution_count": 1,
   "metadata": {},
   "outputs": [],
   "source": [
    "import petsc4py.PETSc as PETSc\n",
    "import underworld3 as uw"
   ]
  },
  {
   "cell_type": "code",
   "execution_count": 2,
   "metadata": {},
   "outputs": [],
   "source": [
    "options = PETSc.Options()"
   ]
  },
  {
   "cell_type": "code",
   "execution_count": 3,
   "metadata": {},
   "outputs": [],
   "source": [
    "options.setValue(\"dm_plex_separate_marker\", None)\n",
    "options.setValue(\"temperature_petscspace_degree\", 1)\n",
    "options.setValue(\"sol_vec_view\", None)\n",
    "options.setValue(\"dm_view\", None)\n",
    "options.setValue(\"options_view\",None)"
   ]
  },
  {
   "cell_type": "code",
   "execution_count": 4,
   "metadata": {},
   "outputs": [],
   "source": [
    "user = {\"y0\": -0.6,\n",
    "        \"y1\": 1.3,\n",
    "        \"k\": 0.5,\n",
    "        \"h\": 10,\n",
    "        \"T0\": 4.0,\n",
    "        \"T1\": 8.0,\n",
    "        \"simplex\": True}"
   ]
  },
  {
   "cell_type": "code",
   "execution_count": 5,
   "metadata": {},
   "outputs": [],
   "source": [
    "snes = PETSc.SNES().create(comm=PETSc.COMM_WORLD)"
   ]
  },
  {
   "cell_type": "markdown",
   "metadata": {},
   "source": [
    "## Create Mesh"
   ]
  },
  {
   "cell_type": "code",
   "execution_count": 6,
   "metadata": {},
   "outputs": [],
   "source": [
    "plex = PETSc.DMPlex().createBoxMesh(faces=(10,10), \n",
    "                                    lower=(-1.0, user[\"y0\"]),\n",
    "                                    upper=(1.0, user[\"y1\"]),\n",
    "                                    simplex=user[\"simplex\"])"
   ]
  },
  {
   "cell_type": "code",
   "execution_count": 7,
   "metadata": {},
   "outputs": [],
   "source": [
    "plex.distribute()"
   ]
  },
  {
   "cell_type": "code",
   "execution_count": 8,
   "metadata": {},
   "outputs": [],
   "source": [
    "plex.setFromOptions()"
   ]
  },
  {
   "cell_type": "code",
   "execution_count": 9,
   "metadata": {},
   "outputs": [],
   "source": [
    "plex.view()"
   ]
  },
  {
   "cell_type": "code",
   "execution_count": 10,
   "metadata": {},
   "outputs": [],
   "source": [
    "part = plex.getPartitioner()\n",
    "part.setFromOptions()\n",
    "plex.distribute()"
   ]
  },
  {
   "cell_type": "code",
   "execution_count": 11,
   "metadata": {},
   "outputs": [],
   "source": [
    "plex.localizeCoordinates()\n",
    "plex.setFromOptions()"
   ]
  },
  {
   "cell_type": "markdown",
   "metadata": {},
   "source": [
    "## Setup Discretisation"
   ]
  },
  {
   "cell_type": "code",
   "execution_count": 12,
   "metadata": {},
   "outputs": [],
   "source": [
    "from underworld3.poisson import pySetupDiscretization"
   ]
  },
  {
   "cell_type": "code",
   "execution_count": 13,
   "metadata": {},
   "outputs": [],
   "source": [
    "pySetupDiscretization(plex, user)"
   ]
  },
  {
   "cell_type": "code",
   "execution_count": 14,
   "metadata": {},
   "outputs": [],
   "source": [
    "plex.view()"
   ]
  },
  {
   "cell_type": "code",
   "execution_count": 15,
   "metadata": {},
   "outputs": [],
   "source": [
    "plex.createClosureIndex(None)\n",
    "plex.setSNESLocalFEM()\n",
    "u = plex.createGlobalVector()\n",
    "snes.setDM(plex)\n",
    "#snes.setFromOptions()"
   ]
  },
  {
   "cell_type": "code",
   "execution_count": 16,
   "metadata": {},
   "outputs": [],
   "source": [
    "#import numpy as np\n",
    "#u[:] = np.ones_like(u.array) * 0.0"
   ]
  },
  {
   "cell_type": "code",
   "execution_count": 17,
   "metadata": {},
   "outputs": [],
   "source": [
    "#u.view()"
   ]
  },
  {
   "cell_type": "code",
   "execution_count": 18,
   "metadata": {},
   "outputs": [],
   "source": [
    "#u.setName(\"Initial Solution\")\n",
    "u.setName(\"Solution\")"
   ]
  },
  {
   "cell_type": "code",
   "execution_count": 19,
   "metadata": {},
   "outputs": [],
   "source": [
    "snes.solve(None, u)"
   ]
  },
  {
   "cell_type": "code",
   "execution_count": 20,
   "metadata": {},
   "outputs": [],
   "source": [
    "u.view()"
   ]
  },
  {
   "cell_type": "code",
   "execution_count": 21,
   "metadata": {},
   "outputs": [],
   "source": [
    "viewer = PETSc.Viewer().createHDF5(\"temperature.h5\", \"w\")\n",
    "viewer(u)\n",
    "viewer(plex)\n",
    "del viewer\n",
    "from underworld3.petsc_gen_xdmf import generateXdmf\n",
    "generateXdmf(\"temperature.h5\")"
   ]
  },
  {
   "cell_type": "code",
   "execution_count": null,
   "metadata": {},
   "outputs": [],
   "source": []
  }
 ],
 "metadata": {
  "kernelspec": {
   "display_name": "Python 3",
   "language": "python",
   "name": "python3"
  },
  "language_info": {
   "codemirror_mode": {
    "name": "ipython",
    "version": 3
   },
   "file_extension": ".py",
   "mimetype": "text/x-python",
   "name": "python",
   "nbconvert_exporter": "python",
   "pygments_lexer": "ipython3",
   "version": "3.7.3"
  }
 },
 "nbformat": 4,
 "nbformat_minor": 2
}
