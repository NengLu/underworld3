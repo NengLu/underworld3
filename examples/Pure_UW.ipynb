{
 "nbformat": 4,
 "nbformat_minor": 2,
 "metadata": {
  "language_info": {
   "name": "python",
   "codemirror_mode": {
    "name": "ipython",
    "version": 3
   },
   "version": "3.7.3-final"
  },
  "orig_nbformat": 2,
  "file_extension": ".py",
  "mimetype": "text/x-python",
  "name": "python",
  "npconvert_exporter": "python",
  "pygments_lexer": "ipython3",
  "version": 3,
  "kernelspec": {
   "name": "python37364bitvenvvirtualenvb8748a9c2f7444b6ad4437baf58be507",
   "display_name": "Python 3.7.3 64-bit ('venv': virtualenv)"
  }
 },
 "cells": [
  {
   "cell_type": "code",
   "execution_count": 1,
   "metadata": {},
   "outputs": [],
   "source": [
    "from petsc4py import PETSc\n",
    "import underworld3 as uw"
   ]
  },
  {
   "cell_type": "code",
   "execution_count": 2,
   "metadata": {},
   "outputs": [],
   "source": [
    "options = PETSc.Options()\n",
    "options.setValue(\"dm_plex_separate_marker\", None)\n",
    "options.setValue(\"temperature_petscspace_degree\", 1)\n",
    "options.setValue(\"options_view\",None)"
   ]
  },
  {
   "cell_type": "code",
   "execution_count": 4,
   "metadata": {},
   "outputs": [],
   "source": [
    "mesh = uw.FeMesh()"
   ]
  },
  {
   "cell_type": "code",
   "execution_count": 47,
   "metadata": {},
   "outputs": [],
   "source": [
    "from underworld3 import poisson\n",
    "# Create Poisson object\n",
    "poisson = poisson.Poisson(mesh)"
   ]
  },
  {
   "cell_type": "code",
   "execution_count": 79,
   "metadata": {},
   "outputs": [],
   "source": [
    "# Set some things\n",
    "poisson.k = 1. \n",
    "poisson.h = 0."
   ]
  },
  {
   "cell_type": "code",
   "execution_count": 80,
   "metadata": {},
   "outputs": [],
   "source": [
    "# Solve time\n",
    "poisson.solve()\n",
    "soln = poisson.u"
   ]
  },
  {
   "cell_type": "code",
   "execution_count": 81,
   "metadata": {},
   "outputs": [],
   "source": [
    "# Check. Construct simple linear which is solution for \n",
    "# above config.  Exclude boundaries from mesh data. \n",
    "import numpy as np\n",
    "if not np.allclose((1. - mesh.data[:,1])[17:-17],soln.array):\n",
    "    raise RuntimeError(\"Unexpected values encountered.\")"
   ]
  },
  {
   "cell_type": "code",
   "execution_count": 82,
   "metadata": {},
   "outputs": [],
   "source": [
    "# Now let's construct something a little more complex.\n",
    "# First get the coord function off the mesh/dm.\n",
    "x = mesh.x"
   ]
  },
  {
   "cell_type": "code",
   "execution_count": 83,
   "metadata": {},
   "outputs": [],
   "source": [
    "# Create some function using coord\n",
    "import sympy\n",
    "k = sympy.exp(-x[1])"
   ]
  },
  {
   "cell_type": "code",
   "execution_count": 84,
   "metadata": {},
   "outputs": [
    {
     "output_type": "execute_result",
     "data": {
      "text/plain": "exp(-x[1, 0])",
      "text/latex": "$\\displaystyle e^{- x_{1, 0}}$"
     },
     "metadata": {},
     "execution_count": 84
    }
   ],
   "source": [
    "# View\n",
    "k"
   ]
  },
  {
   "cell_type": "code",
   "execution_count": 85,
   "metadata": {},
   "outputs": [],
   "source": [
    "# Don't forget to set the diffusivity\n",
    "poisson.k = k"
   ]
  },
  {
   "cell_type": "code",
   "execution_count": 86,
   "metadata": {},
   "outputs": [],
   "source": [
    "poisson.solve()"
   ]
  },
  {
   "cell_type": "code",
   "execution_count": 87,
   "metadata": {},
   "outputs": [],
   "source": [
    "# Simply confirm different results\n",
    "if np.allclose(soln.array, poisson.u.array):\n",
    "    raise RuntimeError(\"Unexpected values encountered.\")"
   ]
  }
 ]
}