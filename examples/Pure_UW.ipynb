{
 "cells": [
  {
   "cell_type": "code",
   "execution_count": 1,
   "metadata": {},
   "outputs": [],
   "source": [
    "from petsc4py import PETSc\n",
    "import underworld3 as uw\n"
   ]
  },
  {
   "cell_type": "code",
   "execution_count": 2,
   "metadata": {},
   "outputs": [],
   "source": [
    "mesh = uw.Mesh()"
   ]
  },
  {
   "cell_type": "code",
   "execution_count": 3,
   "metadata": {},
   "outputs": [],
   "source": [
    "from underworld3 import poisson\n",
    "# Create Poisson object\n",
    "poisson = poisson.Poisson(mesh)"
   ]
  },
  {
   "cell_type": "code",
   "execution_count": 4,
   "metadata": {},
   "outputs": [],
   "source": [
    "# Set some things\n",
    "poisson.k = 1. \n",
    "poisson.h = 0.\n",
    "poisson.add_dirichlet_bc( 1., 1 )  # index 1 is bottom boundary\n",
    "poisson.add_dirichlet_bc( 0., 3 )  # index 3 is top boundary\n"
   ]
  },
  {
   "cell_type": "code",
   "execution_count": 7,
   "metadata": {},
   "outputs": [],
   "source": [
    "# Solve time\n",
    "poisson.solve()\n",
    "soln = poisson.u_local"
   ]
  },
  {
   "cell_type": "code",
   "execution_count": 8,
   "metadata": {},
   "outputs": [],
   "source": [
    "# Check. Construct simple linear which is solution for \n",
    "# above config.  Exclude boundaries from mesh data. \n",
    "import numpy as np\n",
    "if not np.allclose((1. - mesh.data[:,1]),soln.array):\n",
    "    raise RuntimeError(\"Unexpected values encountered.\")"
   ]
  },
  {
   "cell_type": "code",
   "execution_count": 9,
   "metadata": {},
   "outputs": [],
   "source": [
    "# Now let's construct something a little more complex.\n",
    "# First get the coord system off the mesh/dm.\n",
    "N = mesh.N"
   ]
  },
  {
   "cell_type": "code",
   "execution_count": 10,
   "metadata": {},
   "outputs": [],
   "source": [
    "# Create some function using one of the base scalars N.x/N.y/N.z\n",
    "import sympy\n",
    "k = sympy.exp(-N.y)"
   ]
  },
  {
   "cell_type": "code",
   "execution_count": 11,
   "metadata": {},
   "outputs": [
    {
     "output_type": "execute_result",
     "data": {
      "text/plain": "exp(-N.y)",
      "text/latex": "$\\displaystyle e^{- \\mathbf{{y}_{N}}}$"
     },
     "metadata": {},
     "execution_count": 11
    }
   ],
   "source": [
    "# View\n",
    "k"
   ]
  },
  {
   "cell_type": "code",
   "execution_count": 12,
   "metadata": {},
   "outputs": [],
   "source": [
    "# Don't forget to set the diffusivity\n",
    "poisson.k = k"
   ]
  },
  {
   "cell_type": "code",
   "execution_count": 13,
   "metadata": {},
   "outputs": [],
   "source": [
    "poisson.solve()"
   ]
  },
  {
   "cell_type": "code",
   "execution_count": 14,
   "metadata": {},
   "outputs": [],
   "source": [
    "# Simply confirm different results\n",
    "if np.allclose(soln.array, poisson.u_local.array):\n",
    "    raise RuntimeError(\"Unexpected values encountered.\")"
   ]
  }
 ],
 "metadata": {
  "language_info": {
   "name": "python",
   "codemirror_mode": {
    "name": "ipython",
    "version": 3
   },
   "version": "3.7.3-final"
  },
  "orig_nbformat": 2,
  "file_extension": ".py",
  "mimetype": "text/x-python",
  "name": "python",
  "npconvert_exporter": "python",
  "pygments_lexer": "ipython3",
  "version": 3,
  "kernelspec": {
   "name": "python37364bitvenvvirtualenvb8748a9c2f7444b6ad4437baf58be507",
   "display_name": "Python 3.7.3 64-bit ('venv': virtualenv)"
  }
 },
 "nbformat": 4,
 "nbformat_minor": 2
}