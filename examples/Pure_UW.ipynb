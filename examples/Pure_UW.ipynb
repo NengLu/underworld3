{
 "cells": [
  {
   "cell_type": "code",
   "execution_count": 1,
   "metadata": {},
   "outputs": [],
   "source": [
    "from petsc4py import PETSc\n",
    "import underworld3 as uw\n",
    "from underworld3.poisson import Poisson\n",
    "import numpy as np\n",
    "\n",
    "options = PETSc.Options()\n",
    "# options[\"snes_monitor_short\"] = True\n",
    "# options[\"snes_converged_reason\"] = True\n",
    "options[\"pc_type\"]  = \"svd\"\n",
    "# options[\"snes_type\"]  = \"fas\"\n",
    "# options[\"ksp_rtol\"] =  1.0e-10\n",
    "options[\"snes_converged_reason\"] = None\n",
    "options[\"snes_monitor_short\"] = None\n",
    "options[\"snes_view\"]=None\n",
    "options[\"ksp_rtol\"] = 1.0e-10\n",
    "# options[\"ksp_monitor_short\"] = None\n",
    "# options[\"snes_rtol\"] = 1.0e-10"
   ]
  },
  {
   "cell_type": "code",
   "execution_count": 2,
   "metadata": {},
   "outputs": [],
   "source": [
    "mesh = uw.Mesh()"
   ]
  },
  {
   "cell_type": "code",
   "execution_count": 3,
   "metadata": {},
   "outputs": [],
   "source": [
    "# Create Poisson object\n",
    "poisson = Poisson(mesh)"
   ]
  },
  {
   "cell_type": "code",
   "execution_count": 4,
   "metadata": {},
   "outputs": [],
   "source": [
    "# Set some things\n",
    "poisson.k = 1. \n",
    "poisson.h = 0.\n",
    "poisson.add_dirichlet_bc( 1., 1 )  # index 1 is bottom boundary\n",
    "poisson.add_dirichlet_bc( 0., 3 )  # index 3 is top boundary\n"
   ]
  },
  {
   "cell_type": "code",
   "execution_count": 5,
   "metadata": {},
   "outputs": [],
   "source": [
    "# Solve time\n",
    "poisson.solve()\n",
    "soln = poisson.u_local"
   ]
  },
  {
   "cell_type": "code",
   "execution_count": 6,
   "metadata": {},
   "outputs": [],
   "source": [
    "# Check. Construct simple linear which is solution for \n",
    "# above config.  Exclude boundaries from mesh data. \n",
    "import numpy as np\n",
    "if not np.allclose((1. - mesh.data[:,1]),soln.array):\n",
    "    raise RuntimeError(\"Unexpected values encountered.\")"
   ]
  },
  {
   "cell_type": "code",
   "execution_count": 7,
   "metadata": {},
   "outputs": [],
   "source": [
    "# Now let's construct something a little more complex.\n",
    "# First get the coord system off the mesh/dm.\n",
    "N = mesh.N"
   ]
  },
  {
   "cell_type": "code",
   "execution_count": 8,
   "metadata": {},
   "outputs": [],
   "source": [
    "# Create some function using one of the base scalars N.x/N.y/N.z\n",
    "import sympy\n",
    "k = sympy.exp(-N.y)"
   ]
  },
  {
   "cell_type": "code",
   "execution_count": 9,
   "metadata": {},
   "outputs": [
    {
     "output_type": "execute_result",
     "data": {
      "text/plain": "exp(-N.y)",
      "text/latex": "$\\displaystyle e^{- \\mathbf{{y}_{N}}}$"
     },
     "metadata": {},
     "execution_count": 9
    }
   ],
   "source": [
    "# View\n",
    "k"
   ]
  },
  {
   "cell_type": "code",
   "execution_count": 10,
   "metadata": {},
   "outputs": [],
   "source": [
    "# Don't forget to set the diffusivity\n",
    "poisson.k = k"
   ]
  },
  {
   "cell_type": "code",
   "execution_count": 11,
   "metadata": {},
   "outputs": [],
   "source": [
    "poisson.solve()"
   ]
  },
  {
   "cell_type": "code",
   "execution_count": 12,
   "metadata": {},
   "outputs": [],
   "source": [
    "# Simply confirm different results\n",
    "if np.allclose(soln.array, poisson.u_local.array):\n",
    "    raise RuntimeError(\"Unexpected values encountered.\")"
   ]
  },
  {
   "cell_type": "code",
   "execution_count": 13,
   "metadata": {},
   "outputs": [],
   "source": [
    "# nonlinear example\n",
    "mesh = uw.Mesh( elementRes=(8, 8), simplex=False )\n",
    "poisson = Poisson(mesh, degree=1)"
   ]
  },
  {
   "cell_type": "code",
   "execution_count": 14,
   "metadata": {},
   "outputs": [],
   "source": [
    "u = poisson.u.fn"
   ]
  },
  {
   "cell_type": "code",
   "execution_count": 15,
   "metadata": {},
   "outputs": [
    {
     "output_type": "execute_result",
     "data": {
      "text/plain": "0.5*Derivative(u(N.x, N.y), N.x)**2 + 0.5*Derivative(u(N.x, N.y), N.y)**2",
      "text/latex": "$\\displaystyle 0.5 \\left(\\frac{\\partial}{\\partial \\mathbf{{x}_{N}}} u{\\left(\\mathbf{{x}_{N}},\\mathbf{{y}_{N}} \\right)}\\right)^{2} + 0.5 \\left(\\frac{\\partial}{\\partial \\mathbf{{y}_{N}}} u{\\left(\\mathbf{{x}_{N}},\\mathbf{{y}_{N}} \\right)}\\right)^{2}$"
     },
     "metadata": {},
     "execution_count": 15
    }
   ],
   "source": [
    "from sympy.vector import gradient\n",
    "nabla_u = gradient(u)\n",
    "poisson.k = 0.5*(nabla_u.dot(nabla_u))\n",
    "poisson.k"
   ]
  },
  {
   "cell_type": "code",
   "execution_count": 16,
   "metadata": {},
   "outputs": [
    {
     "output_type": "execute_result",
     "data": {
      "text/plain": "16*N.x**2 + 16*N.y**2",
      "text/latex": "$\\displaystyle 16 \\mathbf{{x}_{N}}^{2} + 16 \\mathbf{{y}_{N}}^{2}$"
     },
     "metadata": {},
     "execution_count": 16
    }
   ],
   "source": [
    "N = mesh.N\n",
    "abs_r2 = (N.x**2 + N.y**2)\n",
    "poisson.h = 16*abs_r2\n",
    "poisson.h"
   ]
  },
  {
   "cell_type": "code",
   "execution_count": 17,
   "metadata": {},
   "outputs": [],
   "source": [
    "poisson.add_dirichlet_bc(abs_r2, [1,] )\n",
    "poisson.add_dirichlet_bc(abs_r2, [2,] )\n",
    "poisson.add_dirichlet_bc(abs_r2, [3,] )\n",
    "poisson.add_dirichlet_bc(abs_r2, [4,] )"
   ]
  },
  {
   "cell_type": "code",
   "execution_count": 18,
   "metadata": {},
   "outputs": [],
   "source": [
    "poisson._setup_terms()\n",
    "soln = poisson.u_local"
   ]
  },
  {
   "cell_type": "code",
   "execution_count": 19,
   "metadata": {},
   "outputs": [],
   "source": [
    "poisson.solve(setup=False)\n",
    "soln = poisson.u_local"
   ]
  },
  {
   "cell_type": "code",
   "execution_count": 69,
   "metadata": {},
   "outputs": [
    {
     "output_type": "stream",
     "name": "stdout",
     "text": "L2 = 0.004771100355452879\n"
    }
   ],
   "source": [
    "exact = mesh.data[:,0]**2 + mesh.data[:,1]**2\n",
    "l2 = np.linalg.norm(exact-soln.array[:])\n",
    "print(\"L2 = {}\".format(l2))\n",
    "if not np.allclose(soln.array,exact,rtol=7.e-2):\n",
    "    raise RuntimeError(\"Unexpected values encountered.\")"
   ]
  }
 ],
 "metadata": {
  "language_info": {
   "name": "python",
   "codemirror_mode": {
    "name": "ipython",
    "version": 3
   },
   "version": "3.7.3-final"
  },
  "orig_nbformat": 2,
  "file_extension": ".py",
  "mimetype": "text/x-python",
  "name": "python",
  "npconvert_exporter": "python",
  "pygments_lexer": "ipython3",
  "version": 3,
  "kernelspec": {
   "name": "python37364bitvenvvirtualenvb8748a9c2f7444b6ad4437baf58be507",
   "display_name": "Python 3.7.3 64-bit ('venv': virtualenv)"
  }
 },
 "nbformat": 4,
 "nbformat_minor": 2
}