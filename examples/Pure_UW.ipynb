{
 "nbformat": 4,
 "nbformat_minor": 2,
 "metadata": {
  "language_info": {
   "name": "python",
   "codemirror_mode": {
    "name": "ipython",
    "version": 3
   },
   "version": "3.7.3-final"
  },
  "orig_nbformat": 2,
  "file_extension": ".py",
  "mimetype": "text/x-python",
  "name": "python",
  "npconvert_exporter": "python",
  "pygments_lexer": "ipython3",
  "version": 3,
  "kernelspec": {
   "name": "python37364bitvenvvirtualenvb8748a9c2f7444b6ad4437baf58be507",
   "display_name": "Python 3.7.3 64-bit ('venv': virtualenv)"
  }
 },
 "cells": [
  {
   "cell_type": "code",
   "execution_count": 1,
   "metadata": {},
   "outputs": [],
   "source": [
    "from petsc4py import PETSc"
   ]
  },
  {
   "cell_type": "code",
   "execution_count": 2,
   "metadata": {},
   "outputs": [],
   "source": [
    "options = PETSc.Options()\n",
    "options.setValue(\"elRes\", \"10,10\")\n",
    "options.setValue(\"simplex\", 1)\n",
    "options.setValue(\"dm_plex_separate_marker\", None)\n",
    "options.setValue(\"temperature_petscspace_degree\", 1)\n",
    "options.setValue(\"dm_view\", \"hdf5:sol.h5\")\n",
    "options.setValue(\"sol_vec_view\", \"hdf5:sol.h5::append\")\n",
    "options.setValue(\"options_view\",None)"
   ]
  },
  {
   "cell_type": "code",
   "execution_count": 3,
   "metadata": {},
   "outputs": [],
   "source": [
    "import underworld3 as uw"
   ]
  },
  {
   "cell_type": "code",
   "execution_count": 4,
   "metadata": {},
   "outputs": [],
   "source": [
    "mesh = uw.FeMesh()"
   ]
  },
  {
   "cell_type": "code",
   "execution_count": 5,
   "metadata": {},
   "outputs": [],
   "source": [
    "from underworld3 import poisson"
   ]
  },
  {
   "cell_type": "code",
   "execution_count": 6,
   "metadata": {},
   "outputs": [],
   "source": [
    "poisson = poisson.Poisson(mesh)"
   ]
  },
  {
   "cell_type": "code",
   "execution_count": 7,
   "metadata": {},
   "outputs": [],
   "source": [
    "x = mesh.x"
   ]
  },
  {
   "cell_type": "code",
   "execution_count": 8,
   "metadata": {},
   "outputs": [
    {
     "output_type": "execute_result",
     "data": {
      "text/plain": "x",
      "text/latex": "$\\displaystyle x$"
     },
     "metadata": {},
     "execution_count": 8
    }
   ],
   "source": [
    "x"
   ]
  },
  {
   "cell_type": "code",
   "execution_count": 9,
   "metadata": {},
   "outputs": [],
   "source": [
    "import sympy"
   ]
  },
  {
   "cell_type": "code",
   "execution_count": 10,
   "metadata": {},
   "outputs": [],
   "source": [
    "k = sympy.exp(-x[1])"
   ]
  },
  {
   "cell_type": "code",
   "execution_count": 11,
   "metadata": {},
   "outputs": [
    {
     "output_type": "execute_result",
     "data": {
      "text/plain": "exp(-x[1, 0])",
      "text/latex": "$\\displaystyle e^{- x_{1, 0}}$"
     },
     "metadata": {},
     "execution_count": 11
    }
   ],
   "source": [
    "k"
   ]
  },
  {
   "cell_type": "code",
   "execution_count": 12,
   "metadata": {},
   "outputs": [],
   "source": [
    "poisson.k = k"
   ]
  },
  {
   "cell_type": "code",
   "execution_count": 13,
   "metadata": {},
   "outputs": [
    {
     "output_type": "error",
     "ename": "Error",
     "evalue": "error code 73\n[0] SNESSolve() line 4508 in /tmp/petsc-build/petsc/src/snes/interface/snes.c\n[0] SNESSetUp() line 3078 in /tmp/petsc-build/petsc/src/snes/interface/snes.c\n[0] Object is in wrong state\n[0] Function never provided to SNES object",
     "traceback": [
      "\u001b[0;31m---------------------------------------------------------------------------\u001b[0m",
      "\u001b[0;31mError\u001b[0m                                     Traceback (most recent call last)",
      "\u001b[0;32m<ipython-input-13-52b9c66205eb>\u001b[0m in \u001b[0;36m<module>\u001b[0;34m\u001b[0m\n\u001b[0;32m----> 1\u001b[0;31m \u001b[0mpoisson\u001b[0m\u001b[0;34m.\u001b[0m\u001b[0msolve\u001b[0m\u001b[0;34m(\u001b[0m\u001b[0;34m)\u001b[0m\u001b[0;34m\u001b[0m\u001b[0;34m\u001b[0m\u001b[0m\n\u001b[0m",
      "\u001b[0;32munderworld3/poisson.pyx\u001b[0m in \u001b[0;36munderworld3.poisson.Poisson.solve\u001b[0;34m()\u001b[0m\n",
      "\u001b[0;32mPETSc/SNES.pyx\u001b[0m in \u001b[0;36mpetsc4py.PETSc.SNES.solve\u001b[0;34m()\u001b[0m\n",
      "\u001b[0;31mError\u001b[0m: error code 73\n[0] SNESSolve() line 4508 in /tmp/petsc-build/petsc/src/snes/interface/snes.c\n[0] SNESSetUp() line 3078 in /tmp/petsc-build/petsc/src/snes/interface/snes.c\n[0] Object is in wrong state\n[0] Function never provided to SNES object"
     ]
    }
   ],
   "source": [
    "poisson.solve()"
   ]
  }
 ]
}