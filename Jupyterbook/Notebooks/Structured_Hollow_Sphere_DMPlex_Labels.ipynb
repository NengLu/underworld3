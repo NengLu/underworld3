{
 "cells": [
  {
   "cell_type": "markdown",
   "id": "d8ca82e2",
   "metadata": {},
   "source": [
    "# Structured Hollow Sphere with GMSH\n",
    "Romain Beucher Nov/2021"
   ]
  },
  {
   "cell_type": "code",
   "execution_count": 1,
   "id": "37c4f9dd",
   "metadata": {},
   "outputs": [],
   "source": [
    "import warnings\n",
    "warnings.filterwarnings(\"ignore\")\n",
    "import gmsh\n",
    "gmsh.initialize()\n",
    "import numpy as np"
   ]
  },
  {
   "cell_type": "code",
   "execution_count": 2,
   "id": "787177b5",
   "metadata": {},
   "outputs": [],
   "source": [
    "# By default, if physical groups are defined, Gmsh will export in\n",
    "# the output mesh file only those elements that belong to at least one physical\n",
    "# group. To force Gmsh to save all elements, you can use\n",
    "gmsh.option.setNumber(\"Mesh.SaveAll\", 1)"
   ]
  },
  {
   "cell_type": "code",
   "execution_count": 3,
   "id": "21a5d74d",
   "metadata": {},
   "outputs": [],
   "source": [
    "gmsh.model.add(\"SpherifiedCube\")"
   ]
  },
  {
   "cell_type": "code",
   "execution_count": 4,
   "id": "9f7e1f70",
   "metadata": {},
   "outputs": [],
   "source": [
    "l = 1\n",
    "r2 = 0.5\n",
    "r1 = 0.2\n",
    "n = 20"
   ]
  },
  {
   "cell_type": "markdown",
   "id": "131604a2",
   "metadata": {},
   "source": [
    "## Build the Spherical Shell"
   ]
  },
  {
   "cell_type": "code",
   "execution_count": 5,
   "id": "a11ddc21",
   "metadata": {},
   "outputs": [
    {
     "data": {
      "text/plain": [
       "5"
      ]
     },
     "execution_count": 5,
     "metadata": {},
     "output_type": "execute_result"
    }
   ],
   "source": [
    "center_point = gmsh.model.geo.addPoint(0.,0.,0., tag=1)\n",
    "\n",
    "gmsh.model.geo.addPoint(r2,r2,-r2, tag=2)\n",
    "gmsh.model.geo.addPoint(-r2,r2,-r2, tag=3)\n",
    "gmsh.model.geo.addPoint(-r2,-r2,-r2, tag=4)\n",
    "gmsh.model.geo.addPoint(r2,-r2,-r2, tag=5)"
   ]
  },
  {
   "cell_type": "code",
   "execution_count": 6,
   "id": "401dcd5a",
   "metadata": {},
   "outputs": [
    {
     "data": {
      "text/plain": [
       "4"
      ]
     },
     "execution_count": 6,
     "metadata": {},
     "output_type": "execute_result"
    }
   ],
   "source": [
    "gmsh.model.geo.addCircleArc(3, 1, 2, tag=1)\n",
    "gmsh.model.geo.addCircleArc(2, 1, 5, tag=2)\n",
    "gmsh.model.geo.addCircleArc(5, 1, 4, tag=3)\n",
    "gmsh.model.geo.addCircleArc(4, 1, 3, tag=4)"
   ]
  },
  {
   "cell_type": "code",
   "execution_count": 7,
   "id": "b169aef8",
   "metadata": {},
   "outputs": [
    {
     "data": {
      "text/plain": [
       "1"
      ]
     },
     "execution_count": 7,
     "metadata": {},
     "output_type": "execute_result"
    }
   ],
   "source": [
    "gmsh.model.geo.addCurveLoop([1, 2, 3, 4], tag=1)\n",
    "gmsh.model.geo.addSurfaceFilling([1], tag=1, sphereCenterTag=1)"
   ]
  },
  {
   "cell_type": "code",
   "execution_count": 8,
   "id": "495ac42b",
   "metadata": {},
   "outputs": [
    {
     "data": {
      "text/plain": [
       "9"
      ]
     },
     "execution_count": 8,
     "metadata": {},
     "output_type": "execute_result"
    }
   ],
   "source": [
    "gmsh.model.geo.addPoint(r1,r1,-r1, tag=6)\n",
    "gmsh.model.geo.addPoint(-r1,r1,-r1, tag=7)\n",
    "gmsh.model.geo.addPoint(-r1,-r1,-r1, tag=8)\n",
    "gmsh.model.geo.addPoint(r1,-r1,-r1, tag=9)"
   ]
  },
  {
   "cell_type": "code",
   "execution_count": 9,
   "id": "5189f074",
   "metadata": {},
   "outputs": [
    {
     "data": {
      "text/plain": [
       "8"
      ]
     },
     "execution_count": 9,
     "metadata": {},
     "output_type": "execute_result"
    }
   ],
   "source": [
    "gmsh.model.geo.addCircleArc(7, 1, 6, tag=5)\n",
    "gmsh.model.geo.addCircleArc(6, 1, 9, tag=6)\n",
    "gmsh.model.geo.addCircleArc(9, 1, 8, tag=7)\n",
    "gmsh.model.geo.addCircleArc(8, 1, 7, tag=8)"
   ]
  },
  {
   "cell_type": "code",
   "execution_count": 10,
   "id": "4890decd",
   "metadata": {},
   "outputs": [
    {
     "data": {
      "text/plain": [
       "2"
      ]
     },
     "execution_count": 10,
     "metadata": {},
     "output_type": "execute_result"
    }
   ],
   "source": [
    "gmsh.model.geo.addCurveLoop([5, 6, 7, 8], tag=2)\n",
    "gmsh.model.geo.addSurfaceFilling([2], tag=2, sphereCenterTag=1)"
   ]
  },
  {
   "cell_type": "code",
   "execution_count": 11,
   "id": "dee43fde",
   "metadata": {},
   "outputs": [
    {
     "data": {
      "text/plain": [
       "12"
      ]
     },
     "execution_count": 11,
     "metadata": {},
     "output_type": "execute_result"
    }
   ],
   "source": [
    "gmsh.model.geo.addLine(2, 6, tag=9)\n",
    "gmsh.model.geo.addLine(3, 7, tag=10)\n",
    "gmsh.model.geo.addLine(5, 9, tag=11)\n",
    "gmsh.model.geo.addLine(4, 8, tag=12)"
   ]
  },
  {
   "cell_type": "code",
   "execution_count": 12,
   "id": "a1be7886",
   "metadata": {},
   "outputs": [
    {
     "data": {
      "text/plain": [
       "3"
      ]
     },
     "execution_count": 12,
     "metadata": {},
     "output_type": "execute_result"
    }
   ],
   "source": [
    "gmsh.model.geo.addCurveLoop([3, 12, -7, -11], tag=3)\n",
    "gmsh.model.geo.addSurfaceFilling([3], tag=3)"
   ]
  },
  {
   "cell_type": "code",
   "execution_count": 13,
   "id": "3d0f5a98",
   "metadata": {},
   "outputs": [
    {
     "data": {
      "text/plain": [
       "4"
      ]
     },
     "execution_count": 13,
     "metadata": {},
     "output_type": "execute_result"
    }
   ],
   "source": [
    "gmsh.model.geo.addCurveLoop([10, 5, -9, -1], tag=4)\n",
    "gmsh.model.geo.addSurfaceFilling([4], tag=4)"
   ]
  },
  {
   "cell_type": "code",
   "execution_count": 14,
   "id": "c5c7c24c",
   "metadata": {},
   "outputs": [
    {
     "data": {
      "text/plain": [
       "5"
      ]
     },
     "execution_count": 14,
     "metadata": {},
     "output_type": "execute_result"
    }
   ],
   "source": [
    "gmsh.model.geo.addCurveLoop([9, 6, -11, -2], tag=5)\n",
    "gmsh.model.geo.addSurfaceFilling([5], tag=5)"
   ]
  },
  {
   "cell_type": "code",
   "execution_count": 15,
   "id": "f5b28f5d",
   "metadata": {},
   "outputs": [
    {
     "data": {
      "text/plain": [
       "6"
      ]
     },
     "execution_count": 15,
     "metadata": {},
     "output_type": "execute_result"
    }
   ],
   "source": [
    "gmsh.model.geo.addCurveLoop([12, 8, -10, -4], tag=6)\n",
    "gmsh.model.geo.addSurfaceFilling([6], tag=6)"
   ]
  },
  {
   "cell_type": "code",
   "execution_count": 16,
   "id": "adb2a55a",
   "metadata": {},
   "outputs": [
    {
     "data": {
      "text/plain": [
       "1"
      ]
     },
     "execution_count": 16,
     "metadata": {},
     "output_type": "execute_result"
    }
   ],
   "source": [
    "gmsh.model.geo.addSurfaceLoop([2, 4, 6, 3, 1, 5], tag=1)\n",
    "gmsh.model.geo.addVolume([1], tag=1)"
   ]
  },
  {
   "cell_type": "markdown",
   "id": "3a4b0bd7",
   "metadata": {},
   "source": [
    "## Make copies"
   ]
  },
  {
   "cell_type": "code",
   "execution_count": 17,
   "id": "ee4c72df",
   "metadata": {},
   "outputs": [],
   "source": [
    "gmsh.model.geo.rotate(gmsh.model.geo.copy([(3, 1)]), 0., 0., 0., 1., 0., 0., np.pi/2.0)\n",
    "gmsh.model.geo.rotate(gmsh.model.geo.copy([(3, 1)]), 0., 0., 0., 1., 0., 0., np.pi)\n",
    "gmsh.model.geo.rotate(gmsh.model.geo.copy([(3, 1)]), 0., 0., 0., 1., 0., 0., 3.*np.pi/2.0)\n",
    "gmsh.model.geo.rotate(gmsh.model.geo.copy([(3, 1)]), 0., 0., 0., 0., 1., 0., np.pi/2.0)\n",
    "gmsh.model.geo.rotate(gmsh.model.geo.copy([(3, 1)]), 0., 0., 0., 0., 1., 0., -np.pi/2.0)"
   ]
  },
  {
   "cell_type": "code",
   "execution_count": 18,
   "id": "bcb3fb8f",
   "metadata": {},
   "outputs": [],
   "source": [
    "gmsh.model.geo.synchronize()"
   ]
  },
  {
   "cell_type": "markdown",
   "id": "49c396eb",
   "metadata": {},
   "source": [
    "## Mark Boundaries"
   ]
  },
  {
   "cell_type": "code",
   "execution_count": 19,
   "id": "0ddbe1be",
   "metadata": {},
   "outputs": [
    {
     "data": {
      "text/plain": [
       "1"
      ]
     },
     "execution_count": 19,
     "metadata": {},
     "output_type": "execute_result"
    }
   ],
   "source": [
    "innerMarker, outerMarker = 1, 8\n",
    "gmsh.model.addPhysicalGroup(2, [1, 34, 61, 88, 115, 137], outerMarker)\n",
    "gmsh.model.addPhysicalGroup(2, [2, 14, 41, 68, 95, 117], innerMarker)"
   ]
  },
  {
   "cell_type": "markdown",
   "id": "58247c4e",
   "metadata": {},
   "source": [
    "## Use transfinite algorithm"
   ]
  },
  {
   "cell_type": "code",
   "execution_count": 20,
   "id": "c8c82331",
   "metadata": {},
   "outputs": [],
   "source": [
    "gmsh.model.geo.synchronize()"
   ]
  },
  {
   "cell_type": "code",
   "execution_count": 21,
   "id": "ed390a26",
   "metadata": {},
   "outputs": [],
   "source": [
    "for _, line in gmsh.model.get_entities(1):\n",
    "    gmsh.model.mesh.setTransfiniteCurve(line, numNodes=n)"
   ]
  },
  {
   "cell_type": "code",
   "execution_count": 22,
   "id": "88422f82",
   "metadata": {},
   "outputs": [],
   "source": [
    "for _, surface in gmsh.model.get_entities(2):\n",
    "    gmsh.model.mesh.setTransfiniteSurface(surface)\n",
    "    gmsh.model.mesh.set_recombine(2, surface)"
   ]
  },
  {
   "cell_type": "code",
   "execution_count": 23,
   "id": "ad5b05fa",
   "metadata": {},
   "outputs": [],
   "source": [
    "for _, volume in gmsh.model.get_entities(3):\n",
    "    gmsh.model.mesh.set_transfinite_volume(volume)"
   ]
  },
  {
   "cell_type": "code",
   "execution_count": 24,
   "id": "fbcfb5c6",
   "metadata": {},
   "outputs": [
    {
     "name": "stdout",
     "output_type": "stream",
     "text": [
      "Info    : Meshing 1D...\n",
      "Info    : [  0%] Meshing curve 1 (Circle)\n",
      "Info    : [ 10%] Meshing curve 2 (Circle)\n",
      "Info    : [ 10%] Meshing curve 3 (Circle)\n",
      "Info    : [ 10%] Meshing curve 4 (Circle)\n",
      "Info    : [ 20%] Meshing curve 5 (Circle)\n",
      "Info    : [ 20%] Meshing curve 6 (Circle)\n",
      "Info    : [ 20%] Meshing curve 7 (Circle)\n",
      "Info    : [ 30%] Meshing curve 8 (Circle)\n",
      "Info    : [ 30%] Meshing curve 9 (Line)\n",
      "Info    : [ 30%] Meshing curve 10 (Line)\n",
      "Info    : [ 40%] Meshing curve 11 (Line)\n",
      "Info    : [ 40%] Meshing curve 12 (Line)\n",
      "Info    : [ 40%] Meshing curve 15 (Circle)\n",
      "Info    : [ 50%] Meshing curve 16 (Circle)\n",
      "Info    : [ 50%] Meshing curve 18 (Circle)\n",
      "Info    : [ 50%] Meshing curve 20 (Line)\n",
      "Info    : [ 50%] Meshing curve 22 (Line)\n",
      "Info    : [ 60%] Meshing curve 23 (Circle)\n",
      "Info    : [ 60%] Meshing curve 28 (Circle)\n",
      "Info    : [ 60%] Meshing curve 36 (Circle)\n",
      "Info    : [ 70%] Meshing curve 42 (Circle)\n",
      "Info    : [ 70%] Meshing curve 43 (Circle)\n",
      "Info    : [ 70%] Meshing curve 45 (Circle)\n",
      "Info    : [ 80%] Meshing curve 47 (Line)\n",
      "Info    : [ 80%] Meshing curve 49 (Line)\n",
      "Info    : [ 80%] Meshing curve 50 (Circle)\n",
      "Info    : [ 90%] Meshing curve 55 (Circle)\n",
      "Info    : [ 90%] Meshing curve 63 (Circle)\n",
      "Info    : [ 90%] Meshing curve 70 (Circle)\n",
      "Info    : [100%] Meshing curve 72 (Circle)\n",
      "Info    : [100%] Meshing curve 82 (Circle)\n",
      "Info    : [100%] Meshing curve 90 (Circle)\n",
      "Info    : Done meshing 1D (Wall 0.00196177s, CPU 0.004548s)\n",
      "Info    : Meshing 2D...\n",
      "Info    : [  0%] Meshing surface 1 (Transfinite)\n",
      "Info    : [ 10%] Meshing surface 2 (Transfinite)\n",
      "Info    : [ 10%] Meshing surface 3 (Transfinite)\n",
      "Info    : [ 20%] Meshing surface 4 (Transfinite)\n",
      "Info    : [ 20%] Meshing surface 5 (Transfinite)\n",
      "Info    : [ 30%] Meshing surface 6 (Transfinite)\n",
      "Info    : [ 30%] Meshing surface 14 (Transfinite)\n",
      "Info    : [ 30%] Meshing surface 19 (Transfinite)\n",
      "Info    : [ 40%] Meshing surface 24 (Transfinite)\n",
      "Info    : [ 40%] Meshing surface 34 (Transfinite)\n",
      "Info    : [ 50%] Meshing surface 39 (Transfinite)\n",
      "Info    : [ 50%] Meshing surface 41 (Transfinite)\n",
      "Info    : [ 50%] Meshing surface 46 (Transfinite)\n",
      "Info    : [ 60%] Meshing surface 51 (Transfinite)\n",
      "Info    : [ 60%] Meshing surface 61 (Transfinite)\n",
      "Info    : [ 70%] Meshing surface 66 (Transfinite)\n",
      "Info    : [ 70%] Meshing surface 68 (Transfinite)\n",
      "Info    : [ 80%] Meshing surface 78 (Transfinite)\n",
      "Info    : [ 80%] Meshing surface 88 (Transfinite)\n",
      "Info    : [ 80%] Meshing surface 93 (Transfinite)\n",
      "Info    : [ 90%] Meshing surface 95 (Transfinite)\n",
      "Info    : [ 90%] Meshing surface 115 (Transfinite)\n",
      "Info    : [100%] Meshing surface 117 (Transfinite)\n",
      "Info    : [100%] Meshing surface 137 (Transfinite)\n",
      "Info    : Done meshing 2D (Wall 0.00490775s, CPU 0.006388s)\n",
      "Info    : Meshing 3D...\n",
      "Info    : Meshing volume 1 (Transfinite)\n",
      "Info    : Meshing volume 13 (Transfinite)\n",
      "Info    : Meshing volume 40 (Transfinite)\n",
      "Info    : Meshing volume 67 (Transfinite)\n",
      "Info    : Meshing volume 94 (Transfinite)\n",
      "Info    : Meshing volume 116 (Transfinite)\n",
      "Info    : Done meshing 3D (Wall 0.014798s, CPU 0.010008s)\n",
      "Info    : Optimizing mesh...\n",
      "Info    : Done optimizing mesh (Wall 0.00196516s, CPU 0.001312s)\n",
      "Info    : 43361 nodes 50443 elements\n"
     ]
    }
   ],
   "source": [
    "gmsh.model.mesh.generate(3)"
   ]
  },
  {
   "cell_type": "code",
   "execution_count": 25,
   "id": "fb0374b6",
   "metadata": {},
   "outputs": [
    {
     "name": "stdout",
     "output_type": "stream",
     "text": [
      "Info    : Writing 'hollow_sphere.msh'...\n",
      "Info    : Done writing 'hollow_sphere.msh'\n"
     ]
    }
   ],
   "source": [
    "gmsh.write(\"hollow_sphere.msh\")"
   ]
  },
  {
   "cell_type": "code",
   "execution_count": 26,
   "id": "199573a8",
   "metadata": {},
   "outputs": [],
   "source": [
    "gmsh.finalize()"
   ]
  },
  {
   "cell_type": "markdown",
   "id": "627065bd",
   "metadata": {},
   "source": [
    "# Import Mesh into PETSc using DMPlex"
   ]
  },
  {
   "cell_type": "code",
   "execution_count": 27,
   "id": "71578d10",
   "metadata": {},
   "outputs": [],
   "source": [
    "import sys,petsc4py\n",
    "petsc4py.init(sys.argv)\n",
    "from petsc4py import PETSc\n",
    "import numpy as np"
   ]
  },
  {
   "cell_type": "code",
   "execution_count": 28,
   "id": "8626f633",
   "metadata": {},
   "outputs": [],
   "source": [
    "options = PETSc.Options()"
   ]
  },
  {
   "cell_type": "code",
   "execution_count": 29,
   "id": "515fa4df",
   "metadata": {},
   "outputs": [],
   "source": [
    "options[\"dm_plex_separate_marker\"] = None\n",
    "options[\"dm_plex_check_all\"] = None"
   ]
  },
  {
   "cell_type": "code",
   "execution_count": 30,
   "id": "db5ff19b",
   "metadata": {},
   "outputs": [],
   "source": [
    "plex = PETSc.DMPlex().createFromFile(\"hollow_sphere.msh\")"
   ]
  },
  {
   "cell_type": "code",
   "execution_count": 31,
   "id": "c0d7c4e9",
   "metadata": {},
   "outputs": [],
   "source": [
    "markers_dict = {\"Inner\": innerMarker,\n",
    "                \"Outer\": outerMarker\n",
    "               }"
   ]
  },
  {
   "cell_type": "code",
   "execution_count": 32,
   "id": "f476255f",
   "metadata": {},
   "outputs": [],
   "source": [
    "for key, value in markers_dict.items():\n",
    "    indexSet = plex.getStratumIS(\"Face Sets\", value)\n",
    "    plex.createLabel(key)\n",
    "    label = plex.getLabel(key)\n",
    "    if indexSet:\n",
    "        label.insertIS(indexSet, value)\n",
    "    indexSet.destroy()"
   ]
  },
  {
   "cell_type": "code",
   "execution_count": 33,
   "id": "c16e2fb3",
   "metadata": {},
   "outputs": [
    {
     "name": "stdout",
     "output_type": "stream",
     "text": [
      "DM Object: DM_0x55ca3d9d45c0_0 1 MPI processes\n",
      "  type: plex\n",
      "DM_0x55ca3d9d45c0_0 in 3 dimensions:\n",
      "  0-cells: 43361\n",
      "  1-cells: 127832\n",
      "  2-cells: 125628\n",
      "  3-cells: 41154\n",
      "Labels:\n",
      "  celltype: 4 strata with value/size (0 (43361), 7 (41154), 4 (125628), 1 (127832))\n",
      "  depth: 4 strata with value/size (0 (43361), 1 (127832), 2 (125628), 3 (41154))\n",
      "  Face Sets: 3 strata with value/size (8 (2166), 1 (2166), 0 (4332))\n",
      "  Inner: 1 strata with value/size (1 (2166))\n",
      "  Outer: 1 strata with value/size (8 (2166))\n"
     ]
    }
   ],
   "source": [
    "plex.view()"
   ]
  }
 ],
 "metadata": {
  "kernelspec": {
   "display_name": "Python 3 (ipykernel)",
   "language": "python",
   "name": "python3"
  },
  "language_info": {
   "codemirror_mode": {
    "name": "ipython",
    "version": 3
   },
   "file_extension": ".py",
   "mimetype": "text/x-python",
   "name": "python",
   "nbconvert_exporter": "python",
   "pygments_lexer": "ipython3",
   "version": "3.9.7"
  }
 },
 "nbformat": 4,
 "nbformat_minor": 5
}
