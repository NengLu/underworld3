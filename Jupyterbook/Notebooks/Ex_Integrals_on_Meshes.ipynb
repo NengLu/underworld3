{
 "cells": [
  {
   "cell_type": "markdown",
   "id": "c8475782-0583-441b-aed8-26c89d7796b7",
   "metadata": {},
   "source": [
    "# Using the PETSc mesh integration routines\n",
    "\n",
    "This is probably better moved to become a test !"
   ]
  },
  {
   "cell_type": "code",
   "execution_count": 1,
   "id": "1f7c18d8-d76e-43e5-8db3-68b5a66a9b63",
   "metadata": {},
   "outputs": [],
   "source": [
    "import underworld3 as uw\n",
    "import numpy as np\n",
    "import sympy"
   ]
  },
  {
   "cell_type": "code",
   "execution_count": 2,
   "id": "f3cdcb9e-c170-4041-a316-a21844b3cb93",
   "metadata": {},
   "outputs": [
    {
     "name": "stdout",
     "output_type": "stream",
     "text": [
      "0.25\n"
     ]
    }
   ],
   "source": [
    "mesh = uw.util_mesh.UnstructuredSimplexBox( minCoords=(0.0,0.0), \n",
    "                                               maxCoords=(1.0,1.0), \n",
    "                                               cellSize=1.0/32.0, \n",
    "                                               regular=True)\n",
    "\n",
    "x = mesh.N.x\n",
    "y = mesh.N.y\n",
    "z = mesh.N.z\n",
    "\n",
    "I = uw.maths.Integral(mesh, x * y)\n",
    "print(I.evaluate())  # 0.25"
   ]
  },
  {
   "cell_type": "code",
   "execution_count": null,
   "id": "78f847f0-a7e4-463d-bcfd-65c452408e58",
   "metadata": {},
   "outputs": [],
   "source": []
  },
  {
   "cell_type": "code",
   "execution_count": 3,
   "id": "63bc2676-f4e8-4824-92fa-ed5155cf356d",
   "metadata": {},
   "outputs": [
    {
     "name": "stdout",
     "output_type": "stream",
     "text": [
      "0.24999999999999978\n"
     ]
    }
   ],
   "source": [
    "mesh = uw.util_mesh.StructuredQuadBox( minCoords=(0.0,0.0), \n",
    "                                          maxCoords=(1.0,1.0), \n",
    "                                          elementRes=(32,32) )\n",
    "\n",
    "x = mesh.N.x\n",
    "y = mesh.N.y\n",
    "z = mesh.N.z\n",
    "\n",
    "I2 = uw.maths.Integral(mesh, x*y)\n",
    "print(I2.evaluate()) # 0.25"
   ]
  },
  {
   "cell_type": "code",
   "execution_count": 4,
   "id": "6095c48b-080e-4895-b2d6-4db8247e2bd9",
   "metadata": {},
   "outputs": [
    {
     "name": "stdout",
     "output_type": "stream",
     "text": [
      "0.12499999999999993\n"
     ]
    }
   ],
   "source": [
    "mesh = uw.util_mesh.StructuredQuadBox( minCoords=(0.0,0.0,0.0), \n",
    "                                          maxCoords=(1.0,1.0,1.0), \n",
    "                                          elementRes=(8,8,8) )\n",
    "\n",
    "x = mesh.N.x\n",
    "y = mesh.N.y\n",
    "z = mesh.N.z\n",
    "\n",
    "I3 = uw.maths.Integral(mesh, x*y*z)\n",
    "print(I3.evaluate()) # 0.125 "
   ]
  },
  {
   "cell_type": "code",
   "execution_count": 5,
   "id": "e74a3318-4001-4143-b42d-d53d6b1dab7e",
   "metadata": {},
   "outputs": [
    {
     "name": "stdout",
     "output_type": "stream",
     "text": [
      "0.12500000000000008\n"
     ]
    }
   ],
   "source": [
    "mesh = uw.util_mesh.UnstructuredSimplexBox( minCoords=(0.0,0.0,0.0), \n",
    "                                               maxCoords=(1.0,1.0,1.0), \n",
    "                                               cellSize=1.0/8.0, \n",
    "                                               regular=True)\n",
    "\n",
    "x = mesh.N.x\n",
    "y = mesh.N.y\n",
    "z = mesh.N.z\n",
    "\n",
    "I4 = uw.maths.Integral(mesh, x * y * z)\n",
    "print(I4.evaluate())  # 0.125"
   ]
  },
  {
   "cell_type": "code",
   "execution_count": 6,
   "id": "a4197c17-38b1-45f9-92fd-8984a11ed565",
   "metadata": {},
   "outputs": [
    {
     "name": "stdout",
     "output_type": "stream",
     "text": [
      "2.356153673987439\n"
     ]
    }
   ],
   "source": [
    "mesh = uw.util_mesh.Annulus(radiusInner = 0.5, radiusOuter=1.0, cellSize=0.05)\n",
    "\n",
    "x = mesh.N.x\n",
    "y = mesh.N.y\n",
    "z = mesh.N.z\n",
    "\n",
    "I5 = uw.maths.Integral(mesh, 1.0)\n",
    "print(I5.evaluate()) # 3 * pi / 4 = 2.35"
   ]
  },
  {
   "cell_type": "code",
   "execution_count": 7,
   "id": "d033ba3a-3d18-4913-8f8d-6e242a767565",
   "metadata": {},
   "outputs": [
    {
     "name": "stdout",
     "output_type": "stream",
     "text": [
      "3.1402907966239173\n"
     ]
    }
   ],
   "source": [
    "mesh = uw.util_mesh.Annulus(radiusInner = 0.0, radiusOuter=1.0, cellSize=0.05)\n",
    "\n",
    "x = mesh.N.x\n",
    "y = mesh.N.y\n",
    "z = mesh.N.z\n",
    "\n",
    "I6 = uw.maths.Integral(mesh, 1.0)\n",
    "print(I6.evaluate()) # pi"
   ]
  },
  {
   "cell_type": "code",
   "execution_count": 8,
   "id": "bae891e2-15eb-4e19-9d63-b1e6d7967a1b",
   "metadata": {},
   "outputs": [
    {
     "name": "stdout",
     "output_type": "stream",
     "text": [
      "3.6346942711638914\n"
     ]
    }
   ],
   "source": [
    "mesh = uw.util_mesh.SphericalShell(radiusInner = 0.5, radiusOuter=1.0, cellSize=0.2)\n",
    "\n",
    "x = mesh.N.x\n",
    "y = mesh.N.y\n",
    "z = mesh.N.z\n",
    "\n",
    "I7 = uw.maths.Integral(mesh, 1)\n",
    "print(I7.evaluate()) # 4/3 * 7/8 * pi "
   ]
  },
  {
   "cell_type": "code",
   "execution_count": 9,
   "id": "f6b40ce9-0168-4f3a-91b5-f574cf0ce070",
   "metadata": {},
   "outputs": [
    {
     "name": "stdout",
     "output_type": "stream",
     "text": [
      "4.12951899378597\n"
     ]
    }
   ],
   "source": [
    "mesh = uw.util_mesh.SphericalShell(radiusInner = 0.0, radiusOuter=1.0, cellSize=0.2)\n",
    "\n",
    "x = mesh.N.x\n",
    "y = mesh.N.y\n",
    "z = mesh.N.z\n",
    "\n",
    "I8 = uw.maths.Integral(mesh, 1)\n",
    "print(I8.evaluate())  # 4/3 * pi"
   ]
  },
  {
   "cell_type": "code",
   "execution_count": 23,
   "id": "84038e69-ea8b-4f58-9af7-8691fb0cf47f",
   "metadata": {},
   "outputs": [
    {
     "name": "stdout",
     "output_type": "stream",
     "text": [
      "3.582770110484154\n"
     ]
    }
   ],
   "source": [
    "mesh = uw.util_mesh.CubicSphere(radiusInner = 0.5, radiusOuter=1.0, numElements=30)\n",
    "\n",
    "x = mesh.N.x\n",
    "y = mesh.N.y\n",
    "z = mesh.N.z\n",
    "\n",
    "I9 = uw.maths.Integral(mesh, 1)\n",
    "print(I9.evaluate())  # 4/3 * 7/8 * pi (3.634)"
   ]
  },
  {
   "cell_type": "code",
   "execution_count": 15,
   "id": "2fbe5ff0-6ef3-43ba-b97f-bdf89d66f951",
   "metadata": {},
   "outputs": [
    {
     "name": "stdout",
     "output_type": "stream",
     "text": [
      "4.043518823766078\n",
      "  0 SNES Function norm 0.0794159 \n",
      "    Residual norms for stokes_ solve.\n",
      "    0 KSP Residual norm 7.852924137926e-01 \n",
      "    1 KSP Residual norm 4.949266392084e-01 \n",
      "    2 KSP Residual norm 6.196786011788e-02 \n",
      "    3 KSP Residual norm 4.841929529845e-03 \n",
      "    4 KSP Residual norm 1.205005315792e-03 \n",
      "    5 KSP Residual norm 3.566536037594e-04 \n",
      "  1 SNES Function norm 0.000128478 \n",
      "    Residual norms for stokes_ solve.\n",
      "    0 KSP Residual norm 3.558916546921e-04 \n",
      "    1 KSP Residual norm 2.281459705220e-04 \n",
      "    2 KSP Residual norm 9.538972788531e-05 \n",
      "    3 KSP Residual norm 2.744983510683e-05 \n",
      "    4 KSP Residual norm 4.442122208107e-06 \n",
      "    5 KSP Residual norm 2.642860917469e-06 \n",
      "    6 KSP Residual norm 1.026638108226e-06 \n",
      "    7 KSP Residual norm 2.510107102775e-07 \n",
      "  2 SNES Function norm 3.54653e-09 \n",
      "Nonlinear stokes_ solve converged due to CONVERGED_FNORM_RELATIVE iterations 2\n",
      "7.339116836754227e-05\n"
     ]
    }
   ],
   "source": [
    "mesh = uw.util_mesh.SphericalShell(radiusInner = 0.0, radiusOuter=1.0, cellSize=0.5)\n",
    "# mesh = uw.util_mesh.Annulus(radiusInner = 0.0, radiusOuter=1.0, cellSize=0.05)\n",
    "\n",
    "x = mesh.N.x\n",
    "y = mesh.N.y\n",
    "z = mesh.N.z\n",
    "\n",
    "radius_fn = sympy.sqrt(mesh.rvec.dot(mesh.rvec)) # normalise by outer radius if not 1.0\n",
    "unit_rvec = mesh.rvec / (1.0e-10+radius_fn)\n",
    "\n",
    "r  = sympy.sqrt(x**2+y**2) \n",
    "th = sympy.atan2(y+1.0e-10,x+1.0e-10)\n",
    "\n",
    "v_soln   = uw.mesh.MeshVariable('U', mesh, mesh.dim, degree=2 )\n",
    "p_soln   = uw.mesh.MeshVariable('P', mesh, 1, degree=1 )\n",
    "t_soln   = uw.mesh.MeshVariable(\"T\", mesh, 1, degree=3 )\n",
    "\n",
    "swarm = uw.swarm.Swarm(mesh=mesh)\n",
    "v_star     = uw.swarm.SwarmVariable(\"Vs\", swarm, mesh.dim, proxy_degree=2)\n",
    "remeshed   = uw.swarm.SwarmVariable(\"Vw\", swarm, 1, dtype='int', _proxy=False)\n",
    "X_0        = uw.swarm.SwarmVariable(\"X0\", swarm, mesh.dim, _proxy=False)\n",
    "\n",
    "swarm.populate(fill_param=4)\n",
    "\n",
    "I10 = uw.maths.Integral(mesh, 1)\n",
    "print(I10.evaluate())\n",
    "\n",
    "stokes = uw.systems.Stokes(mesh, \n",
    "                velocityField=v_soln, \n",
    "                pressureField=p_soln, \n",
    "                u_degree=v_soln.degree, \n",
    "                p_degree=p_soln.degree, \n",
    "                verbose=False,\n",
    "                solver_name=\"stokes\")\n",
    "\n",
    "stokes.add_dirichlet_bc( (0.0, 0.0, 0.0), \"Upper\", (0,1,2))\n",
    "\n",
    "stokes.viscosity=1.0\n",
    "stokes.bodyforce= mesh.rvec * sympy.sin(th)\n",
    "\n",
    "\n",
    "stokes.solve()\n",
    "\n",
    "I10 = uw.maths.Integral(mesh, v_soln.fn.dot(v_soln.fn))\n",
    "print(I10.evaluate())\n"
   ]
  },
  {
   "cell_type": "code",
   "execution_count": 30,
   "id": "3ddc4674-25c5-4167-b828-b18241860c63",
   "metadata": {},
   "outputs": [
    {
     "name": "stdout",
     "output_type": "stream",
     "text": [
      "4.174008688031283\n",
      "3.1305065160234604\n",
      "-7.255924064445077e-06\n",
      "1.340130712999501e-05\n"
     ]
    }
   ],
   "source": [
    "## Check this this sort of thing works OK\n",
    "\n",
    "mesh = uw.util_mesh.SphericalShell(radiusInner = 0.0, radiusOuter=1.0, cellSize=0.1)\n",
    "\n",
    "x = mesh.N.x\n",
    "y = mesh.N.y\n",
    "z = mesh.N.z\n",
    "\n",
    "meshvar   = uw.mesh.MeshVariable(\"phi\", mesh, 1, degree=3 )\n",
    "\n",
    "I = uw.maths.Integral(mesh, 1)\n",
    "print(I.evaluate())  # 4/3 * pi\n",
    "\n",
    "I.fn = 0.75\n",
    "print(I.evaluate())  # pi\n",
    "\n",
    "I.fn = x\n",
    "print(I.evaluate())  # should be zero\n",
    "\n",
    "I.fn = x + y + z \n",
    "print(I.evaluate())  # should be zero\n",
    "\n",
    "with mesh.access(meshvar):\n",
    "    meshvar.data = uw.function.evaluate(x+y+z, meshvar.coords)\n",
    "    \n",
    "I.fn = meshvar.fn\n",
    "print(I.evaluate())  # should be zero"
   ]
  }
 ],
 "metadata": {
  "kernelspec": {
   "display_name": "Python 3 (ipykernel)",
   "language": "python",
   "name": "python3"
  },
  "language_info": {
   "codemirror_mode": {
    "name": "ipython",
    "version": 3
   },
   "file_extension": ".py",
   "mimetype": "text/x-python",
   "name": "python",
   "nbconvert_exporter": "python",
   "pygments_lexer": "ipython3",
   "version": "3.9.10"
  }
 },
 "nbformat": 4,
 "nbformat_minor": 5
}
