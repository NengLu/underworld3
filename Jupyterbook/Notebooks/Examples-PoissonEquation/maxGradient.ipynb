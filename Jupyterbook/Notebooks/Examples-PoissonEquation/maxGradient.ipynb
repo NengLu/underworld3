{
 "cells": [
  {
   "attachments": {},
   "cell_type": "markdown",
   "metadata": {},
   "source": [
    "# Gradient Recovery demonstration\n",
    "\n",
    "When solving a physical system, sometimes we want to recover other properties of the system that are derivatives of the variable we are solving for. For example, in a steady state heat conduction problem modelled by the poisson equation $\\nabla^2 T = 0$ where $T$ is the temperature, we might want to find the flux of heat $-k \\nabla T$, where $k$ is the coeffecient of heat conductivity. In underworld this is done using projections."
   ]
  },
  {
   "cell_type": "code",
   "execution_count": null,
   "metadata": {},
   "outputs": [],
   "source": [
    "As an example, lets solve the problem of 2 dimensional metal rod between two heat resevours - one on the left at a termperature $T=1$\n",
    "and the other on the right at a temperature of $T=2$. We will assume the thermal conductivity of $k=T$, and assume the rod is\n",
    "insulted on the bottom and top.\n",
    "\n",
    "We aim to find the steady state temperature and heat flux through the rod."
   ]
  },
  {
   "cell_type": "code",
   "execution_count": 1,
   "metadata": {},
   "outputs": [],
   "source": [
    "import underworld3 as uw"
   ]
  },
  {
   "cell_type": "code",
   "execution_count": null,
   "metadata": {},
   "outputs": [],
   "source": []
  }
 ],
 "metadata": {
  "kernelspec": {
   "display_name": "uw3",
   "language": "python",
   "name": "python3"
  },
  "language_info": {
   "codemirror_mode": {
    "name": "ipython",
    "version": 3
   },
   "file_extension": ".py",
   "mimetype": "text/x-python",
   "name": "python",
   "nbconvert_exporter": "python",
   "pygments_lexer": "ipython3",
   "version": "3.10.11"
  },
  "orig_nbformat": 4
 },
 "nbformat": 4,
 "nbformat_minor": 2
}
