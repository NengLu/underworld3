{
 "cells": [
  {
   "cell_type": "code",
   "execution_count": 1,
   "id": "ea28f7af-1ac3-4f32-be54-eccd7d5a3438",
   "metadata": {},
   "outputs": [],
   "source": [
    "# %%\n",
    "import numpy as np\n",
    "import os\n",
    "import math\n",
    "import underworld3"
   ]
  },
  {
   "cell_type": "code",
   "execution_count": 2,
   "id": "9bbdbf35-4010-40bd-80e8-80e454a8cec8",
   "metadata": {},
   "outputs": [],
   "source": [
    "import time\n",
    "global now_time \n",
    "now_time = time.time()\n",
    "def delta_time():\n",
    "    global now_time\n",
    "    old_now_time = now_time\n",
    "    now_time = time.time()\n",
    "    return now_time - old_now_time\n",
    "\n",
    "dim = 2\n",
    "if \"UW_LONGTEST\" in os.environ:\n",
    "    n_els = 64\n",
    "else:\n",
    "    n_els = 32\n",
    "boxLength      = 0.5 # 0.9142\n",
    "boxHeight      = 1.0\n",
    "viscosityRatio = 0.01\n",
    "stokes_inner_tol = 1e-6\n",
    "stokes_outer_tol = 1e-5\n",
    "ppcell = 3\n",
    "amplitude  = 0.02\n",
    "offset     = 0.2\n",
    "print_time = 10\n",
    "model_end_time = 300.\n",
    "# output\n",
    "inputPath  = 'input/05_Rayleigh_Taylor/'\n",
    "outputPath = 'output/'"
   ]
  },
  {
   "cell_type": "code",
   "execution_count": 3,
   "id": "c76e0365-0e3d-4300-ae5c-7385ac83aa4e",
   "metadata": {},
   "outputs": [],
   "source": [
    "# Make output directory if necessary.\n",
    "from mpi4py import MPI\n",
    "if MPI.COMM_WORLD.rank==0:\n",
    "    if not os.path.exists(outputPath):\n",
    "        os.makedirs(outputPath)\n",
    "    \n",
    "from underworld3.tools import parse_cmd_line_options\n",
    "parse_cmd_line_options()"
   ]
  },
  {
   "cell_type": "code",
   "execution_count": 4,
   "id": "68c3f311-1774-487d-a7fc-31e858ea5420",
   "metadata": {},
   "outputs": [],
   "source": [
    "# %%\n",
    "# https://petsc.org/release/docs/manual/ksp\n",
    "# https://petsc.org/release/docs/manual/snes\n",
    "\n",
    "from petsc4py import PETSc\n",
    "import underworld3 as uw\n",
    "from underworld3.systems import Stokes\n",
    "\n",
    "# options = PETSc.Options()\n",
    "# # options[\"help\"] = None\n",
    "# options[\"pc_type\"]  = \"gamg\"\n",
    "# options[\"pc_gamg_type\"]  = \"agg\"\n",
    "\n",
    "# options[\"ksp_rtol\"] =  1.0e-6\n",
    "# options[\"ksp_atol\"] =  1.0e-6\n",
    "# options[\"ksp_monitor\"] = None\n",
    "# # options[\"snes_type\"]  = \"fas\"\n",
    "# options[\"snes_converged_reason\"] = None\n",
    "# options[\"snes_monitor_short\"] = None\n",
    "# # options[\"snes_view\"]=None\n",
    "# # options[\"snes_test_jacobian\"] = None\n",
    "# # options[\"snes_rtol\"] = 1.0e-2  # set this low to force single SNES it. \n",
    "# options[\"snes_max_it\"] = 10\n",
    "# options[\"pc_type\"] = \"fieldsplit\"\n",
    "# options[\"pc_fieldsplit_type\"] = \"schur\"\n",
    "# options[\"pc_fieldsplit_schur_factorization_type\"] = \"full\"\n",
    "# # options[\"fieldsplit_pressure_ksp_rtol\"] = 1e-6\n",
    "# options[\"fieldsplit_velocity_pc_type\"] = \"lu\"\n",
    "# options[\"fieldsplit_pressure_pc_type\"] = \"jacobi\" \n",
    "# options[\"fieldsplit_velocity_ksp_type\"] = \"gmres\"\n",
    "sys = PETSc.Sys()\n",
    "sys.pushErrorHandler(\"traceback\")\n",
    "\n",
    "mesh = uw.mesh.Box(elementRes=(    n_els,) *dim, \n",
    "                    minCoords =(       0.,)*dim, \n",
    "                    maxCoords =(boxLength,1.),\n",
    "                    simplex=False )\n",
    "\n",
    "u_degree = 1\n",
    "stokes = Stokes(mesh, u_degree=u_degree )\n",
    "\n",
    "# Create a variable to store material variable\n",
    "# matMeshVar = uw.mesh.MeshVariable(\"matmeshvar\", mesh, 1, uw.VarType.SCALAR, degree=u_degree+1)\n",
    "\n",
    "# Create swarm\n",
    "swarm  = uw.swarm.Swarm(mesh)\n",
    "# Add variable for material\n",
    "matSwarmVar      = swarm.add_variable(name=\"matSwarmVar\",      num_components=1, dtype=PETSc.IntType)\n",
    "# Note that `ppcell` specifies particles per cell per dim.\n",
    "swarm.populate(ppcell=ppcell)\n",
    "\n",
    "# Add some randomness to the particle distribution\n",
    "import numpy as np\n",
    "np.random.seed(0)\n",
    "with swarm.access(swarm.particle_coordinates):\n",
    "    factor = 0.5*boxLength/n_els/ppcell\n",
    "    swarm.particle_coordinates.data[:] += factor*np.random.rand(*swarm.particle_coordinates.data.shape)\n",
    "\n",
    "# define these for convenience. \n",
    "denseIndex = 1\n",
    "lightIndex = 0\n",
    "\n",
    "# material perturbation from van Keken et al. 1997\n",
    "wavelength = 2.0*boxLength\n",
    "k = 2. * np.pi / wavelength\n",
    "\n",
    "# init material variable\n",
    "with swarm.access(matSwarmVar):\n",
    "    perturbation = offset + amplitude*np.cos( k*swarm.particle_coordinates.data[:,0] )\n",
    "    matSwarmVar.data[:,0] = np.where( perturbation>swarm.particle_coordinates.data[:,1], lightIndex, denseIndex )\n",
    "\n",
    "from sympy import Piecewise, ceiling, Abs\n",
    "\n",
    "density = matSwarmVar.fn \n",
    "stokes.bodyforce = -density*mesh.N.j\n",
    "\n",
    "\n",
    "## Test this with smoothed mask approach ... \n",
    "\n",
    "\n",
    "stokes.viscosity = Piecewise( ( viscosityRatio, Abs(matSwarmVar.fn - lightIndex)<0.5 ),\n",
    "                                  (             1., Abs(matSwarmVar.fn - denseIndex)<0.5 ),\n",
    "                                  (             1.,                                True ) )\n",
    "\n",
    "# stokes.viscosity = (1.0 - matSwarmVar.fn) + matSwarmVar.fn * viscosityRatio\n",
    "\n",
    "# note with petsc we always need to provide a vector of correct cardinality. \n",
    "bnds = mesh.boundary\n",
    "stokes.add_dirichlet_bc( (0.,0.), [bnds.TOP,  bnds.BOTTOM], (0,1) )  # top/bottom: function, boundaries, components \n",
    "stokes.add_dirichlet_bc( (0.,0.), [bnds.LEFT, bnds.RIGHT ], 0  )  # left/right: function, boundaries, components"
   ]
  },
  {
   "cell_type": "code",
   "execution_count": 6,
   "id": "29e8c904-de19-41ce-8f9e-170058023404",
   "metadata": {},
   "outputs": [],
   "source": [
    "def mask_function_factory(x, xsi):\n",
    "    \n",
    "    def offset_by_x(xx):\n",
    "        return xx - x\n",
    "    \n",
    "    \n",
    "    \n",
    "    return offset_by_x\n",
    "    \n"
   ]
  },
  {
   "cell_type": "code",
   "execution_count": 74,
   "id": "7e5103a1-3bfb-492f-bc4f-7563410fe463",
   "metadata": {},
   "outputs": [],
   "source": [
    "off = mask_function_factory(1,0)\n",
    "\n",
    "import math\n",
    "def tophat(x,offset, scale):\n",
    "    xx = x - offset\n",
    "    return 0.5 * (np.tanh((xx+0.5)*scale) - np.tanh((xx-0.5)*scale))"
   ]
  },
  {
   "cell_type": "code",
   "execution_count": 73,
   "id": "1a117088-d772-447c-b3da-b591244e782d",
   "metadata": {},
   "outputs": [
    {
     "data": {
      "text/plain": [
       "[<matplotlib.lines.Line2D at 0x14d5c5580>]"
      ]
     },
     "execution_count": 73,
     "metadata": {},
     "output_type": "execute_result"
    },
    {
     "data": {
      "image/png": "[encoded data removed]",
      "text/plain": [
       "<Figure size 864x576 with 1 Axes>"
      ]
     },
     "metadata": {
      "needs_background": "light"
     },
     "output_type": "display_data"
    }
   ],
   "source": [
    "%matplotlib inline\n",
    "\n",
    "from matplotlib import pyplot as plt\n",
    "\n",
    "xx = np.linspace(-2.0,2.0,40)\n",
    "\n",
    "fig = plt.figure(figsize=(12,8))\n",
    "ax = fig.add_subplot(111)\n",
    "\n",
    "ax.plot(xx, tophat(xx,2.0),  marker=\"o\", markersize=2.0)\n",
    "ax.plot(xx, tophat(xx,5.0),  marker=\"o\", markersize=2.0)\n",
    "ax.plot(xx, tophat(xx,10.0), marker=\"o\", markersize=4.0)\n",
    "ax.plot(xx, tophat(xx,20.0), marker=\"o\", markersize=2.0)\n"
   ]
  },
  {
   "cell_type": "code",
   "execution_count": 18,
   "id": "d1f30199-cee4-4c18-9a58-e556c9f048ec",
   "metadata": {},
   "outputs": [
    {
     "ename": "SyntaxError",
     "evalue": "invalid syntax (4125878239.py, line 1)",
     "output_type": "error",
     "traceback": [
      "\u001b[0;36m  File \u001b[0;32m\"/var/folders/g3/zs57lnv5087f66fcky707_ww0000gp/T/ipykernel_39395/4125878239.py\"\u001b[0;36m, line \u001b[0;32m1\u001b[0m\n\u001b[0;31m    fig.\u001b[0m\n\u001b[0m        ^\u001b[0m\n\u001b[0;31mSyntaxError\u001b[0m\u001b[0;31m:\u001b[0m invalid syntax\n"
     ]
    }
   ],
   "source": []
  },
  {
   "cell_type": "code",
   "execution_count": 5,
   "id": "7f572a06-0824-464b-a42e-34224bb50443",
   "metadata": {},
   "outputs": [
    {
     "name": "stdout",
     "output_type": "stream",
     "text": [
      "  0 SNES Function norm 0.0136628 \n"
     ]
    },
    {
     "name": "stderr",
     "output_type": "stream",
     "text": [
      "[0]PETSC ERROR: --------------------- Error Message --------------------------------------------------------------\n",
      "[0]PETSC ERROR: No support for this operation for this object type\n",
      "[0]PETSC ERROR: Mat type mffd\n",
      "[0]PETSC ERROR: See https://www.mcs.anl.gov/petsc/documentation/faq.html for trouble shooting.\n",
      "[0]PETSC ERROR: Petsc Release Version 3.15.0, unknown \n",
      "[0]PETSC ERROR: Unknown Name on a arch-darwin-c-debug named mhs-062450 by lmoresi Mon Oct 18 21:56:52 2021\n",
      "[0]PETSC ERROR: Configure options --with-petsc4py --with-hdf5\n",
      "[0]PETSC ERROR: #1 MatZeroEntries() at /Users/lmoresi/+Underworld/petsc/src/mat/interface/matrix.c:5976\n",
      "[0]PETSC ERROR: #2 DMPlexSNESComputeJacobianFEM() at /Users/lmoresi/+Underworld/petsc/src/snes/utils/dmplexsnes.c:1576\n",
      "[0]PETSC ERROR: #3 SNESComputeJacobian_DMLocal() at /Users/lmoresi/+Underworld/petsc/src/snes/utils/dmlocalsnes.c:125\n",
      "[0]PETSC ERROR: #4 SNESComputeJacobian() at /Users/lmoresi/+Underworld/petsc/src/snes/interface/snes.c:2713\n",
      "[0]PETSC ERROR: #5 SNESSolve_NEWTONLS() at /Users/lmoresi/+Underworld/petsc/src/snes/impls/ls/ls.c:222\n",
      "[0]PETSC ERROR: #6 SNESSolve() at /Users/lmoresi/+Underworld/petsc/src/snes/interface/snes.c:4653\n"
     ]
    },
    {
     "ename": "Error",
     "evalue": "error code 56",
     "output_type": "error",
     "traceback": [
      "\u001b[0;31m---------------------------------------------------------------------------\u001b[0m",
      "\u001b[0;31mError\u001b[0m                                     Traceback (most recent call last)",
      "\u001b[0;32m/var/folders/g3/zs57lnv5087f66fcky707_ww0000gp/T/ipykernel_39395/634049486.py\u001b[0m in \u001b[0;36m<module>\u001b[0;34m\u001b[0m\n\u001b[1;32m     30\u001b[0m \u001b[0;34m\u001b[0m\u001b[0m\n\u001b[1;32m     31\u001b[0m \u001b[0mstart_t\u001b[0m \u001b[0;34m=\u001b[0m \u001b[0mperf_counter\u001b[0m\u001b[0;34m(\u001b[0m\u001b[0;34m)\u001b[0m\u001b[0;34m\u001b[0m\u001b[0;34m\u001b[0m\u001b[0m\n\u001b[0;32m---> 32\u001b[0;31m \u001b[0mstokes\u001b[0m\u001b[0;34m.\u001b[0m\u001b[0msolve\u001b[0m\u001b[0;34m(\u001b[0m\u001b[0mzero_init_guess\u001b[0m\u001b[0;34m=\u001b[0m\u001b[0;32mTrue\u001b[0m\u001b[0;34m,\u001b[0m \u001b[0m_force_setup\u001b[0m\u001b[0;34m=\u001b[0m\u001b[0;32mTrue\u001b[0m\u001b[0;34m)\u001b[0m\u001b[0;34m\u001b[0m\u001b[0;34m\u001b[0m\u001b[0m\n\u001b[0m\u001b[1;32m     33\u001b[0m \u001b[0;34m\u001b[0m\u001b[0m\n\u001b[1;32m     34\u001b[0m \u001b[0mprint\u001b[0m\u001b[0;34m(\u001b[0m\u001b[0mflush\u001b[0m\u001b[0;34m=\u001b[0m\u001b[0;32mTrue\u001b[0m\u001b[0;34m)\u001b[0m\u001b[0;34m\u001b[0m\u001b[0;34m\u001b[0m\u001b[0m\n",
      "\u001b[0;32m~/+Underworld/underworld3/underworld3/systems/stokes.pyx\u001b[0m in \u001b[0;36munderworld3.systems.stokes.Stokes.solve\u001b[0;34m()\u001b[0m\n",
      "\u001b[0;32mPETSc/SNES.pyx\u001b[0m in \u001b[0;36mpetsc4py.PETSc.SNES.solve\u001b[0;34m()\u001b[0m\n",
      "\u001b[0;31mError\u001b[0m: error code 56"
     ]
    }
   ],
   "source": [
    "## Test solve\n",
    "\n",
    "# https://petsc.org/release/tutorials/physics/guide_to_stokes/\n",
    "\n",
    "options = PETSc.Options()\n",
    "\n",
    "options[\"ksp_rtol\"] =  1.0e-4\n",
    "options[\"ksp_type\"] = 'fgmres'\n",
    "options[\"ksp_monitor\"] = None\n",
    "\n",
    "# options[\"snes_type\"]  = \"fas\"\n",
    "options[\"snes_converged_reason\"] = None\n",
    "options[\"snes_monitor_short\"] = None\n",
    "options[\"snes_view\"]=None\n",
    "options[\"snes_test_jacobian\"] = None\n",
    "options[\"snes_rtol\"] = 1.0e-3  # set this low to force single SNES it. \n",
    "options[\"snes_max_it\"] = 2\n",
    "\n",
    "options[\"pc_type\"] = \"fieldsplit\"\n",
    "options[\"pc_fieldsplit_type\"] = \"schur\"\n",
    "options[\"pc_fieldsplit_schur_factorization_type\"] = \"full\"\n",
    "options[\"pc_fieldsplit_schur_precondition\"] = \"a11\"\n",
    "options[\"fieldsplit_pressure_ksp_rtol\"] = 1e-5\n",
    "options[\"fieldsplit_velocity_pc_type\"] = \"ilu\"\n",
    "options[\"fieldsplit_pressure_pc_type\"] = \"ilu\" \n",
    "options[\"fieldsplit_velocity_ksp_type\"] = \"fgmres\"\n",
    "\n",
    "from time import perf_counter\n",
    "\n",
    "start_t = perf_counter()\n",
    "stokes.solve(zero_init_guess=True, _force_setup=True)\n",
    "\n",
    "print(flush=True)\n",
    "print(f\"Stokes solve time {perf_counter()-start_t}\")\n"
   ]
  },
  {
   "cell_type": "code",
   "execution_count": null,
   "id": "f6f9a22d-ffa8-4954-9361-433a722694ca",
   "metadata": {},
   "outputs": [],
   "source": [
    "import numpy as np\n",
    "import pyvista as pv\n",
    "\n",
    "pv.global_theme.background = 'white'\n",
    "pv.global_theme.window_size = [1000, 500]\n",
    "pv.global_theme.antialiasing = True\n",
    "pv.global_theme.jupyter_backend = 'pythreejs'\n",
    "pv.global_theme.smooth_shading = True\n"
   ]
  },
  {
   "cell_type": "code",
   "execution_count": null,
   "id": "3a808320-50e6-41b0-8319-2183744f569e",
   "metadata": {
    "tags": []
   },
   "outputs": [],
   "source": [
    "x = np.arange(-10, 10, 1)\n",
    "y = np.arange(-10, 10, 1)\n",
    "z = 0.0 # np.arange(-10, 10, 2)\n",
    "x, y, z = np.meshgrid(x, y, z)\n",
    "\n",
    "mesh_shape = (mesh.elementRes[0]+1, mesh.elementRes[1]+1, 1)\n",
    "\n",
    "grid = pv.StructuredGrid(mesh.data[:,0].reshape(mesh_shape), \n",
    "                         mesh.data[:,1].reshape(mesh_shape), \n",
    "                         np.zeros(mesh_shape))\n",
    "\n",
    "with swarm.access():\n",
    "    point_coords = np.zeros((swarm.data.shape[0], 3))\n",
    "    point_coords[:,0:2] = swarm.data[:,0:2]\n",
    "    point_cloud = pv.PolyData(point_coords)\n",
    "    \n",
    "with swarm.access():\n",
    "    point_cloud['density'] = uw.function.evaluate(density, swarm.data*0.9999999)\n",
    "\n",
    "point_cloud.points[:,2] = point_cloud['density']\n",
    "\n",
    "with mesh.access():\n",
    "    vmag = np.sqrt(stokes.u.data**2)\n",
    "    \n",
    "mesh_density = uw.function.evaluate(density, mesh.data*0.9999999)\n",
    "mesh_density = mesh_density.reshape(33,33).flatten(order=\"F\")\n",
    "\n",
    "grid.point_data[\"density\"] = mesh_density\n",
    "grid.point_data[\"vmag\"] = vmag\n",
    "grid.point_data[\"x\"] = mesh.data[:,0]\n",
    "grid.point_data[\"y\"] = mesh.data[:,1]\n",
    "\n",
    "plotter = pv.Plotter(notebook=True)    # instantiate the plotter\n",
    "plotter.background_color = (1.0,1.0,1.0)\n",
    "plotter.add_points(point_cloud, scalars=\"density\", point_size=3.0 )\n",
    "m1 = plotter.add_mesh(grid, show_edges=True, cmap=\"Oranges_r\", scalars=\"density\")    # add a mesh to the scene\n",
    "plotter.add_orientation_widget(grid)\n",
    "plotter.camera.position = (0.5,0.5,-3.0)\n",
    "plotter.show()            # show the rendering window\n",
    "\n"
   ]
  },
  {
   "cell_type": "code",
   "execution_count": null,
   "id": "371aedd0-423c-42cc-a37f-158f7f0d9561",
   "metadata": {
    "tags": []
   },
   "outputs": [],
   "source": []
  },
  {
   "cell_type": "code",
   "execution_count": null,
   "id": "104b4687-0bae-42e9-8a99-9d2cddb087fc",
   "metadata": {},
   "outputs": [],
   "source": [
    "mesh_density.reshape(33,33).flatten(order=\"F\")"
   ]
  },
  {
   "cell_type": "code",
   "execution_count": null,
   "id": "427172d7-1961-444e-85ca-68e54a55a787",
   "metadata": {},
   "outputs": [],
   "source": [
    "plotter.export_html(\"mesh.html\")"
   ]
  },
  {
   "cell_type": "code",
   "execution_count": null,
   "id": "7ce59654-e7cf-42f3-aec4-4f5877622a4c",
   "metadata": {},
   "outputs": [],
   "source": [
    "options.getAll()"
   ]
  },
  {
   "cell_type": "code",
   "execution_count": null,
   "id": "dc6eb53d-b07d-45f1-99ef-b3fcb46b2b19",
   "metadata": {},
   "outputs": [],
   "source": [
    "1+1=2"
   ]
  },
  {
   "cell_type": "code",
   "execution_count": null,
   "id": "efd41fca-0bbc-42f1-83b8-51d3de0a74a6",
   "metadata": {},
   "outputs": [],
   "source": [
    "step = 0\n",
    "time = 0.\n",
    "nprint = 0.\n",
    "volume_int = uw.maths.Integral( mesh, 1. )\n",
    "volume = volume_int.evaluate()\n",
    "v_dot_v_int = uw.maths.Integral(mesh, stokes.u.fn.dot(stokes.u.fn))\n",
    "def vrms():\n",
    "    import math\n",
    "    v_dot_v = v_dot_v_int.evaluate()\n",
    "    return math.sqrt(v_dot_v/volume)\n",
    "\n",
    "timeVal     = []\n",
    "vrmsVal     = []\n",
    "\n",
    "while time<model_end_time:\n",
    "    # Solve time\n",
    "    stokes.solve(zero_init_guess=False, _force_setup=False)\n",
    "    stime = delta_time()\n",
    "\n",
    "    if time>=nprint:\n",
    "        nprint += print_time\n",
    "        import plot\n",
    "        figs = plot.Plot(rulers=True)\n",
    "        # fig.edges(mesh)\n",
    "        with swarm.access(),mesh.access():\n",
    "            figs.swarm_points(swarm, matSwarmVar.data, pointsize=4, colourmap=\"blue green\", colourbar=False, title=time)\n",
    "            figs.vector_arrows(mesh, stokes.u.data)\n",
    "            # fig.nodes(mesh,matMeshVar.data,colourmap=\"blue green\", pointsize=6, pointtype=4)\n",
    "        outputFilename = os.path.join(outputPath,f\"uw3_image_{str(step).zfill(4)}.png\")\n",
    "        figs.image(outputFilename)\n",
    "    ptime = delta_time()\n",
    "\n",
    "    dt = stokes.dt()\n",
    "    with swarm.access():\n",
    "        vel_on_particles = uw.function.evaluate(stokes.u.fn,swarm.particle_coordinates.data)\n",
    "    etime = delta_time()\n",
    "\n",
    "    with swarm.access(swarm.particle_coordinates):\n",
    "        swarm.particle_coordinates.data[:] += dt*vel_on_particles\n",
    "    atime = delta_time()\n",
    "\n",
    "    vrms_val = vrms()\n",
    "    if MPI.COMM_WORLD.rank==0:\n",
    "        print(f\"Step {str(step).rjust(3)}, time {time:6.2f}, vrms {vrms_val:.3e}, Time(s): Solve {stime:5.2f}, Plot {ptime:5.2f}, Evaluate {etime:5.2f}, Advect {atime:5.2f}\")\n",
    "\n",
    "    timeVal.append(time)\n",
    "    vrmsVal.append(vrms_val)\n",
    "    step+=1\n",
    "    time+=dt"
   ]
  },
  {
   "cell_type": "code",
   "execution_count": null,
   "id": "0cc86a72-9f7e-4601-8d68-17d626d2c22e",
   "metadata": {},
   "outputs": [],
   "source": [
    "# %%\n",
    "if MPI.COMM_WORLD.rank==0:\n",
    "    if   np.isclose(viscosityRatio, 1.00) :\n",
    "        data = np.loadtxt(os.path.join(inputPath,'VrmsCaseA.txt'), unpack=True )\n",
    "    elif np.isclose(viscosityRatio, 0.10) :\n",
    "        data = np.loadtxt(os.path.join(inputPath,'VrmsCaseB.txt'), unpack=True )\n",
    "    elif np.isclose(viscosityRatio, 0.01) :\n",
    "        data = np.loadtxt(os.path.join(inputPath,'VrmsCaseC.txt'), unpack=True )\n",
    "    else :\n",
    "        print('No specific data found - default to Case A')\n",
    "        data = np.loadtxt(os.path.join(inputPath,'VrmsCaseA.txt'), unpack=True )\n",
    "\n",
    "    # Load into data arrays to compare with timevals and vrmsvals from above.\n",
    "    timeCompare, vrmsCompare = data[0], data[1] \n",
    "\n",
    "    import matplotlib.pyplot as pyplot\n",
    "    fig = pyplot.figure()\n",
    "    fig.set_size_inches(12, 6)\n",
    "    ax = fig.add_subplot(1,1,1)\n",
    "    ax.plot(timeCompare, vrmsCompare, color = 'black')\n",
    "    ax.plot(uw3_time, uw3_vrms, color = 'blue', marker=\".\", markersize=10, label=\"uw3\") \n",
    "    if run_uw2:\n",
    "        ax.plot(uw2_time, uw2_vrms, color = 'red', marker=\".\", markersize=10, label=\"uw2\") \n",
    "    ax.set_xlabel('Time')\n",
    "    ax.set_ylabel('RMS velocity')\n",
    "    ax.set_xlim([0.0,1000.0])\n",
    "    ax.legend()\n",
    "    fig.savefig(os.path.join(outputPath,\"vrms.png\"))\n",
    "\n",
    "    # test for max vrms time/value\n",
    "    # switch for numpy arrays\n",
    "    uw3_vrms = np.array(uw3_vrms)\n",
    "    uw3_time = np.array(uw3_time)\n",
    "    uw3_maxvrms = uw3_vrms.max()\n",
    "    uw3_maxvrms_time = uw3_time[uw3_vrms.argmax()]\n",
    "\n",
    "    expected_maxvrms = vrmsCompare.max()\n",
    "    expected_maxvrms_time = timeCompare[vrmsCompare.argmax()]\n",
    "\n",
    "    if \"UW_LONGTEST\" in os.environ:\n",
    "        rtol = 0.02\n",
    "    else:\n",
    "        rtol = 0.1\n",
    "\n",
    "    if not np.allclose(uw3_maxvrms,expected_maxvrms,rtol=rtol):\n",
    "        raise RuntimeError(f\"Encountered max VRMS ({uw3_maxvrms}) not sufficiently close to expected value ({expected_maxvrms})\")\n",
    "    if not np.allclose(uw3_maxvrms_time,expected_maxvrms_time,rtol=rtol):\n",
    "        raise RuntimeError(f\"Encountered max VRMS time ({uw3_maxvrms_time}) not sufficiently close to expected value ({expected_maxvrms_time})\")\n",
    "\n",
    "# %%"
   ]
  }
 ],
 "metadata": {
  "kernelspec": {
   "display_name": "Python 3 (ipykernel)",
   "language": "python",
   "name": "python3"
  },
  "language_info": {
   "codemirror_mode": {
    "name": "ipython",
    "version": 3
   },
   "file_extension": ".py",
   "mimetype": "text/x-python",
   "name": "python",
   "nbconvert_exporter": "python",
   "pygments_lexer": "ipython3",
   "version": "3.9.4"
  }
 },
 "nbformat": 4,
 "nbformat_minor": 5
}
