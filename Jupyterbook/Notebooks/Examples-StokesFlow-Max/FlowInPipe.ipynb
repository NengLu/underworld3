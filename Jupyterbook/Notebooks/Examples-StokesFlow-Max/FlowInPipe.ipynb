{
 "cells": [
  {
   "attachments": {},
   "cell_type": "markdown",
   "metadata": {},
   "source": [
    "# Flow in a pipe in underworld 3\n",
    "\n",
    "I want to simulate stokes flow in a pipe 2-d pipe."
   ]
  },
  {
   "cell_type": "code",
   "execution_count": 2,
   "metadata": {},
   "outputs": [],
   "source": [
    "import underworld3 as uw "
   ]
  },
  {
   "cell_type": "code",
   "execution_count": 3,
   "metadata": {},
   "outputs": [],
   "source": [
    "pipe_mesh = uw.meshing.UnstructuredSimplexBox(minCoords=(0,0), maxCoords=(5,1), cellSize=1/30, qdegree=5)"
   ]
  },
  {
   "cell_type": "code",
   "execution_count": 6,
   "metadata": {},
   "outputs": [],
   "source": [
    "v = uw.discretisation.MeshVariable(\"U\", pipe_mesh, pipe_mesh.dim, degree=2)\n",
    "p = uw.discretisation.MeshVariable(\"P\", pipe_mesh, 1, degree=1)\n",
    "\n",
    "stokes = uw.systems.Stokes(mesh, velocityField=v, pressureField=p)\n",
    "stokes.constitutive_model = uw.systems.constitutive_models.ViscousFlowModel(mesh.dim)\n",
    "stokes.constitutive_model.Parameters.viscosity = 1\n",
    "\n",
    "stokes.penalty = 0.0\n",
    "x,y = mesh.X\n",
    "\n",
    "stokes.bodyforce = sympy.Matrix([0, 0])\n"
   ]
  },
  {
   "cell_type": "code",
   "execution_count": null,
   "metadata": {},
   "outputs": [],
   "source": []
  }
 ],
 "metadata": {
  "kernelspec": {
   "display_name": "uw3",
   "language": "python",
   "name": "python3"
  },
  "language_info": {
   "codemirror_mode": {
    "name": "ipython",
    "version": 3
   },
   "file_extension": ".py",
   "mimetype": "text/x-python",
   "name": "python",
   "nbconvert_exporter": "python",
   "pygments_lexer": "ipython3",
   "version": "3.10.11"
  },
  "orig_nbformat": 4
 },
 "nbformat": 4,
 "nbformat_minor": 2
}
