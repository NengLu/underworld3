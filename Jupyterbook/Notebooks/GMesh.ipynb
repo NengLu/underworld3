{
 "cells": [
  {
   "cell_type": "markdown",
   "id": "0b61b085",
   "metadata": {},
   "source": [
    "# GMesh / PyGMesh How-tos"
   ]
  },
  {
   "cell_type": "code",
   "execution_count": 6,
   "id": "8300c769",
   "metadata": {},
   "outputs": [],
   "source": [
    "import pygmsh"
   ]
  },
  {
   "cell_type": "markdown",
   "id": "cf6daba9",
   "metadata": {},
   "source": [
    "## Polygon"
   ]
  },
  {
   "cell_type": "code",
   "execution_count": 7,
   "id": "0d14e23a",
   "metadata": {},
   "outputs": [],
   "source": [
    "with pygmsh.occ.Geometry() as geom:\n",
    "    geom.add_polygon(\n",
    "        [\n",
    "            [0.0, 0.0],\n",
    "            [1.0, -0.2],\n",
    "            [1.1, 1.2],\n",
    "            [0.1, 0.7],\n",
    "        ],\n",
    "        mesh_size=0.1,\n",
    "    )\n",
    "    mesh = geom.generate_mesh()"
   ]
  },
  {
   "cell_type": "code",
   "execution_count": 8,
   "id": "00a8405c",
   "metadata": {},
   "outputs": [],
   "source": [
    "with open(\"output/polygon.vtk\", mode=\"wb\") as f:\n",
    "    mesh.write(f, file_format=\"vtk\")"
   ]
  },
  {
   "cell_type": "markdown",
   "id": "6815a830",
   "metadata": {},
   "source": [
    "## Disk\n",
    "\n",
    "Add a disk in the OpenCASCADE CAD representation, with center (xc, yc, zc) and radius rx along the x-axis and ry along the y-axis. If tag is positive, set the tag explicitly; otherwise a new tag is selected automatically. Return the tag of the disk."
   ]
  },
  {
   "cell_type": "code",
   "execution_count": 14,
   "id": "9d829d9e",
   "metadata": {},
   "outputs": [],
   "source": [
    "with pygmsh.occ.Geometry() as geom:\n",
    "    geom.add_disk((0.,0.), radius0=1.0, mesh_size=0.1)\n",
    "    mesh = geom.generate_mesh()"
   ]
  },
  {
   "cell_type": "code",
   "execution_count": 15,
   "id": "9bb04fd5",
   "metadata": {},
   "outputs": [],
   "source": [
    "with open(\"output/disk.vtk\", mode=\"wb\") as f:\n",
    "    mesh.write(f, file_format=\"vtk\")"
   ]
  },
  {
   "cell_type": "markdown",
   "id": "25383767",
   "metadata": {},
   "source": [
    "## Sphere"
   ]
  },
  {
   "cell_type": "code",
   "execution_count": 19,
   "id": "012a7f1f",
   "metadata": {},
   "outputs": [],
   "source": [
    "with pygmsh.occ.Geometry() as geom:\n",
    "    geom.add_ball(center=(0.,0.,0.), radius=1.0, mesh_size=0.1)\n",
    "    mesh = geom.generate_mesh()"
   ]
  },
  {
   "cell_type": "code",
   "execution_count": 20,
   "id": "d55eb4f1",
   "metadata": {},
   "outputs": [],
   "source": [
    "with open(\"output/sphere.vtk\", mode=\"wb\") as f:\n",
    "    mesh.write(f, file_format=\"vtk\")"
   ]
  },
  {
   "cell_type": "markdown",
   "id": "10cc5ded",
   "metadata": {},
   "source": [
    "## Hollow Sphere"
   ]
  },
  {
   "cell_type": "code",
   "execution_count": 27,
   "id": "ad8743a9",
   "metadata": {},
   "outputs": [],
   "source": [
    "with pygmsh.occ.Geometry() as geom:\n",
    "    ball_outer = geom.add_ball(center=(0.,0.,0.), radius=1.0)\n",
    "    ball_inner = geom.add_ball(center=(0.,0.,0.), radius=0.3)\n",
    "    geom.boolean_difference(ball_outer,ball_inner)\n",
    "    geom.characteristic_length_max = 0.1\n",
    "    mesh = geom.generate_mesh()"
   ]
  },
  {
   "cell_type": "code",
   "execution_count": 28,
   "id": "9ea7becc",
   "metadata": {},
   "outputs": [],
   "source": [
    "with open(\"output/hollow_sphere.vtk\", mode=\"wb\") as f:\n",
    "    mesh.write(f, file_format=\"vtk\")"
   ]
  },
  {
   "cell_type": "markdown",
   "id": "33d1a981",
   "metadata": {},
   "source": [
    "# Structured Regular Mesh"
   ]
  },
  {
   "cell_type": "code",
   "execution_count": 64,
   "id": "e4183db0",
   "metadata": {},
   "outputs": [],
   "source": [
    "with pygmsh.geo.Geometry() as geom:\n",
    "    p1 = geom.add_point((0.,0.,0.))\n",
    "    p2 = geom.add_point((2.,0.,0.))\n",
    "    p3 = geom.add_point((0.,2.,0.))\n",
    "    p4 = geom.add_point((2.,2.,0.))\n",
    "    l1 = geom.add_line(p1, p2)\n",
    "    l2 = geom.add_line(p2, p4)\n",
    "    l3 = geom.add_line(p4, p3)\n",
    "    l4 = geom.add_line(p3, p1)\n",
    "    cl = geom.add_curve_loop((l1, l2, l3, l4))\n",
    "    surface = geom.add_surface(cl)\n",
    "    geom.set_transfinite_surface(surface=surface, arrangement=\"Left\", corner_pts=[p1,p2,p3,p4])\n",
    "    geom.set_transfinite_curve(curve=l1, num_nodes=20, mesh_type=\"Progression\", coeff=1.0)\n",
    "    geom.set_transfinite_curve(curve=l2, num_nodes=20, mesh_type=\"Progression\", coeff=1.0)\n",
    "    geom.set_transfinite_curve(curve=l3, num_nodes=20, mesh_type=\"Progression\", coeff=1.0)\n",
    "    geom.set_transfinite_curve(curve=l4, num_nodes=20, mesh_type=\"Progression\", coeff=1.0)\n",
    "    geom.set_recombined_surfaces(surfaces=[surface])\n",
    "    mesh = geom.generate_mesh()"
   ]
  },
  {
   "cell_type": "code",
   "execution_count": 65,
   "id": "ee626f7e",
   "metadata": {},
   "outputs": [],
   "source": [
    "with open(\"output/regular.vtk\", mode=\"wb\") as f:\n",
    "    mesh.write(f, file_format=\"vtk\")"
   ]
  },
  {
   "cell_type": "markdown",
   "id": "3d40e6e0",
   "metadata": {},
   "source": [
    "## Structured Regular Mesh 2"
   ]
  },
  {
   "cell_type": "code",
   "execution_count": 73,
   "id": "3dc66cb7",
   "metadata": {},
   "outputs": [],
   "source": [
    "with pygmsh.geo.Geometry() as geom:\n",
    "    p1 = geom.add_point((0.,0.,0.))\n",
    "    p2 = geom.add_point((2.,0.,0.))\n",
    "    p3 = geom.add_point((0.,1.,0.))\n",
    "    p4 = geom.add_point((2.,1.,0.))\n",
    "    p5 = geom.add_point((0.,0.7,0.))\n",
    "    p6 = geom.add_point((2.,0.7,0.))\n",
    "    \n",
    "    l1 = geom.add_line(p1, p2)\n",
    "    l2 = geom.add_line(p2, p6)\n",
    "    l3 = geom.add_line(p6, p5)\n",
    "    l4 = geom.add_line(p5, p1)\n",
    "    \n",
    "    l5 = geom.add_line(p5, p6)\n",
    "    l6 = geom.add_line(p6, p4)\n",
    "    l7 = geom.add_line(p4, p3)\n",
    "    l8 = geom.add_line(p3, p5)\n",
    "    \n",
    "    cl1 = geom.add_curve_loop((l1, l2, l3, l4))\n",
    "    cl2 = geom.add_curve_loop((l5, l6, l7, l8))\n",
    "    \n",
    "    s1 = geom.add_surface(cl1)\n",
    "    s2 = geom.add_surface(cl2)\n",
    "    \n",
    "    geom.set_transfinite_surface(surface=s1, arrangement=\"Left\", corner_pts=[p1,p2,p5,p6])\n",
    "    geom.set_transfinite_surface(surface=s2, arrangement=\"Left\", corner_pts=[p5,p6,p3,p4])\n",
    "    geom.set_transfinite_curve(curve=l1, num_nodes=20, mesh_type=\"Progression\", coeff=1.0)\n",
    "    geom.set_transfinite_curve(curve=l2, num_nodes=5, mesh_type=\"Progression\", coeff=1.0)\n",
    "    geom.set_transfinite_curve(curve=l3, num_nodes=20, mesh_type=\"Progression\", coeff=1.0)\n",
    "    geom.set_transfinite_curve(curve=l4, num_nodes=5, mesh_type=\"Progression\", coeff=1.0)\n",
    "    geom.set_transfinite_curve(curve=l5, num_nodes=20, mesh_type=\"Progression\", coeff=1.0)\n",
    "    geom.set_transfinite_curve(curve=l6, num_nodes=10, mesh_type=\"Progression\", coeff=1.0)\n",
    "    geom.set_transfinite_curve(curve=l7, num_nodes=20, mesh_type=\"Progression\", coeff=1.0)\n",
    "    geom.set_transfinite_curve(curve=l8, num_nodes=10, mesh_type=\"Progression\", coeff=1.0)\n",
    "    geom.set_recombined_surfaces(surfaces=[s1, s2])\n",
    "    mesh = geom.generate_mesh()"
   ]
  },
  {
   "cell_type": "code",
   "execution_count": 74,
   "id": "e7740bb4",
   "metadata": {},
   "outputs": [],
   "source": [
    "with open(\"output/regular2.vtk\", mode=\"wb\") as f:\n",
    "    mesh.write(f, file_format=\"vtk\")"
   ]
  },
  {
   "cell_type": "markdown",
   "id": "bdf6e65d",
   "metadata": {},
   "source": [
    "## Structured Regular Mesh 3D (WIP, should use extruded surface) "
   ]
  },
  {
   "cell_type": "code",
   "execution_count": 99,
   "id": "17ed4dff",
   "metadata": {},
   "outputs": [
    {
     "ename": "Exception",
     "evalue": "Incompatible surface 1 in transfinite volume 1",
     "output_type": "error",
     "traceback": [
      "\u001b[0;31m---------------------------------------------------------------------------\u001b[0m",
      "\u001b[0;31mException\u001b[0m                                 Traceback (most recent call last)",
      "\u001b[0;32m/tmp/ipykernel_37261/2746558722.py\u001b[0m in \u001b[0;36m<module>\u001b[0;34m\u001b[0m\n\u001b[1;32m     82\u001b[0m     \u001b[0;31m#geom.set_transfinite_curve(curve=l4, num_nodes=20, mesh_type=\"Progression\", coeff=1.0)\u001b[0m\u001b[0;34m\u001b[0m\u001b[0;34m\u001b[0m\u001b[0m\n\u001b[1;32m     83\u001b[0m     \u001b[0;31m#geom.set_recombined_surfaces(surfaces=[surface])\u001b[0m\u001b[0;34m\u001b[0m\u001b[0;34m\u001b[0m\u001b[0m\n\u001b[0;32m---> 84\u001b[0;31m     \u001b[0mmesh\u001b[0m \u001b[0;34m=\u001b[0m \u001b[0mgeom\u001b[0m\u001b[0;34m.\u001b[0m\u001b[0mgenerate_mesh\u001b[0m\u001b[0;34m(\u001b[0m\u001b[0;34m)\u001b[0m\u001b[0;34m\u001b[0m\u001b[0;34m\u001b[0m\u001b[0m\n\u001b[0m",
      "\u001b[0;32m~/PROJECTS/Project_underworld3/uw3_venv/lib/python3.9/site-packages/pygmsh/common/geometry.py\u001b[0m in \u001b[0;36mgenerate_mesh\u001b[0;34m(self, dim, order, algorithm, verbose)\u001b[0m\n\u001b[1;32m    370\u001b[0m             \u001b[0mgmsh\u001b[0m\u001b[0;34m.\u001b[0m\u001b[0moption\u001b[0m\u001b[0;34m.\u001b[0m\u001b[0msetNumber\u001b[0m\u001b[0;34m(\u001b[0m\u001b[0;34m\"Mesh.Algorithm\"\u001b[0m\u001b[0;34m,\u001b[0m \u001b[0malgorithm\u001b[0m\u001b[0;34m)\u001b[0m\u001b[0;34m\u001b[0m\u001b[0;34m\u001b[0m\u001b[0m\n\u001b[1;32m    371\u001b[0m \u001b[0;34m\u001b[0m\u001b[0m\n\u001b[0;32m--> 372\u001b[0;31m         \u001b[0mgmsh\u001b[0m\u001b[0;34m.\u001b[0m\u001b[0mmodel\u001b[0m\u001b[0;34m.\u001b[0m\u001b[0mmesh\u001b[0m\u001b[0;34m.\u001b[0m\u001b[0mgenerate\u001b[0m\u001b[0;34m(\u001b[0m\u001b[0mdim\u001b[0m\u001b[0;34m)\u001b[0m\u001b[0;34m\u001b[0m\u001b[0;34m\u001b[0m\u001b[0m\n\u001b[0m\u001b[1;32m    373\u001b[0m \u001b[0;34m\u001b[0m\u001b[0m\n\u001b[1;32m    374\u001b[0m         \u001b[0;32mreturn\u001b[0m \u001b[0mextract_to_meshio\u001b[0m\u001b[0;34m(\u001b[0m\u001b[0;34m)\u001b[0m\u001b[0;34m\u001b[0m\u001b[0;34m\u001b[0m\u001b[0m\n",
      "\u001b[0;32m~/PROJECTS/Project_underworld3/uw3_venv/lib/python3.9/site-packages/gmsh-4.8.4-Linux64-sdk/lib/gmsh.py\u001b[0m in \u001b[0;36mgenerate\u001b[0;34m(dim)\u001b[0m\n\u001b[1;32m   1521\u001b[0m                 byref(ierr))\n\u001b[1;32m   1522\u001b[0m             \u001b[0;32mif\u001b[0m \u001b[0mierr\u001b[0m\u001b[0;34m.\u001b[0m\u001b[0mvalue\u001b[0m \u001b[0;34m!=\u001b[0m \u001b[0;36m0\u001b[0m\u001b[0;34m:\u001b[0m\u001b[0;34m\u001b[0m\u001b[0;34m\u001b[0m\u001b[0m\n\u001b[0;32m-> 1523\u001b[0;31m                 \u001b[0;32mraise\u001b[0m \u001b[0mException\u001b[0m\u001b[0;34m(\u001b[0m\u001b[0mlogger\u001b[0m\u001b[0;34m.\u001b[0m\u001b[0mgetLastError\u001b[0m\u001b[0;34m(\u001b[0m\u001b[0;34m)\u001b[0m\u001b[0;34m)\u001b[0m\u001b[0;34m\u001b[0m\u001b[0;34m\u001b[0m\u001b[0m\n\u001b[0m\u001b[1;32m   1524\u001b[0m \u001b[0;34m\u001b[0m\u001b[0m\n\u001b[1;32m   1525\u001b[0m         \u001b[0;34m@\u001b[0m\u001b[0mstaticmethod\u001b[0m\u001b[0;34m\u001b[0m\u001b[0;34m\u001b[0m\u001b[0m\n",
      "\u001b[0;31mException\u001b[0m: Incompatible surface 1 in transfinite volume 1"
     ]
    }
   ],
   "source": [
    "with pygmsh.geo.Geometry() as geom:\n",
    "    p1 = geom.add_point((0.,0.,0.))\n",
    "    p2 = geom.add_point((1.,0.,0.))\n",
    "    p3 = geom.add_point((0.,1.,0.))\n",
    "    p4 = geom.add_point((1.,1.,0.))\n",
    "    p5 = geom.add_point((0.,0.,1.))\n",
    "    p6 = geom.add_point((1.,0.,1.))\n",
    "    p7 = geom.add_point((0.,1.,1.))\n",
    "    p8 = geom.add_point((1.,1.,1.))    \n",
    "    \n",
    "    l1 = geom.add_line(p1, p2)\n",
    "    l2 = geom.add_line(p2, p4)\n",
    "    l3 = geom.add_line(p4, p3)\n",
    "    l4 = geom.add_line(p3, p1)\n",
    "    \n",
    "    ## Front\n",
    "    cl = geom.add_curve_loop((l1, l2, l3, l4))\n",
    "    front = geom.add_surface(cl)\n",
    "    \n",
    "    l1 = geom.add_line(p5, p6)\n",
    "    l2 = geom.add_line(p6, p7)\n",
    "    l3 = geom.add_line(p7, p8)\n",
    "    l4 = geom.add_line(p8, p5)    \n",
    "    \n",
    "    ## Back\n",
    "    cl = geom.add_curve_loop((l1, l2, l3, l4))\n",
    "    back = geom.add_surface(cl)   \n",
    "    \n",
    "    l1 = geom.add_line(p1, p2)\n",
    "    l2 = geom.add_line(p2, p6)\n",
    "    l3 = geom.add_line(p6, p5)\n",
    "    l4 = geom.add_line(p5, p1) \n",
    "\n",
    "    ## Bottom\n",
    "    cl = geom.add_curve_loop((l1, l2, l3, l4))\n",
    "    bottom = geom.add_surface(cl)   \n",
    "    \n",
    "    l1 = geom.add_line(p4, p3)\n",
    "    l2 = geom.add_line(p3, p7)\n",
    "    l3 = geom.add_line(p7, p8)\n",
    "    l4 = geom.add_line(p8, p4) \n",
    "\n",
    "    ## Top\n",
    "    cl = geom.add_curve_loop((l1, l2, l3, l4))\n",
    "    top = geom.add_surface(cl)\n",
    "    \n",
    "    l1 = geom.add_line(p2, p6)\n",
    "    l2 = geom.add_line(p6, p7)\n",
    "    l3 = geom.add_line(p7, p3)\n",
    "    l4 = geom.add_line(p3, p2) \n",
    "\n",
    "    ## Right\n",
    "    cl = geom.add_curve_loop((l1, l2, l3, l4))\n",
    "    right = geom.add_surface(cl)\n",
    "    \n",
    "    l1 = geom.add_line(p1, p5)\n",
    "    l2 = geom.add_line(p5, p8)\n",
    "    l3 = geom.add_line(p8, p4)\n",
    "    l4 = geom.add_line(p4, p1) \n",
    "\n",
    "    ## Left\n",
    "    cl = geom.add_curve_loop((l1, l2, l3, l4))\n",
    "    left = geom.add_surface(cl)\n",
    "    \n",
    "\n",
    "    geom.set_transfinite_surface(surface=front, arrangement=\"Left\", corner_pts=[p1,p2,p3,p4])\n",
    "    geom.set_transfinite_surface(surface=back, arrangement=\"Left\", corner_pts=[p5,p6,p7,p8])\n",
    "    geom.set_transfinite_surface(surface=bottom, arrangement=\"Left\", corner_pts=[p1,p2,p6,p5])\n",
    "    geom.set_transfinite_surface(surface=top, arrangement=\"Left\", corner_pts=[p4,p3,p7,p8])\n",
    "    geom.set_transfinite_surface(surface=right, arrangement=\"Left\", corner_pts=[p2,p6,p7,p3])\n",
    "    geom.set_transfinite_surface(surface=left, arrangement=\"Left\", corner_pts=[p5,p1,p4,p8])\n",
    "    \n",
    "    geom.set_recombined_surfaces(surfaces=[front, back, bottom, top, right, left])\n",
    "    \n",
    "    sloop = geom.add_surface_loop([front, left, bottom, back, right, top])\n",
    "    volume = geom.add_volume(sloop)\n",
    "    geom.set_transfinite_volume(volume, corner_pts=[p1, p2, p3, p4, p5, p6, p7, p8])\n",
    "\n",
    "    mesh = geom.generate_mesh()"
   ]
  },
  {
   "cell_type": "code",
   "execution_count": 83,
   "id": "8730b858",
   "metadata": {},
   "outputs": [],
   "source": [
    "with open(\"output/regular3d.vtk\", mode=\"wb\") as f:\n",
    "    mesh.write(f, file_format=\"vtk\")"
   ]
  },
  {
   "cell_type": "code",
   "execution_count": 93,
   "id": "1d1d3763",
   "metadata": {},
   "outputs": [],
   "source": [
    "geom = pygmsh.geo.Geometry()"
   ]
  },
  {
   "cell_type": "code",
   "execution_count": null,
   "id": "a0509884",
   "metadata": {},
   "outputs": [],
   "source": [
    "geom."
   ]
  }
 ],
 "metadata": {
  "kernelspec": {
   "display_name": "uw3",
   "language": "python",
   "name": "uw3"
  },
  "language_info": {
   "codemirror_mode": {
    "name": "ipython",
    "version": 3
   },
   "file_extension": ".py",
   "mimetype": "text/x-python",
   "name": "python",
   "nbconvert_exporter": "python",
   "pygments_lexer": "ipython3",
   "version": "3.9.7"
  }
 },
 "nbformat": 4,
 "nbformat_minor": 5
}
