{
 "cells": [
  {
   "cell_type": "markdown",
   "id": "28e921ff",
   "metadata": {},
   "source": [
    "# Unstructured Hollow sphere with DMPlex from GMsh with labels"
   ]
  },
  {
   "cell_type": "code",
   "execution_count": 1,
   "id": "993ae898",
   "metadata": {},
   "outputs": [],
   "source": [
    "import warnings\n",
    "warnings.filterwarnings(\"ignore\")\n",
    "import gmsh\n",
    "gmsh.initialize()\n",
    "import numpy as np"
   ]
  },
  {
   "cell_type": "code",
   "execution_count": 2,
   "id": "eac1eaf4",
   "metadata": {},
   "outputs": [],
   "source": [
    "# By default, if physical groups are defined, Gmsh will export in\n",
    "# the output mesh file only those elements that belong to at least one physical\n",
    "# group. To force Gmsh to save all elements, you can use\n",
    "gmsh.option.setNumber(\"Mesh.SaveAll\", 1)"
   ]
  },
  {
   "cell_type": "code",
   "execution_count": 3,
   "id": "b1bc6bd5",
   "metadata": {},
   "outputs": [],
   "source": [
    "gmsh.model.add(\"SphereTest\")"
   ]
  },
  {
   "cell_type": "code",
   "execution_count": 4,
   "id": "de175a2e",
   "metadata": {},
   "outputs": [],
   "source": [
    "ball1_tag = gmsh.model.occ.addSphere(0, 0, 0, 1.0)\n",
    "ball2_tag = gmsh.model.occ.addSphere(0, 0, 0, 0.3)"
   ]
  },
  {
   "cell_type": "code",
   "execution_count": 5,
   "id": "9826358c",
   "metadata": {},
   "outputs": [
    {
     "data": {
      "text/plain": [
       "([(3, 1)], [[(3, 1)], []])"
      ]
     },
     "execution_count": 5,
     "metadata": {},
     "output_type": "execute_result"
    }
   ],
   "source": [
    "gmsh.model.occ.cut([(3, ball1_tag)], [(3, ball2_tag)], removeObject=True, removeTool=True)"
   ]
  },
  {
   "cell_type": "code",
   "execution_count": 6,
   "id": "0a475de8",
   "metadata": {},
   "outputs": [],
   "source": [
    "gmsh.option.setNumber(\"Mesh.CharacteristicLengthMax\", 0.1)"
   ]
  },
  {
   "cell_type": "code",
   "execution_count": 7,
   "id": "3b467d22",
   "metadata": {},
   "outputs": [],
   "source": [
    "gmsh.model.occ.synchronize()"
   ]
  },
  {
   "cell_type": "code",
   "execution_count": 8,
   "id": "933af07b",
   "metadata": {},
   "outputs": [
    {
     "data": {
      "text/plain": [
       "[(2, 2), (2, 3)]"
      ]
     },
     "execution_count": 8,
     "metadata": {},
     "output_type": "execute_result"
    }
   ],
   "source": [
    "gmsh.model.getEntities(2)"
   ]
  },
  {
   "cell_type": "code",
   "execution_count": 9,
   "id": "fef30a31",
   "metadata": {},
   "outputs": [],
   "source": [
    "innerSurface, outerSurface = gmsh.model.getEntities(2)"
   ]
  },
  {
   "cell_type": "code",
   "execution_count": 10,
   "id": "31139043",
   "metadata": {},
   "outputs": [],
   "source": [
    "innerMarker, outerMarker = 1, 8\n",
    "gmsh.model.addPhysicalGroup(innerSurface[0], [innerSurface[1]], innerMarker)\n",
    "gmsh.model.setPhysicalName(innerSurface[1], innerMarker, \"Inner Surface\")\n",
    "gmsh.model.addPhysicalGroup(outerSurface[0], [outerSurface[1]], outerMarker)\n",
    "gmsh.model.setPhysicalName(outerSurface[1], outerMarker, \"Outer Surface\")"
   ]
  },
  {
   "cell_type": "code",
   "execution_count": 11,
   "id": "2b65bcba",
   "metadata": {},
   "outputs": [
    {
     "name": "stdout",
     "output_type": "stream",
     "text": [
      "Info    : Meshing 1D...\n",
      "Info    : [ 20%] Meshing curve 5 (Circle)\n",
      "Info    : [ 70%] Meshing curve 8 (Circle)\n",
      "Info    : Done meshing 1D (Wall 0.000259847s, CPU 0.00027s)\n",
      "Info    : Meshing 2D...\n",
      "Info    : [  0%] Meshing surface 2 (Sphere, Frontal-Delaunay)\n",
      "Info    : [ 50%] Meshing surface 3 (Sphere, Frontal-Delaunay)\n",
      "Info    : Done meshing 2D (Wall 0.138118s, CPU 0.13889s)\n",
      "Info    : Meshing 3D...\n",
      "Info    : 3D Meshing 1 volume with 1 connected component\n",
      "Info    : Tetrahedrizing 1751 nodes...\n",
      "Info    : Done tetrahedrizing 1759 nodes (Wall 0.0155243s, CPU 0.015276s)\n",
      "Info    : Reconstructing mesh...\n",
      "Info    :  - Creating surface mesh\n",
      "Info    :  - Identifying boundary edges\n",
      "Info    :  - Recovering boundary\n",
      "Info    : Done reconstructing mesh (Wall 0.0349579s, CPU 0.035544s)\n",
      "Info    : Found volume 1\n",
      "Info    : Found void region\n",
      "Info    : It. 0 - 0 nodes created - worst tet radius 4.12016 (nodes removed 0 0)\n",
      "Info    : It. 500 - 499 nodes created - worst tet radius 1.61177 (nodes removed 0 1)\n",
      "Info    : It. 1000 - 999 nodes created - worst tet radius 1.30409 (nodes removed 0 1)\n",
      "Info    : It. 1500 - 1499 nodes created - worst tet radius 1.16409 (nodes removed 0 1)\n",
      "Info    : It. 2000 - 1999 nodes created - worst tet radius 1.06183 (nodes removed 0 1)\n",
      "Info    : 3D refinement terminated (4142 nodes total):\n",
      "Info    :  - 2 Delaunay cavities modified for star shapeness\n",
      "Info    :  - 1 nodes could not be inserted\n",
      "Info    :  - 20518 tetrahedra created in 0.122406 sec. (167623 tets/s)\n",
      "Info    : Done meshing 3D (Wall 0.215554s, CPU 0.201587s)\n",
      "Info    : Optimizing mesh...\n",
      "Info    : Optimizing volume 1\n",
      "Info    : Optimization starts (volume = 4.065) with worst = 0.0169951 / average = 0.777574:\n",
      "Info    : 0.00 < quality < 0.10 :        41 elements\n",
      "Info    : 0.10 < quality < 0.20 :       122 elements\n",
      "Info    : 0.20 < quality < 0.30 :       222 elements\n",
      "Info    : 0.30 < quality < 0.40 :       387 elements\n",
      "Info    : 0.40 < quality < 0.50 :       555 elements\n",
      "Info    : 0.50 < quality < 0.60 :       916 elements\n",
      "Info    : 0.60 < quality < 0.70 :      2101 elements\n",
      "Info    : 0.70 < quality < 0.80 :      4883 elements\n",
      "Info    : 0.80 < quality < 0.90 :      7616 elements\n",
      "Info    : 0.90 < quality < 1.00 :      3675 elements\n",
      "Info    : 381 edge swaps, 23 node relocations (volume = 4.065): worst = 0.183483 / average = 0.789057 (Wall 0.00787226s, CPU 0.008116s)\n",
      "Info    : 388 edge swaps, 23 node relocations (volume = 4.065): worst = 0.300527 / average = 0.789271 (Wall 0.00966257s, CPU 0.009881s)\n",
      "Info    : No ill-shaped tets in the mesh :-)\n",
      "Info    : 0.00 < quality < 0.10 :         0 elements\n",
      "Info    : 0.10 < quality < 0.20 :         0 elements\n",
      "Info    : 0.20 < quality < 0.30 :         0 elements\n",
      "Info    : 0.30 < quality < 0.40 :       383 elements\n",
      "Info    : 0.40 < quality < 0.50 :       536 elements\n",
      "Info    : 0.50 < quality < 0.60 :       905 elements\n",
      "Info    : 0.60 < quality < 0.70 :      2084 elements\n",
      "Info    : 0.70 < quality < 0.80 :      4926 elements\n",
      "Info    : 0.80 < quality < 0.90 :      7677 elements\n",
      "Info    : 0.90 < quality < 1.00 :      3664 elements\n",
      "Info    : Done optimizing mesh (Wall 0.0314521s, CPU 0.032064s)\n",
      "Info    : 4142 nodes 23715 elements\n"
     ]
    }
   ],
   "source": [
    "gmsh.model.occ.synchronize()\n",
    "gmsh.model.mesh.generate(3)"
   ]
  },
  {
   "cell_type": "code",
   "execution_count": 18,
   "id": "84e66816",
   "metadata": {},
   "outputs": [
    {
     "name": "stdout",
     "output_type": "stream",
     "text": [
      "Info    : Writing 'sphere_test.msh'...\n",
      "Info    : Done writing 'sphere_test.msh'\n"
     ]
    }
   ],
   "source": [
    "gmsh.write(\"sphere_test.msh\")"
   ]
  },
  {
   "cell_type": "code",
   "execution_count": 19,
   "id": "fb49aab9",
   "metadata": {},
   "outputs": [
    {
     "name": "stdout",
     "output_type": "stream",
     "text": [
      "-------------------------------------------------------\n",
      "Version       : 4.8.4\n",
      "License       : GNU General Public License\n",
      "Build OS      : Linux64-sdk\n",
      "Build date    : 20210428\n",
      "Build host    : gmsh.info\n",
      "Build options : 64Bit ALGLIB ANN Bamg Blas[petsc] Blossom Cgns DIntegration Dlopen DomHex Eigen Fltk Gmm Hxt Jpeg[fltk] Kbipack Lapack[petsc] LinuxJoystick MathEx Med Mesh Metis Mmg Mpeg Netgen ONELAB ONELABMetamodel OpenCASCADE OpenCASCADE-CAF OpenGL OptHom PETSc Parser Plugins Png[fltk] Post QuadTri Solver TetGen/BR Voro++ Zlib[fltk]\n",
      "FLTK version  : 1.4.0\n",
      "PETSc version : 3.14.4 (real arithmtic)\n",
      "OCC version   : 7.6.0\n",
      "MED version   : 4.1.0\n",
      "Packaged by   : geuzaine\n",
      "Web site      : https://gmsh.info\n",
      "Issue tracker : https://gitlab.onelab.info/gmsh/gmsh/issues\n",
      "-------------------------------------------------------\n"
     ]
    }
   ],
   "source": [
    "gmsh.fltk.run()"
   ]
  },
  {
   "cell_type": "code",
   "execution_count": 20,
   "id": "25e8c325",
   "metadata": {},
   "outputs": [],
   "source": [
    "gmsh.finalize()"
   ]
  },
  {
   "cell_type": "markdown",
   "id": "2645a439",
   "metadata": {},
   "source": [
    "# Import Mesh into PETSc using DMPlex"
   ]
  },
  {
   "cell_type": "code",
   "execution_count": 21,
   "id": "b0c52217",
   "metadata": {},
   "outputs": [],
   "source": [
    "import sys,petsc4py\n",
    "petsc4py.init(sys.argv)\n",
    "from petsc4py import PETSc\n",
    "import numpy as np"
   ]
  },
  {
   "cell_type": "code",
   "execution_count": 22,
   "id": "e6df92eb",
   "metadata": {},
   "outputs": [],
   "source": [
    "options = PETSc.Options()"
   ]
  },
  {
   "cell_type": "code",
   "execution_count": 23,
   "id": "be3990d5",
   "metadata": {},
   "outputs": [],
   "source": [
    "options[\"dm_plex_separate_marker\"] = None"
   ]
  },
  {
   "cell_type": "code",
   "execution_count": 24,
   "id": "e68356fe",
   "metadata": {},
   "outputs": [],
   "source": [
    "plex = PETSc.DMPlex().createFromFile(\"sphere_test.msh\")"
   ]
  },
  {
   "cell_type": "code",
   "execution_count": 25,
   "id": "c189e0e7",
   "metadata": {},
   "outputs": [
    {
     "name": "stdout",
     "output_type": "stream",
     "text": [
      "DM Object: DM_0x55f7f58805a0_0 1 MPI processes\n",
      "  type: plex\n",
      "DM_0x55f7f58805a0_0 in 3 dimensions:\n",
      "  0-cells: 4142\n",
      "  1-cells: 26062\n",
      "  2-cells: 42097\n",
      "  3-cells: 20175\n",
      "Labels:\n",
      "  celltype: 4 strata with value/size (0 (4142), 6 (20175), 3 (42097), 1 (26062))\n",
      "  depth: 4 strata with value/size (0 (4142), 1 (26062), 2 (42097), 3 (20175))\n",
      "  Face Sets: 2 strata with value/size (1 (316), 8 (3178))\n"
     ]
    }
   ],
   "source": [
    "plex.view()"
   ]
  },
  {
   "cell_type": "code",
   "execution_count": 26,
   "id": "4f2ec446",
   "metadata": {},
   "outputs": [],
   "source": [
    "markers_dict = {\"Inner\": innerMarker,\n",
    "                \"Outer\": outerMarker\n",
    "               }"
   ]
  },
  {
   "cell_type": "code",
   "execution_count": 27,
   "id": "73dcb94a",
   "metadata": {},
   "outputs": [],
   "source": [
    "for key, value in markers_dict.items():\n",
    "    indexSet = plex.getStratumIS(\"Face Sets\", value)\n",
    "    plex.createLabel(key)\n",
    "    label = plex.getLabel(key)\n",
    "    if indexSet:\n",
    "        label.insertIS(indexSet, value)\n",
    "    indexSet.destroy()"
   ]
  },
  {
   "cell_type": "code",
   "execution_count": 28,
   "id": "e0f376a2",
   "metadata": {},
   "outputs": [
    {
     "name": "stdout",
     "output_type": "stream",
     "text": [
      "DM Object: DM_0x55f7f58805a0_0 1 MPI processes\n",
      "  type: plex\n",
      "DM_0x55f7f58805a0_0 in 3 dimensions:\n",
      "  0-cells: 4142\n",
      "  1-cells: 26062\n",
      "  2-cells: 42097\n",
      "  3-cells: 20175\n",
      "Labels:\n",
      "  celltype: 4 strata with value/size (0 (4142), 6 (20175), 3 (42097), 1 (26062))\n",
      "  depth: 4 strata with value/size (0 (4142), 1 (26062), 2 (42097), 3 (20175))\n",
      "  Face Sets: 2 strata with value/size (1 (316), 8 (3178))\n",
      "  Inner: 1 strata with value/size (1 (316))\n",
      "  Outer: 1 strata with value/size (8 (3178))\n"
     ]
    }
   ],
   "source": [
    "plex.view()"
   ]
  }
 ],
 "metadata": {
  "kernelspec": {
   "display_name": "Python 3 (ipykernel)",
   "language": "python",
   "name": "python3"
  },
  "language_info": {
   "codemirror_mode": {
    "name": "ipython",
    "version": 3
   },
   "file_extension": ".py",
   "mimetype": "text/x-python",
   "name": "python",
   "nbconvert_exporter": "python",
   "pygments_lexer": "ipython3",
   "version": "3.10.6"
  }
 },
 "nbformat": 4,
 "nbformat_minor": 5
}
