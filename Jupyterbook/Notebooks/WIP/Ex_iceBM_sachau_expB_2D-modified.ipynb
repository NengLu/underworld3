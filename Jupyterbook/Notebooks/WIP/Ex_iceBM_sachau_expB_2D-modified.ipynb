{
 "cells": [
  {
   "cell_type": "markdown",
   "id": "5d75c9bf",
   "metadata": {},
   "source": [
    "# Ice sheet flow\n",
    "\n",
    "#### [Experiment B from Sachau et al. (2022)](https://gmd.copernicus.org/articles/15/8749/2022/)\n",
    "\n",
    "#### UW2 example ported to UW3 "
   ]
  },
  {
   "cell_type": "code",
   "execution_count": 1,
   "id": "d4f3f6aa",
   "metadata": {
    "execution": {
     "iopub.execute_input": "2023-11-22T10:39:12.315550Z",
     "iopub.status.busy": "2023-11-22T10:39:12.315337Z",
     "iopub.status.idle": "2023-11-22T10:39:13.267266Z",
     "shell.execute_reply": "2023-11-22T10:39:13.266960Z",
     "shell.execute_reply.started": "2023-11-22T10:39:12.315519Z"
    },
    "lines_to_next_cell": 2
   },
   "outputs": [],
   "source": [
    "import underworld3 as uw\n",
    "\n",
    "import numpy as np\n",
    "\n",
    "import sympy\n",
    "\n",
    "import os\n",
    "import sys\n",
    "\n",
    "if uw.mpi.size == 1:\n",
    "    import matplotlib.pyplot as plt "
   ]
  },
  {
   "cell_type": "code",
   "execution_count": 2,
   "id": "33fe54a6",
   "metadata": {
    "execution": {
     "iopub.execute_input": "2023-11-22T10:39:13.268328Z",
     "iopub.status.busy": "2023-11-22T10:39:13.268218Z",
     "iopub.status.idle": "2023-11-22T10:39:13.271022Z",
     "shell.execute_reply": "2023-11-22T10:39:13.270771Z",
     "shell.execute_reply.started": "2023-11-22T10:39:13.268320Z"
    }
   },
   "outputs": [
    {
     "name": "stdout",
     "output_type": "stream",
     "text": [
      "resX: 80 resY: 32\n"
     ]
    }
   ],
   "source": [
    "# details of the bottom curve\n",
    "L = [160, 80, 40, 20, 10, 5]\n",
    "\n",
    "if len(sys.argv):\n",
    "    try:\n",
    "        km_index = int(sys.argv[1])\n",
    "    except:\n",
    "        km_index = 5\n",
    "\n",
    "i = km_index\n",
    "\n",
    "maxX = L[i] * 1000.\n",
    "min_bed_height = 500.           # we want a minimum of 500 m of rock beneath the ice\n",
    "amplitude = 500.\n",
    "average_bedthickness = 1000.\n",
    "surface_height = average_bedthickness + amplitude + min_bed_height\n",
    "maxY = surface_height\n",
    "\n",
    "\n",
    "resX = 80\n",
    "resY = 32\n",
    "\n",
    "print(\"resX: \" + str(resX) + \" resY: \" + str(resY))\n",
    "\n",
    "\n",
    "deform_mesh  = True\n",
    "### number of loops over the deform mesh function to deform the mesh to the boundary\n",
    "refinement_steps = 2\n",
    "### perfect mesh deform not working\n",
    "perfect_mesh = False"
   ]
  },
  {
   "cell_type": "code",
   "execution_count": 3,
   "id": "cffd05d3",
   "metadata": {
    "execution": {
     "iopub.execute_input": "2023-11-22T10:39:13.271431Z",
     "iopub.status.busy": "2023-11-22T10:39:13.271358Z",
     "iopub.status.idle": "2023-11-22T10:39:13.273371Z",
     "shell.execute_reply": "2023-11-22T10:39:13.273160Z",
     "shell.execute_reply.started": "2023-11-22T10:39:13.271424Z"
    }
   },
   "outputs": [],
   "source": [
    "if deform_mesh:\n",
    "    outputPath = f'./output/SachauEtAl2022-ExpB_deformedMesh_resx={resX}_resy={resY}/'\n",
    "if perfect_mesh:\n",
    "     outputPath = f'./output/SachauEtAl2022-ExpB_perfectMesh_resx={resX}_resy={resY}/'\n",
    "else:\n",
    "    outputPath = f'./output/SachauEtAl2022-ExpB_normalMesh_resx={resX}_resy={resY}/'\n",
    "\n",
    "if uw.mpi.rank==0:      \n",
    "    ### create folder if not run before\n",
    "    if not os.path.exists(outputPath):\n",
    "        os.makedirs(outputPath)"
   ]
  },
  {
   "cell_type": "code",
   "execution_count": 4,
   "id": "313b03f9",
   "metadata": {
    "execution": {
     "iopub.execute_input": "2023-11-22T10:39:13.273687Z",
     "iopub.status.busy": "2023-11-22T10:39:13.273628Z",
     "iopub.status.idle": "2023-11-22T10:39:13.279780Z",
     "shell.execute_reply": "2023-11-22T10:39:13.279569Z",
     "shell.execute_reply.started": "2023-11-22T10:39:13.273680Z"
    }
   },
   "outputs": [
    {
     "data": {
      "text/html": [
       "<table><tr><td>[mass]</td><td>5.55646203340956e+29 kilogram</td></tr><tr><td>[length]</td><td>5000.0 meter</td></tr><tr><td>[temperature]</td><td>1.0 kelvin</td></tr><tr><td>[time]</td><td>1577880000.0 second</td></tr><tr><td>[substance]</td><td>1.0 mole</td></tr></table>"
      ],
      "text/plain": [
       "{'[length]': 5000.0 <Unit('meter')>,\n",
       " '[mass]': 5.55646203340956e+29 <Unit('kilogram')>,\n",
       " '[time]': 1577880000.0 <Unit('second')>,\n",
       " '[temperature]': 1.0 <Unit('kelvin')>,\n",
       " '[substance]': 1.0 <Unit('mole')>}"
      ]
     },
     "execution_count": 4,
     "metadata": {},
     "output_type": "execute_result"
    }
   ],
   "source": [
    "#import unit registry\n",
    "u = uw.scaling.units\n",
    "nd = uw.scaling.non_dimensionalise\n",
    "dim = uw.scaling.dimensionalise\n",
    "\n",
    "#set reference values\n",
    "length    = maxX   # length of domain in metres \n",
    "height    = maxY   # height of domain in metres\n",
    "density   = 910    # density of water in kg/m^3\n",
    "viscosity = 1e14   # viscosity of ice in Pa.s\n",
    "vel       = 100    # velocity in metres/yr\n",
    "\n",
    "velocity = vel*u.meter/u.year\n",
    "bodyforce = density * u.kilogram / u.metre**3 * 9.81 * u.meter / u.second**2\n",
    "\n",
    "nd_length =  nd(length*u.meter)\n",
    "nd_height =  nd(height*u.meter)\n",
    "nd_gravity = nd(9.81 * u.meter / u.second**2)\n",
    "\n",
    "#scaling values\n",
    "lengthScale = length*u.meter\n",
    "viscosityScale = viscosity*u.pascal*u.second\n",
    "\n",
    "KLength = lengthScale.to_base_units()\n",
    "KTime = (KLength/velocity).to_base_units() \n",
    "KViscosity = viscosityScale.to_base_units()\n",
    "KM = (bodyforce * KLength**2 * KTime**2).to_base_units()\n",
    "# KM = (KViscosity * KLength * KTime).to_base_units() ### may be a better mass scaling\n",
    "scaling_coefficients = uw.scaling.get_coefficients()\n",
    "\n",
    "scaling_coefficients[\"[length]\"]      = KLength.to_base_units()\n",
    "scaling_coefficients[\"[time]\"]        = KTime.to_base_units()\n",
    "scaling_coefficients[\"[mass]\"]        = KM.to_base_units()\n",
    "scaling_coefficients"
   ]
  },
  {
   "cell_type": "code",
   "execution_count": 5,
   "id": "eaceb67f",
   "metadata": {
    "execution": {
     "iopub.execute_input": "2023-11-22T10:39:13.280247Z",
     "iopub.status.busy": "2023-11-22T10:39:13.280146Z",
     "iopub.status.idle": "2023-11-22T10:39:13.282806Z",
     "shell.execute_reply": "2023-11-22T10:39:13.282597Z",
     "shell.execute_reply.started": "2023-11-22T10:39:13.280238Z"
    },
    "lines_to_next_cell": 2
   },
   "outputs": [],
   "source": [
    "maxX = nd(L[i] * 1000. * u.meter)\n",
    "min_bed_height = nd(500.   * u.meter)        # we want a minimum of 500 m of rock beneath the ice\n",
    "omega = 2.0 * np.pi / maxX\n",
    "amplitude = nd(amplitude   * u.meter)\n",
    "average_bedthickness = nd(average_bedthickness   * u.meter) \n",
    "surface_height = average_bedthickness + amplitude + min_bed_height\n",
    "maxY = surface_height\n",
    "\n",
    "minY = minX = 0."
   ]
  },
  {
   "cell_type": "code",
   "execution_count": 6,
   "id": "25041783",
   "metadata": {
    "execution": {
     "iopub.execute_input": "2023-11-22T10:39:13.283157Z",
     "iopub.status.busy": "2023-11-22T10:39:13.283093Z",
     "iopub.status.idle": "2023-11-22T10:39:13.508725Z",
     "shell.execute_reply": "2023-11-22T10:39:13.508412Z",
     "shell.execute_reply.started": "2023-11-22T10:39:13.283149Z"
    }
   },
   "outputs": [],
   "source": [
    "cell_height = maxY / resY\n",
    "cell_width = maxX / resX\n",
    "\n",
    "mesh = uw.meshing.StructuredQuadBox(\n",
    "        elementRes=(resX, resY), minCoords=(minX, minY), maxCoords=(maxX, maxY))\n",
    "\n",
    "x, y = mesh.X\n"
   ]
  },
  {
   "cell_type": "code",
   "execution_count": 7,
   "id": "46f4cd75",
   "metadata": {
    "execution": {
     "iopub.execute_input": "2023-11-22T10:39:13.510607Z",
     "iopub.status.busy": "2023-11-22T10:39:13.510508Z",
     "iopub.status.idle": "2023-11-22T10:39:13.535540Z",
     "shell.execute_reply": "2023-11-22T10:39:13.535278Z",
     "shell.execute_reply.started": "2023-11-22T10:39:13.510597Z"
    }
   },
   "outputs": [],
   "source": [
    "vel = uw.discretisation.MeshVariable(\"U\", mesh, mesh.dim, degree=2)\n",
    "p = uw.discretisation.MeshVariable(\"P\", mesh, 1, degree=1, )\n",
    "p0 = uw.discretisation.MeshVariable(\"P0\", mesh, 1, degree=1, )\n",
    "eta = uw.discretisation.MeshVariable(\"\\eta\", mesh, 1, degree=1)\n",
    "SR = uw.discretisation.MeshVariable(\"\\dot{\\epsilon}_{II}\", mesh, 1, degree=1)\n",
    "stress = uw.discretisation.MeshVariable(\"\\tau\", mesh, 1, degree=1)\n",
    "\n"
   ]
  },
  {
   "cell_type": "code",
   "execution_count": 8,
   "id": "44e435e8",
   "metadata": {
    "execution": {
     "iopub.execute_input": "2023-11-22T10:39:13.535954Z",
     "iopub.status.busy": "2023-11-22T10:39:13.535887Z",
     "iopub.status.idle": "2023-11-22T10:39:13.652119Z",
     "shell.execute_reply": "2023-11-22T10:39:13.651796Z",
     "shell.execute_reply.started": "2023-11-22T10:39:13.535947Z"
    }
   },
   "outputs": [],
   "source": [
    "def mesh_deform(section,fixPoint,mi):\n",
    "    \n",
    "    # fixPoint: the position to be refined\n",
    "    # mi: representing the gradient of mesh resolution; the larger mi, the larger gradient\n",
    "    # generally, mi ranges from 0.1 to 3, dependnig on the resolution \n",
    " \n",
    "    # note from Till: \n",
    "    # I normalize it, because then it becomes more clear to me.\n",
    "    # normalization is not strictly necessary\n",
    "    normalize = maxY - minY\n",
    "\n",
    "    section /= normalize\n",
    "    fixPoint /= normalize\n",
    "\n",
    "    for index in range(len(section)):\n",
    "        \n",
    "        maxCoord = np.max(section)\n",
    "        minCoord = np.min(section)\n",
    "        \n",
    "        if  section[index] < fixPoint:\n",
    "            zz_sqrt = (fixPoint - section[index])**mi\n",
    "            zz_sqrt_max = (fixPoint - minCoord)**mi\n",
    "            section[index] = fixPoint - (fixPoint - section[index]) * zz_sqrt / zz_sqrt_max\n",
    "\n",
    "        if  section[index] > fixPoint:\n",
    "            zz_sqrt = (section[index] - fixPoint)**mi\n",
    "            zz_sqrt_max = (maxCoord - fixPoint)**mi\n",
    "            section[index] = fixPoint + (section[index] - fixPoint) * zz_sqrt/zz_sqrt_max        \n",
    "    \n",
    "    return (section * normalize)\n",
    "\n",
    "dx = (maxX - minX) / resX\n",
    "\n",
    "if deform_mesh:\n",
    "\n",
    "    ### keep looping over to refine the boundary\n",
    "    for i in range(refinement_steps):\n",
    "    \n",
    "        with mesh.access():\n",
    "            \n",
    "            mesh_coords = mesh.data.copy()\n",
    "    \n",
    "            for index in range(resX+1):  \n",
    "    \n",
    "                start_x = dx * index\n",
    "    \n",
    "                interface_y =  surface_height - average_bedthickness + (amplitude * np.cos(2*np.pi*start_x*0.5))\n",
    "                # interface_y =  surface_height - average_bedthickness + amplitude * np.sin(start_x * (np.pi * 2.) / (maxX-minX) )\n",
    "\n",
    "    \n",
    "                #print (start_x,interface_y)\n",
    "                #lx.append(start_x)\n",
    "                #ly.append(interface_y)\n",
    "    \n",
    "                #ind = np.where(abs(mesh.data[:,0] - start_x) < 0.01*dx)\n",
    "                ind = np.where(abs(mesh.data[:,0] - start_x) < 0.01*dx)\n",
    "                \n",
    "                # print(ind)\n",
    "    \n",
    "                mesh_coords[ind[0],1] = mesh_deform(mesh.data[ind[0],1], interface_y, 0.25)\n",
    "                \n",
    "            mesh.deform_mesh(mesh_coords)"
   ]
  },
  {
   "cell_type": "code",
   "execution_count": 9,
   "id": "7351e40b",
   "metadata": {
    "execution": {
     "iopub.execute_input": "2023-11-22T10:39:13.652636Z",
     "iopub.status.busy": "2023-11-22T10:39:13.652559Z",
     "iopub.status.idle": "2023-11-22T10:39:13.654533Z",
     "shell.execute_reply": "2023-11-22T10:39:13.654270Z",
     "shell.execute_reply.started": "2023-11-22T10:39:13.652628Z"
    }
   },
   "outputs": [],
   "source": [
    "# def mesh_deform_Ind(section,fixPoint_index,fixPoint,mi):\n",
    "    \n",
    "#     section[int(fixPoint_index)] = fixPoint\n",
    "#     seqN = len(section)\n",
    "    \n",
    "#     # fixPoint_index (int): specify the index of the section to be at the place need to be refined\n",
    "#     # fixPoint: the position to be refined\n",
    "#     # mi: representing the gradient of mesh resolution; the larger mi, the larger gradient\n",
    "#     for index in range(len(section)):\n",
    "        \n",
    "#         maxCoord = np.max(section)\n",
    "#         minCoord = np.min(section)\n",
    "        \n",
    "#         if  index < fixPoint_index:\n",
    "#             section[index] = minCoord + index*(fixPoint-minCoord)/fixPoint_index            \n",
    "#             zz_sqrt = (fixPoint-section[index])**mi\n",
    "#             zz_sqrt_max = (fixPoint-minCoord)**mi\n",
    "#             section[index] = fixPoint-(fixPoint-section[index])*zz_sqrt/zz_sqrt_max\n",
    "\n",
    "#         if  index > fixPoint_index:\n",
    "#             section[index] = fixPoint + (index-fixPoint_index)*(maxCoord-fixPoint)/(seqN-fixPoint_index-1)\n",
    "#             zz_sqrt = (section[index]-fixPoint)**mi\n",
    "#             zz_sqrt_max = (maxCoord-fixPoint)**mi\n",
    "#             section[index] =fixPoint+(section[index]-fixPoint)*zz_sqrt/zz_sqrt_max    \n",
    "            \n",
    "#     return (section)\n",
    "\n",
    "# #picswarm = uw.swarm.VoronoiIntegrationSwarm(swarm)\n",
    "# #picswarm.repopulate()\n",
    "\n",
    "# # visualise the result\n",
    "\n",
    "# if (perfect_mesh):\n",
    "    \n",
    "#     with mesh.access():\n",
    "        \n",
    "#         mesh_coords = mesh.data.copy()\n",
    "        \n",
    "#         for index in range(resX+1):  \n",
    "#             start_x = dx * index\n",
    "            \n",
    "#             interface_y =  surface_height - average_bedthickness + amplitude * np.sin(start_x * (np.pi * 2.) / (maxX-minX) )\n",
    "            \n",
    "#             ind = np.where(abs(mesh.data[:,0]-start_x)<0.01*dx)\n",
    "            \n",
    "#             mesh_coords[ind[0],1] = mesh_deform_Ind(mesh.data[ind[0],1],resY/2,interface_y,0.2)\n",
    "            \n",
    "#         mesh.deform_mesh(mesh_coords)"
   ]
  },
  {
   "cell_type": "code",
   "execution_count": 10,
   "id": "c9b6adc6",
   "metadata": {
    "execution": {
     "iopub.execute_input": "2023-11-22T10:39:13.654909Z",
     "iopub.status.busy": "2023-11-22T10:39:13.654850Z",
     "iopub.status.idle": "2023-11-22T10:39:14.355153Z",
     "shell.execute_reply": "2023-11-22T10:39:14.354898Z",
     "shell.execute_reply.started": "2023-11-22T10:39:13.654903Z"
    }
   },
   "outputs": [
    {
     "data": {
      "application/vnd.jupyter.widget-view+json": {
       "model_id": "78cee3c22ad049fdb5859e0d98af56fb",
       "version_major": 2,
       "version_minor": 0
      },
      "text/plain": [
       "Widget(value=\"<iframe src='http://localhost:61780/index.html?ui=P_0x147a09d50_0&reconnect=auto' style='width: …"
      ]
     },
     "metadata": {},
     "output_type": "display_data"
    }
   ],
   "source": [
    "if uw.mpi.size == 1:\n",
    "    import numpy as np\n",
    "    import pyvista as pv\n",
    "    import vtk\n",
    "\n",
    "    pv.global_theme.background = \"white\"\n",
    "    pv.global_theme.window_size = [1050, 500]\n",
    "    pv.global_theme.antialiasing = True\n",
    "    pv.global_theme.jupyter_backend = \"client\"\n",
    "    pv.global_theme.smooth_shading = True\n",
    "    pv.global_theme.camera[\"viewup\"] = [0.0, 1.0, 0.0]\n",
    "    pv.global_theme.camera[\"position\"] = [0.0, 0.0, 1.0]\n",
    "\n",
    "    mesh.vtk(outputPath+\"tmp_ice_mesh.vtk\")\n",
    "    pvmesh = pv.read(outputPath + \"tmp_ice_mesh.vtk\")\n",
    "\n",
    "    pl = pv.Plotter()\n",
    "\n",
    "    pl.add_mesh(\n",
    "        pvmesh,\n",
    "        \"Blue\",\n",
    "        \"wireframe\",\n",
    "        opacity=0.5,\n",
    "    )\n",
    "    # pl.add_points(point_cloud, cmap=\"coolwarm\", render_points_as_spheres=False, point_size=10, opacity=0.66)\n",
    "\n",
    "    pl.show(cpos=\"xy\")"
   ]
  },
  {
   "cell_type": "markdown",
   "id": "f40b0633",
   "metadata": {},
   "source": [
    "### Set up stokes solver"
   ]
  },
  {
   "cell_type": "code",
   "execution_count": 11,
   "id": "ba167354",
   "metadata": {
    "execution": {
     "iopub.execute_input": "2023-11-22T10:39:14.355959Z",
     "iopub.status.busy": "2023-11-22T10:39:14.355614Z",
     "iopub.status.idle": "2023-11-22T10:39:14.367243Z",
     "shell.execute_reply": "2023-11-22T10:39:14.367031Z",
     "shell.execute_reply.started": "2023-11-22T10:39:14.355949Z"
    },
    "title": "boundary conditions"
   },
   "outputs": [],
   "source": [
    "stokes = uw.systems.Stokes(mesh, velocityField=vel, pressureField=p)\n",
    "stokes.add_dirichlet_bc( [0.,0.], \"Bottom\")  # no slip on the base\n",
    "stokes.add_dirichlet_bc( [sympy.oo, 0.], \"Left\")  # no vertical velocity on symmetry plane\n",
    "stokes.add_dirichlet_bc( [sympy.oo, 0.], \"Right\")  # no vertical velocity on symmetry plane\n",
    "\n",
    "stokes.add_essential_p_bc( [-5.0], \"Left\")  # no vertical velocity on symmetry plane"
   ]
  },
  {
   "cell_type": "markdown",
   "id": "7f37438a",
   "metadata": {},
   "source": [
    "#### Set up the material distribution"
   ]
  },
  {
   "cell_type": "code",
   "execution_count": 12,
   "id": "6c31e9df",
   "metadata": {
    "execution": {
     "iopub.execute_input": "2023-11-22T10:39:14.367653Z",
     "iopub.status.busy": "2023-11-22T10:39:14.367593Z",
     "iopub.status.idle": "2023-11-22T10:39:15.041363Z",
     "shell.execute_reply": "2023-11-22T10:39:15.041115Z",
     "shell.execute_reply.started": "2023-11-22T10:39:14.367646Z"
    },
    "title": "create swarm and add material information"
   },
   "outputs": [
    {
     "data": {
      "image/png": "[encoded data removed]",
      "text/plain": [
       "<Figure size 1000x400 with 2 Axes>"
      ]
     },
     "metadata": {},
     "output_type": "display_data"
    }
   ],
   "source": [
    "swarm = uw.swarm.Swarm(mesh=mesh)\n",
    "material = uw.swarm.IndexSwarmVariable(\"M\", swarm, indices=3)\n",
    "swarm.populate()\n",
    "\n",
    "# Initialise the 'materialVariable' data to represent different materials.\n",
    "material_accommodation = 0  \t# accommodation layer, a.k.a. Sticky Air\n",
    "material_ice = 1  \t# ice, isotropic\n",
    "material_rock = 2   # rock\n",
    "\n",
    "omega = 2.0 * sympy.pi / maxX\n",
    "z_bed_function = surface_height - average_bedthickness + (amplitude * sympy.cos(omega * x*0.5) )\n",
    "# z_bed_function = surface_height - average_bedthickness + amplitude * sympy.sin(omega * x) \n",
    "\n",
    "with swarm.access(material):\n",
    "    material.data[:,0] = material_ice\n",
    "    material.data[swarm.data[:,1] <= uw.function.evalf(z_bed_function, swarm.data)] = material_rock\n",
    "\n",
    "    if uw.mpi.size == 1:\n",
    "        ### material layout\n",
    "        plt.figure(figsize=(10, 4))\n",
    "        plt.title('Material')\n",
    "        material_scatter = plt.scatter(swarm.data[:,0], swarm.data[:,1], c=material.data)\n",
    "        plt.colorbar(material_scatter)"
   ]
  },
  {
   "cell_type": "code",
   "execution_count": 13,
   "id": "30bfd4d5",
   "metadata": {
    "execution": {
     "iopub.execute_input": "2023-11-22T10:39:15.041858Z",
     "iopub.status.busy": "2023-11-22T10:39:15.041791Z",
     "iopub.status.idle": "2023-11-22T10:39:15.051816Z",
     "shell.execute_reply": "2023-11-22T10:39:15.051596Z",
     "shell.execute_reply.started": "2023-11-22T10:39:15.041851Z"
    }
   },
   "outputs": [],
   "source": [
    "stokes.constitutive_model = uw.constitutive_models.ViscousFlowModel\n",
    "# stokes.constitutive_model.Parameters.shear_viscosity_0=1\n",
    "\n",
    "surf_inclination = 0.5 * np.pi / 180 # 0.1 = Experiment D, 0.5 = Experiment B\n",
    "z_hat =  sympy.Matrix([sympy.sin(surf_inclination), - sympy.cos(surf_inclination)])\n",
    "\n",
    "air_density = nd(1*u.kilogram/u.meter**3)\n",
    "ice_density = nd(910*u.kilogram/u.meter**3)  #in kg/m^3 (need to scale?)\n",
    "rock_density = nd(2700*u.kilogram/u.meter**3)\n",
    "\n",
    "density_fn = material.createMask([air_density, ice_density, rock_density])\n",
    "\n",
    "# density_fn = sympy.Piecewise((rock_density, y <= z_bed_function ), \n",
    "#                              (ice_density, True) )\n",
    "\n",
    "buoyancy = density_fn * nd_gravity * z_hat\n",
    "\n",
    "stokes.bodyforce[0] = buoyancy[0]\n",
    "stokes.bodyforce[1] = 0 * buoyancy[1]"
   ]
  },
  {
   "cell_type": "code",
   "execution_count": 16,
   "id": "45704157",
   "metadata": {
    "execution": {
     "iopub.execute_input": "2023-11-22T10:39:15.058760Z",
     "iopub.status.busy": "2023-11-22T10:39:15.058702Z",
     "iopub.status.idle": "2023-11-22T10:39:15.073949Z",
     "shell.execute_reply": "2023-11-22T10:39:15.073679Z",
     "shell.execute_reply.started": "2023-11-22T10:39:15.058754Z"
    }
   },
   "outputs": [],
   "source": [
    "mesh.petsc_save_checkpoint(0, meshVars=[eta, SR, stress, vel, p], outputPath=outputPath)"
   ]
  },
  {
   "cell_type": "code",
   "execution_count": 17,
   "id": "6a635898",
   "metadata": {
    "execution": {
     "iopub.execute_input": "2023-11-22T10:39:15.074636Z",
     "iopub.status.busy": "2023-11-22T10:39:15.074556Z",
     "iopub.status.idle": "2023-11-22T10:39:15.077199Z",
     "shell.execute_reply": "2023-11-22T10:39:15.076951Z",
     "shell.execute_reply.started": "2023-11-22T10:39:15.074627Z"
    }
   },
   "outputs": [],
   "source": [
    "if uw.mpi.size == 1:\n",
    "    stokes.petsc_options['pc_type'] = 'lu'\n",
    "    # stokes.petsc_options['ksp_type'] = 'preonly'\n",
    "\n",
    "### see the SNES output\n",
    "stokes.petsc_options[\"snes_converged_reason\"] = None\n",
    "stokes.petsc_options[\"snes_monitor_short\"] = None"
   ]
  },
  {
   "cell_type": "code",
   "execution_count": 18,
   "id": "b6bd8bd0",
   "metadata": {
    "execution": {
     "iopub.execute_input": "2023-11-22T10:39:15.077555Z",
     "iopub.status.busy": "2023-11-22T10:39:15.077482Z",
     "iopub.status.idle": "2023-11-22T10:39:17.030523Z",
     "shell.execute_reply": "2023-11-22T10:39:17.030160Z",
     "shell.execute_reply.started": "2023-11-22T10:39:15.077547Z"
    }
   },
   "outputs": [
    {
     "name": "stdout",
     "output_type": "stream",
     "text": [
      "  0 SNES Function norm 0.304094 \n",
      "  1 SNES Function norm 8.57512e-08 \n",
      "Nonlinear  solve converged due to CONVERGED_FNORM_RELATIVE iterations 1\n"
     ]
    },
    {
     "data": {
      "text/plain": [
       "3"
      ]
     },
     "execution_count": 18,
     "metadata": {},
     "output_type": "execute_result"
    }
   ],
   "source": [
    "### initial linear solve to get initial velocity field for the NL solve\n",
    "\n",
    "sec_in_year = 3.1536e7\n",
    "air_viscosity = nd((1e6/sec_in_year)*u.pascal*u.year)\n",
    "\n",
    "rock_viscosity = nd((1e19/sec_in_year)*u.pascal*u.year)\n",
    "\n",
    "ice_viscosity = nd((1e+12 / sec_in_year) *u.pascal*u.year)\n",
    "\n",
    "\n",
    "viscosity_fn = material.createMask([air_viscosity, ice_viscosity, rock_viscosity])\n",
    "\n",
    "\n",
    "stokes.constitutive_model.Parameters.shear_viscosity_0=1. #viscosity_fn\n",
    "\n",
    "stokes.solve(zero_init_guess=True)"
   ]
  },
  {
   "cell_type": "code",
   "execution_count": 19,
   "id": "3ee1b073-f2b0-4377-8494-fb98bc437c49",
   "metadata": {
    "execution": {
     "iopub.execute_input": "2023-11-22T10:39:17.031236Z",
     "iopub.status.busy": "2023-11-22T10:39:17.031118Z",
     "iopub.status.idle": "2023-11-22T10:39:17.541544Z",
     "shell.execute_reply": "2023-11-22T10:39:17.541252Z",
     "shell.execute_reply.started": "2023-11-22T10:39:17.031220Z"
    },
    "scrolled": true
   },
   "outputs": [
    {
     "data": {
      "application/vnd.jupyter.widget-view+json": {
       "model_id": "c26cf7c4ceb442ec90e19e56f0b0f046",
       "version_major": 2,
       "version_minor": 0
      },
      "text/plain": [
       "Widget(value=\"<iframe src='http://localhost:61780/index.html?ui=P_0x284a80810_1&reconnect=auto' style='width: …"
      ]
     },
     "metadata": {},
     "output_type": "display_data"
    }
   ],
   "source": [
    "# Visuals\n",
    "\n",
    "\n",
    "import underworld3 as uw\n",
    "import pyvista as pv\n",
    "import underworld3.visualisation\n",
    "\n",
    "pl = pv.Plotter(window_size=(1000, 500))\n",
    "\n",
    "pvmesh = uw.visualisation.mesh_to_pv_mesh(mesh)\n",
    "pvmesh.point_data[\"V\"] = uw.visualisation.vector_fn_to_pv_points(pvmesh, vel.sym)\n",
    "pvmesh.point_data[\"P\"] = uw.visualisation.scalar_fn_to_pv_points(pvmesh, p.sym)\n",
    "pvmesh.point_data[\"Vmag\"] = uw.visualisation.scalar_fn_to_pv_points(pvmesh, vel.sym.dot(vel.sym))\n",
    "\n",
    "velocity_points = underworld3.visualisation.meshVariable_to_pv_cloud(vel)\n",
    "velocity_points.point_data[\"V\"] = uw.visualisation.vector_fn_to_pv_points(velocity_points, vel.sym)\n",
    "\n",
    "# point sources at cell centres for streamlines\n",
    "\n",
    "points = np.zeros((mesh._centroids.shape[0], 3))\n",
    "points[:, 0] = mesh._centroids[:, 0]\n",
    "points[:, 1] = mesh._centroids[:, 1]\n",
    "point_cloud = pv.PolyData(points)\n",
    "\n",
    "pvstream = pvmesh.streamlines_from_source(\n",
    "    point_cloud, vectors=\"V\", integration_direction=\"forward\", max_steps=1000\n",
    ")\n",
    "\n",
    "pl.add_mesh(\n",
    "    pvmesh,\n",
    "    cmap=\"coolwarm\",\n",
    "    edge_color=\"Black\",\n",
    "    show_edges=True,\n",
    "    scalars=\"P\",\n",
    "    use_transparency=False,\n",
    "    opacity=1.0,\n",
    ")\n",
    "\n",
    "pl.add_arrows(velocity_points.points, velocity_points.point_data[\"V\"], mag=1, opacity=0.75)\n",
    "# pl.add_mesh(pvstream)\n",
    "\n",
    "pl.camera.SetPosition(0.75, 0.2, 1.5)\n",
    "pl.camera.SetFocalPoint(0.75, 0.2, 0.0)\n",
    "pl.camera.SetClippingRange(1.0, 8.0)\n",
    "\n",
    "# pl.remove_scalar_bar(\"Omega\")\n",
    "# pl.remove_scalar_bar(\"mag\")\n",
    "# pl.remove_scalar_bar(\"V\")\n",
    "\n",
    "pl.show()\n",
    "\n",
    "\n"
   ]
  },
  {
   "cell_type": "code",
   "execution_count": 20,
   "id": "8ecc24a3-20b1-4d2a-b1de-8eb4a74968f3",
   "metadata": {
    "execution": {
     "iopub.execute_input": "2023-11-22T10:39:17.542030Z",
     "iopub.status.busy": "2023-11-22T10:39:17.541962Z",
     "iopub.status.idle": "2023-11-22T10:39:17.544183Z",
     "shell.execute_reply": "2023-11-22T10:39:17.543921Z",
     "shell.execute_reply.started": "2023-11-22T10:39:17.542022Z"
    }
   },
   "outputs": [
    {
     "name": "stdout",
     "output_type": "stream",
     "text": [
      "-5.0 1.513315930155076\n",
      "0.0 0.0\n"
     ]
    }
   ],
   "source": [
    "with mesh.access():\n",
    "    print(p.data.min(), p.data.max())    \n",
    "    print(p0.data.min(), p0.data.max())"
   ]
  },
  {
   "cell_type": "code",
   "execution_count": 21,
   "id": "131cc6c3-f2bb-45e6-be03-eb589ea716f7",
   "metadata": {
    "execution": {
     "iopub.execute_input": "2023-11-22T10:39:17.544665Z",
     "iopub.status.busy": "2023-11-22T10:39:17.544603Z",
     "iopub.status.idle": "2023-11-22T10:39:17.737973Z",
     "shell.execute_reply": "2023-11-22T10:39:17.737519Z",
     "shell.execute_reply.started": "2023-11-22T10:39:17.544659Z"
    }
   },
   "outputs": [
    {
     "ename": "ZeroDivisionError",
     "evalue": "division by zero",
     "output_type": "error",
     "traceback": [
      "\u001b[0;31m---------------------------------------------------------------------------\u001b[0m",
      "\u001b[0;31mZeroDivisionError\u001b[0m                         Traceback (most recent call last)",
      "Cell \u001b[0;32mIn[21], line 1\u001b[0m\n\u001b[0;32m----> 1\u001b[0m \u001b[38;5;241;43m0\u001b[39;49m\u001b[38;5;241;43m/\u001b[39;49m\u001b[38;5;241;43m0\u001b[39;49m\n",
      "\u001b[0;31mZeroDivisionError\u001b[0m: division by zero"
     ]
    }
   ],
   "source": []
  },
  {
   "cell_type": "code",
   "execution_count": null,
   "id": "be756da4",
   "metadata": {
    "execution": {
     "iopub.status.busy": "2023-11-22T10:39:17.738307Z",
     "iopub.status.idle": "2023-11-22T10:39:17.738420Z",
     "shell.execute_reply": "2023-11-22T10:39:17.738362Z",
     "shell.execute_reply.started": "2023-11-22T10:39:17.738356Z"
    }
   },
   "outputs": [],
   "source": [
    "if uw.mpi.size == 1:\n",
    "    with swarm.access(material):\n",
    "        n = 10 ### quiver nodes\n",
    "        ### material layout\n",
    "        plt.figure(figsize=(10, 4))\n",
    "        plt.title('Material')\n",
    "        material_scatter = plt.scatter(swarm.data[:,0], swarm.data[:,1], c=material.data)\n",
    "        plt.quiver(mesh._centroids[:,0][::n], mesh._centroids[:,1][::n], uw.function.evalf(vel.sym[0], mesh._centroids)[::n], uw.function.evalf(vel.sym[1], mesh._centroids)[::n])\n",
    "        plt.colorbar(material_scatter)"
   ]
  },
  {
   "cell_type": "code",
   "execution_count": null,
   "id": "dd06a710",
   "metadata": {
    "execution": {
     "iopub.status.busy": "2023-11-22T10:39:17.738802Z",
     "iopub.status.idle": "2023-11-22T10:39:17.738904Z",
     "shell.execute_reply": "2023-11-22T10:39:17.738851Z",
     "shell.execute_reply.started": "2023-11-22T10:39:17.738846Z"
    },
    "title": "assign material properties (density, viscosity)"
   },
   "outputs": [],
   "source": [
    "sec_in_year = 3.1536e7\n",
    "air_viscosity = nd((1e6/sec_in_year)*u.pascal*u.year)\n",
    "\n",
    "rock_viscosity = nd((1e19/sec_in_year)*u.pascal*u.year)\n",
    "\n",
    "minViscIce = nd((1e+10 / sec_in_year) *u.pascal*u.year)\n",
    "maxViscosityIce = nd((1e+15 / sec_in_year) *u.pascal*u.year)\n",
    "\n",
    "# ice_viscosity = nd(float(1e13/sec_in_year)*u.pascal*u.year)   #in Pa.y\n",
    "\n",
    "A = 1e-16\n",
    "n = 3.\n",
    "\n",
    "# ice_viscosity = nd((1e+12 / sec_in_year) *u.pascal*u.year)\n",
    "\n",
    "viscosityFnIceBase = nd(0.5 * (A ** (-1./n)*(dim(stokes.Unknowns.Einv2, 1/u.second).m**((1.-n) / float(n))))*(u.pascal**n)*u.year)\n",
    "ice_viscosity =  sympy.Max(sympy.Min(viscosityFnIceBase, maxViscosityIce), minViscIce) # nd((1e+12 / sec_in_year) *u.pascal*u.year) # \n",
    "viscosity_fn = material.createMask([air_viscosity, ice_viscosity, rock_viscosity])\n",
    "\n",
    "\n",
    "stokes.constitutive_model.Parameters.shear_viscosity_0=viscosity_fn"
   ]
  },
  {
   "cell_type": "code",
   "execution_count": null,
   "id": "00d065dc",
   "metadata": {
    "execution": {
     "iopub.status.busy": "2023-11-22T10:39:17.739347Z",
     "iopub.status.idle": "2023-11-22T10:39:17.739480Z",
     "shell.execute_reply": "2023-11-22T10:39:17.739428Z",
     "shell.execute_reply.started": "2023-11-22T10:39:17.739423Z"
    },
    "lines_to_next_cell": 2
   },
   "outputs": [],
   "source": [
    "### sets the  tolerance\n",
    "stokes.tolerance = 1e-6\n",
    "\n",
    "\n",
    "# Non-linear solve\n",
    "stokes.solve(zero_init_guess=False)"
   ]
  },
  {
   "cell_type": "code",
   "execution_count": null,
   "id": "60e837fb",
   "metadata": {
    "execution": {
     "iopub.status.busy": "2023-11-22T10:39:17.739819Z",
     "iopub.status.idle": "2023-11-22T10:39:17.739913Z",
     "shell.execute_reply": "2023-11-22T10:39:17.739863Z",
     "shell.execute_reply.started": "2023-11-22T10:39:17.739858Z"
    }
   },
   "outputs": [],
   "source": [
    "# hw = 0.1 * mesh.get_min_radius()\n",
    "# surface_fn = uw.maths.delta_function(y - maxY, hw)#  / uw.maths.delta_function(0.0, hw)\n",
    "# base_fn = 2 * uw.maths.delta_function(y, hw)\n",
    "# right_fn = 2 * uw.maths.delta_function(x - maxX, hw)\n",
    "# left_fn = 2 * uw.maths.delta_function(x, hw)"
   ]
  },
  {
   "cell_type": "code",
   "execution_count": null,
   "id": "2cf7877f",
   "metadata": {
    "execution": {
     "iopub.status.busy": "2023-11-22T10:39:17.740219Z",
     "iopub.status.idle": "2023-11-22T10:39:17.740310Z",
     "shell.execute_reply": "2023-11-22T10:39:17.740260Z",
     "shell.execute_reply.started": "2023-11-22T10:39:17.740256Z"
    }
   },
   "outputs": [],
   "source": [
    "# if uw.mpi.size == 1:\n",
    "#     plt.scatter(mesh.data[:,0], mesh.data[:,1], c=uw.function.evalf(surface_fn, mesh.data))"
   ]
  },
  {
   "cell_type": "code",
   "execution_count": null,
   "id": "53e510f4",
   "metadata": {
    "execution": {
     "iopub.status.busy": "2023-11-22T10:39:17.740898Z",
     "iopub.status.idle": "2023-11-22T10:39:17.740989Z",
     "shell.execute_reply": "2023-11-22T10:39:17.740941Z",
     "shell.execute_reply.started": "2023-11-22T10:39:17.740936Z"
    }
   },
   "outputs": [],
   "source": [
    "# ### calibrate pressure using surface intergrals\n",
    "# surfaceArea = uw.maths.Integral(mesh=mesh, fn=1.*surface_fn)\n",
    "\n",
    "# surfacePressure = uw.maths.Integral(mesh=mesh, fn=p.sym[0]*surface_fn)\n",
    "\n",
    "# area = surfaceArea.evaluate()\n",
    "# p0 = surfacePressure.evaluate() \n",
    "# print(f'area: {area}, pressure: {p0}')\n",
    "\n",
    "# with mesh.access(p):\n",
    "#     p.data[:] -= p0 / area\n",
    "\n",
    "# print (f'Calibration pressure {p0 / area}')"
   ]
  },
  {
   "cell_type": "code",
   "execution_count": null,
   "id": "7dda82ff",
   "metadata": {
    "execution": {
     "iopub.status.busy": "2023-11-22T10:39:17.741345Z",
     "iopub.status.idle": "2023-11-22T10:39:17.741437Z",
     "shell.execute_reply": "2023-11-22T10:39:17.741387Z",
     "shell.execute_reply.started": "2023-11-22T10:39:17.741383Z"
    }
   },
   "outputs": [],
   "source": [
    "### get the viscosity projection\n",
    "nodal_visc_calc = uw.systems.Projection(mesh, eta)\n",
    "nodal_visc_calc.uw_function = viscosity_fn\n",
    "nodal_visc_calc.smoothing = 0.001\n",
    "nodal_visc_calc.petsc_options.delValue(\"ksp_monitor\")\n",
    "nodal_visc_calc.solve(_force_setup=True)\n",
    "\n",
    "### strain rate projection\n",
    "SR_calc = uw.systems.Projection(mesh, SR)\n",
    "SR_calc.uw_function = stokes.Unknowns.Einv2\n",
    "SR_calc.smoothing = 0.001\n",
    "SR_calc.petsc_options.delValue(\"ksp_monitor\")\n",
    "SR_calc.solve(_force_setup=True)\n",
    "\n",
    "### stress projection\n",
    "stress_calc = uw.systems.Projection(mesh, stress)\n",
    "stress_calc.uw_function = stokes.stress_1d[2]  ### is this the shear stress?\n",
    "# stress_calc.uw_function = 2*stokes.Unknowns.Einv2*viscosity_fn\n",
    "stress_calc.smoothing = 0.001\n",
    "stress_calc.petsc_options.delValue(\"ksp_monitor\")\n",
    "stress_calc.solve(_force_setup=True)"
   ]
  },
  {
   "cell_type": "code",
   "execution_count": null,
   "id": "d9ed313a",
   "metadata": {
    "execution": {
     "iopub.status.busy": "2023-11-22T10:39:17.741858Z",
     "iopub.status.idle": "2023-11-22T10:39:17.741947Z",
     "shell.execute_reply": "2023-11-22T10:39:17.741898Z",
     "shell.execute_reply.started": "2023-11-22T10:39:17.741894Z"
    }
   },
   "outputs": [],
   "source": [
    "mesh.petsc_save_checkpoint(1, meshVars=[eta, SR, stress, vel, p], outputPath=outputPath)"
   ]
  },
  {
   "cell_type": "code",
   "execution_count": null,
   "id": "d9171de2",
   "metadata": {
    "execution": {
     "iopub.status.busy": "2023-11-22T10:39:17.742410Z",
     "iopub.status.idle": "2023-11-22T10:39:17.742558Z",
     "shell.execute_reply": "2023-11-22T10:39:17.742509Z",
     "shell.execute_reply.started": "2023-11-22T10:39:17.742504Z"
    }
   },
   "outputs": [],
   "source": [
    "if uw.mpi.size == 1:\n",
    "    with swarm.access(material):\n",
    "        n = 10 ### quiver nodes\n",
    "        ### material layout\n",
    "        plt.figure(figsize=(10, 4))\n",
    "        plt.title('Material')\n",
    "        material_scatter = plt.scatter(swarm.data[:,0], swarm.data[:,1], c=material.data)\n",
    "        plt.quiver(mesh._centroids[:,0][::n], mesh._centroids[:,1][::n], uw.function.evalf(vel.sym[0], mesh._centroids)[::n], uw.function.evalf(vel.sym[1], mesh._centroids)[::n])\n",
    "        plt.colorbar(material_scatter)\n",
    "        ### Density distribution\n",
    "        plt.figure(figsize=(10, 4))\n",
    "        plt.title('Density [kg/m$^{-3}$]')\n",
    "        density_scatter = plt.scatter(swarm.data[:,0], swarm.data[:,1], c=dim(uw.function.evalf(density_fn, swarm.data), u.kilogram/u.meter**3).m)\n",
    "        plt.quiver(mesh._centroids[:,0][::n], mesh._centroids[:,1][::n], uw.function.evalf(vel.sym[0], mesh._centroids)[::n], uw.function.evalf(vel.sym[1], mesh._centroids)[::n])\n",
    "        plt.colorbar(density_scatter)\n",
    "        ### viscosity\n",
    "        plt.figure(figsize=(10, 4))\n",
    "        plt.title('log viscosity [Pa yr]')\n",
    "        visc_scatter = plt.scatter(swarm.data[:,0], swarm.data[:,1], c=np.log10(dim(uw.function.evalf(eta.sym[0], swarm.data), u.pascal*u.year).m))\n",
    "        plt.quiver(mesh._centroids[:,0][::n], mesh._centroids[:,1][::n], uw.function.evalf(vel.sym[0], mesh._centroids)[::n], uw.function.evalf(vel.sym[1], mesh._centroids)[::n])\n",
    "        plt.colorbar(visc_scatter)\n",
    "        ### SR\n",
    "        plt.figure(figsize=(10, 4))\n",
    "        plt.title('log strain rate [s$^{-1}$]')\n",
    "        visc_scatter = plt.scatter(swarm.data[:,0], swarm.data[:,1], c=np.log10(dim(uw.function.evalf(SR.sym[0], swarm.data), 1/u.second).m))\n",
    "        plt.quiver(mesh._centroids[:,0][::n], mesh._centroids[:,1][::n], uw.function.evalf(vel.sym[0], mesh._centroids)[::n], uw.function.evalf(vel.sym[1], mesh._centroids)[::n])\n",
    "        plt.colorbar(visc_scatter)\n",
    "        ### stress\n",
    "        plt.figure(figsize=(10, 4))\n",
    "        plt.title('stress [MPa]')\n",
    "        visc_scatter = plt.scatter(swarm.data[:,0], swarm.data[:,1], c=(dim(uw.function.evalf(stress.sym[0], swarm.data), u.pascal).m)/1e6)\n",
    "        plt.quiver(mesh._centroids[:,0][::n], mesh._centroids[:,1][::n], uw.function.evalf(vel.sym[0], mesh._centroids)[::n], uw.function.evalf(vel.sym[1], mesh._centroids)[::n])\n",
    "        plt.colorbar(visc_scatter)\n",
    "\n",
    "        ### stress\n",
    "        plt.figure(figsize=(10, 4))\n",
    "        plt.title('Pressure [MPa]')\n",
    "        visc_scatter = plt.scatter(swarm.data[:,0], swarm.data[:,1], c=(dim(uw.function.evalf(p.sym[0], swarm.data), u.pascal).m)/1e6)\n",
    "        plt.quiver(mesh._centroids[:,0][::n], mesh._centroids[:,1][::n], uw.function.evalf(vel.sym[0], mesh._centroids)[::n], uw.function.evalf(vel.sym[1], mesh._centroids)[::n])\n",
    "        plt.colorbar(visc_scatter)\n",
    "    \n",
    "    "
   ]
  },
  {
   "cell_type": "code",
   "execution_count": null,
   "id": "cb65bd21",
   "metadata": {},
   "outputs": [],
   "source": []
  },
  {
   "cell_type": "code",
   "execution_count": null,
   "id": "191216e6",
   "metadata": {},
   "outputs": [],
   "source": []
  }
 ],
 "metadata": {
  "jupytext": {
   "cell_metadata_filter": "title,-all",
   "main_language": "python",
   "notebook_metadata_filter": "-all"
  },
  "kernelspec": {
   "display_name": "Python 3 (ipykernel)",
   "language": "python",
   "name": "python3"
  },
  "language_info": {
   "codemirror_mode": {
    "name": "ipython",
    "version": 3
   },
   "file_extension": ".py",
   "mimetype": "text/x-python",
   "name": "python",
   "nbconvert_exporter": "python",
   "pygments_lexer": "ipython3",
   "version": "3.11.5"
  }
 },
 "nbformat": 4,
 "nbformat_minor": 5
}
