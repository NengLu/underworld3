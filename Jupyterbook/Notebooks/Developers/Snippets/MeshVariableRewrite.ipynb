{
 "cells": [
  {
   "cell_type": "code",
   "execution_count": 1,
   "id": "06f76d86-e270-446a-ac74-6b555ac8f9de",
   "metadata": {},
   "outputs": [],
   "source": [
    "# %%\n",
    "import petsc4py\n",
    "from petsc4py import PETSc\n",
    "import os\n",
    "os.environ[\"UW_TIMING_ENABLE\"] = \"1\"\n",
    "\n",
    "## --- Underworld\n",
    "\n",
    "import underworld3 as uw\n",
    "from underworld3.systems import Stokes\n",
    "from underworld3 import function\n",
    "from underworld3 import timing\n",
    "\n",
    "import numpy as np\n",
    "import sympy\n",
    "\n",
    "from underworld3.coordinates import CoordinateSystem, CoordinateSystemType\n",
    "from underworld3.cython import petsc_discretisation\n",
    "\n",
    "\n"
   ]
  },
  {
   "cell_type": "code",
   "execution_count": 2,
   "id": "86d90661-a516-4286-9cab-dfe625495e24",
   "metadata": {},
   "outputs": [],
   "source": [
    "n_els = 4\n",
    "mesh = uw.meshing.UnstructuredSimplexBox(\n",
    "    minCoords=(0.0, 0.0), maxCoords=(1.0, 1.0), cellSize=1 / n_els, \n",
    "    qdegree=3, refinement=3\n",
    ")\n",
    "\n",
    "mesh.dmVars = mesh.dm.clone()"
   ]
  },
  {
   "cell_type": "code",
   "execution_count": 3,
   "id": "4bfc3b60-37f7-4354-bc62-64b62c8207b1",
   "metadata": {},
   "outputs": [],
   "source": [
    "class meshVarProto(uw._api_tools.uw_object):\n",
    "    \"\"\"\n",
    "    Mesh Variable Rewrite Test Classs\n",
    "    \"\"\"\n",
    "\n",
    "    def __init__(self, mesh, name):\n",
    "\n",
    "        import re\n",
    "\n",
    "        # Notes:\n",
    "        #    holding a local dm for the variable\n",
    "\n",
    "\n",
    "        self.mesh = mesh\n",
    "        self.name = name\n",
    "        self.clean_name = re.sub(r\"[^a-zA-Z0-9_]\", \"\", name)\n",
    "\n",
    "        self.dm = self.mesh.dm.clone()\n",
    "        self.num_components = 2\n",
    "\n",
    "        dim = self.mesh.dim\n",
    "\n",
    "        \n",
    "        petsc_fe = PETSc.FE().createDefault(\n",
    "            dim,\n",
    "            self.num_components,\n",
    "            self.mesh.isSimplex,\n",
    "            self.mesh.qdegree,\n",
    "            name + \"_\",\n",
    "            PETSc.COMM_WORLD,\n",
    "        )\n",
    "\n",
    "        # global\n",
    "        # self.field_id = self.mesh.dm.getNumFields()\n",
    "        # self.mesh.dm.setField(self.field_id, petsc_fe)\n",
    "        # field, _ = self.mesh.dm.getField(self.field_id)\n",
    "        # field.setName(self.clean_name)\n",
    "\n",
    "        # local\n",
    "        self.field_id = self.dm.getNumFields()\n",
    "        self.dm.setField(self.field_id, petsc_fe)\n",
    "        field, _ = self.dm.getField(self.field_id)\n",
    "        field.setName(self.clean_name)\n",
    "\n",
    "        self._lvec = self.dm.createLocalVec()\n",
    "        \n",
    "        \n",
    "\n",
    "        return"
   ]
  },
  {
   "cell_type": "code",
   "execution_count": 4,
   "id": "e20141cf-b7fe-46be-8795-2d489f6a6128",
   "metadata": {},
   "outputs": [],
   "source": [
    "meshVar1 = meshVarProto(mesh, \"testVar1\")\n",
    "meshVar2 = meshVarProto(mesh, \"testVar2\")\n",
    "meshVar3 = meshVarProto(mesh, \"testVar3\")"
   ]
  },
  {
   "cell_type": "code",
   "execution_count": 5,
   "id": "da5e0d3c-af0d-415c-8ab9-ad625278c81c",
   "metadata": {},
   "outputs": [],
   "source": [
    "mesh.dmVars.addField(meshVar1.dm.getField(meshVar1.field_id)[0], None)\n",
    "mesh.dmVars.addField(meshVar2.dm.getField(meshVar2.field_id)[0], None)\n",
    "mesh.dmVars.addField(meshVar3.dm.getField(meshVar3.field_id)[0], None)\n",
    "\n",
    "mesh.dm.addField(meshVar1.dm.getField(meshVar1.field_id)[0], None)\n",
    "mesh.dm.addField(meshVar2.dm.getField(meshVar2.field_id)[0], None)\n",
    "mesh.dm.addField(meshVar3.dm.getField(meshVar3.field_id)[0], None)\n",
    "\n",
    "mesh.dm_h.addField(meshVar1.dm.getField(meshVar1.field_id)[0], None)\n",
    "mesh.dm_h.addField(meshVar2.dm.getField(meshVar2.field_id)[0], None)\n",
    "mesh.dm_h.addField(meshVar3.dm.getField(meshVar3.field_id)[0], None)\n",
    "\n"
   ]
  },
  {
   "cell_type": "code",
   "execution_count": 6,
   "id": "03109c69-38c6-4689-845a-63142cbb176a",
   "metadata": {},
   "outputs": [
    {
     "name": "stdout",
     "output_type": "stream",
     "text": [
      "<petsc4py.PETSc.Vec object at 0x11b995ee0>\n",
      "<petsc4py.PETSc.Vec object at 0x11b995c60>\n"
     ]
    }
   ],
   "source": [
    "print(meshVar1._lvec)\n",
    "print(meshVar2._lvec)"
   ]
  },
  {
   "cell_type": "code",
   "execution_count": 7,
   "id": "3aa309f3-1dff-4fc0-b831-ca9c6705bba4",
   "metadata": {},
   "outputs": [],
   "source": [
    "meshVar1._lvec.setArray(1)\n",
    "meshVar2._lvec.setArray(2)"
   ]
  },
  {
   "cell_type": "code",
   "execution_count": 8,
   "id": "b681d74e-a8f5-46ac-8f55-47981db27350",
   "metadata": {},
   "outputs": [
    {
     "data": {
      "text/plain": [
       "(['testVar1', 'testVar2', 'testVar3'],\n",
       " [<petsc4py.PETSc.IS at 0x11b8444a0>,\n",
       "  <petsc4py.PETSc.IS at 0x10f9421b0>,\n",
       "  <petsc4py.PETSc.IS at 0x11b8b2930>],\n",
       " [<petsc4py.PETSc.DMPlex at 0x10f97f790>,\n",
       "  <petsc4py.PETSc.DMPlex at 0x10f97c040>,\n",
       "  <petsc4py.PETSc.DMPlex at 0x10f0f19e0>])"
      ]
     },
     "execution_count": 8,
     "metadata": {},
     "output_type": "execute_result"
    }
   ],
   "source": [
    "mesh.dmVars.createFieldDecomposition()"
   ]
  },
  {
   "cell_type": "code",
   "execution_count": 9,
   "id": "cb5e1e6e-3617-475e-85ca-820993e4903c",
   "metadata": {},
   "outputs": [],
   "source": [
    "mesh.dm_h.createDS()\n",
    "\n",
    "mesh.dm_h.copyDS(mesh.dm_h.getCoarseDM())\n",
    "cds = mesh.dm_h.getCoarseDM().getDS()\n",
    "\n",
    "\n",
    "# mesh.dm_h.createFieldDecomposition()"
   ]
  },
  {
   "cell_type": "code",
   "execution_count": 10,
   "id": "f3a3ddfc-957d-4a5e-8856-e5ac141fd2be",
   "metadata": {},
   "outputs": [
    {
     "ename": "TypeError",
     "evalue": "copyDisc() takes exactly 1 positional argument (0 given)",
     "output_type": "error",
     "traceback": [
      "\u001b[0;31m---------------------------------------------------------------------------\u001b[0m",
      "\u001b[0;31mTypeError\u001b[0m                                 Traceback (most recent call last)",
      "Cell \u001b[0;32mIn[10], line 1\u001b[0m\n\u001b[0;32m----> 1\u001b[0m \u001b[43mmesh\u001b[49m\u001b[38;5;241;43m.\u001b[39;49m\u001b[43mdm_h\u001b[49m\u001b[38;5;241;43m.\u001b[39;49m\u001b[43mcopyDisc\u001b[49m\u001b[43m(\u001b[49m\u001b[43m)\u001b[49m\n\u001b[1;32m      2\u001b[0m mesh\u001b[38;5;241m.\u001b[39mdm_h\u001b[38;5;241m.\u001b[39mgetCoarseDM()\u001b[38;5;241m.\u001b[39mclone()\u001b[38;5;241m.\u001b[39mview()\n",
      "File \u001b[0;32mpetsc4py/PETSc/DM.pyx:727\u001b[0m, in \u001b[0;36mpetsc4py.PETSc.DM.copyDisc\u001b[0;34m()\u001b[0m\n",
      "\u001b[0;31mTypeError\u001b[0m: copyDisc() takes exactly 1 positional argument (0 given)"
     ]
    }
   ],
   "source": []
  },
  {
   "cell_type": "code",
   "execution_count": null,
   "id": "3a7d4b97-0fe8-4e66-8a04-79584635f52e",
   "metadata": {},
   "outputs": [],
   "source": [
    "dm0 = mesh.dm_h\n",
    "for i in range(mesh.dm_h.getRefineLevel()):\n",
    "        cdm = dm0.getCoarseDM()\n",
    "        mesh.dm_h.copyFields(cdm)\n",
    "        dm0 = cdm\n"
   ]
  },
  {
   "cell_type": "code",
   "execution_count": null,
   "id": "636dd445-c32a-47b0-8886-b9b103385f50",
   "metadata": {},
   "outputs": [],
   "source": [
    "mesh.dm_h.createFieldDecomposition()"
   ]
  },
  {
   "cell_type": "code",
   "execution_count": null,
   "id": "e78f5578-a243-46c6-9eb2-4dbe9f3f6445",
   "metadata": {},
   "outputs": [],
   "source": []
  },
  {
   "cell_type": "code",
   "execution_count": 11,
   "id": "2b564772-92cb-4803-b3ba-c4b5de9627b6",
   "metadata": {},
   "outputs": [],
   "source": [
    "nvec = meshVar1._lvec.copy()"
   ]
  },
  {
   "cell_type": "code",
   "execution_count": 12,
   "id": "1597161b-9f5a-4f2b-a64d-3859b657a460",
   "metadata": {},
   "outputs": [],
   "source": [
    "nvec = nvec.createNest((meshVar1._lvec, meshVar2._lvec), None, None)"
   ]
  },
  {
   "cell_type": "code",
   "execution_count": 13,
   "id": "b0f19966-3c5a-46c5-ba9c-626c9383ae4b",
   "metadata": {},
   "outputs": [
    {
     "data": {
      "text/plain": [
       "[<petsc4py.PETSc.Vec at 0x11b847c90>, <petsc4py.PETSc.Vec at 0x11b847c40>]"
      ]
     },
     "execution_count": 13,
     "metadata": {},
     "output_type": "execute_result"
    }
   ],
   "source": [
    "nvec.getNestSubVecs()"
   ]
  },
  {
   "cell_type": "code",
   "execution_count": 14,
   "id": "8062be39-013d-4d38-965d-412a87cc7f87",
   "metadata": {},
   "outputs": [
    {
     "data": {
      "text/plain": [
       "array([1., 1., 1., ..., 2., 2., 2.])"
      ]
     },
     "execution_count": 14,
     "metadata": {},
     "output_type": "execute_result"
    }
   ],
   "source": [
    "nvec.array"
   ]
  },
  {
   "cell_type": "code",
   "execution_count": null,
   "id": "ff051be1-61cd-4684-8c93-abc2c1c4acbb",
   "metadata": {},
   "outputs": [],
   "source": []
  }
 ],
 "metadata": {
  "kernelspec": {
   "display_name": "Python 3 (ipykernel)",
   "language": "python",
   "name": "python3"
  },
  "language_info": {
   "codemirror_mode": {
    "name": "ipython",
    "version": 3
   },
   "file_extension": ".py",
   "mimetype": "text/x-python",
   "name": "python",
   "nbconvert_exporter": "python",
   "pygments_lexer": "ipython3",
   "version": "3.11.4"
  }
 },
 "nbformat": 4,
 "nbformat_minor": 5
}
