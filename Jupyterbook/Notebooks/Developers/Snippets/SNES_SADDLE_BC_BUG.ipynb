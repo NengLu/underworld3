{
 "cells": [
  {
   "cell_type": "markdown",
   "id": "c8475782-0583-441b-aed8-26c89d7796b7",
   "metadata": {},
   "source": [
    "# Bug / Issue\n",
    "\n",
    "Boundary conditions that are JIT functions are not correctly handled by the \n",
    "saddle point solver. These work for Poisson / Poisson-Vector problems just fine\n",
    "but something seems to go wrong during the SNES solve for saddle point problems.\n",
    "\n",
    "Sometimes this seems to be true for sympy functions, sometimes not, but it is \n",
    "reproducible if the uw function is a mesh variable of any kind. \n",
    "\n",
    "In the example below, this fails for the saddle point system.\n",
    "```\n",
    "incompressible_vector_projection.add_dirichlet_bc( (s_soln.fn,0.0), \"Bottom\" , (1,) )\n",
    "```\n",
    "but this works\n",
    "```\n",
    "incompressible_vector_projection.add_dirichlet_bc( (0.0,0.0), \"Bottom\" , (1,) )\n",
    "```\n",
    "and apparently, so does a sympy function of x,y that must also be compiled. "
   ]
  },
  {
   "cell_type": "code",
   "execution_count": 1,
   "id": "1f7c18d8-d76e-43e5-8db3-68b5a66a9b63",
   "metadata": {},
   "outputs": [],
   "source": [
    "import petsc4py\n",
    "import underworld3 as uw\n",
    "import numpy as np"
   ]
  },
  {
   "cell_type": "code",
   "execution_count": 2,
   "id": "f3cdcb9e-c170-4041-a316-a21844b3cb93",
   "metadata": {},
   "outputs": [],
   "source": [
    "meshbox = uw.meshing.UnstructuredSimplexBox(\n",
    "                                             minCoords=(0.0,0.0), \n",
    "                                             maxCoords=(1.0,1.0), \n",
    "                                             cellSize=1.0/32.0, \n",
    "                                             regular=True)"
   ]
  },
  {
   "cell_type": "code",
   "execution_count": 3,
   "id": "63bc2676-f4e8-4824-92fa-ed5155cf356d",
   "metadata": {},
   "outputs": [],
   "source": [
    "# Doesn't matter which element type - this one is also broken !\n",
    "# meshbox = uw.util_mesh.StructuredQuadBox(\n",
    "#                                            minCoords=(0.0,0.0), \n",
    "#                                            maxCoords=(1.0,1.0), \n",
    "#                                            elementRes=(32,32)\n",
    "# )"
   ]
  },
  {
   "cell_type": "code",
   "execution_count": 4,
   "id": "6095c48b-080e-4895-b2d6-4db8247e2bd9",
   "metadata": {},
   "outputs": [],
   "source": [
    "import sympy\n",
    "\n",
    "# Some useful coordinate stuff \n",
    "\n",
    "x = meshbox.N.x\n",
    "y = meshbox.N.y\n",
    "z = meshbox.N.z"
   ]
  },
  {
   "cell_type": "code",
   "execution_count": 5,
   "id": "25ba24c2-2c72-46d4-b58a-b66ebc30f511",
   "metadata": {},
   "outputs": [],
   "source": [
    "# Project values from a swarm to a mesh variable (with bcs)\n",
    "\n",
    "swarm  = uw.swarm.Swarm(mesh=meshbox)\n",
    "s_values  = uw.swarm.SwarmVariable(r\"S^{s}\", swarm, 1,           proxy_degree=1)\n",
    "v_values  = uw.swarm.SwarmVariable(r\"V^{s}\", swarm, meshbox.dim, proxy_degree=1)\n",
    "iv_values = uw.swarm.SwarmVariable(r\"V^{i}\", swarm, meshbox.dim, proxy_degree=1)\n",
    "\n",
    "swarm.populate(fill_param=3)"
   ]
  },
  {
   "cell_type": "code",
   "execution_count": 6,
   "id": "8333cd63-1a39-4f4d-97e0-4451510e0a7e",
   "metadata": {},
   "outputs": [],
   "source": [
    "s_soln  = uw.discretisation.MeshVariable(\"T\",    meshbox,  1,            degree=2 )\n",
    "v_soln  = uw.discretisation.MeshVariable('U',    meshbox,  meshbox.dim,  degree=2 )\n",
    "iv_soln = uw.discretisation.MeshVariable(r'U^{i}',   meshbox,  meshbox.dim,  degree=2 )"
   ]
  },
  {
   "cell_type": "code",
   "execution_count": 7,
   "id": "d472fd88-b867-4661-8308-5ba3c9872dc7",
   "metadata": {},
   "outputs": [],
   "source": [
    "s_fn = sympy.cos(5.0*sympy.pi * x) * sympy.cos(5.0*sympy.pi * y)\n",
    "sv_fn = meshbox.vector.gradient(s_fn)"
   ]
  },
  {
   "cell_type": "code",
   "execution_count": 8,
   "id": "879ed7cd-9db9-4426-a625-82809f9f03aa",
   "metadata": {},
   "outputs": [],
   "source": [
    "vector_projection = uw.systems.Vector_Projection(meshbox, v_soln)\n",
    "vector_projection.uw_function = v_values.sym\n",
    "vector_projection.smoothing = 1.0e-3\n",
    "\n",
    "# Velocity boundary conditions (compare left / right walls in the soln !)\n",
    "\n",
    "vector_projection.add_dirichlet_bc( (0.0,), \"Left\" ,   (0,) )\n",
    "vector_projection.add_dirichlet_bc( (0.0,), \"Right\" ,  (0,) )\n",
    "vector_projection.add_dirichlet_bc( (0.0,), \"Top\" ,    (1,) )\n",
    "vector_projection.add_dirichlet_bc( (s_soln.fn, ), \"Bottom\" , (1,) )"
   ]
  },
  {
   "cell_type": "code",
   "execution_count": 148,
   "id": "89a9e966-bd54-4182-8c1c-28cee261fff1",
   "metadata": {},
   "outputs": [],
   "source": [
    "# try to enforce incompressibility\n",
    "\n",
    "incompressible_vector_projection = uw.systems.Vector_Projection(meshbox, iv_soln)\n",
    "incompressible_vector_projection.uw_function =  iv_values.sym \n",
    "incompressible_vector_projection.smoothing = 1.0e-3\n",
    "incompressible_vector_projection.penalty = 0.1\n",
    "\n",
    "\n",
    "# Velocity boundary conditions (compare left / right walls in the soln !)\n",
    "incompressible_vector_projection.add_dirichlet_bc( (0.0,), \"Left\" ,   (0,) )\n",
    "incompressible_vector_projection.add_dirichlet_bc( (0.0,), \"Right\" ,  (0,) )\n",
    "incompressible_vector_projection.add_dirichlet_bc( (0.0,), \"Top\" ,    (1,) )\n",
    "incompressible_vector_projection.add_dirichlet_bc( (s_soln.fn, ), \"Bottom\" , (1,) )"
   ]
  },
  {
   "cell_type": "code",
   "execution_count": 149,
   "id": "74fc6890-96bb-49ba-a416-76ea6a9de820",
   "metadata": {},
   "outputs": [],
   "source": [
    "with swarm.access(s_values, v_values, iv_values):\n",
    "    s_values.data[:,0]  = uw.function.evaluate(s_fn, swarm.data, meshbox.N)    \n",
    "    v_values.data[:,0]  = uw.function.evaluate(sympy.cos(5.0*sympy.pi * x) * sympy.cos(5.0*sympy.pi * y), swarm.data, meshbox.N)    \n",
    "    v_values.data[:,1]  = uw.function.evaluate(sympy.sin(5.0*sympy.pi * x) * sympy.sin(5.0*sympy.pi * y), swarm.data, meshbox.N)\n",
    "    iv_values.data[:,0] = uw.function.evaluate(sympy.cos(5.0*sympy.pi * x) * sympy.cos(5.0*sympy.pi * y), swarm.data, meshbox.N)    \n",
    "    iv_values.data[:,1] = uw.function.evaluate(sympy.sin(5.0*sympy.pi * x) * sympy.sin(5.0*sympy.pi * y), swarm.data, meshbox.N)  "
   ]
  },
  {
   "cell_type": "code",
   "execution_count": 150,
   "id": "12ee45fa-8761-4b7e-a7d4-3f5fd5dcddf3",
   "metadata": {},
   "outputs": [
    {
     "name": "stdout",
     "output_type": "stream",
     "text": [
      "  0 SNES Function norm 0.0118698 \n",
      "    Residual norms for VProj1_ solve.\n",
      "    0 KSP Residual norm 1.392220571848e+01 \n",
      "    1 KSP Residual norm 4.900683122602e+00 \n",
      "    2 KSP Residual norm 1.728220770654e+00 \n",
      "    3 KSP Residual norm 5.757358561194e-01 \n",
      "    4 KSP Residual norm 1.833726892815e-01 \n",
      "    5 KSP Residual norm 5.599747892341e-02 \n",
      "    6 KSP Residual norm 1.864311192547e-02 \n",
      "    7 KSP Residual norm 6.664052519993e-03 \n",
      "  1 SNES Function norm 1.13607e-05 \n",
      "Nonlinear VProj1_ solve converged due to CONVERGED_FNORM_RELATIVE iterations 1\n"
     ]
    }
   ],
   "source": [
    "vector_projection.solve()"
   ]
  },
  {
   "cell_type": "code",
   "execution_count": 151,
   "id": "7205e0b7-0108-4a4c-b288-c76deb195d2e",
   "metadata": {},
   "outputs": [
    {
     "data": {
      "text/plain": [
       "{'_private_petscspace_degree': '2',\n",
       " 'ksp_monitor': None,\n",
       " 'ksp_rtol': '0.001',\n",
       " 'ksp_type': 'gmres',\n",
       " 'pc_gamg_agg_nsmooths': '3',\n",
       " 'pc_gamg_threshold': '0.5',\n",
       " 'pc_gamg_type': 'agg',\n",
       " 'pc_type': 'gamg',\n",
       " 'snes_converged_reason': None,\n",
       " 'snes_monitor_short': None,\n",
       " 'snes_rtol': '0.001',\n",
       " 'snes_type': 'newtonls'}"
      ]
     },
     "metadata": {},
     "output_type": "display_data"
    }
   ],
   "source": [
    "options = incompressible_vector_projection.petsc_options\n",
    "options.setValue(\"pc_gamg_type\",\"agg\")\n",
    "options.setValue(\"pc_gamg_agg_nsmooths\", 3)\n",
    "options.setValue(\"pc_gamg_threshold\", 0.5)\n",
    "\n",
    "display(options.getAll())\n"
   ]
  },
  {
   "cell_type": "code",
   "execution_count": 152,
   "id": "f807ceaa-82ef-444c-950a-c941a265d738",
   "metadata": {},
   "outputs": [
    {
     "name": "stdout",
     "output_type": "stream",
     "text": [
      "  0 SNES Function norm 0.0855145 \n",
      "    Residual norms for VProj8_ solve.\n",
      "    0 KSP Residual norm 1.115778703468e+00 \n",
      "    1 KSP Residual norm 2.699438660212e-01 \n",
      "    2 KSP Residual norm 1.783773001972e-01 \n",
      "    3 KSP Residual norm 1.492752279043e-01 \n",
      "    4 KSP Residual norm 1.332733836869e-01 \n",
      "    5 KSP Residual norm 1.268237135425e-01 \n",
      "    6 KSP Residual norm 1.198304145166e-01 \n",
      "    7 KSP Residual norm 1.093078849498e-01 \n",
      "    8 KSP Residual norm 9.802976505269e-02 \n",
      "    9 KSP Residual norm 8.469861120689e-02 \n",
      "   10 KSP Residual norm 6.781064273374e-02 \n",
      "   11 KSP Residual norm 5.562264544260e-02 \n",
      "   12 KSP Residual norm 4.620714667808e-02 \n",
      "   13 KSP Residual norm 3.799623848321e-02 \n",
      "   14 KSP Residual norm 3.230575212587e-02 \n",
      "   15 KSP Residual norm 2.787760673976e-02 \n",
      "   16 KSP Residual norm 2.338353018285e-02 \n",
      "   17 KSP Residual norm 2.029355122979e-02 \n",
      "   18 KSP Residual norm 1.731700696200e-02 \n",
      "   19 KSP Residual norm 1.509953581749e-02 \n",
      "   20 KSP Residual norm 1.301171471401e-02 \n",
      "   21 KSP Residual norm 1.131134104913e-02 \n",
      "   22 KSP Residual norm 9.860933507081e-03 \n",
      "   23 KSP Residual norm 8.792186384110e-03 \n",
      "   24 KSP Residual norm 7.828481952245e-03 \n",
      "   25 KSP Residual norm 6.896850289947e-03 \n",
      "   26 KSP Residual norm 6.176197827705e-03 \n",
      "   27 KSP Residual norm 5.300384539642e-03 \n",
      "   28 KSP Residual norm 4.586834742403e-03 \n",
      "   29 KSP Residual norm 3.977902785342e-03 \n",
      "   30 KSP Residual norm 3.476455021788e-03 \n",
      "   31 KSP Residual norm 3.282023338881e-03 \n",
      "   32 KSP Residual norm 3.029178534691e-03 \n",
      "   33 KSP Residual norm 2.780806220433e-03 \n",
      "   34 KSP Residual norm 2.584433476635e-03 \n",
      "   35 KSP Residual norm 2.298473004379e-03 \n",
      "   36 KSP Residual norm 2.078298405524e-03 \n",
      "   37 KSP Residual norm 1.823175702007e-03 \n",
      "   38 KSP Residual norm 1.613665438345e-03 \n",
      "   39 KSP Residual norm 1.446344889425e-03 \n",
      "   40 KSP Residual norm 1.248752277766e-03 \n",
      "   41 KSP Residual norm 1.099380615827e-03 \n",
      "  1 SNES Function norm 9.83231e-05 \n",
      "    Residual norms for VProj8_ solve.\n",
      "    0 KSP Residual norm 1.099380615821e-03 \n",
      "    1 KSP Residual norm 1.022610551620e-03 \n",
      "    2 KSP Residual norm 9.542250990969e-04 \n",
      "    3 KSP Residual norm 8.700768056640e-04 \n",
      "    4 KSP Residual norm 8.051092575369e-04 \n",
      "    5 KSP Residual norm 7.161406317317e-04 \n",
      "    6 KSP Residual norm 6.373956605386e-04 \n",
      "    7 KSP Residual norm 5.817979443461e-04 \n",
      "    8 KSP Residual norm 5.173985118462e-04 \n",
      "    9 KSP Residual norm 4.712029591345e-04 \n",
      "   10 KSP Residual norm 4.291539089780e-04 \n",
      "   11 KSP Residual norm 3.901480903147e-04 \n",
      "   12 KSP Residual norm 3.332158747851e-04 \n",
      "   13 KSP Residual norm 2.905573185880e-04 \n",
      "   14 KSP Residual norm 2.494093939436e-04 \n",
      "   15 KSP Residual norm 2.123651262342e-04 \n",
      "   16 KSP Residual norm 1.836118453130e-04 \n",
      "   17 KSP Residual norm 1.650581672129e-04 \n",
      "   18 KSP Residual norm 1.446374559229e-04 \n",
      "   19 KSP Residual norm 1.089585614812e-04 \n",
      "   20 KSP Residual norm 8.466989239618e-05 \n",
      "   21 KSP Residual norm 7.201486215102e-05 \n",
      "   22 KSP Residual norm 5.758766779843e-05 \n",
      "   23 KSP Residual norm 5.198661264402e-05 \n",
      "   24 KSP Residual norm 4.719908164711e-05 \n",
      "   25 KSP Residual norm 4.397321653517e-05 \n",
      "   26 KSP Residual norm 3.994290399801e-05 \n",
      "   27 KSP Residual norm 3.643746171957e-05 \n",
      "   28 KSP Residual norm 3.194587063090e-05 \n",
      "   29 KSP Residual norm 2.796918759102e-05 \n",
      "   30 KSP Residual norm 2.349167483498e-05 \n",
      "   31 KSP Residual norm 2.249061444226e-05 \n",
      "   32 KSP Residual norm 2.104484168723e-05 \n",
      "   33 KSP Residual norm 1.932048708750e-05 \n",
      "   34 KSP Residual norm 1.807343715314e-05 \n",
      "   35 KSP Residual norm 1.654407662894e-05 \n",
      "   36 KSP Residual norm 1.454608427707e-05 \n",
      "   37 KSP Residual norm 1.307630449416e-05 \n",
      "   38 KSP Residual norm 1.194125440694e-05 \n",
      "   39 KSP Residual norm 1.073396066511e-05 \n",
      "   40 KSP Residual norm 8.879449511767e-06 \n",
      "   41 KSP Residual norm 7.841254774932e-06 \n",
      "   42 KSP Residual norm 6.722168532152e-06 \n",
      "   43 KSP Residual norm 5.669839712448e-06 \n",
      "   44 KSP Residual norm 4.683877279025e-06 \n",
      "   45 KSP Residual norm 4.111065487969e-06 \n",
      "   46 KSP Residual norm 3.624422225089e-06 \n",
      "   47 KSP Residual norm 3.128181620208e-06 \n",
      "   48 KSP Residual norm 2.673232937701e-06 \n",
      "   49 KSP Residual norm 2.251433476908e-06 \n",
      "   50 KSP Residual norm 1.987473952478e-06 \n",
      "   51 KSP Residual norm 1.758164181609e-06 \n",
      "   52 KSP Residual norm 1.516402372612e-06 \n",
      "   53 KSP Residual norm 1.375794507649e-06 \n",
      "   54 KSP Residual norm 1.236161064092e-06 \n",
      "   55 KSP Residual norm 1.131109156891e-06 \n",
      "   56 KSP Residual norm 1.004424950268e-06 \n",
      "  2 SNES Function norm 8.80257e-08 \n",
      "Nonlinear VProj8_ solve converged due to CONVERGED_FNORM_RELATIVE iterations 2\n"
     ]
    }
   ],
   "source": [
    "incompressible_vector_projection.solve(_force_setup=True)"
   ]
  },
  {
   "cell_type": "code",
   "execution_count": null,
   "id": "9f211734-67b1-4eda-9101-4ee1fa64581a",
   "metadata": {},
   "outputs": [],
   "source": []
  },
  {
   "cell_type": "code",
   "execution_count": null,
   "id": "5112019c-ad2f-4976-8dec-eb7e968b9e06",
   "metadata": {},
   "outputs": [],
   "source": []
  }
 ],
 "metadata": {
  "kernelspec": {
   "display_name": "Python 3 (ipykernel)",
   "language": "python",
   "name": "python3"
  },
  "language_info": {
   "codemirror_mode": {
    "name": "ipython",
    "version": 3
   },
   "file_extension": ".py",
   "mimetype": "text/x-python",
   "name": "python",
   "nbconvert_exporter": "python",
   "pygments_lexer": "ipython3",
   "version": "3.10.6"
  }
 },
 "nbformat": 4,
 "nbformat_minor": 5
}
