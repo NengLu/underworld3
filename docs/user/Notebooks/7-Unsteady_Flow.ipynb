{
 "cells": [
  {
   "cell_type": "markdown",
   "id": "26d2a9ca-c094-40f2-b978-333c14142874",
   "metadata": {},
   "source": [
    "\n",
    "\n",
    "<div style=\"float: right; width: 50%; padding-left:10px;\">\n",
    "<img src=\"media/CompositeImage.png\" width=100%>\n",
    "<caption>\n",
    "<i>\n",
    "    Flow in a pipe with inflow at the left boundary\n",
    "    after 50, 100, 150 timesteps (top to bottom) showing the\n",
    "    progression of the impulsive initial condition. For details,\n",
    "    see the notebook code.\n",
    "</i>\n",
    "</caption>\n",
    "</div>\n",
    "\n",
    "# Notebook 7: Unsteady Flow\n",
    "\n",
    "\n",
    "We'll look at tracking an unsteady flow using a swarm of particle flow-tracers.\n",
    "\n",
    "To begin with, the set up follows the same path as all previous notebooks:\n",
    "  - Create a mesh\n",
    "  - Add some variables\n",
    "  - Create the solver we need (`NavierStokes` this time)\n",
    "  - Add boundary conditions and constitutive properties.\n",
    "\n",
    "We also add a projection solver to compute the vorticity of the flow (see 4-\n",
    "\n",
    "To track the time evolution of the flow, we introduce a \"passive\" particle\n",
    "swarm. Passive, here, refers to the fact that the flow is not changed by the \n",
    "presence of the marker particles. \n",
    "\n",
    "In the time-loop we have to update the particle locations and we keep this\n",
    "as an explicity operation, in general, because it provide the opportunity for\n",
    "you to make changes or perform analyses. \n",
    "In this case, we are adding new particles near the inflow to track the flow.\n",
    "\n",
    "\n",
    "\n"
   ]
  },
  {
   "cell_type": "code",
   "execution_count": 19,
   "id": "0974f1a1-60dd-4d52-9855-79e8030450e9",
   "metadata": {
    "execution": {
     "iopub.execute_input": "2024-09-22T11:05:11.767841Z",
     "iopub.status.busy": "2024-09-22T11:05:11.767177Z",
     "iopub.status.idle": "2024-09-22T11:05:11.778380Z",
     "shell.execute_reply": "2024-09-22T11:05:11.776740Z",
     "shell.execute_reply.started": "2024-09-22T11:05:11.767812Z"
    }
   },
   "outputs": [],
   "source": [
    "#|  echo: false  # Hide in html version\n",
    "\n",
    "# This is required to fix pyvista \n",
    "# (visualisation) crashes in interactive notebooks (including on binder)\n",
    "\n",
    "import nest_asyncio\n",
    "nest_asyncio.apply()"
   ]
  },
  {
   "cell_type": "code",
   "execution_count": 2,
   "id": "dddf1a25-1d89-4c39-90dc-9ca5a45db5dd",
   "metadata": {
    "execution": {
     "iopub.execute_input": "2024-09-21T09:58:49.222971Z",
     "iopub.status.busy": "2024-09-21T09:58:49.222688Z",
     "iopub.status.idle": "2024-09-21T09:58:50.692674Z",
     "shell.execute_reply": "2024-09-21T09:58:50.692338Z",
     "shell.execute_reply.started": "2024-09-21T09:58:49.222945Z"
    }
   },
   "outputs": [
    {
     "name": "stderr",
     "output_type": "stream",
     "text": [
      "[Lyrebird.local:17126] shmem: mmap: an error occurred while determining whether or not /var/folders/tx/95gr762j29z4tt5d1dnqlgth0000gn/T//ompi.Lyrebird.501/jf.0/3747938304/sm_segment.Lyrebird.501.df650000.0 could be created.\n"
     ]
    }
   ],
   "source": [
    "#| output: false # Suppress warnings in html version\n",
    "\n",
    "import underworld3 as uw\n",
    "import numpy as np\n",
    "import sympy"
   ]
  },
  {
   "cell_type": "code",
   "execution_count": 3,
   "id": "d17b5f9b-d00e-43c2-ba10-b9a8920aa3be",
   "metadata": {
    "execution": {
     "iopub.execute_input": "2024-09-21T09:58:50.693272Z",
     "iopub.status.busy": "2024-09-21T09:58:50.693114Z",
     "iopub.status.idle": "2024-09-21T09:58:50.832695Z",
     "shell.execute_reply": "2024-09-21T09:58:50.832389Z",
     "shell.execute_reply.started": "2024-09-21T09:58:50.693261Z"
    }
   },
   "outputs": [],
   "source": [
    "res = 8\n",
    "width = 4\n",
    "\n",
    "reynolds_number = 1000\n",
    "\n",
    "mesh = uw.meshing.UnstructuredSimplexBox(\n",
    "    cellSize=1/res,\n",
    "    minCoords=(0.0,0.0),\n",
    "    maxCoords=(width, 1.0),\n",
    "    qdegree=3,     \n",
    ")\n",
    "\n",
    "# Coordinate directions etc\n",
    "x, y = mesh.CoordinateSystem.X\n",
    "\n"
   ]
  },
  {
   "cell_type": "code",
   "execution_count": 4,
   "id": "377301f7-9596-4216-917f-fc5dca474c0d",
   "metadata": {
    "execution": {
     "iopub.execute_input": "2024-09-21T09:58:50.833221Z",
     "iopub.status.busy": "2024-09-21T09:58:50.833126Z",
     "iopub.status.idle": "2024-09-21T09:58:50.858888Z",
     "shell.execute_reply": "2024-09-21T09:58:50.858590Z",
     "shell.execute_reply.started": "2024-09-21T09:58:50.833211Z"
    }
   },
   "outputs": [],
   "source": [
    "# Mesh variables for the unknowns\n",
    "\n",
    "v_soln = uw.discretisation.MeshVariable(\"V0\", mesh, 2, degree=2, varsymbol=r\"{v_0}\")\n",
    "p_soln = uw.discretisation.MeshVariable(\"p\", mesh, 1, degree=1, continuous=True)\n",
    "vorticity  = uw.discretisation.MeshVariable(\"omega\", mesh, 1, degree=1, continuous=True, varsymbol=r\"\\omega\")"
   ]
  },
  {
   "cell_type": "code",
   "execution_count": 5,
   "id": "3f3c3875-4ba1-4e99-a793-3446af229b6d",
   "metadata": {
    "execution": {
     "iopub.execute_input": "2024-09-21T09:58:50.859352Z",
     "iopub.status.busy": "2024-09-21T09:58:50.859271Z",
     "iopub.status.idle": "2024-09-21T09:58:50.914270Z",
     "shell.execute_reply": "2024-09-21T09:58:50.913999Z",
     "shell.execute_reply.started": "2024-09-21T09:58:50.859343Z"
    }
   },
   "outputs": [],
   "source": [
    "\n",
    "navier_stokes = uw.systems.NavierStokes(\n",
    "    mesh, \n",
    "    velocityField=v_soln, \n",
    "    pressureField=p_soln, \n",
    "    solver_name=\"Navier_stokes\",\n",
    "    rho=reynolds_number,\n",
    "    order=1,\n",
    ")\n",
    "\n",
    "navier_stokes.constitutive_model = uw.constitutive_models.ViscousFlowModel\n",
    "navier_stokes.constitutive_model.Parameters.shear_viscosity_0 = 1\n",
    "navier_stokes.tolerance = 1.0e-3\n",
    "\n",
    "navier_stokes.petsc_options[\"fieldsplit_velocity_mg_coarse_pc_type\"] = \"svd\"\n",
    "\n",
    "navier_stokes.bodyforce = sympy.Matrix((0,0))\n",
    "\n",
    "# Inflow boundary - incoming jet\n",
    "navier_stokes.add_essential_bc(((4*y*(1-y))**8, 0), \"Left\")\n",
    "navier_stokes.add_essential_bc((0, 0), \"Bottom\")\n",
    "navier_stokes.add_essential_bc((0, 0), \"Top\")\n"
   ]
  },
  {
   "cell_type": "code",
   "execution_count": 6,
   "id": "7ecf2fbf-f714-4c5f-9d99-bbe86b462da8",
   "metadata": {
    "execution": {
     "iopub.execute_input": "2024-09-21T09:58:50.915900Z",
     "iopub.status.busy": "2024-09-21T09:58:50.915797Z",
     "iopub.status.idle": "2024-09-21T09:58:50.920566Z",
     "shell.execute_reply": "2024-09-21T09:58:50.919951Z",
     "shell.execute_reply.started": "2024-09-21T09:58:50.915891Z"
    }
   },
   "outputs": [],
   "source": [
    "vorticity_from_v = uw.systems.Projection(mesh, vorticity)\n",
    "vorticity_from_v.uw_function = mesh.vector.curl(v_soln.sym)\n",
    "vorticity_from_v.smoothing = 1.0e-3\n",
    "# nodal_vorticity_from_v.petsc_options.delValue(\"ksp_monitor\")"
   ]
  },
  {
   "cell_type": "code",
   "execution_count": 7,
   "id": "4948cff8-89da-4822-aee7-f2207aa513b0",
   "metadata": {
    "execution": {
     "iopub.execute_input": "2024-09-21T09:58:50.922160Z",
     "iopub.status.busy": "2024-09-21T09:58:50.921771Z",
     "iopub.status.idle": "2024-09-21T09:58:50.934589Z",
     "shell.execute_reply": "2024-09-21T09:58:50.934302Z",
     "shell.execute_reply.started": "2024-09-21T09:58:50.922138Z"
    }
   },
   "outputs": [],
   "source": [
    "passive_swarm = uw.swarm.Swarm(mesh=mesh)\n",
    "passive_swarm.populate(\n",
    "    fill_param=1,\n",
    ")\n",
    "\n",
    "# add new points at the inflow\n",
    "npoints = 100\n",
    "passive_swarm.dm.addNPoints(npoints)\n",
    "with passive_swarm.access(passive_swarm.particle_coordinates):\n",
    "    for i in range(npoints):\n",
    "        passive_swarm.particle_coordinates.data[-1 : -(npoints + 1) : -1, :] = np.array(\n",
    "            [0.0, 0.25] + 0.5 * np.random.random((npoints, 2))\n",
    "        )\n"
   ]
  },
  {
   "cell_type": "code",
   "execution_count": 8,
   "id": "51f82885-0b41-4454-9953-ac7ea23e38e3",
   "metadata": {
    "execution": {
     "iopub.execute_input": "2024-09-21T09:58:50.935128Z",
     "iopub.status.busy": "2024-09-21T09:58:50.934997Z",
     "iopub.status.idle": "2024-09-21T09:59:01.167202Z",
     "shell.execute_reply": "2024-09-21T09:59:01.166772Z",
     "shell.execute_reply.started": "2024-09-21T09:58:50.935116Z"
    }
   },
   "outputs": [],
   "source": [
    "navier_stokes.solve(timestep=0.01)\n",
    "vorticity_from_v.solve()"
   ]
  },
  {
   "cell_type": "code",
   "execution_count": 9,
   "id": "1c660972-f858-43bc-a6c4-5e09cc8f9fdf",
   "metadata": {
    "execution": {
     "iopub.execute_input": "2024-09-21T09:59:01.168084Z",
     "iopub.status.busy": "2024-09-21T09:59:01.167807Z",
     "iopub.status.idle": "2024-09-21T09:59:01.170255Z",
     "shell.execute_reply": "2024-09-21T09:59:01.169997Z",
     "shell.execute_reply.started": "2024-09-21T09:59:01.168072Z"
    }
   },
   "outputs": [],
   "source": [
    "# Keep the initialisation separate\n",
    "# so we can run the loop below again without resetting\n",
    "# the timer.\n",
    "\n",
    "max_steps = 50\n",
    "timestep = 0\n",
    "elapsed_time = 0.0\n",
    "delta_t = 0.05"
   ]
  },
  {
   "cell_type": "code",
   "execution_count": 16,
   "id": "8db49d4c-9dcd-4920-901a-65cf8d0056db",
   "metadata": {
    "execution": {
     "iopub.execute_input": "2024-09-21T23:11:47.357294Z",
     "iopub.status.busy": "2024-09-21T23:11:47.356610Z",
     "iopub.status.idle": "2024-09-21T23:13:37.888654Z",
     "shell.execute_reply": "2024-09-21T23:13:37.888363Z",
     "shell.execute_reply.started": "2024-09-21T23:11:47.357272Z"
    }
   },
   "outputs": [
    {
     "name": "stdout",
     "output_type": "stream",
     "text": [
      "Timestep: 51, time 2.5500\n",
      "Timestep: 52, time 2.6000\n",
      "Timestep: 53, time 2.6500\n",
      "Timestep: 54, time 2.7000\n",
      "Timestep: 55, time 2.7500\n",
      "Timestep: 56, time 2.8000\n",
      "Timestep: 57, time 2.8500\n",
      "Timestep: 58, time 2.9000\n",
      "Timestep: 59, time 2.9500\n",
      "Timestep: 60, time 3.0000\n",
      "Timestep: 61, time 3.0500\n",
      "Timestep: 62, time 3.1000\n",
      "Timestep: 63, time 3.1500\n",
      "Timestep: 64, time 3.2000\n",
      "Timestep: 65, time 3.2500\n",
      "Timestep: 66, time 3.3000\n",
      "Timestep: 67, time 3.3500\n",
      "Timestep: 68, time 3.4000\n",
      "Timestep: 69, time 3.4500\n",
      "Timestep: 70, time 3.5000\n",
      "Timestep: 71, time 3.5500\n",
      "Timestep: 72, time 3.6000\n",
      "Timestep: 73, time 3.6500\n",
      "Timestep: 74, time 3.7000\n",
      "Timestep: 75, time 3.7500\n",
      "Timestep: 76, time 3.8000\n",
      "Timestep: 77, time 3.8500\n",
      "Timestep: 78, time 3.9000\n",
      "Timestep: 79, time 3.9500\n",
      "Timestep: 80, time 4.0000\n",
      "Timestep: 81, time 4.0500\n",
      "Timestep: 82, time 4.1000\n",
      "Timestep: 83, time 4.1500\n",
      "Timestep: 84, time 4.2000\n",
      "Timestep: 85, time 4.2500\n",
      "Timestep: 86, time 4.3000\n",
      "Timestep: 87, time 4.3500\n",
      "Timestep: 88, time 4.4000\n",
      "Timestep: 89, time 4.4500\n",
      "Timestep: 90, time 4.5000\n",
      "Timestep: 91, time 4.5500\n",
      "Timestep: 92, time 4.6000\n",
      "Timestep: 93, time 4.6500\n",
      "Timestep: 94, time 4.7000\n",
      "Timestep: 95, time 4.7500\n",
      "Timestep: 96, time 4.8000\n",
      "Timestep: 97, time 4.8500\n",
      "Timestep: 98, time 4.9000\n",
      "Timestep: 99, time 4.9500\n",
      "Timestep: 100, time 5.0000\n"
     ]
    }
   ],
   "source": [
    "\n",
    "\n",
    "for step in range(0, max_steps):\n",
    "\n",
    "    navier_stokes.solve(zero_init_guess=False, timestep=delta_t)\n",
    "\n",
    "    passive_swarm.advection(v_soln.sym, delta_t, order=2, corrector=False, evalf=True)\n",
    "\n",
    "    new_points = 100\n",
    "    new_coords = np.array([0.0, 0.25] + 0.5 * np.random.random((new_points, 2)))\n",
    "    passive_swarm.add_particles_with_coordinates(new_coords)    \n",
    "    \n",
    "    # Save the data at every 10th step\n",
    "\n",
    "    if timestep % 10 == 0:\n",
    "        vorticity_from_v.solve()        \n",
    "\n",
    "        mesh.write_timestep(\n",
    "            \"Example_7\",\n",
    "            meshUpdates=True,\n",
    "            meshVars=[p_soln, v_soln, vorticity],\n",
    "            outputPath=\"Example_output\",\n",
    "            index=timestep,\n",
    "        )\n",
    "\n",
    "        passive_swarm.write_timestep(\n",
    "            \"Example_7\",\n",
    "            \"passive_swarm\",\n",
    "            swarmVars=None,\n",
    "            outputPath=\"Example_output\",\n",
    "            index=timestep,\n",
    "            force_sequential=True,\n",
    "        )\n",
    "\n",
    "\n",
    "    \n",
    "    timestep += 1\n",
    "    elapsed_time += delta_t\n",
    "\n",
    "    print(f\"Timestep: {timestep}, time {elapsed_time:.4f}\")\n",
    "\n"
   ]
  },
  {
   "cell_type": "code",
   "execution_count": null,
   "id": "811239df-5cb6-4e2e-a7af-7004fa9d3306",
   "metadata": {},
   "outputs": [],
   "source": []
  },
  {
   "cell_type": "code",
   "execution_count": 17,
   "id": "09e26f46-452e-49ec-8180-103163cc4fc2",
   "metadata": {
    "execution": {
     "iopub.execute_input": "2024-09-21T23:17:20.159143Z",
     "iopub.status.busy": "2024-09-21T23:17:20.158467Z",
     "iopub.status.idle": "2024-09-21T23:17:20.788981Z",
     "shell.execute_reply": "2024-09-21T23:17:20.788126Z",
     "shell.execute_reply.started": "2024-09-21T23:17:20.159120Z"
    }
   },
   "outputs": [],
   "source": [
    "# visualise it\n",
    "\n",
    "\n",
    "if uw.mpi.size == 1:\n",
    "    import pyvista as pv\n",
    "    import underworld3.visualisation as vis\n",
    "\n",
    "    pvmesh = vis.mesh_to_pv_mesh(mesh)\n",
    "    pvmesh.point_data[\"P\"] = vis.scalar_fn_to_pv_points(pvmesh, p_soln.sym)\n",
    "    pvmesh.point_data[\"Omega\"] = vis.scalar_fn_to_pv_points(pvmesh, vorticity.sym)\n",
    "    pvmesh.point_data[\"V\"] = vis.vector_fn_to_pv_points(pvmesh, v_soln.sym)\n",
    "\n",
    "    pvmesh_v = vis.meshVariable_to_pv_mesh_object(v_soln, alpha=None)\n",
    "    pvmesh_v.point_data[\"V\"] = vis.vector_fn_to_pv_points(pvmesh_v, v_soln.sym)\n",
    "\n",
    "    skip = 1\n",
    "    points = np.zeros((mesh._centroids[::skip].shape[0], 3))\n",
    "    points[:, 0] = mesh._centroids[::skip, 0]\n",
    "    points[:, 1] = mesh._centroids[::skip, 1]\n",
    "    point_cloud = pv.PolyData(points)\n",
    "\n",
    "    pvstream = pvmesh.streamlines_from_source(\n",
    "        point_cloud, vectors=\"V\", \n",
    "        integration_direction=\"both\", \n",
    "        integrator_type=45,\n",
    "        surface_streamlines=True,\n",
    "        initial_step_length=0.01,\n",
    "        max_time=1.0,\n",
    "        max_steps=500, \n",
    "    )\n",
    "\n",
    "    passive_swarm_points = uw.visualisation.swarm_to_pv_cloud(passive_swarm)\n",
    "\n",
    "    pl = pv.Plotter(window_size=(750, 750))\n",
    "\n",
    "    pl.add_mesh(\n",
    "        pvmesh,\n",
    "        cmap=\"RdBu_r\",\n",
    "        edge_color=\"Grey\",\n",
    "        edge_opacity=0.33,\n",
    "        scalars=\"Omega\",\n",
    "        show_edges=True,\n",
    "        use_transparency=False,\n",
    "        opacity=0.75,\n",
    "        show_scalar_bar=False,\n",
    "    )\n",
    "\n",
    "    # Optional: plot streamlines\n",
    "    # pl.add_mesh(pvstream, opacity=0.3, show_scalar_bar=False, cmap=\"Greys_r\", render_lines_as_tubes=False)\n",
    "\n",
    "    pl.add_points(\n",
    "            passive_swarm_points,\n",
    "            color=\"Black\",\n",
    "            render_points_as_spheres=False,\n",
    "            point_size=4,\n",
    "            opacity=0.33,\n",
    "        )\n",
    "\n",
    "    # pl.add_arrows(pvmesh_v.points, pvmesh_v.point_data[\"V\"], mag=0.1)\n",
    "\n",
    "    #pl.camera_position = 'xy'\n",
    "    pl.camera.position = (2.0, 0.5, 4)\n",
    "    \n",
    "    pl.export_html(f\"html5/ns_flow_plot_{timestep}.html\")\n",
    "\n",
    "    pl.screenshot(f\"ns_flow_at_{timestep}.png\", window_size=(4000,1000), return_img=False)\n"
   ]
  },
  {
   "cell_type": "code",
   "execution_count": 18,
   "id": "3775ea27-4d60-4675-a1cc-a9ba016b5d73",
   "metadata": {
    "execution": {
     "iopub.execute_input": "2024-09-21T23:17:20.790369Z",
     "iopub.status.busy": "2024-09-21T23:17:20.790107Z",
     "iopub.status.idle": "2024-09-21T23:17:20.796289Z",
     "shell.execute_reply": "2024-09-21T23:17:20.795401Z",
     "shell.execute_reply.started": "2024-09-21T23:17:20.790359Z"
    },
    "scrolled": true
   },
   "outputs": [
    {
     "data": {
      "text/html": [
       "\n",
       "        <iframe\n",
       "            width=\"1000\"\n",
       "            height=\"400\"\n",
       "            src=\"html5/ns_flow_plot_100.html\"\n",
       "            frameborder=\"0\"\n",
       "            allowfullscreen\n",
       "            \n",
       "        ></iframe>\n",
       "        "
      ],
      "text/plain": [
       "<IPython.lib.display.IFrame at 0x313e4e690>"
      ]
     },
     "execution_count": 18,
     "metadata": {},
     "output_type": "execute_result"
    }
   ],
   "source": [
    "#| fig-cap: \"Interactive Image: Convection model output\"\n",
    "from IPython.display import IFrame\n",
    "IFrame(src=f\"html5/ns_flow_plot_{timestep}.html\", width=1000, height=400)"
   ]
  },
  {
   "cell_type": "markdown",
   "id": "c3d1d6ff-68ac-46c0-8a47-e29e95fed462",
   "metadata": {},
   "source": [
    "## Exercise - \n",
    "\n",
    "\n"
   ]
  },
  {
   "cell_type": "code",
   "execution_count": null,
   "id": "a36a3121-a2c2-4e11-b2a5-6086cb46a32b",
   "metadata": {},
   "outputs": [],
   "source": []
  }
 ],
 "metadata": {
  "kernelspec": {
   "display_name": "Python 3 (ipykernel)",
   "language": "python",
   "name": "python3"
  },
  "language_info": {
   "codemirror_mode": {
    "name": "ipython",
    "version": 3
   },
   "file_extension": ".py",
   "mimetype": "text/x-python",
   "name": "python",
   "nbconvert_exporter": "python",
   "pygments_lexer": "ipython3",
   "version": "3.11.7"
  }
 },
 "nbformat": 4,
 "nbformat_minor": 5
}
