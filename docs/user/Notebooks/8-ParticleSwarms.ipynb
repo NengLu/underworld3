{
 "cells": [
  {
   "cell_type": "markdown",
   "id": "26d2a9ca-c094-40f2-b978-333c14142874",
   "metadata": {},
   "source": [
    "# Notebook 8: Particle Swarms\n",
    "\n",
    "<!--\n",
    "<div style=\"float: right; width: 50%; padding-left:10px;\">\n",
    "<img src=\"media/CompositeImage.png\" width=100%>\n",
    "<caption>\n",
    "<i>\n",
    "    Flow in a pipe with inflow at the left boundary\n",
    "    after 50, 100, 150 timesteps (top to bottom) showing the\n",
    "    progression of the impulsive initial condition. For details,\n",
    "    see the notebook code.\n",
    "</i>\n",
    "</caption>\n",
    "</div>\n",
    "-->\n",
    "\n",
    "We used a particle swarm to track the flow in Example 7. We called this a \"passive\" swarm because the points did not influence the flow in any way but was simply carried along. \n",
    "\n",
    "Particle swarms are unstructured data objects that live within the computational domain. Their points can be moved arbitrarily through the domain and points may migrate from one process to another when the coordinates are changed. By default they carry only the particle location, but we can add scalar, vector and tensor variables to the swarm and they will be transported with the particles.\n",
    "\n",
    "Particle transport is usually through a velocity or displacement field that incrementally changes the locations. This is a common use, but particles can be used to represent any unstructured field. For example, during mesh adaptation, the nodal points from the previous mesh are equivalent to a disconnected swarm from the point of view of the new mesh. The same is true when reading data save from one mesh to the `MeshVariables` on another.\n"
   ]
  },
  {
   "cell_type": "code",
   "execution_count": 1,
   "id": "0974f1a1-60dd-4d52-9855-79e8030450e9",
   "metadata": {},
   "outputs": [],
   "source": [
    "#|  echo: false  # Hide in html version\n",
    "\n",
    "# This is required to fix pyvista \n",
    "# (visualisation) crashes in interactive notebooks (including on binder)\n",
    "\n",
    "import nest_asyncio\n",
    "nest_asyncio.apply()"
   ]
  },
  {
   "cell_type": "code",
   "execution_count": 2,
   "id": "dddf1a25-1d89-4c39-90dc-9ca5a45db5dd",
   "metadata": {},
   "outputs": [
    {
     "name": "stderr",
     "output_type": "stream",
     "text": [
      "[esdhcp-137.anu.edu.au:61998] shmem: mmap: an error occurred while determining whether or not /var/folders/tx/95gr762j29z4tt5d1dnqlgth0000gn/T//ompi.esdhcp-137.501/jf.0/2846228480/sm_segment.esdhcp-137.501.a9a60000.0 could be created.\n"
     ]
    }
   ],
   "source": [
    "#| output: false # Suppress warnings in html version\n",
    "\n",
    "import underworld3 as uw\n",
    "import numpy as np\n",
    "import sympy"
   ]
  },
  {
   "cell_type": "code",
   "execution_count": 3,
   "id": "d17b5f9b-d00e-43c2-ba10-b9a8920aa3be",
   "metadata": {},
   "outputs": [],
   "source": [
    "res = 12\n",
    "width = 8\n",
    "\n",
    "mesh = uw.meshing.UnstructuredSimplexBox(\n",
    "    cellSize=1/res,\n",
    "    minCoords=(0.0,0.0),\n",
    "    maxCoords=(width, 1.0),\n",
    "    qdegree=3,     \n",
    ")\n",
    "\n",
    "# Coordinate directions etc\n",
    "x, y = mesh.CoordinateSystem.X\n"
   ]
  },
  {
   "cell_type": "code",
   "execution_count": 4,
   "id": "0bfae0f1-b6e8-45d4-8b02-987915ce1d47",
   "metadata": {},
   "outputs": [],
   "source": [
    "# original y coordinate\n",
    "\n",
    "y0 = uw.discretisation.MeshVariable(\"Y0\", \n",
    "                                    mesh, \n",
    "                                    vtype=uw.VarType.SCALAR,\n",
    "                                    varsymbol=r\"y_0\")\n",
    "\n",
    "with mesh.access(y0):\n",
    "    y0.data[:,0] = uw.function.evalf(y, y0.coords)"
   ]
  },
  {
   "cell_type": "markdown",
   "id": "ce93e62c-9775-4f57-a1c9-6dc6fe434dca",
   "metadata": {},
   "source": [
    "#### Deform the mesh\n",
    "\n",
    "Move all nodes down to meet an undulating lower surface. The\n",
    "displacement field is smooth and continuous, so there is no \n",
    "particular need to remesh in this case. However, it is generally\n",
    "better to consider either deforming the mesh with `gmsh` before\n",
    "triangulation, or remeshing (both are possible with underworld3, \n",
    "but not as simple to demonstrate)."
   ]
  },
  {
   "cell_type": "code",
   "execution_count": 5,
   "id": "5d0ed583-0e58-4079-a924-410c15297d4d",
   "metadata": {
    "scrolled": true
   },
   "outputs": [
    {
     "data": {
      "text/latex": [
       "$\\displaystyle \\left(1 - \\mathrm{y}\\right) \\left(\\frac{\\mathrm{x}}{16} + \\frac{\\sin{\\left(\\mathrm{x} \\pi \\right)}}{10}\\right)$"
      ],
      "text/plain": [
       "(1 - N.y)*(N.x/16 + sin(N.x*pi)/10)"
      ]
     },
     "metadata": {},
     "output_type": "display_data"
    }
   ],
   "source": [
    "new_coords = mesh.data\n",
    "dy =  (1-y) * (x/16 + sympy.sin(sympy.pi * x)/10) \n",
    "new_coords[:,1] = uw.function.evalf(y-dy, mesh.data)\n",
    "\n",
    "display(dy)\n",
    "\n",
    "mesh.deform_mesh(new_coords)\n"
   ]
  },
  {
   "cell_type": "code",
   "execution_count": 6,
   "id": "3a2dd8a5-b391-41d2-9a57-dd2cb18e4ca9",
   "metadata": {},
   "outputs": [],
   "source": [
    "kdxy = mesh._index.kdtree_points()"
   ]
  },
  {
   "cell_type": "code",
   "execution_count": 7,
   "id": "495b5b5f-784d-4f8c-baef-fcbe5a32dbd5",
   "metadata": {},
   "outputs": [],
   "source": [
    "mesh._build_kd_tree_index()\n",
    "kdxy1 = mesh._index.kdtree_points()"
   ]
  },
  {
   "cell_type": "code",
   "execution_count": 8,
   "id": "f3897872-4673-444b-b0c0-00efa7199ea1",
   "metadata": {},
   "outputs": [
    {
     "data": {
      "text/plain": [
       "0.9995226007528144"
      ]
     },
     "execution_count": 8,
     "metadata": {},
     "output_type": "execute_result"
    }
   ],
   "source": [
    "kdxy[:,1].max()"
   ]
  },
  {
   "cell_type": "code",
   "execution_count": 9,
   "id": "168e3c6e-c34c-4957-8831-7ad4322111b9",
   "metadata": {},
   "outputs": [
    {
     "data": {
      "text/plain": [
       "-0.5066318954971105"
      ]
     },
     "execution_count": 9,
     "metadata": {},
     "output_type": "execute_result"
    }
   ],
   "source": [
    "kdxy1[:,1].min()"
   ]
  },
  {
   "cell_type": "code",
   "execution_count": 10,
   "id": "c3e1937a-2c8c-46e7-992f-3b74cd991463",
   "metadata": {},
   "outputs": [
    {
     "data": {
      "application/vnd.jupyter.widget-view+json": {
       "model_id": "9457bc6427f242a4a7e158f74f85020f",
       "version_major": 2,
       "version_minor": 0
      },
      "text/plain": [
       "EmbeddableWidget(value='<iframe srcdoc=\"<!DOCTYPE html>\\n<html>\\n  <head>\\n    <meta http-equiv=&quot;Content-…"
      ]
     },
     "metadata": {},
     "output_type": "display_data"
    }
   ],
   "source": [
    "if uw.mpi.size == 1:\n",
    "    import pyvista as pv\n",
    "    import underworld3.visualisation as vis\n",
    "\n",
    "    pvmesh = vis.mesh_to_pv_mesh(mesh)\n",
    "    pvmesh.point_data[\"y0\"] = vis.scalar_fn_to_pv_points(pvmesh, y0.sym)\n",
    "    \n",
    "    pl = pv.Plotter(window_size=(750, 250))\n",
    "\n",
    "\n",
    "    pl.add_mesh(\n",
    "        pvmesh,\n",
    "        cmap=\"RdBu_r\",\n",
    "        edge_color=\"Grey\",\n",
    "        edge_opacity=0.33,\n",
    "        show_edges=True,\n",
    "        use_transparency=False,\n",
    "        opacity=0.75,\n",
    "        show_scalar_bar=False,\n",
    "    )\n",
    "\n",
    "    pl.show(jupyter_backend=\"html\")"
   ]
  },
  {
   "cell_type": "markdown",
   "id": "60dea34f-e68d-4b92-8b18-544022258d7e",
   "metadata": {},
   "source": [
    "### Add a swarm to this mesh\n",
    "\n",
    "A swarm object can be constructed either by adding local points (Example 7) or by filling the mesh with a given density. The density value that we provide (`fill_param`) adds particles on the Gaussian integration points: 0 will populate the centroids of the mesh elements A value of 1 provides three points per triangle, four per quad, four in a tetrahedron, eight in a hexahedron (the points that support linear interpolation in standard FEM).\n",
    "\n",
    "\n"
   ]
  },
  {
   "cell_type": "code",
   "execution_count": 11,
   "id": "82355f5f-f62b-4630-b999-dc79787fda4c",
   "metadata": {},
   "outputs": [
    {
     "data": {
      "text/plain": [
       "2725"
      ]
     },
     "execution_count": 11,
     "metadata": {},
     "output_type": "execute_result"
    }
   ],
   "source": [
    "swarm = uw.swarm.Swarm(mesh)\n",
    "swarm.add_particles_with_coordinates(mesh._get_mesh_centroids())\n",
    "# swarm.populate_petsc(0)\n"
   ]
  },
  {
   "cell_type": "code",
   "execution_count": 12,
   "id": "43728b48-ce25-4cde-b6d2-87185479dda5",
   "metadata": {
    "scrolled": true
   },
   "outputs": [
    {
     "data": {
      "application/vnd.jupyter.widget-view+json": {
       "model_id": "c7641008db7e429a862650220cc2d30a",
       "version_major": 2,
       "version_minor": 0
      },
      "text/plain": [
       "Widget(value='<iframe src=\"http://localhost:54386/index.html?ui=P_0x1599f1650_1&reconnect=auto\" class=\"pyvista…"
      ]
     },
     "metadata": {},
     "output_type": "display_data"
    }
   ],
   "source": [
    "if uw.mpi.size == 1:\n",
    "    import pyvista as pv\n",
    "    import underworld3.visualisation as vis\n",
    "\n",
    "    pvmesh = vis.mesh_to_pv_mesh(mesh)\n",
    "    pvmesh.point_data[\"y0\"] = vis.scalar_fn_to_pv_points(pvmesh, y0.sym)\n",
    "\n",
    "    swarm_points = vis.swarm_to_pv_cloud(swarm)\n",
    "    \n",
    "    pl = pv.Plotter(window_size=(750, 250))\n",
    "\n",
    "\n",
    "    pl.add_mesh(\n",
    "        pvmesh,\n",
    "        cmap=\"RdBu_r\",\n",
    "        edge_color=\"Grey\",\n",
    "        edge_opacity=0.33,\n",
    "        show_edges=True,\n",
    "        use_transparency=False,\n",
    "        opacity=0.75,\n",
    "        show_scalar_bar=False,\n",
    "    )\n",
    "\n",
    "    pl.add_points(swarm_points.points, \n",
    "                  point_size=5,\n",
    "                  style='points',\n",
    "                  color=\"Black\", \n",
    "                  opacity=1)\n",
    "    \n",
    "    pl.camera.zoom(3)\n",
    "\n",
    "    pl.show(jupyter_backend=\"trame\")"
   ]
  },
  {
   "cell_type": "code",
   "execution_count": 13,
   "id": "cbc99b5c-c115-472f-8d62-77b00130fc00",
   "metadata": {},
   "outputs": [],
   "source": [
    "vec = swarm.celldm.getCoordinates().array.reshape(-1,2)"
   ]
  },
  {
   "cell_type": "code",
   "execution_count": 14,
   "id": "b40cffe5-1146-46e2-9fa3-a65d60fe0033",
   "metadata": {
    "scrolled": true
   },
   "outputs": [
    {
     "data": {
      "text/plain": [
       "-0.5080509159623103"
      ]
     },
     "execution_count": 14,
     "metadata": {},
     "output_type": "execute_result"
    }
   ],
   "source": [
    "vec[:,1].min()"
   ]
  },
  {
   "cell_type": "code",
   "execution_count": 15,
   "id": "98e6de5a-1538-40e9-af27-fa033372d347",
   "metadata": {},
   "outputs": [
    {
     "ename": "ZeroDivisionError",
     "evalue": "division by zero",
     "output_type": "error",
     "traceback": [
      "\u001b[0;31m---------------------------------------------------------------------------\u001b[0m",
      "\u001b[0;31mZeroDivisionError\u001b[0m                         Traceback (most recent call last)",
      "Cell \u001b[0;32mIn[15], line 1\u001b[0m\n\u001b[0;32m----> 1\u001b[0m \u001b[38;5;241;43m0\u001b[39;49m\u001b[38;5;241;43m/\u001b[39;49m\u001b[38;5;241;43m0\u001b[39;49m\n",
      "\u001b[0;31mZeroDivisionError\u001b[0m: division by zero"
     ]
    }
   ],
   "source": [
    "0/0"
   ]
  },
  {
   "cell_type": "code",
   "execution_count": null,
   "id": "377301f7-9596-4216-917f-fc5dca474c0d",
   "metadata": {},
   "outputs": [],
   "source": [
    "# Mesh variables for the unknowns\n",
    "\n",
    "v_soln = uw.discretisation.MeshVariable(\"V0\", mesh, 2, degree=2, varsymbol=r\"{v_0}\")\n",
    "p_soln = uw.discretisation.MeshVariable(\"p\", mesh, 1, degree=1, continuous=True)\n",
    "vorticity  = uw.discretisation.MeshVariable(\"omega\", mesh, 1, degree=1, continuous=True, varsymbol=r\"\\omega\")"
   ]
  },
  {
   "cell_type": "code",
   "execution_count": null,
   "id": "3f3c3875-4ba1-4e99-a793-3446af229b6d",
   "metadata": {},
   "outputs": [],
   "source": [
    "\n",
    "navier_stokes = uw.systems.NavierStokes(\n",
    "    mesh, \n",
    "    velocityField=v_soln, \n",
    "    pressureField=p_soln, \n",
    "    solver_name=\"Navier_stokes\",\n",
    "    rho=reynolds_number,\n",
    "    order=1,\n",
    ")\n",
    "\n",
    "navier_stokes.constitutive_model = uw.constitutive_models.ViscousFlowModel\n",
    "navier_stokes.constitutive_model.Parameters.shear_viscosity_0 = 1\n",
    "navier_stokes.tolerance = 1.0e-3\n",
    "\n",
    "navier_stokes.petsc_options[\"fieldsplit_velocity_mg_coarse_pc_type\"] = \"svd\"\n",
    "\n",
    "navier_stokes.bodyforce = sympy.Matrix((0,0))\n",
    "\n",
    "# Inflow boundary - incoming jet\n",
    "navier_stokes.add_essential_bc(((4*y*(1-y))**8, 0), \"Left\")\n",
    "navier_stokes.add_essential_bc((0, 0), \"Bottom\")\n",
    "navier_stokes.add_essential_bc((0, 0), \"Top\")\n"
   ]
  },
  {
   "cell_type": "code",
   "execution_count": null,
   "id": "7ecf2fbf-f714-4c5f-9d99-bbe86b462da8",
   "metadata": {},
   "outputs": [],
   "source": [
    "vorticity_from_v = uw.systems.Projection(mesh, vorticity)\n",
    "vorticity_from_v.uw_function = mesh.vector.curl(v_soln.sym)\n",
    "vorticity_from_v.smoothing = 1.0e-3\n",
    "# nodal_vorticity_from_v.petsc_options.delValue(\"ksp_monitor\")"
   ]
  },
  {
   "cell_type": "code",
   "execution_count": null,
   "id": "4948cff8-89da-4822-aee7-f2207aa513b0",
   "metadata": {},
   "outputs": [],
   "source": [
    "passive_swarm = uw.swarm.Swarm(mesh=mesh)\n",
    "passive_swarm.populate(\n",
    "    fill_param=1,\n",
    ")\n",
    "\n",
    "# add new points at the inflow\n",
    "npoints = 100\n",
    "passive_swarm.dm.addNPoints(npoints)\n",
    "with passive_swarm.access(passive_swarm.particle_coordinates):\n",
    "    for i in range(npoints):\n",
    "        passive_swarm.particle_coordinates.data[-1 : -(npoints + 1) : -1, :] = np.array(\n",
    "            [0.0, 0.25] + 0.5 * np.random.random((npoints, 2))\n",
    "        )\n"
   ]
  },
  {
   "cell_type": "code",
   "execution_count": null,
   "id": "51f82885-0b41-4454-9953-ac7ea23e38e3",
   "metadata": {},
   "outputs": [],
   "source": [
    "navier_stokes.solve(timestep=0.01)\n",
    "vorticity_from_v.solve()"
   ]
  },
  {
   "cell_type": "code",
   "execution_count": null,
   "id": "1c660972-f858-43bc-a6c4-5e09cc8f9fdf",
   "metadata": {},
   "outputs": [],
   "source": [
    "# Keep the initialisation separate\n",
    "# so we can run the loop below again without resetting\n",
    "# the timer.\n",
    "\n",
    "max_steps = 50\n",
    "timestep = 0\n",
    "elapsed_time = 0.0\n",
    "delta_t = 0.05"
   ]
  },
  {
   "cell_type": "code",
   "execution_count": null,
   "id": "8db49d4c-9dcd-4920-901a-65cf8d0056db",
   "metadata": {},
   "outputs": [],
   "source": [
    "\n",
    "\n",
    "for step in range(0, max_steps):\n",
    "\n",
    "    navier_stokes.solve(zero_init_guess=False, timestep=delta_t)\n",
    "\n",
    "    passive_swarm.advection(v_soln.sym, delta_t, order=2, corrector=False, evalf=True)\n",
    "\n",
    "    new_points = 100\n",
    "    new_coords = np.array([0.0, 0.25] + 0.5 * np.random.random((new_points, 2)))\n",
    "    passive_swarm.add_particles_with_coordinates(new_coords)    \n",
    "    \n",
    "    # Save the data at every 10th step\n",
    "\n",
    "    if timestep % 10 == 0:\n",
    "        vorticity_from_v.solve()        \n",
    "\n",
    "        mesh.write_timestep(\n",
    "            \"Example_7\",\n",
    "            meshUpdates=True,\n",
    "            meshVars=[p_soln, v_soln, vorticity],\n",
    "            outputPath=\"Example_output\",\n",
    "            index=timestep,\n",
    "        )\n",
    "\n",
    "        passive_swarm.write_timestep(\n",
    "            \"Example_7\",\n",
    "            \"passive_swarm\",\n",
    "            swarmVars=None,\n",
    "            outputPath=\"Example_output\",\n",
    "            index=timestep,\n",
    "            force_sequential=True,\n",
    "        )\n",
    "\n",
    "\n",
    "    \n",
    "    timestep += 1\n",
    "    elapsed_time += delta_t\n",
    "\n",
    "    print(f\"Timestep: {timestep}, time {elapsed_time:.4f}\")\n",
    "\n"
   ]
  },
  {
   "cell_type": "code",
   "execution_count": null,
   "id": "811239df-5cb6-4e2e-a7af-7004fa9d3306",
   "metadata": {},
   "outputs": [],
   "source": []
  },
  {
   "cell_type": "code",
   "execution_count": null,
   "id": "09e26f46-452e-49ec-8180-103163cc4fc2",
   "metadata": {},
   "outputs": [],
   "source": [
    "# visualise it\n",
    "\n",
    "\n",
    "if uw.mpi.size == 1:\n",
    "    import pyvista as pv\n",
    "    import underworld3.visualisation as vis\n",
    "\n",
    "    pvmesh = vis.mesh_to_pv_mesh(mesh)\n",
    "    pvmesh.point_data[\"P\"] = vis.scalar_fn_to_pv_points(pvmesh, p_soln.sym)\n",
    "    pvmesh.point_data[\"Omega\"] = vis.scalar_fn_to_pv_points(pvmesh, vorticity.sym)\n",
    "    pvmesh.point_data[\"V\"] = vis.vector_fn_to_pv_points(pvmesh, v_soln.sym)\n",
    "\n",
    "    pvmesh_v = vis.meshVariable_to_pv_mesh_object(v_soln, alpha=None)\n",
    "    pvmesh_v.point_data[\"V\"] = vis.vector_fn_to_pv_points(pvmesh_v, v_soln.sym)\n",
    "\n",
    "    skip = 1\n",
    "    points = np.zeros((mesh._centroids[::skip].shape[0], 3))\n",
    "    points[:, 0] = mesh._centroids[::skip, 0]\n",
    "    points[:, 1] = mesh._centroids[::skip, 1]\n",
    "    point_cloud = pv.PolyData(points)\n",
    "\n",
    "    pvstream = pvmesh.streamlines_from_source(\n",
    "        point_cloud, vectors=\"V\", \n",
    "        integration_direction=\"both\", \n",
    "        integrator_type=45,\n",
    "        surface_streamlines=True,\n",
    "        initial_step_length=0.01,\n",
    "        max_time=1.0,\n",
    "        max_steps=500, \n",
    "    )\n",
    "\n",
    "    passive_swarm_points = uw.visualisation.swarm_to_pv_cloud(passive_swarm)\n",
    "\n",
    "    pl = pv.Plotter(window_size=(750, 750))\n",
    "\n",
    "    pl.add_mesh(\n",
    "        pvmesh,\n",
    "        cmap=\"RdBu_r\",\n",
    "        edge_color=\"Grey\",\n",
    "        edge_opacity=0.33,\n",
    "        scalars=\"Omega\",\n",
    "        show_edges=True,\n",
    "        use_transparency=False,\n",
    "        opacity=0.75,\n",
    "        show_scalar_bar=False,\n",
    "    )\n",
    "\n",
    "    # Optional: plot streamlines\n",
    "    # pl.add_mesh(pvstream, opacity=0.3, show_scalar_bar=False, cmap=\"Greys_r\", render_lines_as_tubes=False)\n",
    "\n",
    "    pl.add_points(\n",
    "            passive_swarm_points,\n",
    "            color=\"Black\",\n",
    "            render_points_as_spheres=False,\n",
    "            point_size=4,\n",
    "            opacity=0.33,\n",
    "        )\n",
    "\n",
    "    # pl.add_arrows(pvmesh_v.points, pvmesh_v.point_data[\"V\"], mag=0.1)\n",
    "\n",
    "    #pl.camera_position = 'xy'\n",
    "    pl.camera.position = (2.0, 0.5, 4)\n",
    "    \n",
    "    pl.export_html(f\"html5/ns_flow_plot_{timestep}.html\")\n",
    "\n",
    "    pl.screenshot(f\"ns_flow_at_{timestep}.png\", window_size=(4000,1000), return_img=False)\n"
   ]
  },
  {
   "cell_type": "code",
   "execution_count": null,
   "id": "3775ea27-4d60-4675-a1cc-a9ba016b5d73",
   "metadata": {
    "scrolled": true
   },
   "outputs": [],
   "source": [
    "#| fig-cap: \"Interactive Image: Convection model output\"\n",
    "from IPython.display import IFrame\n",
    "IFrame(src=f\"html5/ns_flow_plot_{timestep}.html\", width=1000, height=400)"
   ]
  },
  {
   "cell_type": "markdown",
   "id": "c3d1d6ff-68ac-46c0-8a47-e29e95fed462",
   "metadata": {},
   "source": [
    "## Exercise - \n",
    "\n",
    "\n"
   ]
  },
  {
   "cell_type": "code",
   "execution_count": null,
   "id": "a36a3121-a2c2-4e11-b2a5-6086cb46a32b",
   "metadata": {},
   "outputs": [],
   "source": []
  }
 ],
 "metadata": {
  "kernelspec": {
   "display_name": "Python 3 (ipykernel)",
   "language": "python",
   "name": "python3"
  },
  "language_info": {
   "codemirror_mode": {
    "name": "ipython",
    "version": 3
   },
   "file_extension": ".py",
   "mimetype": "text/x-python",
   "name": "python",
   "nbconvert_exporter": "python",
   "pygments_lexer": "ipython3",
   "version": "3.11.7"
  }
 },
 "nbformat": 4,
 "nbformat_minor": 5
}
