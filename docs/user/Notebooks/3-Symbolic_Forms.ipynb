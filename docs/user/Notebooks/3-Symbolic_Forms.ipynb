{
 "cells": [
  {
   "cell_type": "markdown",
   "id": "cb4af50b-8394-4cc3-be06-eb580f220bcb",
   "metadata": {
    "execution": {
     "iopub.execute_input": "2024-09-12T00:04:30.730596Z",
     "iopub.status.busy": "2024-09-12T00:04:30.730017Z",
     "iopub.status.idle": "2024-09-12T00:04:30.735681Z",
     "shell.execute_reply": "2024-09-12T00:04:30.734651Z",
     "shell.execute_reply.started": "2024-09-12T00:04:30.730543Z"
    }
   },
   "source": [
    "# Notebook 3: Symbolic forms\n",
    "\n",
    "Underworld is deeply integrated with `sympy` [(www.sympy.org)](www.sympy.org) so that any mesh variable can also be used in a sympy expression. We already saw `sympy` expressions for the coordinates and coordinate directions.\n",
    "\n",
    "In the examples below, we use a simple 2D, Cartesian mesh because it is much simpler to see the various changes."
   ]
  },
  {
   "cell_type": "code",
   "execution_count": 25,
   "id": "48239b9a-b66c-4339-8c07-4eec79c216d6",
   "metadata": {
    "execution": {
     "iopub.execute_input": "2024-09-17T23:52:02.050243Z",
     "iopub.status.busy": "2024-09-17T23:52:02.044693Z",
     "iopub.status.idle": "2024-09-17T23:52:02.082405Z",
     "shell.execute_reply": "2024-09-17T23:52:02.080781Z",
     "shell.execute_reply.started": "2024-09-17T23:52:02.049687Z"
    }
   },
   "outputs": [],
   "source": [
    "#|  echo: false \n",
    "# This is required to fix pyvista \n",
    "# (visualisation) crashes in interactive notebooks (including on binder)\n",
    "\n",
    "import nest_asyncio\n",
    "nest_asyncio.apply()"
   ]
  },
  {
   "cell_type": "code",
   "execution_count": null,
   "id": "5a4437ff-63ae-4ffa-9f2b-8ec1b8b4baeb",
   "metadata": {
    "editable": true,
    "slideshow": {
     "slide_type": ""
    },
    "tags": []
   },
   "outputs": [],
   "source": [
    "import underworld3 as uw\n",
    "import numpy as np\n",
    "import sympy"
   ]
  },
  {
   "cell_type": "code",
   "execution_count": 3,
   "id": "51deb47c-0d19-4962-92a9-cda8ce60ee66",
   "metadata": {
    "execution": {
     "iopub.execute_input": "2024-09-17T10:36:04.077334Z",
     "iopub.status.busy": "2024-09-17T10:36:04.077172Z",
     "iopub.status.idle": "2024-09-17T10:36:04.342285Z",
     "shell.execute_reply": "2024-09-17T10:36:04.341954Z",
     "shell.execute_reply.started": "2024-09-17T10:36:04.077322Z"
    }
   },
   "outputs": [],
   "source": [
    "mesh = uw.meshing.UnstructuredSimplexBox(\n",
    "    minCoords = (-1.0, -1.0),\n",
    "    maxCoords = (+1.0, +1.0),\n",
    "    cellSize = 0.05,\n",
    "    regular=True,\n",
    "    verbose=False,\n",
    ")\n",
    "\n",
    "x,y = mesh.CoordinateSystem.X"
   ]
  },
  {
   "cell_type": "markdown",
   "id": "90261b77-87fb-4a26-a23a-91b19d7827a7",
   "metadata": {},
   "source": [
    "As before, we add discrete variables"
   ]
  },
  {
   "cell_type": "code",
   "execution_count": 4,
   "id": "82e5784c-7aa9-458f-bcb7-3a28cd73383b",
   "metadata": {
    "execution": {
     "iopub.execute_input": "2024-09-17T10:36:04.342853Z",
     "iopub.status.busy": "2024-09-17T10:36:04.342767Z",
     "iopub.status.idle": "2024-09-17T10:36:04.372008Z",
     "shell.execute_reply": "2024-09-17T10:36:04.371729Z",
     "shell.execute_reply.started": "2024-09-17T10:36:04.342843Z"
    }
   },
   "outputs": [],
   "source": [
    "# mesh variable example / test\n",
    "\n",
    "s1 = uw.discretisation.MeshVariable(\n",
    "    varname=\"S1\",\n",
    "    mesh=mesh, \n",
    "    vtype = uw.VarType.SCALAR,\n",
    "    varsymbol=r\"s_{[1]}\"\n",
    ")\n",
    "\n",
    "s2 = uw.discretisation.MeshVariable(\n",
    "    varname=\"S2\",\n",
    "    mesh=mesh, \n",
    "    vtype = uw.VarType.SCALAR,\n",
    "    varsymbol=r\"s_{[2]}\"\n",
    ")\n",
    "\n",
    "v = uw.discretisation.MeshVariable(\n",
    "    varname=\"V1\",\n",
    "    mesh=mesh, \n",
    "    degree=2,\n",
    "    vtype = uw.VarType.VECTOR,\n",
    "    varsymbol=r\"\\mathbf{v}\",\n",
    ")\n",
    "\n"
   ]
  },
  {
   "cell_type": "markdown",
   "id": "0d7d20a6-22cd-42df-918a-579ed3fa8789",
   "metadata": {},
   "source": [
    "## Symbolic forms, derivatives\n",
    "\n",
    "Variables can be part of complicated `sympy` expressions. It is important to note that all symbols are matrices and `sympy` can be fussy when it comes to operations with other matrices (scalars are not entirely equivalent to $1 \\times 1$ matrices)."
   ]
  },
  {
   "cell_type": "code",
   "execution_count": 5,
   "id": "9dfe76ec-abd0-479e-88b8-a5ee580f4093",
   "metadata": {
    "execution": {
     "iopub.execute_input": "2024-09-17T10:36:04.372546Z",
     "iopub.status.busy": "2024-09-17T10:36:04.372455Z",
     "iopub.status.idle": "2024-09-17T10:36:04.380371Z",
     "shell.execute_reply": "2024-09-17T10:36:04.379625Z",
     "shell.execute_reply.started": "2024-09-17T10:36:04.372536Z"
    },
    "scrolled": true
   },
   "outputs": [
    {
     "data": {
      "text/latex": [
       "$\\displaystyle {\\mathbf{v}}_{ 0 }(\\mathbf{x}) + {s_{[1]}}(\\mathbf{x}) + {s_{[2]}}(\\mathbf{x})$"
      ],
      "text/plain": [
       "{\\mathbf{v}}_{ 0 }(N.x, N.y) + {s_{[1]}}(N.x, N.y) + {s_{[2]}}(N.x, N.y)"
      ]
     },
     "execution_count": 5,
     "metadata": {},
     "output_type": "execute_result"
    }
   ],
   "source": [
    "s1.sym[0]+s2.sym[0] + v.sym[0]"
   ]
  },
  {
   "cell_type": "markdown",
   "id": "b1241470-e5fb-4f5a-8751-4c25b6df741e",
   "metadata": {},
   "source": [
    "Derivatives can be handled explicitly, but the mesh also provides vector operators and these are generally better because they are automatically consistent with the underlying coordinate system for the mesh. \n",
    "\n",
    "For compound expressions of variables, use `mesh.vector.curl(expression)` but for individual variables, `variable.curl()` is an equivalent shorthand."
   ]
  },
  {
   "cell_type": "code",
   "execution_count": 6,
   "id": "697e53f8-74f4-4af7-98c3-9492f281245b",
   "metadata": {
    "execution": {
     "iopub.execute_input": "2024-09-17T10:36:04.382812Z",
     "iopub.status.busy": "2024-09-17T10:36:04.382666Z",
     "iopub.status.idle": "2024-09-17T10:36:04.391789Z",
     "shell.execute_reply": "2024-09-17T10:36:04.391468Z",
     "shell.execute_reply.started": "2024-09-17T10:36:04.382802Z"
    }
   },
   "outputs": [
    {
     "data": {
      "text/latex": [
       "$\\displaystyle {s_{[1]}}_{,0}(\\mathbf{x}) + {s_{[1]}}_{,1}(\\mathbf{x})$"
      ],
      "text/plain": [
       "{s_{[1]}}_{,0}(N.x, N.y) + {s_{[1]}}_{,1}(N.x, N.y)"
      ]
     },
     "execution_count": 6,
     "metadata": {},
     "output_type": "execute_result"
    }
   ],
   "source": [
    "# grad by hand\n",
    "s1.sym[0].diff(x) + s1.sym[0].diff(y)"
   ]
  },
  {
   "cell_type": "code",
   "execution_count": 7,
   "id": "33012b7b-c7aa-4982-a9ce-6b08dd854106",
   "metadata": {
    "execution": {
     "iopub.execute_input": "2024-09-17T10:36:04.393103Z",
     "iopub.status.busy": "2024-09-17T10:36:04.392693Z",
     "iopub.status.idle": "2024-09-17T10:36:04.399622Z",
     "shell.execute_reply": "2024-09-17T10:36:04.398964Z",
     "shell.execute_reply.started": "2024-09-17T10:36:04.393091Z"
    }
   },
   "outputs": [
    {
     "data": {
      "text/latex": [
       "$\\displaystyle \\left[\\begin{matrix}{s_{[1]}}_{,0}(\\mathbf{x}) & {s_{[1]}}_{,1}(\\mathbf{x})\\end{matrix}\\right]$"
      ],
      "text/plain": [
       "Matrix([[{s_{[1]}}_{,0}(N.x, N.y), {s_{[1]}}_{,1}(N.x, N.y)]])"
      ]
     },
     "execution_count": 7,
     "metadata": {},
     "output_type": "execute_result"
    }
   ],
   "source": [
    "# grad\n",
    "s1.gradient()"
   ]
  },
  {
   "cell_type": "code",
   "execution_count": 8,
   "id": "425ea513-2ee3-4bd9-ae7b-77eda5dfa854",
   "metadata": {
    "execution": {
     "iopub.execute_input": "2024-09-17T10:36:04.400955Z",
     "iopub.status.busy": "2024-09-17T10:36:04.400863Z",
     "iopub.status.idle": "2024-09-17T10:36:04.409280Z",
     "shell.execute_reply": "2024-09-17T10:36:04.408515Z",
     "shell.execute_reply.started": "2024-09-17T10:36:04.400945Z"
    }
   },
   "outputs": [
    {
     "data": {
      "text/latex": [
       "$\\displaystyle - {\\mathbf{v}}_{ 0,1}(\\mathbf{x}) + {\\mathbf{v}}_{ 1,0}(\\mathbf{x})$"
      ],
      "text/plain": [
       "-{\\mathbf{v}}_{ 0,1}(N.x, N.y) + {\\mathbf{v}}_{ 1,0}(N.x, N.y)"
      ]
     },
     "execution_count": 8,
     "metadata": {},
     "output_type": "execute_result"
    }
   ],
   "source": [
    "v.curl()"
   ]
  },
  {
   "cell_type": "code",
   "execution_count": 9,
   "id": "92b7b74e-34c6-4def-bc05-09ae8baf786d",
   "metadata": {
    "execution": {
     "iopub.execute_input": "2024-09-17T10:36:04.410451Z",
     "iopub.status.busy": "2024-09-17T10:36:04.410158Z",
     "iopub.status.idle": "2024-09-17T10:36:04.426280Z",
     "shell.execute_reply": "2024-09-17T10:36:04.425661Z",
     "shell.execute_reply.started": "2024-09-17T10:36:04.410420Z"
    }
   },
   "outputs": [
    {
     "data": {
      "text/latex": [
       "$\\displaystyle - {\\mathbf{v}}_{ 0 }(\\mathbf{x}) {s_{[1]}}_{,1}(\\mathbf{x}) - {\\mathbf{v}}_{ 0,1}(\\mathbf{x}) {s_{[1]}}(\\mathbf{x}) + {\\mathbf{v}}_{ 1 }(\\mathbf{x}) {s_{[1]}}_{,0}(\\mathbf{x}) + {\\mathbf{v}}_{ 1,0}(\\mathbf{x}) {s_{[1]}}(\\mathbf{x})$"
      ],
      "text/plain": [
       "-{\\mathbf{v}}_{ 0 }(N.x, N.y)*{s_{[1]}}_{,1}(N.x, N.y) - {\\mathbf{v}}_{ 0,1}(N.x, N.y)*{s_{[1]}}(N.x, N.y) + {\\mathbf{v}}_{ 1 }(N.x, N.y)*{s_{[1]}}_{,0}(N.x, N.y) + {\\mathbf{v}}_{ 1,0}(N.x, N.y)*{s_{[1]}}(N.x, N.y)"
      ]
     },
     "execution_count": 9,
     "metadata": {},
     "output_type": "execute_result"
    }
   ],
   "source": [
    "# curl\n",
    "mesh.vector.curl(s1.sym * v.sym)"
   ]
  },
  {
   "cell_type": "code",
   "execution_count": 10,
   "id": "fc818dc7-9ef9-40cc-88af-cea0eb152851",
   "metadata": {
    "execution": {
     "iopub.execute_input": "2024-09-17T10:36:04.427793Z",
     "iopub.status.busy": "2024-09-17T10:36:04.427264Z",
     "iopub.status.idle": "2024-09-17T10:36:04.446596Z",
     "shell.execute_reply": "2024-09-17T10:36:04.445320Z",
     "shell.execute_reply.started": "2024-09-17T10:36:04.427699Z"
    }
   },
   "outputs": [
    {
     "data": {
      "text/latex": [
       "$\\displaystyle {\\mathbf{v}}_{ 0 }(\\mathbf{x}) {s_{[1]}}_{,0}(\\mathbf{x}) + {\\mathbf{v}}_{ 1 }(\\mathbf{x}) {s_{[1]}}_{,1}(\\mathbf{x})$"
      ],
      "text/plain": [
       "{\\mathbf{v}}_{ 0 }(N.x, N.y)*{s_{[1]}}_{,0}(N.x, N.y) + {\\mathbf{v}}_{ 1 }(N.x, N.y)*{s_{[1]}}_{,1}(N.x, N.y)"
      ]
     },
     "execution_count": 10,
     "metadata": {},
     "output_type": "execute_result"
    }
   ],
   "source": [
    "# v dot grad (scalar)... \n",
    "v.sym.dot(mesh.vector.gradient(s1.sym))"
   ]
  },
  {
   "cell_type": "markdown",
   "id": "3d5ad71d-9ff0-4523-99f5-cc5223bcf8bb",
   "metadata": {
    "execution": {
     "iopub.execute_input": "2024-09-13T02:05:21.624139Z",
     "iopub.status.busy": "2024-09-13T02:05:21.623702Z",
     "iopub.status.idle": "2024-09-13T02:05:21.743028Z",
     "shell.execute_reply": "2024-09-13T02:05:21.742509Z",
     "shell.execute_reply.started": "2024-09-13T02:05:21.624105Z"
    }
   },
   "source": [
    "Symbolic forms can be evaluated at points in the (meshed domain) using `uw.function.evaluate`. Pure sympy functions can be used to set values in the data container of a `meshVariable` object "
   ]
  },
  {
   "cell_type": "code",
   "execution_count": 17,
   "id": "333ea2f7-1df3-49f5-9f28-0dbebabae49b",
   "metadata": {
    "execution": {
     "iopub.execute_input": "2024-09-17T10:39:52.541541Z",
     "iopub.status.busy": "2024-09-17T10:39:52.541211Z",
     "iopub.status.idle": "2024-09-17T10:39:52.614595Z",
     "shell.execute_reply": "2024-09-17T10:39:52.614015Z",
     "shell.execute_reply.started": "2024-09-17T10:39:52.541527Z"
    }
   },
   "outputs": [],
   "source": [
    "with mesh.access(s1, s2):\n",
    "    s1.data[:,0] = uw.function.evaluate(sympy.cos(3 * sympy.pi * x)**2 , s1.coords)\n",
    "    s2.data[:,0] = uw.function.evaluate(sympy.sin(3 * sympy.pi * y)**2 , s2.coords)\n"
   ]
  },
  {
   "cell_type": "code",
   "execution_count": 26,
   "id": "2dfdd219-12a9-4049-b913-57795bd0cead",
   "metadata": {
    "execution": {
     "iopub.execute_input": "2024-09-17T23:56:07.072239Z",
     "iopub.status.busy": "2024-09-17T23:56:07.070899Z",
     "iopub.status.idle": "2024-09-17T23:56:07.126164Z",
     "shell.execute_reply": "2024-09-17T23:56:07.125384Z",
     "shell.execute_reply.started": "2024-09-17T23:56:07.072218Z"
    }
   },
   "outputs": [
    {
     "data": {
      "text/markdown": [
       "**Class**: <class 'underworld3.discretisation._MeshVariable'>"
      ],
      "text/plain": [
       "<IPython.core.display.Markdown object>"
      ]
     },
     "metadata": {},
     "output_type": "display_data"
    },
    {
     "data": {
      "text/markdown": [
       "**MeshVariable:**"
      ],
      "text/plain": [
       "<IPython.core.display.Markdown object>"
      ]
     },
     "metadata": {},
     "output_type": "display_data"
    },
    {
     "data": {
      "text/markdown": [
       "  > symbol:  ${s_{[1]}}$\n",
       "\n",
       "  > shape:   $(1, 1)$\n",
       "\n",
       "  > degree:  $1$\n",
       "\n",
       "  > continuous:  `True`\n",
       "\n",
       "  > type:    `SCALAR`"
      ],
      "text/plain": [
       "<IPython.core.display.Markdown object>"
      ]
     },
     "metadata": {},
     "output_type": "display_data"
    },
    {
     "data": {
      "text/markdown": [
       "**FE Data:**"
      ],
      "text/plain": [
       "<IPython.core.display.Markdown object>"
      ]
     },
     "metadata": {},
     "output_type": "display_data"
    },
    {
     "data": {
      "text/markdown": [
       "\n",
       "  > PETSc field id:  $0$ \n",
       "\n",
       "  > PETSc field name:   `S1` "
      ],
      "text/plain": [
       "<IPython.core.display.Markdown object>"
      ]
     },
     "metadata": {},
     "output_type": "display_data"
    },
    {
     "data": {
      "text/plain": [
       "array([[1.        ],\n",
       "       [1.        ],\n",
       "       [1.        ],\n",
       "       ...,\n",
       "       [0.79389263],\n",
       "       [0.79389263],\n",
       "       [0.79389263]])"
      ]
     },
     "metadata": {},
     "output_type": "display_data"
    }
   ],
   "source": [
    "s1.view()"
   ]
  },
  {
   "cell_type": "code",
   "execution_count": 98,
   "id": "3f4d24d4-ab30-4c0d-90a8-5293b69a0062",
   "metadata": {
    "editable": true,
    "execution": {
     "iopub.execute_input": "2024-09-18T10:59:50.552745Z",
     "iopub.status.busy": "2024-09-18T10:59:50.552169Z",
     "iopub.status.idle": "2024-09-18T10:59:50.724089Z",
     "shell.execute_reply": "2024-09-18T10:59:50.723788Z",
     "shell.execute_reply.started": "2024-09-18T10:59:50.552712Z"
    },
    "slideshow": {
     "slide_type": ""
    },
    "tags": []
   },
   "outputs": [],
   "source": [
    "# Visualise it / them\n",
    "\n",
    "import pyvista as pv\n",
    "import underworld3.visualisation as vis\n",
    "\n",
    "pvmesh = vis.mesh_to_pv_mesh(mesh)\n",
    "pvmesh.point_data[\"s1\"] = vis.scalar_fn_to_pv_points(pvmesh, s1.sym[0])\n",
    "pvmesh.point_data[\"s2\"] = vis.scalar_fn_to_pv_points(pvmesh, s2.sym[0])\n",
    "pvmesh.point_data[\"s1s2\"] = vis.scalar_fn_to_pv_points(pvmesh, s1.sym[0]*s2.sym[0])\n",
    "\n",
    "pvmesh.warp_by_scalar(scalars=\"s1s2\", factor=0.3, normal=(0,0,1), inplace=True)\n",
    "\n",
    "# pvmesh.plot(show_edges=True, show_scalar_bar=False)\n",
    "\n",
    "pl = pv.Plotter(window_size=(750, 750))\n",
    "\n",
    "pl.add_mesh(pvmesh, \n",
    "            show_edges=True,\n",
    "            edge_color=\"#4455FF\",\n",
    "            cmap=\"Greys\",\n",
    "            scalars=\"s1s2\", \n",
    "            show_scalar_bar=False)\n",
    "\n",
    "# Save and show the mesh\n",
    "\n",
    "pl.camera_position = 'yz'\n",
    "pl.camera.azimuth = 45\n",
    "pl.camera.elevation = 45\n",
    "\n",
    "pl.export_html(\"html5/sine_squared.html\")"
   ]
  },
  {
   "cell_type": "code",
   "execution_count": 99,
   "id": "0fc6a340-854a-4f66-aa89-a3fcf9d00cb9",
   "metadata": {
    "editable": true,
    "execution": {
     "iopub.execute_input": "2024-09-18T10:59:50.828789Z",
     "iopub.status.busy": "2024-09-18T10:59:50.828562Z",
     "iopub.status.idle": "2024-09-18T10:59:50.834685Z",
     "shell.execute_reply": "2024-09-18T10:59:50.834100Z",
     "shell.execute_reply.started": "2024-09-18T10:59:50.828776Z"
    },
    "slideshow": {
     "slide_type": ""
    },
    "tags": []
   },
   "outputs": [
    {
     "data": {
      "text/html": [
       "\n",
       "        <iframe\n",
       "            width=\"600\"\n",
       "            height=\"400\"\n",
       "            src=\"html5/sine_squared.html\"\n",
       "            frameborder=\"0\"\n",
       "            allowfullscreen\n",
       "            \n",
       "        ></iframe>\n",
       "        "
      ],
      "text/plain": [
       "<IPython.lib.display.IFrame at 0x31db22e50>"
      ]
     },
     "execution_count": 99,
     "metadata": {},
     "output_type": "execute_result"
    }
   ],
   "source": [
    "#| fig-cap: \"Interactive Image: Square mesh of triangular elements on which we evaluated a simple `sympy` function of position\"\n",
    "\n",
    "from IPython.display import IFrame\n",
    "IFrame(src=\"html5/sine_squared.html\", width=600, height=400)\n"
   ]
  },
  {
   "cell_type": "markdown",
   "id": "b123c610-9734-431b-9505-d4cc8f3e7934",
   "metadata": {},
   "source": [
    "## More information\n",
    "\n",
    "sympy documentation ... \n",
    "\n",
    "More examples ... \n",
    "\n"
   ]
  },
  {
   "cell_type": "code",
   "execution_count": null,
   "id": "337024af-77a1-42c0-80f9-2cfd9636720a",
   "metadata": {},
   "outputs": [],
   "source": []
  }
 ],
 "metadata": {
  "kernelspec": {
   "display_name": "Python 3 (ipykernel)",
   "language": "python",
   "name": "python3"
  },
  "language_info": {
   "codemirror_mode": {
    "name": "ipython",
    "version": 3
   },
   "file_extension": ".py",
   "mimetype": "text/x-python",
   "name": "python",
   "nbconvert_exporter": "python",
   "pygments_lexer": "ipython3",
   "version": "3.11.7"
  }
 },
 "nbformat": 4,
 "nbformat_minor": 5
}
