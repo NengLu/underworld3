{
 "cells": [
  {
   "cell_type": "markdown",
   "id": "26d2a9ca-c094-40f2-b978-333c14142874",
   "metadata": {},
   "source": [
    "\n",
    "\n",
    "<div style=\"float: right; width: 40%\">\n",
    "<img src=\"media/AnnulusConvectionModel.png\" width=100%>\n",
    "<caption>\n",
    "<i>\n",
    "    Convection solution in an annulus with fixed inner, \n",
    "    outer temperatures and free slip boundaries For details,\n",
    "    see the notebook code.\n",
    "</i>\n",
    "</caption>\n",
    "</div>\n",
    "\n",
    "# Notebook 6: Time-dependence\n",
    "\n",
    "\n",
    "We'll look at a convection problem which couples Stokes Flow with time-dependent advection/diffusion.\n",
    "\n",
    "The starting point is our previous notebook where we solved for Stokes\n",
    "flow in a cylindrical annulus geometry. We then add an advection-diffusion \n",
    "solver to evolve temperature. The Stokes buoyancy force is proportional to the\n",
    "temperature anomaly, and the velocity solution is fed back into the \n",
    "temperature advection term.\n"
   ]
  },
  {
   "cell_type": "code",
   "execution_count": 1,
   "id": "0974f1a1-60dd-4d52-9855-79e8030450e9",
   "metadata": {},
   "outputs": [],
   "source": [
    "#|  echo: false  # Hide in html version\n",
    "\n",
    "# This is required to fix pyvista \n",
    "# (visualisation) crashes in interactive notebooks (including on binder)\n",
    "\n",
    "import nest_asyncio\n",
    "nest_asyncio.apply()"
   ]
  },
  {
   "cell_type": "code",
   "execution_count": 2,
   "id": "dddf1a25-1d89-4c39-90dc-9ca5a45db5dd",
   "metadata": {},
   "outputs": [
    {
     "name": "stderr",
     "output_type": "stream",
     "text": [
      "[esdhcp-137.anu.edu.au:15807] shmem: mmap: an error occurred while determining whether or not /var/folders/tx/95gr762j29z4tt5d1dnqlgth0000gn/T//ompi.esdhcp-137.501/jf.0/1663434752/sm_segment.esdhcp-137.501.63260000.0 could be created.\n"
     ]
    }
   ],
   "source": [
    "#| output: false # Suppress warnings in html version\n",
    "\n",
    "import underworld3 as uw\n",
    "import numpy as np\n",
    "import sympy"
   ]
  },
  {
   "cell_type": "code",
   "execution_count": 3,
   "id": "d17b5f9b-d00e-43c2-ba10-b9a8920aa3be",
   "metadata": {},
   "outputs": [],
   "source": [
    "res = 10\n",
    "r_o = 1.0\n",
    "r_i = 0.55\n",
    "\n",
    "rayleigh_number = 3.0e4\n",
    "\n",
    "meshball = uw.meshing.Annulus(radiusOuter=r_o, \n",
    "                              radiusInner=r_i, \n",
    "                              cellSize=1/res,\n",
    "                              qdegree=3,\n",
    "                             )\n",
    "\n",
    "# Coordinate directions etc\n",
    "x, y = meshball.CoordinateSystem.X\n",
    "r, th = meshball.CoordinateSystem.xR\n",
    "unit_rvec = meshball.CoordinateSystem.unit_e_0\n",
    "\n",
    "# Orientation of surface normals\n",
    "Gamma_N = unit_rvec"
   ]
  },
  {
   "cell_type": "code",
   "execution_count": 4,
   "id": "377301f7-9596-4216-917f-fc5dca474c0d",
   "metadata": {},
   "outputs": [],
   "source": [
    "# Mesh variables for the unknowns\n",
    "\n",
    "v_soln = uw.discretisation.MeshVariable(\"V0\", meshball, 2, degree=2, varsymbol=r\"{v_0}\")\n",
    "p_soln = uw.discretisation.MeshVariable(\"p\", meshball, 1, degree=1, continuous=True)\n",
    "t_soln = uw.discretisation.MeshVariable(\"T\", meshball, 1, degree=3, continuous=True)"
   ]
  },
  {
   "cell_type": "markdown",
   "id": "c93891fa-b8ce-432d-83ae-1980914995f6",
   "metadata": {},
   "source": [
    "### Create linked solvers\n",
    "\n",
    "We create the Stokes solver as we did in the previous notebook. \n",
    "The buoyancy force is proportional to the temperature anomaly\n",
    "(`t_soln`). Solvers can either be provided with unknowns as pre-defined\n",
    "meshVariables, or they will define their own. When solvers are coupled,\n",
    "explicitly defining unknowns makes everything clearer.\n",
    "\n",
    "The advection-diffusion solver evolved `t_soln` using the Stokes\n",
    "velocity `v_soln` in the fluid-transport term. \n",
    "\n",
    "### Curved free-slip boundaries\n",
    "\n",
    "In the annulus, a free slip boundary corresponds to zero radial \n",
    "velocity. However, in this mesh, $v_r$ is not one of the unknowns\n",
    "($\\mathbf{v} = (v_x, v_y)$). We apply a non linear boundary condition that\n",
    "penalises $v_r$ on the boundary as discussed previously in Example 5. "
   ]
  },
  {
   "cell_type": "code",
   "execution_count": 5,
   "id": "3f3c3875-4ba1-4e99-a793-3446af229b6d",
   "metadata": {},
   "outputs": [],
   "source": [
    "stokes = uw.systems.Stokes(\n",
    "    meshball, velocityField=v_soln, pressureField=p_soln, solver_name=\"stokes\"\n",
    ")\n",
    "\n",
    "stokes.bodyforce = rayleigh_number * t_soln.sym * unit_rvec\n",
    "\n",
    "stokes.constitutive_model = uw.constitutive_models.ViscousFlowModel\n",
    "stokes.constitutive_model.Parameters.shear_viscosity_0 = 1\n",
    "stokes.tolerance = 1.0e-3\n",
    "\n",
    "stokes.petsc_options[\"fieldsplit_velocity_mg_coarse_pc_type\"] = \"svd\"\n",
    "\n",
    "stokes.add_natural_bc(10000 * Gamma_N.dot(v_soln.sym) *  Gamma_N, \"Upper\")\n",
    "\n",
    "if r_i != 0.0:\n",
    "    stokes.add_natural_bc(10000 * Gamma_N.dot(v_soln.sym) *  Gamma_N, \"Lower\")"
   ]
  },
  {
   "cell_type": "code",
   "execution_count": 6,
   "id": "61f1c083-ce57-420c-87ee-32a0c546e40f",
   "metadata": {},
   "outputs": [],
   "source": [
    "# Create solver for the energy equation (Advection-Diffusion of temperature)\n",
    "\n",
    "adv_diff = uw.systems.AdvDiffusion(\n",
    "    meshball,\n",
    "    u_Field=t_soln,\n",
    "    V_fn=v_soln,\n",
    "    solver_name=\"adv_diff\",\n",
    "    order=1,\n",
    "    verbose=False,\n",
    ")\n",
    "\n",
    "adv_diff.constitutive_model = uw.constitutive_models.DiffusionModel\n",
    "adv_diff.constitutive_model.Parameters.diffusivity = 1\n",
    "\n",
    "## Boundary conditions for this solver\n",
    "\n",
    "adv_diff.add_dirichlet_bc(+1.0, \"Lower\")\n",
    "adv_diff.add_dirichlet_bc(-0.0, \"Upper\")"
   ]
  },
  {
   "cell_type": "markdown",
   "id": "b76fd635-606b-446e-9f79-b1dde4939a05",
   "metadata": {},
   "source": [
    "#### Underworld expressions\n",
    "\n",
    "Note that "
   ]
  },
  {
   "cell_type": "code",
   "execution_count": 7,
   "id": "1ddd1c6e-0847-4add-af60-032f039c2315",
   "metadata": {},
   "outputs": [
    {
     "data": {
      "text/plain": [
       "underworld3.function.expressions.UWexpression"
      ]
     },
     "metadata": {},
     "output_type": "display_data"
    },
    {
     "data": {
      "text/plain": [
       "underworld3.function.expressions.UWexpression"
      ]
     },
     "metadata": {},
     "output_type": "display_data"
    },
    {
     "data": {
      "text/latex": [
       "$\\displaystyle 1$"
      ],
      "text/plain": [
       "1"
      ]
     },
     "execution_count": 7,
     "metadata": {},
     "output_type": "execute_result"
    }
   ],
   "source": [
    "display(type(stokes.constitutive_model.Parameters.shear_viscosity_0))\n",
    "display(type(adv_diff.constitutive_model.Parameters.diffusivity))\n",
    "\n",
    "stokes.constitutive_model.Parameters.shear_viscosity_0.sym\n"
   ]
  },
  {
   "cell_type": "markdown",
   "id": "606ab233-9562-478a-ba15-5b2f801789fd",
   "metadata": {},
   "source": [
    "### Initial condition\n",
    "\n",
    "We need to set an initial condition for the temperature field as the \n",
    "coupled system is an initial value problem. Choose whatever works but\n",
    "remember that the boundary conditions will over-rule values you set on \n",
    "the lower and upper boundaries."
   ]
  },
  {
   "cell_type": "code",
   "execution_count": 8,
   "id": "366ce888-c27a-4a30-bca0-ad406ccaa34c",
   "metadata": {},
   "outputs": [],
   "source": [
    "# Initial temperature\n",
    "\n",
    "init_t = 0.1 * sympy.sin(3 * th) * sympy.cos(np.pi * (r - r_i) / (r_o - r_i)) + (\n",
    "    r_o - r\n",
    ") / (r_o - r_i)\n",
    "\n",
    "with meshball.access(t_soln):\n",
    "    t_soln.data[:,0] = uw.function.evaluate(init_t, t_soln.coords)\n"
   ]
  },
  {
   "cell_type": "markdown",
   "id": "99b3d65e-8702-418f-9da7-8d4c0d1508c2",
   "metadata": {},
   "source": [
    "#### Initial velocity solve\n",
    "\n",
    "The first solve allows us to determine the magnitude of the velocity field \n",
    "and is useful to keep separated to check convergence rates etc. \n",
    "\n",
    "For non-linear problems, we usually need an initial guess using a \n",
    "reasonably close linear problem. \n",
    "\n",
    "`zero_init_guess` is used to reset any information in the vector of \n",
    "unknowns (i.e. do not use any initial information if `zero_init_guess==True`)."
   ]
  },
  {
   "cell_type": "code",
   "execution_count": 9,
   "id": "51f82885-0b41-4454-9953-ac7ea23e38e3",
   "metadata": {},
   "outputs": [],
   "source": [
    "stokes.solve(zero_init_guess=True)"
   ]
  },
  {
   "cell_type": "code",
   "execution_count": 10,
   "id": "1c660972-f858-43bc-a6c4-5e09cc8f9fdf",
   "metadata": {},
   "outputs": [],
   "source": [
    "# Keep the initialisation separate\n",
    "# so we can run the loop again in a notebook\n",
    "\n",
    "max_steps = 50\n",
    "timestep = 0\n",
    "elapsed_time = 0.0"
   ]
  },
  {
   "cell_type": "code",
   "execution_count": 11,
   "id": "2993d3aa-6355-408b-ab60-cf80aebbf0cb",
   "metadata": {},
   "outputs": [],
   "source": [
    "adv_diff.solve(timestep=0.1)"
   ]
  },
  {
   "cell_type": "code",
   "execution_count": 12,
   "id": "8db49d4c-9dcd-4920-901a-65cf8d0056db",
   "metadata": {},
   "outputs": [
    {
     "name": "stdout",
     "output_type": "stream",
     "text": [
      "Timestep: 1, time 0.0015310756944410533\n",
      "Timestep: 2, time 0.0030621513888821066\n",
      "Timestep: 3, time 0.00459322708332316\n",
      "Timestep: 4, time 0.006124302777764213\n",
      "Timestep: 5, time 0.007655378472205266\n",
      "Timestep: 6, time 0.00918645416664632\n",
      "Timestep: 7, time 0.010717529861087373\n",
      "Timestep: 8, time 0.012248605555528426\n",
      "Timestep: 9, time 0.013622060715000588\n",
      "Timestep: 10, time 0.014726556792977562\n",
      "Timestep: 11, time 0.015658179660371873\n",
      "Timestep: 12, time 0.01647238067478833\n",
      "Timestep: 13, time 0.017200669027347088\n",
      "Timestep: 14, time 0.017865034908198848\n",
      "Timestep: 15, time 0.018483067262087143\n",
      "Timestep: 16, time 0.01906720773895786\n",
      "Timestep: 17, time 0.019626936394568216\n",
      "Timestep: 18, time 0.02016684364949837\n",
      "Timestep: 19, time 0.02069319742706122\n",
      "Timestep: 20, time 0.02121125820906285\n",
      "Timestep: 21, time 0.02172549475551542\n",
      "Timestep: 22, time 0.022239794346517582\n",
      "Timestep: 23, time 0.022757586703704345\n",
      "Timestep: 24, time 0.023281923730670128\n",
      "Timestep: 25, time 0.023815525765879905\n",
      "Timestep: 26, time 0.024360798189496314\n",
      "Timestep: 27, time 0.024919823179536605\n",
      "Timestep: 28, time 0.02549433727081592\n",
      "Timestep: 29, time 0.02608568987333779\n",
      "Timestep: 30, time 0.026692218876534543\n",
      "Timestep: 31, time 0.027312103458661804\n",
      "Timestep: 32, time 0.02794393003865055\n",
      "Timestep: 33, time 0.02858711225384923\n",
      "Timestep: 34, time 0.029240839174645816\n",
      "Timestep: 35, time 0.029904104575193727\n",
      "Timestep: 36, time 0.030575672325939954\n",
      "Timestep: 37, time 0.031254240124753016\n",
      "Timestep: 38, time 0.031936179163276394\n",
      "Timestep: 39, time 0.03262002075047478\n",
      "Timestep: 40, time 0.03330476637324635\n",
      "Timestep: 41, time 0.033989656794384406\n",
      "Timestep: 42, time 0.03467419044519877\n",
      "Timestep: 43, time 0.03535812381466071\n",
      "Timestep: 44, time 0.03604145775318859\n",
      "Timestep: 45, time 0.0367244116173323\n",
      "Timestep: 46, time 0.03740739773850758\n",
      "Timestep: 47, time 0.038088771661049264\n",
      "Timestep: 48, time 0.03876555456633082\n",
      "Timestep: 49, time 0.03943860149344501\n",
      "Timestep: 50, time 0.040108815466211735\n"
     ]
    }
   ],
   "source": [
    "# Null space ?\n",
    "\n",
    "for step in range(0, max_steps):\n",
    "\n",
    "    stokes.solve(zero_init_guess=False)\n",
    "    delta_t = adv_diff.estimate_dt() \n",
    "    adv_diff.solve(timestep=delta_t)\n",
    "\n",
    "    timestep += 1\n",
    "    elapsed_time += delta_t\n",
    "\n",
    "    print(f\"Timestep: {timestep}, time {elapsed_time}\")"
   ]
  },
  {
   "cell_type": "code",
   "execution_count": 13,
   "id": "811239df-5cb6-4e2e-a7af-7004fa9d3306",
   "metadata": {},
   "outputs": [
    {
     "ename": "ZeroDivisionError",
     "evalue": "division by zero",
     "output_type": "error",
     "traceback": [
      "\u001b[0;31m---------------------------------------------------------------------------\u001b[0m",
      "\u001b[0;31mZeroDivisionError\u001b[0m                         Traceback (most recent call last)",
      "Cell \u001b[0;32mIn[13], line 1\u001b[0m\n\u001b[0;32m----> 1\u001b[0m \u001b[38;5;241;43m0\u001b[39;49m\u001b[38;5;241;43m/\u001b[39;49m\u001b[38;5;241;43m0\u001b[39;49m\n",
      "\u001b[0;31mZeroDivisionError\u001b[0m: division by zero"
     ]
    }
   ],
   "source": [
    "0/0"
   ]
  },
  {
   "cell_type": "code",
   "execution_count": null,
   "id": "09e26f46-452e-49ec-8180-103163cc4fc2",
   "metadata": {},
   "outputs": [],
   "source": [
    "# visualise it\n",
    "\n",
    "\n",
    "if uw.mpi.size == 1:\n",
    "    import pyvista as pv\n",
    "    import underworld3.visualisation as vis\n",
    "\n",
    "    pvmesh = vis.mesh_to_pv_mesh(meshball)\n",
    "    pvmesh.point_data[\"P\"] = vis.scalar_fn_to_pv_points(pvmesh, p_soln.sym)\n",
    "    pvmesh.point_data[\"V\"] = vis.vector_fn_to_pv_points(pvmesh, v_soln.sym)\n",
    "    pvmesh.point_data[\"T\"] = vis.scalar_fn_to_pv_points(pvmesh, t_soln.sym)\n",
    "    \n",
    "    pvmesh_t = vis.meshVariable_to_pv_mesh_object(t_soln)\n",
    "    pvmesh_t.point_data[\"T\"] = vis.scalar_fn_to_pv_points(pvmesh_t, t_soln.sym)\n",
    "\n",
    "    \n",
    "    skip = 1\n",
    "    points = np.zeros((meshball._centroids[::skip].shape[0], 3))\n",
    "    points[:, 0] = meshball._centroids[::skip, 0]\n",
    "    points[:, 1] = meshball._centroids[::skip, 1]\n",
    "    point_cloud = pv.PolyData(points)\n",
    "\n",
    "    pvstream = pvmesh.streamlines_from_source(\n",
    "        point_cloud, vectors=\"V\", \n",
    "        integration_direction=\"both\", \n",
    "        integrator_type=45,\n",
    "        surface_streamlines=True,\n",
    "        initial_step_length=0.01,\n",
    "        max_time=1.0,\n",
    "        max_steps=500, \n",
    "    )\n",
    "   \n",
    "\n",
    "    pl = pv.Plotter(window_size=(750, 750))\n",
    "\n",
    "    pl.add_mesh(\n",
    "        pvmesh_t,\n",
    "        cmap=\"RdBu_r\",\n",
    "        edge_color=\"Grey\",\n",
    "        edge_opacity=0.33,\n",
    "        scalars=\"T\",\n",
    "        show_edges=True,\n",
    "        use_transparency=False,\n",
    "        opacity=1.0,\n",
    "        show_scalar_bar=False,\n",
    "    )\n",
    "\n",
    "\n",
    "    pl.add_mesh(pvstream, opacity=0.3, show_scalar_bar=False, cmap=\"Greens\", render_lines_as_tubes=False)\n",
    "\n",
    "    pl.export_html(\"html5/annulus_convection_plot.html\")\n",
    "    # pl.show(cpos=\"xy\", jupyter_backend=\"trame\")"
   ]
  },
  {
   "cell_type": "code",
   "execution_count": null,
   "id": "3775ea27-4d60-4675-a1cc-a9ba016b5d73",
   "metadata": {},
   "outputs": [],
   "source": [
    "#| fig-cap: \"Interactive Image: Convection model output\"\n",
    "from IPython.display import IFrame\n",
    "IFrame(src=\"html5/annulus_convection_plot.html\", width=500, height=400)"
   ]
  },
  {
   "cell_type": "markdown",
   "id": "c3d1d6ff-68ac-46c0-8a47-e29e95fed462",
   "metadata": {},
   "source": [
    "## Exercise - Null space\n",
    "\n",
    "Based on our previous notebook, can you see how to remove the rigid-body rotation \n",
    "null-space from the solution ?\n",
    "\n",
    "## Exercise - Heat flux\n",
    "\n",
    "Could you calculate the radial heat flux field ? Its surface average value plotted against\n",
    "time tells you if you have reached a steady state.\n",
    "\n",
    "Hint:\n",
    "\n",
    "$$\n",
    "    Q_\\textrm{surf} = \\nabla T \\cdot \\hat{r} + T (\\mathbf{v} \\cdot \\hat{r} )\n",
    "$$ \n",
    "\n",
    "```python\n",
    "    Q_surf = -meshball.vector.gradient(t_soln.sym).dot(unit_rvec) +\\\n",
    "                    t_soln.sym[0] * v_soln.sym.dot(unit_rvec)\n",
    "```\n",
    "\n",
    "\n"
   ]
  },
  {
   "cell_type": "code",
   "execution_count": null,
   "id": "9f76dfeb-5c4a-4c4c-a790-14ef030f6256",
   "metadata": {},
   "outputs": [],
   "source": []
  },
  {
   "cell_type": "code",
   "execution_count": null,
   "id": "94e60f1a-7e7f-447a-9539-66c1a29e8da3",
   "metadata": {},
   "outputs": [],
   "source": []
  },
  {
   "cell_type": "code",
   "execution_count": null,
   "id": "a237b652-89a0-4aa7-ad07-14c633de9a5a",
   "metadata": {},
   "outputs": [],
   "source": []
  }
 ],
 "metadata": {
  "kernelspec": {
   "display_name": "Python 3 (ipykernel)",
   "language": "python",
   "name": "python3"
  },
  "language_info": {
   "codemirror_mode": {
    "name": "ipython",
    "version": 3
   },
   "file_extension": ".py",
   "mimetype": "text/x-python",
   "name": "python",
   "nbconvert_exporter": "python",
   "pygments_lexer": "ipython3",
   "version": "3.11.7"
  }
 },
 "nbformat": 4,
 "nbformat_minor": 5
}
