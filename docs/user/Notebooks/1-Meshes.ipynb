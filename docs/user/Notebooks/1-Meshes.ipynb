{
 "cells": [
  {
   "cell_type": "markdown",
   "id": "cb4af50b-8394-4cc3-be06-eb580f220bcb",
   "metadata": {
    "execution": {
     "iopub.execute_input": "2024-09-12T00:04:30.730596Z",
     "iopub.status.busy": "2024-09-12T00:04:30.730017Z",
     "iopub.status.idle": "2024-09-12T00:04:30.735681Z",
     "shell.execute_reply": "2024-09-12T00:04:30.734651Z",
     "shell.execute_reply.started": "2024-09-12T00:04:30.730543Z"
    }
   },
   "source": [
    "# Notebook 1: Meshes\n",
    "\n",
    "Introducing meshes and how to visualise them\n",
    "\n"
   ]
  },
  {
   "cell_type": "code",
   "execution_count": 1,
   "id": "48239b9a-b66c-4339-8c07-4eec79c216d6",
   "metadata": {
    "editable": true,
    "execution": {
     "iopub.execute_input": "2024-09-18T06:01:05.438773Z",
     "iopub.status.busy": "2024-09-18T06:01:05.438568Z",
     "iopub.status.idle": "2024-09-18T06:01:05.450090Z",
     "shell.execute_reply": "2024-09-18T06:01:05.449500Z",
     "shell.execute_reply.started": "2024-09-18T06:01:05.438743Z"
    },
    "slideshow": {
     "slide_type": ""
    },
    "tags": []
   },
   "outputs": [],
   "source": [
    "#|  echo: false\n",
    "\n",
    "# This is required to fix pyvista \n",
    "# (visualisation) crashes in interactive notebooks (including on binder)\n",
    "\n",
    "import nest_asyncio\n",
    "nest_asyncio.apply()"
   ]
  },
  {
   "cell_type": "code",
   "execution_count": 2,
   "id": "5a4437ff-63ae-4ffa-9f2b-8ec1b8b4baeb",
   "metadata": {
    "editable": true,
    "execution": {
     "iopub.execute_input": "2024-09-18T06:01:05.451534Z",
     "iopub.status.busy": "2024-09-18T06:01:05.451136Z",
     "iopub.status.idle": "2024-09-18T06:01:08.960039Z",
     "shell.execute_reply": "2024-09-18T06:01:08.959502Z",
     "shell.execute_reply.started": "2024-09-18T06:01:05.451509Z"
    },
    "scrolled": true,
    "slideshow": {
     "slide_type": ""
    },
    "tags": []
   },
   "outputs": [
    {
     "name": "stderr",
     "output_type": "stream",
     "text": [
      "[esdhcp-137.anu.edu.au:32788] shmem: mmap: an error occurred while determining whether or not /var/folders/tx/95gr762j29z4tt5d1dnqlgth0000gn/T//ompi.esdhcp-137.501/jf.0/3384344576/sm_segment.esdhcp-137.501.c9b90000.0 could be created.\n"
     ]
    }
   ],
   "source": [
    "#| output: false # Suppress warnings in html version\n",
    "\n",
    "import underworld3 as uw\n",
    "import numpy as np\n",
    "import sympy"
   ]
  },
  {
   "cell_type": "code",
   "execution_count": 3,
   "id": "1c928d60-24a9-4415-ab22-41834695c70a",
   "metadata": {
    "editable": true,
    "execution": {
     "iopub.execute_input": "2024-09-18T06:01:08.961224Z",
     "iopub.status.busy": "2024-09-18T06:01:08.960963Z",
     "iopub.status.idle": "2024-09-18T06:01:09.997574Z",
     "shell.execute_reply": "2024-09-18T06:01:09.996912Z",
     "shell.execute_reply.started": "2024-09-18T06:01:08.961203Z"
    },
    "slideshow": {
     "slide_type": ""
    },
    "tags": []
   },
   "outputs": [],
   "source": [
    "mesh = uw.meshing.uw.meshing.CubedSphere(\n",
    "    radiusOuter=1.0,\n",
    "    radiusInner=0.547,\n",
    "    numElements=8,\n",
    "    simplex=False,\n",
    "    verbose=False,\n",
    ")"
   ]
  },
  {
   "cell_type": "markdown",
   "id": "1ed56724-adc5-49c6-a33b-4552b619cb07",
   "metadata": {
    "editable": true,
    "slideshow": {
     "slide_type": ""
    },
    "tags": []
   },
   "source": [
    "There are other pre-built meshes you can try. This is a cuboid divided into regular tetrahedra:\n",
    "\n",
    "```python\n",
    "mesh_usb = uw.meshing.UnstructuredSimplexBox(\n",
    "    minCoords = (-1.0, -1.0, -1.0),\n",
    "    maxCoords = (+1.0, +1.0, +1.0),\n",
    "    cellSize = 0.2,\n",
    "    regular=True,\n",
    "    verbose=False,\n",
    ")\n",
    "```\n",
    "\n",
    "and this is a two-dimensional annulus mesh\n",
    "\n",
    "\n",
    "```python\n",
    "mesh_ann = uw.meshing.Annulus(\n",
    "    radiusOuter=1.0,\n",
    "    radiusInner=0.547,\n",
    "    cellSize= 0.5,\n",
    "    cellSizeOuter=0.033,\n",
    "    cellSizeInner=0.05,\n",
    "    verbose=False,\n",
    ")\n",
    "```\n",
    "\n",
    "The meshing infrastructure for underworld3 is documented here: https://underworldcode.github.io/underworld3/main_api/underworld3/meshing.html"
   ]
  },
  {
   "cell_type": "code",
   "execution_count": null,
   "id": "1cb8378c-cdb8-4e75-bd12-e85f12169ef7",
   "metadata": {
    "editable": true,
    "execution": {
     "iopub.execute_input": "2024-09-18T06:01:09.999727Z",
     "iopub.status.busy": "2024-09-18T06:01:09.999048Z",
     "iopub.status.idle": "2024-09-18T06:01:11.640138Z",
     "shell.execute_reply": "2024-09-18T06:01:11.639639Z",
     "shell.execute_reply.started": "2024-09-18T06:01:09.999695Z"
    },
    "slideshow": {
     "slide_type": ""
    },
    "tags": []
   },
   "outputs": [],
   "source": [
    "\n",
    "\n",
    "import pyvista as pv\n",
    "import underworld3.visualisation as vis\n",
    "\n",
    "# Try out each one !\n",
    "\n",
    "pvmesh = vis.mesh_to_pv_mesh(mesh)\n",
    "pvmesh.point_data[\"z\"] = vis.scalar_fn_to_pv_points(pvmesh, mesh.CoordinateSystem.X[2])\n",
    "\n",
    "if mesh.dim==3:\n",
    "    pvmesh_c = pvmesh.clip( normal='z', crinkle=True, inplace=False, origin=(0.0,0.0,0.01))\n",
    "\n",
    "pl = pv.Plotter(window_size=(750, 750))\n",
    "pl.add_mesh(pvmesh_c, show_edges=True, show_scalar_bar=False, opacity=1.0)\n",
    "pl.add_mesh(pvmesh, show_edges=True, show_scalar_bar=False, opacity=0.3)\n",
    "\n",
    "\n",
    "# Save and show the mesh\n",
    "pl.export_html(\"html5/spherical_mesh_plot.html\")"
   ]
  },
  {
   "cell_type": "code",
   "execution_count": 6,
   "id": "fd6cbed0-3159-4c6c-a482-6a9636158854",
   "metadata": {
    "editable": true,
    "execution": {
     "iopub.execute_input": "2024-09-18T07:13:19.494442Z",
     "iopub.status.busy": "2024-09-18T07:13:19.493771Z",
     "iopub.status.idle": "2024-09-18T07:13:19.502633Z",
     "shell.execute_reply": "2024-09-18T07:13:19.501411Z",
     "shell.execute_reply.started": "2024-09-18T07:13:19.494370Z"
    },
    "slideshow": {
     "slide_type": ""
    },
    "tags": []
   },
   "outputs": [
    {
     "data": {
      "text/html": [
       "\n",
       "        <iframe\n",
       "            width=\"600\"\n",
       "            height=\"400\"\n",
       "            src=\"html5/spherical_mesh_plot.html\"\n",
       "            frameborder=\"0\"\n",
       "            allowfullscreen\n",
       "            \n",
       "        ></iframe>\n",
       "        "
      ],
      "text/plain": [
       "<IPython.lib.display.IFrame at 0x10b0e3850>"
      ]
     },
     "execution_count": 6,
     "metadata": {},
     "output_type": "execute_result"
    }
   ],
   "source": [
    "#| fig-cap: \"Interactive Image: Spherical shell mesh cut in half and overlain with transparent view of the whole mesh. Cubed sphere discretisation using hexahedral elements\"\n",
    "\n",
    "from IPython.display import IFrame\n",
    "IFrame(src=\"html5/spherical_mesh_plot.html\", width=600, height=400)"
   ]
  },
  {
   "cell_type": "markdown",
   "id": "17bb771f-d60d-420a-8ee3-be8168d1c18d",
   "metadata": {
    "editable": true,
    "slideshow": {
     "slide_type": ""
    },
    "tags": []
   },
   "source": [
    "### Coordinate systems\n",
    "\n",
    "The mesh has an associated \"natural\" coordinate system (usually Cartesian), but it may also have other, more convenient, coordinate systems. \n",
    "\n",
    "For example, the spherical mesh above has a Cartesian coordinate system which is the one used to navigate the mesh and describe the location of each point. It also has a spherical $(r, \\theta, \\phi)$ system which is **symbolic** and can be expanded in terms of the Cartesian coordinates."
   ]
  },
  {
   "cell_type": "code",
   "execution_count": 5,
   "id": "610fdf53-e3c8-462f-82c9-7aef24920a34",
   "metadata": {
    "execution": {
     "iopub.execute_input": "2024-09-18T06:01:11.641775Z",
     "iopub.status.busy": "2024-09-18T06:01:11.641124Z",
     "iopub.status.idle": "2024-09-18T06:01:11.670684Z",
     "shell.execute_reply": "2024-09-18T06:01:11.669985Z",
     "shell.execute_reply.started": "2024-09-18T06:01:11.641753Z"
    }
   },
   "outputs": [
    {
     "data": {
      "text/latex": [
       "$\\displaystyle \\left[\\begin{matrix}\\mathrm{x} & \\mathrm{y} & \\mathrm{z}\\end{matrix}\\right]$"
      ],
      "text/plain": [
       "Matrix([[N.x, N.y, N.z]])"
      ]
     },
     "metadata": {},
     "output_type": "display_data"
    },
    {
     "data": {
      "text/latex": [
       "$\\displaystyle \\left[\\begin{matrix}{ {  } r } & { { \\,\\! } \\theta } & { { \\,\\!\\,\\! } \\phi }\\end{matrix}\\right]$"
      ],
      "text/plain": [
       "Matrix([[{ {  } r }, { { \\,\\! } \\theta }, { { \\,\\!\\,\\! } \\phi }]])"
      ]
     },
     "metadata": {},
     "output_type": "display_data"
    },
    {
     "data": {
      "text/latex": [
       "$\\displaystyle \\left[\\begin{matrix}\\sqrt{\\mathrm{x}^{2} + \\mathrm{y}^{2} + \\mathrm{z}^{2}} & \\operatorname{acos}{\\left(\\frac{\\mathrm{z}}{\\sqrt{\\mathrm{x}^{2} + \\mathrm{y}^{2} + \\mathrm{z}^{2}}} \\right)} & \\operatorname{atan}_{2}{\\left(\\mathrm{y},\\mathrm{x} \\right)}\\end{matrix}\\right]$"
      ],
      "text/plain": [
       "Matrix([[sqrt(N.x**2 + N.y**2 + N.z**2), acos(N.z/sqrt(N.x**2 + N.y**2 + N.z**2)), atan2(N.y, N.x)]])"
      ]
     },
     "metadata": {},
     "output_type": "display_data"
    }
   ],
   "source": [
    "## The coordinate system\n",
    "\n",
    "display(mesh.CoordinateSystem.X)\n",
    "display(mesh.CoordinateSystem.R)\n",
    "display(uw.function.expression.sub_all(mesh.CoordinateSystem.R))"
   ]
  }
 ],
 "metadata": {
  "kernelspec": {
   "display_name": "Python 3 (ipykernel)",
   "language": "python",
   "name": "python3"
  },
  "language_info": {
   "codemirror_mode": {
    "name": "ipython",
    "version": 3
   },
   "file_extension": ".py",
   "mimetype": "text/x-python",
   "name": "python",
   "nbconvert_exporter": "python",
   "pygments_lexer": "ipython3",
   "version": "3.11.7"
  }
 },
 "nbformat": 4,
 "nbformat_minor": 5
}
