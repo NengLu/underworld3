{
 "cells": [
  {
   "cell_type": "markdown",
   "metadata": {},
   "source": [
    "# Poisson pb"
   ]
  },
  {
   "cell_type": "markdown",
   "metadata": {},
   "source": [
    "### PETSc Initialization"
   ]
  },
  {
   "cell_type": "code",
   "execution_count": 1,
   "metadata": {},
   "outputs": [],
   "source": [
    "import petsc4py, sys\n",
    "petsc4py.init(sys.argv)"
   ]
  },
  {
   "cell_type": "code",
   "execution_count": 2,
   "metadata": {},
   "outputs": [],
   "source": [
    "from petsc4py import PETSc"
   ]
  },
  {
   "cell_type": "code",
   "execution_count": 3,
   "metadata": {},
   "outputs": [
    {
     "data": {
      "text/plain": [
       "'/usr/local/lib/python3.7/site-packages/petsc4py/lib/PETSc.cpython-37m-x86_64-linux-gnu.so'"
      ]
     },
     "execution_count": 3,
     "metadata": {},
     "output_type": "execute_result"
    }
   ],
   "source": [
    "PETSc.__file__"
   ]
  },
  {
   "cell_type": "code",
   "execution_count": 3,
   "metadata": {},
   "outputs": [],
   "source": [
    "snes = PETSc.SNES().create(PETSc.COMM_WORLD)"
   ]
  },
  {
   "cell_type": "markdown",
   "metadata": {},
   "source": [
    "# Create Mesh"
   ]
  },
  {
   "cell_type": "code",
   "execution_count": 4,
   "metadata": {},
   "outputs": [],
   "source": [
    "elementRes = [2, 2] \n",
    "minCoord = [0.,0.]\n",
    "maxCoord = [2.,3.]\n",
    "\n",
    "dm = PETSc.DMPlex(comm=PETSc.COMM_WORLD).createBoxMesh(elementRes, lower=minCoord, upper=maxCoord, simplex=False, comm=PETSc.COMM_WORLD)"
   ]
  },
  {
   "cell_type": "code",
   "execution_count": 5,
   "metadata": {},
   "outputs": [],
   "source": [
    "dm.setName(\"Mesh\")"
   ]
  },
  {
   "cell_type": "code",
   "execution_count": 6,
   "metadata": {},
   "outputs": [],
   "source": [
    "part = dm.getPartitioner()"
   ]
  },
  {
   "cell_type": "code",
   "execution_count": 7,
   "metadata": {},
   "outputs": [],
   "source": [
    "dm.distribute()"
   ]
  },
  {
   "cell_type": "code",
   "execution_count": 8,
   "metadata": {},
   "outputs": [],
   "source": [
    "BcType = \"DIRICHLET\"\n",
    "\n",
    "if BcType is \"DIRICHLET\":\n",
    "    if not dm.hasLabel(\"marker\"):\n",
    "        dm.markBoundaryFaces(\"marker\", value=1)    "
   ]
  },
  {
   "cell_type": "code",
   "execution_count": 9,
   "metadata": {},
   "outputs": [],
   "source": [
    "#viewer = PETSc.Viewer()\n",
    "#viewer.createVTK(\"mesh.vtk\", mode=PETSc.Viewer.Mode.WRITE, comm=PETSc.COMM_WORLD)\n",
    "#viewer.view(dm)"
   ]
  },
  {
   "cell_type": "markdown",
   "metadata": {},
   "source": [
    "# SNES Set DM"
   ]
  },
  {
   "cell_type": "code",
   "execution_count": 10,
   "metadata": {},
   "outputs": [],
   "source": [
    "snes.setDM(dm)"
   ]
  },
  {
   "cell_type": "markdown",
   "metadata": {},
   "source": [
    "# Setup discretization"
   ]
  },
  {
   "cell_type": "markdown",
   "metadata": {},
   "source": [
    "### Create finite element for each field and auxiliary field"
   ]
  },
  {
   "cell_type": "code",
   "execution_count": 11,
   "metadata": {},
   "outputs": [
    {
     "ename": "AttributeError",
     "evalue": "module 'petsc4py.PETSc' has no attribute 'FE'",
     "output_type": "error",
     "traceback": [
      "\u001b[0;31m---------------------------------------------------------------------------\u001b[0m",
      "\u001b[0;31mAttributeError\u001b[0m                            Traceback (most recent call last)",
      "\u001b[0;32m<ipython-input-11-4469d0717977>\u001b[0m in \u001b[0;36m<module>\u001b[0;34m\u001b[0m\n\u001b[0;32m----> 1\u001b[0;31m \u001b[0mpotential\u001b[0m \u001b[0;34m=\u001b[0m \u001b[0mPETSc\u001b[0m\u001b[0;34m.\u001b[0m\u001b[0mFE\u001b[0m\u001b[0;34m(\u001b[0m\u001b[0;34m)\u001b[0m\u001b[0;34m.\u001b[0m\u001b[0mcreateDefault\u001b[0m\u001b[0;34m(\u001b[0m\u001b[0mdim\u001b[0m\u001b[0;34m=\u001b[0m\u001b[0;36m2\u001b[0m\u001b[0;34m,\u001b[0m \u001b[0mNc\u001b[0m\u001b[0;34m=\u001b[0m\u001b[0;36m1\u001b[0m\u001b[0;34m,\u001b[0m \u001b[0misSimplex\u001b[0m\u001b[0;34m=\u001b[0m\u001b[0;32mFalse\u001b[0m\u001b[0;34m,\u001b[0m \u001b[0mqorder\u001b[0m\u001b[0;34m=\u001b[0m\u001b[0;34m-\u001b[0m\u001b[0;36m1\u001b[0m\u001b[0;34m,\u001b[0m \u001b[0mcomm\u001b[0m\u001b[0;34m=\u001b[0m\u001b[0mPETSc\u001b[0m\u001b[0;34m.\u001b[0m\u001b[0mCOMM_WORLD\u001b[0m\u001b[0;34m)\u001b[0m\u001b[0;34m\u001b[0m\u001b[0;34m\u001b[0m\u001b[0m\n\u001b[0m\u001b[1;32m      2\u001b[0m \u001b[0;34m\u001b[0m\u001b[0m\n\u001b[1;32m      3\u001b[0m \u001b[0mpotential\u001b[0m\u001b[0;34m.\u001b[0m\u001b[0msetName\u001b[0m\u001b[0;34m(\u001b[0m\u001b[0;34m\"potential\"\u001b[0m\u001b[0;34m)\u001b[0m\u001b[0;34m\u001b[0m\u001b[0;34m\u001b[0m\u001b[0m\n",
      "\u001b[0;31mAttributeError\u001b[0m: module 'petsc4py.PETSc' has no attribute 'FE'"
     ]
    }
   ],
   "source": [
    "potential = PETSc.FE().createDefault(dim=2, Nc=1, isSimplex=False, qorder=-1, comm=PETSc.COMM_WORLD)\n",
    "\n",
    "potential.setName(\"potential\")"
   ]
  },
  {
   "cell_type": "code",
   "execution_count": 12,
   "metadata": {},
   "outputs": [
    {
     "data": {
      "text/plain": [
       "'/usr/local/lib/python3.7/site-packages/petsc4py/lib/PETSc.cpython-37m-x86_64-linux-gnu.so'"
      ]
     },
     "execution_count": 12,
     "metadata": {},
     "output_type": "execute_result"
    }
   ],
   "source": [
    "PETSc.__file__"
   ]
  },
  {
   "cell_type": "markdown",
   "metadata": {},
   "source": [
    "### Set discretization and boundary conditions for each mesh"
   ]
  },
  {
   "cell_type": "code",
   "execution_count": 12,
   "metadata": {},
   "outputs": [
    {
     "ename": "NameError",
     "evalue": "name 'potential' is not defined",
     "output_type": "error",
     "traceback": [
      "\u001b[0;31m---------------------------------------------------------------------------\u001b[0m",
      "\u001b[0;31mNameError\u001b[0m                                 Traceback (most recent call last)",
      "\u001b[0;32m<ipython-input-12-5577399eab2d>\u001b[0m in \u001b[0;36m<module>\u001b[0;34m\u001b[0m\n\u001b[0;32m----> 1\u001b[0;31m \u001b[0mdm\u001b[0m\u001b[0;34m.\u001b[0m\u001b[0msetField\u001b[0m\u001b[0;34m(\u001b[0m\u001b[0;36m0\u001b[0m\u001b[0;34m,\u001b[0m \u001b[0mpotential\u001b[0m\u001b[0;34m)\u001b[0m\u001b[0;34m\u001b[0m\u001b[0;34m\u001b[0m\u001b[0m\n\u001b[0m",
      "\u001b[0;31mNameError\u001b[0m: name 'potential' is not defined"
     ]
    }
   ],
   "source": [
    "dm.setField(0, potential)"
   ]
  },
  {
   "cell_type": "code",
   "execution_count": 13,
   "metadata": {},
   "outputs": [],
   "source": [
    "dm.createDS()\n",
    "ds = dm.getDS()"
   ]
  },
  {
   "cell_type": "code",
   "execution_count": 14,
   "metadata": {},
   "outputs": [],
   "source": [
    "import numpy as np\n",
    "\n",
    "def f0():\n",
    "    return np.array([0.,0.,0.])"
   ]
  },
  {
   "cell_type": "code",
   "execution_count": 15,
   "metadata": {},
   "outputs": [],
   "source": [
    "viewer = PETSc.Viewer()"
   ]
  },
  {
   "cell_type": "code",
   "execution_count": 16,
   "metadata": {},
   "outputs": [],
   "source": [
    "viewer.view(dm)"
   ]
  },
  {
   "cell_type": "markdown",
   "metadata": {},
   "source": [
    "### Set up the problem"
   ]
  },
  {
   "cell_type": "code",
   "execution_count": 17,
   "metadata": {},
   "outputs": [],
   "source": [
    "%load_ext cython"
   ]
  },
  {
   "cell_type": "code",
   "execution_count": 18,
   "metadata": {},
   "outputs": [],
   "source": [
    "# %%cython\n",
    "\n",
    "cdef void F0_Function(\n",
    "    PetscInt dim,\n",
    "    PetscInt Nf,\n",
    "    PetscInt NfAux,\n",
    "    const PetscInt uOff[],\n",
    "    const PetscInt uOff_x[],\n",
    "    const PetscScalar u[],\n",
    "    const PetscScalar u_t[],\n",
    "    const PetscScalar u_x[],\n",
    "    const PetscInt aOff[],\n",
    "    const PetscInt aOff_x[],\n",
    "    const PetscScalar a[],\n",
    "    const PetscScalar a_t[],\n",
    "    const PetscScalar a_x[],\n",
    "    PetscReal t,\n",
    "    const PetscReal x[],\n",
    "    PetscInt numConstants,\n",
    "    const PetscScalar constants[],\n",
    "    PetscScalar f[]):\n",
    "\n",
    "    cdef DS Ds = ref_DS(ds)\n",
    "    cdef object f0 = getattr(Ds, '__f0__') # retrieve the python funtion from the DS\n",
    "    cdef double[:] retv\n",
    "\n",
    "    py_uOff = array_i(Nf, uOff)\n",
    "    py_uOff_x = array_i(Nf, uOff_x)\n",
    "\n",
    "    # Lets just make it big enough for now\n",
    "    py_u = array_r(10, u)\n",
    "    py_u_t = array_r(10, u_t)\n",
    "    py_u_x = array_r(10, u_x)\n",
    "\n",
    "    py_aOff = array_i(Nf, uOff)\n",
    "    py_aOff_x = array_i(Nf, uOff_x)\n",
    "\n",
    "    # Lets just make it big enough for now\n",
    "    py_a = array_r(10, u)\n",
    "    py_a_t = array_r(10, u_t)\n",
    "    py_a_x = array_r(10, u_x)\n",
    "\n",
    "    py_x = array_r(dim, x)\n",
    "    py_constants = array_r(numConstants, constants)\n",
    "\n",
    "    # f is a PetscScalar [], it is the output values at the current point,,,\n",
    "    # That should be returned by the function f1... Need to be cast to PetscScalar []\n",
    "\n",
    "    retv = f0(dim, Nf, NfAux, py_uOff, py_uOff_x, py_u, py_u_t, py_u_x, py_aOff, py_aOff_x,\n",
    "       py_a, py_a_t, py_a_x, t, py_x, numConstants, py_constants)\n",
    "\n",
    "    f = &retv[0]\n",
    "\n",
    "    return\n"
   ]
  },
  {
   "cell_type": "code",
   "execution_count": 19,
   "metadata": {},
   "outputs": [],
   "source": [
    "# Missing PetscDSSetResidual\n",
    "# Missing PetscDSSetJacobian"
   ]
  },
  {
   "cell_type": "code",
   "execution_count": 17,
   "metadata": {},
   "outputs": [],
   "source": [
    "# User Exact function (quadratic_u_2d)\n",
    "# User Exact Field (quadratic_u_field_2d)"
   ]
  },
  {
   "cell_type": "code",
   "execution_count": 18,
   "metadata": {},
   "outputs": [],
   "source": [
    "# Missing PetscDSAddBoundary\n",
    "# Missing PetscDSSetExactSolution"
   ]
  },
  {
   "cell_type": "markdown",
   "metadata": {},
   "source": [
    "### Destroy the fields"
   ]
  },
  {
   "cell_type": "code",
   "execution_count": 19,
   "metadata": {},
   "outputs": [
    {
     "data": {
      "text/plain": [
       "<petsc4py.PETSc.FE at 0x7f17ebc628e0>"
      ]
     },
     "execution_count": 19,
     "metadata": {},
     "output_type": "execute_result"
    }
   ],
   "source": [
    "potential.destroy()\n",
    "# auxiliary.destroy()"
   ]
  },
  {
   "cell_type": "code",
   "execution_count": 20,
   "metadata": {},
   "outputs": [],
   "source": [
    "# origSect = dm.createSection([2, 1], [2,0,0,0,0,1])\n",
    "# origSect.setUp()\n",
    "# dm.setDefaultSection(origSect)"
   ]
  },
  {
   "cell_type": "markdown",
   "metadata": {},
   "source": [
    "## Create Vector, Matrix"
   ]
  },
  {
   "cell_type": "code",
   "execution_count": 21,
   "metadata": {},
   "outputs": [],
   "source": [
    "u = dm.createGlobalVector()"
   ]
  },
  {
   "cell_type": "code",
   "execution_count": 22,
   "metadata": {},
   "outputs": [],
   "source": [
    "u.setName(\"potential\")"
   ]
  },
  {
   "cell_type": "code",
   "execution_count": 23,
   "metadata": {},
   "outputs": [
    {
     "data": {
      "text/plain": [
       "array([0., 0., 0., 0.])"
      ]
     },
     "execution_count": 23,
     "metadata": {},
     "output_type": "execute_result"
    }
   ],
   "source": [
    "u.getArray()"
   ]
  },
  {
   "cell_type": "code",
   "execution_count": 24,
   "metadata": {},
   "outputs": [
    {
     "data": {
      "text/plain": [
       "4"
      ]
     },
     "execution_count": 24,
     "metadata": {},
     "output_type": "execute_result"
    }
   ],
   "source": [
    "u.size"
   ]
  },
  {
   "cell_type": "code",
   "execution_count": 25,
   "metadata": {},
   "outputs": [],
   "source": [
    "J = dm.createMatrix()"
   ]
  },
  {
   "cell_type": "code",
   "execution_count": 26,
   "metadata": {},
   "outputs": [
    {
     "data": {
      "text/plain": [
       "((4, 4), (4, 4))"
      ]
     },
     "execution_count": 26,
     "metadata": {},
     "output_type": "execute_result"
    }
   ],
   "source": [
    "J.size, J.getLocalSize()"
   ]
  },
  {
   "cell_type": "markdown",
   "metadata": {},
   "source": [
    "## Jacobian Stuff"
   ]
  },
  {
   "cell_type": "code",
   "execution_count": 27,
   "metadata": {},
   "outputs": [],
   "source": [
    "jacobianMF = True"
   ]
  },
  {
   "cell_type": "code",
   "execution_count": 28,
   "metadata": {},
   "outputs": [],
   "source": [
    "if jacobianMF:\n",
    "    m, n = J.getSize()\n",
    "    mloc, nloc = J.getLocalSize()\n",
    "    A = PETSc.Mat().create()\n",
    "    A.setSizes((m,n))\n",
    "    A.setType('shell')\n",
    "    A.setUp()\n",
    "    \n",
    "    U = dm.createLocalVector()\n",
    "else:\n",
    "    A = J"
   ]
  },
  {
   "cell_type": "markdown",
   "metadata": {},
   "source": [
    "# Cython snippets"
   ]
  },
  {
   "cell_type": "code",
   "execution_count": 97,
   "metadata": {},
   "outputs": [
    {
     "name": "stdout",
     "output_type": "stream",
     "text": [
      "The Cython extension is already loaded. To reload it, use:\n",
      "  %reload_ext Cython\n"
     ]
    }
   ],
   "source": [
    "%load_ext Cython"
   ]
  },
  {
   "cell_type": "code",
   "execution_count": 98,
   "metadata": {},
   "outputs": [],
   "source": [
    "import numpy as np\n",
    "\n",
    "def f0():\n",
    "    return np.array([1,2,3,4,5], dtype=np.intc)"
   ]
  },
  {
   "cell_type": "code",
   "execution_count": 102,
   "metadata": {},
   "outputs": [],
   "source": [
    "%%cython\n",
    "\n",
    "cdef int f2(object f):\n",
    "    cdef int[::1] A\n",
    "    cdef int *B\n",
    "    cdef int i\n",
    "    A = f()\n",
    "    B = &A[0]\n",
    "    for i in range(3):\n",
    "        print(B[i])\n",
    "    return 0\n",
    "\n",
    "\n",
    "def test(f):\n",
    "    f2(f)"
   ]
  },
  {
   "cell_type": "code",
   "execution_count": 103,
   "metadata": {},
   "outputs": [
    {
     "name": "stdout",
     "output_type": "stream",
     "text": [
      "1\n",
      "2\n",
      "3\n"
     ]
    }
   ],
   "source": [
    "test(f0)"
   ]
  },
  {
   "cell_type": "markdown",
   "metadata": {},
   "source": [
    "## Call cython cdef function"
   ]
  },
  {
   "cell_type": "code",
   "execution_count": 114,
   "metadata": {},
   "outputs": [],
   "source": [
    "class DS(object):\n",
    "    def setResidual(self, f):\n",
    "        setattr(self, \"__f__\", f)\n",
    "\n",
    "class MyClass(object):\n",
    "    def f0(self):\n",
    "        return np.array([1,2,3,4,5], dtype=np.intc)"
   ]
  },
  {
   "cell_type": "code",
   "execution_count": 142,
   "metadata": {},
   "outputs": [],
   "source": [
    "%%cython\n",
    "\n",
    "cdef int f(object DS):\n",
    "    cdef object f = getattr(DS, \"__f__\")\n",
    "    cdef int[:] A\n",
    "    cdef int *B\n",
    "    A = f()\n",
    "    B = &A[0]\n",
    "    \n",
    "    cdef int i\n",
    "    \n",
    "    for i in range(5):\n",
    "        print(B[i])\n",
    "    return 0\n",
    "\n",
    "def call_residual(DS):\n",
    "    f(DS)"
   ]
  },
  {
   "cell_type": "code",
   "execution_count": 143,
   "metadata": {},
   "outputs": [],
   "source": [
    "A = DS()"
   ]
  },
  {
   "cell_type": "code",
   "execution_count": 144,
   "metadata": {},
   "outputs": [],
   "source": [
    "A.setResidual(MyClass().f0)"
   ]
  },
  {
   "cell_type": "code",
   "execution_count": 145,
   "metadata": {},
   "outputs": [
    {
     "name": "stdout",
     "output_type": "stream",
     "text": [
      "1\n",
      "2\n",
      "3\n",
      "4\n",
      "5\n"
     ]
    }
   ],
   "source": [
    "call_residual(A)"
   ]
  },
  {
   "cell_type": "code",
   "execution_count": null,
   "metadata": {},
   "outputs": [],
   "source": []
  }
 ],
 "metadata": {
  "kernelspec": {
   "display_name": "Python 3",
   "language": "python",
   "name": "python3"
  },
  "language_info": {
   "codemirror_mode": {
    "name": "ipython",
    "version": 3
   },
   "file_extension": ".py",
   "mimetype": "text/x-python",
   "name": "python",
   "nbconvert_exporter": "python",
   "pygments_lexer": "ipython3",
   "version": "3.7.3"
  }
 },
 "nbformat": 4,
 "nbformat_minor": 2
}
