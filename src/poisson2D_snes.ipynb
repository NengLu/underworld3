{
 "cells": [
  {
   "cell_type": "code",
   "execution_count": 1,
   "metadata": {},
   "outputs": [],
   "source": [
    "# ------------------------------------------------------------------------\n",
    "#\n",
    "#  Problem\n",
    "#          \\nabla^{2}u + u^{2} = f ,  -1 < x,y < 1,\n",
    "#\n",
    "#  with boundary conditions\n",
    "#\n",
    "#           u = \\sin(2\\pi x)\\sin(2\\pi y)\n",
    "#           f = u^{2}(1 - 2 (2\\pi)^{2})\n",
    "#\n",
    "#           u(x,y) = 0 along all boundaries\n",
    "#\n",
    "#\n",
    "# ------------------------------------------------------------------------\n",
    "\n",
    "try: range = xrange\n",
    "except: pass\n",
    "\n",
    "import sys, petsc4py\n",
    "petsc4py.init(sys.argv)\n",
    "\n",
    "from petsc4py import PETSc\n",
    "import numpy as np"
   ]
  },
  {
   "cell_type": "code",
   "execution_count": 2,
   "metadata": {},
   "outputs": [],
   "source": [
    "class PoissonEq(object):\n",
    "\n",
    "    def __init__(self, da, minCoord, maxCoord):\n",
    "        assert da.getDim() == 2\n",
    "        self.da = da\n",
    "        self.localX = da.createLocalVec()\n",
    "        self.minCoord = minCoord\n",
    "        self.maxCoord = maxCoord\n",
    "        self.G  = da.createGlobalVec()\n",
    "        \n",
    "    def formFunction(self, snes, X, F):\n",
    "        \n",
    "        # global indices ranges on proc\n",
    "        (xs, xe),(ys,ye) = self.da.getRanges()\n",
    "        \n",
    "        # get the vectors, reshape for easy\n",
    "        self.da.globalToLocal(X, self.localX)\n",
    "        x = self.da.getVecArray(self.localX) # getVecArray reshapes vector\n",
    "        f = self.da.getVecArray(F)\n",
    "        rhs = self.da.getVecArray(self.G)\n",
    "               \n",
    "        # work out global size & spacing\n",
    "        nx, ny = self.da.getSizes()\n",
    "        dx = float(self.maxCoord[0]-self.minCoord[0])/(nx-1)\n",
    "        dy = float(self.maxCoord[1]-self.minCoord[1])/(ny-1)\n",
    "                \n",
    "        for j in range(ys, ye):\n",
    "            for i in range(xs, xe):\n",
    "                u   = x[i,j] # center\n",
    "                u_w = u_e = u_s = u_n = 0\n",
    "                if i > 0:    u_w = x[i-1,j] # west\n",
    "                if i < nx-1: u_e = x[i+1,j] # east\n",
    "                if j > 0:    u_s = x[i,j-1] # south\n",
    "                if j < ny-1: u_n = x[i,j+1] # noth\n",
    "\n",
    "                # calculate FD 2nd derivatives\n",
    "                u_xx = (u_e - 2*u + u_w)/(dx*dx)\n",
    "                u_yy = (u_n - 2*u + u_s)/(dy*dy)\n",
    "\n",
    "                # residual\n",
    "                f[i,j] = (u_xx + u_yy) + u*u - rhs[i,j]\n",
    "        \n",
    "        # the 4 dirichlet walls\n",
    "        if xs ==  0:  f[xs,  ys:ye] = x[xs,  ys:ye] - 0   # west wall\n",
    "        if xe == nx:  f[xe-1,ys:ye] = x[xe-1,ys:ye] - 0.  # east\n",
    "        if ys ==  0:  f[xs:xe,  ys] = x[xs:xe,  ys] - 0   # south\n",
    "        if ye == ny:  f[xs:xe,ye-1] = x[xs:xe,ye-1] - 0.  # north"
   ]
  },
  {
   "cell_type": "code",
   "execution_count": 3,
   "metadata": {},
   "outputs": [],
   "source": [
    "# init system and get command arguments\n",
    "comm = PETSc.COMM_WORLD\n",
    "rank = comm.Get_rank()\n",
    "nproc = comm.Get_size()\n",
    "\n",
    "OptDB = PETSc.Options()\n",
    "y_max = OptDB.getReal('y_max',1.)\n",
    "x_max = OptDB.getReal('x_max',1.)\n",
    "x_0   = -1*x_max\n",
    "y_0   = -1*y_max"
   ]
  },
  {
   "cell_type": "code",
   "execution_count": 4,
   "metadata": {},
   "outputs": [],
   "source": [
    "# attach \n",
    "da = PETSc.DMDA().create(sizes=[26,26], dof=1, stencil_width=1, comm=comm)\n",
    "\n",
    "da.setUniformCoordinates(xmin=x_0, xmax=x_max, ymin=y_0, ymax=y_max)\n",
    "da.setFromOptions()\n",
    "da.setUp()\n",
    "minCoord = [x_0, y_0]\n",
    "maxCoord = [x_max, y_max]\n",
    "\n",
    "# create the poisson object, no really reason\n",
    "ctx = PoissonEq(da, minCoord, maxCoord)\n",
    "da.setAppCtx(ctx)"
   ]
  },
  {
   "cell_type": "code",
   "execution_count": 5,
   "metadata": {},
   "outputs": [],
   "source": [
    "def u_sol(k,xyz):\n",
    "    return np.sin(k*xyz[0])*np.sin(k*xyz[1])\n",
    "\n",
    "# create snes object and attach dm\n",
    "snes = PETSc.SNES().create()\n",
    "snes.setDM(da)\n",
    "snes.setFromOptions()\n",
    "\n",
    "x = da.createGlobalVec()  # unknowns\n",
    "F = x.copy()              # residual\n",
    "s = x.copy()              # analytic solution\n",
    "\n",
    "# set residual function\n",
    "snes.setFunction(ctx.formFunction, F)\n",
    "\n",
    "# define rhs and analytic solution\n",
    "rhs = da.getVecArray(ctx.G)\n",
    "sol = da.getVecArray(s)\n",
    "\n",
    "nx, ny = da.getSizes()\n",
    "dx = float(x_max-x_0)/(nx-1)\n",
    "dy = float(y_max-y_0)/(ny-1)\n",
    "k = 2*np.pi\n",
    "\n",
    "(xs, xe),(ys,ye) = da.getRanges()\n",
    "for j in range(ys, ye):\n",
    "    for i in range(xs,xe):\n",
    "        xyz = i*dx+x_0, j*dy+y_0\n",
    "        rhs[i,j] = u_sol(k,xyz)*(u_sol(k,xyz) - 2.*k*k) # RHS term       \n",
    "        sol[i,j] = u_sol(k,xyz)\n",
    "        \n",
    "x.set(0.5) # initial solution"
   ]
  },
  {
   "cell_type": "code",
   "execution_count": 6,
   "metadata": {},
   "outputs": [
    {
     "name": "stdout",
     "output_type": "stream",
     "text": [
      "Iteration count: 4\n",
      "Error norm - 0.271095835839\n"
     ]
    }
   ],
   "source": [
    "snes.solve(None, x)\n",
    "   \n",
    "print(\"Iteration count: {}\".format(snes.getIterationNumber()))\n",
    "x.axpy(-1,s)\n",
    "err_norm = x.norm()\n",
    "print(\"Error norm - {}\".format(err_norm))\n",
    "\n",
    "if OptDB.getBool('plot', True):\n",
    "    draw = PETSc.Viewer.DRAW(x.comm)\n",
    "    OptDB['draw_pause'] = 4\n",
    "    draw(x)"
   ]
  },
  {
   "cell_type": "code",
   "execution_count": null,
   "metadata": {},
   "outputs": [],
   "source": []
  }
 ],
 "metadata": {
  "kernelspec": {
   "display_name": "Python 2",
   "language": "python",
   "name": "python2"
  },
  "language_info": {
   "codemirror_mode": {
    "name": "ipython",
    "version": 2
   },
   "file_extension": ".py",
   "mimetype": "text/x-python",
   "name": "python",
   "nbconvert_exporter": "python",
   "pygments_lexer": "ipython2",
   "version": "2.7.14"
  }
 },
 "nbformat": 4,
 "nbformat_minor": 1
}
