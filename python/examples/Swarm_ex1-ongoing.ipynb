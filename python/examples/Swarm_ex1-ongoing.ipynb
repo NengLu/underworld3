{
 "cells": [
  {
   "cell_type": "code",
   "execution_count": 1,
   "metadata": {},
   "outputs": [],
   "source": [
    "import petsc4py.PETSc as PETSc"
   ]
  },
  {
   "cell_type": "code",
   "execution_count": 2,
   "metadata": {},
   "outputs": [],
   "source": [
    "dms = PETSc.DMSwarm().create(comm=PETSc.COMM_WORLD)"
   ]
  },
  {
   "cell_type": "code",
   "execution_count": 3,
   "metadata": {},
   "outputs": [
    {
     "data": {
      "text/plain": [
       "'swarm'"
      ]
     },
     "execution_count": 3,
     "metadata": {},
     "output_type": "execute_result"
    }
   ],
   "source": [
    "dms.getType()"
   ]
  },
  {
   "cell_type": "code",
   "execution_count": 4,
   "metadata": {},
   "outputs": [],
   "source": [
    "dms.initializeFieldRegister()"
   ]
  },
  {
   "cell_type": "code",
   "execution_count": 5,
   "metadata": {},
   "outputs": [],
   "source": [
    "# Ideally we would like to pass something like PETSC_REAL\n",
    "dms.registerPetscDataTypeField(\"viscosity\", 1, 1)\n",
    "dms.registerPetscDataTypeField(\"strain\", 1, 1)"
   ]
  },
  {
   "cell_type": "code",
   "execution_count": 6,
   "metadata": {},
   "outputs": [],
   "source": [
    "dms.finalizeFieldRegister()"
   ]
  },
  {
   "cell_type": "code",
   "execution_count": 7,
   "metadata": {},
   "outputs": [
    {
     "data": {
      "text/plain": [
       "<petsc4py.PETSc.DMSwarm at 0x7ffa76c40b48>"
      ]
     },
     "execution_count": 7,
     "metadata": {},
     "output_type": "execute_result"
    }
   ],
   "source": [
    "dms.setLocalSizes(5,4)"
   ]
  },
  {
   "cell_type": "code",
   "execution_count": 8,
   "metadata": {},
   "outputs": [],
   "source": [
    "dms.view()"
   ]
  },
  {
   "cell_type": "code",
   "execution_count": 9,
   "metadata": {},
   "outputs": [],
   "source": [
    "visc = dms.getField(\"viscosity\")\n",
    "visc[:] = 1.0"
   ]
  },
  {
   "cell_type": "code",
   "execution_count": 10,
   "metadata": {},
   "outputs": [
    {
     "data": {
      "text/plain": [
       "array([1., 1., 1., 1., 1.])"
      ]
     },
     "execution_count": 10,
     "metadata": {},
     "output_type": "execute_result"
    }
   ],
   "source": [
    "visc"
   ]
  },
  {
   "cell_type": "code",
   "execution_count": 11,
   "metadata": {},
   "outputs": [],
   "source": [
    "dms.restoreField(\"viscosity\")"
   ]
  },
  {
   "cell_type": "code",
   "execution_count": 12,
   "metadata": {},
   "outputs": [],
   "source": [
    "sr = dms.getField(\"strain\")\n",
    "sr[:] = 0.2"
   ]
  },
  {
   "cell_type": "code",
   "execution_count": 13,
   "metadata": {},
   "outputs": [],
   "source": [
    "dms.restoreField(\"strain\")"
   ]
  },
  {
   "cell_type": "code",
   "execution_count": 14,
   "metadata": {},
   "outputs": [
    {
     "ename": "Error",
     "evalue": "error code 85\n[0] DMSwarmDestroyGlobalVectorFromField() line 392 in /tmp/petsc-build/petsc/src/dm/impls/swarm/swarm.c\n[0] DMSwarmDestroyVectorFromField_Private() line 124 in /tmp/petsc-build/petsc/src/dm/impls/swarm/swarm.c\n[0] VecGetLocalSize() line 650 in /tmp/petsc-build/petsc/src/vec/vec/interface/vector.c\n[0] Null argument, when expecting valid pointer\n[0] Null Object: Parameter # 1",
     "output_type": "error",
     "traceback": [
      "\u001b[0;31m---------------------------------------------------------------------------\u001b[0m",
      "\u001b[0;31mError\u001b[0m                                     Traceback (most recent call last)",
      "\u001b[0;32m<ipython-input-14-d7ddd3df47a8>\u001b[0m in \u001b[0;36m<module>\u001b[0;34m\u001b[0m\n\u001b[1;32m      1\u001b[0m \u001b[0mdms\u001b[0m\u001b[0;34m.\u001b[0m\u001b[0mcreateGlobalVectorFromField\u001b[0m\u001b[0;34m(\u001b[0m\u001b[0;34m\"viscosity\"\u001b[0m\u001b[0;34m)\u001b[0m\u001b[0;34m\u001b[0m\u001b[0;34m\u001b[0m\u001b[0m\n\u001b[0;32m----> 2\u001b[0;31m \u001b[0mdms\u001b[0m\u001b[0;34m.\u001b[0m\u001b[0mdestroyGlobalVectorFromField\u001b[0m\u001b[0;34m(\u001b[0m\u001b[0;34m\"viscosity\"\u001b[0m\u001b[0;34m)\u001b[0m\u001b[0;34m\u001b[0m\u001b[0;34m\u001b[0m\u001b[0m\n\u001b[0m",
      "\u001b[0;32mPETSc/DMSwarm.pyx\u001b[0m in \u001b[0;36mpetsc4py.PETSc.DMSwarm.destroyGlobalVectorFromField\u001b[0;34m()\u001b[0m\n",
      "\u001b[0;31mError\u001b[0m: error code 85\n[0] DMSwarmDestroyGlobalVectorFromField() line 392 in /tmp/petsc-build/petsc/src/dm/impls/swarm/swarm.c\n[0] DMSwarmDestroyVectorFromField_Private() line 124 in /tmp/petsc-build/petsc/src/dm/impls/swarm/swarm.c\n[0] VecGetLocalSize() line 650 in /tmp/petsc-build/petsc/src/vec/vec/interface/vector.c\n[0] Null argument, when expecting valid pointer\n[0] Null Object: Parameter # 1"
     ]
    }
   ],
   "source": [
    "dms.createGlobalVectorFromField(\"viscosity\")\n",
    "dms.destroyGlobalVectorFromField(\"viscosity\")"
   ]
  },
  {
   "cell_type": "code",
   "execution_count": 15,
   "metadata": {},
   "outputs": [
    {
     "data": {
      "text/plain": [
       "<petsc4py.PETSc.Vec at 0x7ffa76772d00>"
      ]
     },
     "execution_count": 15,
     "metadata": {},
     "output_type": "execute_result"
    }
   ],
   "source": [
    "dms.vectorDefineField(\"strain\")\n",
    "x = dms.createGlobalVector()\n",
    "x.destroy()"
   ]
  },
  {
   "cell_type": "code",
   "execution_count": 16,
   "metadata": {},
   "outputs": [],
   "source": [
    "orig0 = dms.getLocalSize()\n",
    "orig1 = dms.getSize()\n",
    "rankval = dms.getField(\"DMSwarm_rank\")"
   ]
  },
  {
   "cell_type": "code",
   "execution_count": 17,
   "metadata": {},
   "outputs": [
    {
     "ename": "Error",
     "evalue": "error code 83\n[0] DMSwarmMigrate() line 1003 in /tmp/petsc-build/petsc/src/dm/impls/swarm/swarm.c\n[0] DMSwarmMigrate_Basic() line 972 in /tmp/petsc-build/petsc/src/dm/impls/swarm/swarm.c\n[0] DMSwarmMigrate_Push_Basic() line 87 in /tmp/petsc-build/petsc/src/dm/impls/swarm/swarm_migrate.c\n[0] DMSwarmDataBucketSetSizes() line 260 in /tmp/petsc-build/petsc/src/dm/impls/swarm/data_bucket.c\n[0]   \n[0] Cannot safely re-size as at least one DMSwarmDataField is currently being accessed",
     "output_type": "error",
     "traceback": [
      "\u001b[0;31m---------------------------------------------------------------------------\u001b[0m",
      "\u001b[0;31mError\u001b[0m                                     Traceback (most recent call last)",
      "\u001b[0;32m<ipython-input-17-cd7ded374448>\u001b[0m in \u001b[0;36m<module>\u001b[0;34m\u001b[0m\n\u001b[1;32m      1\u001b[0m \u001b[0mdms\u001b[0m\u001b[0;34m.\u001b[0m\u001b[0mrestoreField\u001b[0m\u001b[0;34m(\u001b[0m\u001b[0;34m\"DMSwarm_rank\"\u001b[0m\u001b[0;34m)\u001b[0m\u001b[0;34m\u001b[0m\u001b[0;34m\u001b[0m\u001b[0m\n\u001b[0;32m----> 2\u001b[0;31m \u001b[0mdms\u001b[0m\u001b[0;34m.\u001b[0m\u001b[0mmigrate\u001b[0m\u001b[0;34m(\u001b[0m\u001b[0;34m)\u001b[0m\u001b[0;34m\u001b[0m\u001b[0;34m\u001b[0m\u001b[0m\n\u001b[0m\u001b[1;32m      3\u001b[0m \u001b[0mnpointsLoc\u001b[0m \u001b[0;34m=\u001b[0m \u001b[0mdms\u001b[0m\u001b[0;34m.\u001b[0m\u001b[0mgetLocalSize\u001b[0m\u001b[0;34m(\u001b[0m\u001b[0;34m)\u001b[0m\u001b[0;34m\u001b[0m\u001b[0;34m\u001b[0m\u001b[0m\n\u001b[1;32m      4\u001b[0m \u001b[0mnpointsGlob\u001b[0m \u001b[0;34m=\u001b[0m \u001b[0mdms\u001b[0m\u001b[0;34m.\u001b[0m\u001b[0mgetSize\u001b[0m\u001b[0;34m(\u001b[0m\u001b[0;34m)\u001b[0m\u001b[0;34m\u001b[0m\u001b[0;34m\u001b[0m\u001b[0m\n",
      "\u001b[0;32mPETSc/DMSwarm.pyx\u001b[0m in \u001b[0;36mpetsc4py.PETSc.DMSwarm.migrate\u001b[0;34m()\u001b[0m\n",
      "\u001b[0;31mError\u001b[0m: error code 83\n[0] DMSwarmMigrate() line 1003 in /tmp/petsc-build/petsc/src/dm/impls/swarm/swarm.c\n[0] DMSwarmMigrate_Basic() line 972 in /tmp/petsc-build/petsc/src/dm/impls/swarm/swarm.c\n[0] DMSwarmMigrate_Push_Basic() line 87 in /tmp/petsc-build/petsc/src/dm/impls/swarm/swarm_migrate.c\n[0] DMSwarmDataBucketSetSizes() line 260 in /tmp/petsc-build/petsc/src/dm/impls/swarm/data_bucket.c\n[0]   \n[0] Cannot safely re-size as at least one DMSwarmDataField is currently being accessed"
     ]
    }
   ],
   "source": [
    "dms.restoreField(\"DMSwarm_rank\")\n",
    "dms.migrate()\n",
    "npointsLoc = dms.getLocalSize()\n",
    "npointsGlob = dms.getSize()"
   ]
  },
  {
   "cell_type": "code",
   "execution_count": 18,
   "metadata": {},
   "outputs": [
    {
     "ename": "Error",
     "evalue": "error code 83\n[0] DMSwarmCreateGlobalVectorFromField() line 367 in /tmp/petsc-build/petsc/src/dm/impls/swarm/swarm.c\n[0] DMSwarmCreateVectorFromField_Private() line 150 in /tmp/petsc-build/petsc/src/dm/impls/swarm/swarm.c\n[0] DMSwarmGetField() line 793 in /tmp/petsc-build/petsc/src/dm/impls/swarm/swarm.c\n[0] DMSwarmDataFieldGetAccess() line 346 in /tmp/petsc-build/petsc/src/dm/impls/swarm/data_bucket.c\n[0]   \n[0] Field \"viscosity\" is already active. You must call DMSwarmDataFieldRestoreAccess()",
     "output_type": "error",
     "traceback": [
      "\u001b[0;31m---------------------------------------------------------------------------\u001b[0m",
      "\u001b[0;31mError\u001b[0m                                     Traceback (most recent call last)",
      "\u001b[0;32m<ipython-input-18-3c6307743000>\u001b[0m in \u001b[0;36m<module>\u001b[0;34m\u001b[0m\n\u001b[0;32m----> 1\u001b[0;31m \u001b[0mvisc\u001b[0m \u001b[0;34m=\u001b[0m \u001b[0mdms\u001b[0m\u001b[0;34m.\u001b[0m\u001b[0mcreateGlobalVectorFromField\u001b[0m\u001b[0;34m(\u001b[0m\u001b[0;34m\"viscosity\"\u001b[0m\u001b[0;34m)\u001b[0m\u001b[0;34m\u001b[0m\u001b[0;34m\u001b[0m\u001b[0m\n\u001b[0m\u001b[1;32m      2\u001b[0m \u001b[0mvisc\u001b[0m\u001b[0;34m.\u001b[0m\u001b[0mview\u001b[0m\u001b[0;34m(\u001b[0m\u001b[0;34m)\u001b[0m\u001b[0;34m\u001b[0m\u001b[0;34m\u001b[0m\u001b[0m\n\u001b[1;32m      3\u001b[0m \u001b[0mdms\u001b[0m\u001b[0;34m.\u001b[0m\u001b[0mdestroyGlobalVectorFromField\u001b[0m\u001b[0;34m(\u001b[0m\u001b[0;34m\"viscosity\"\u001b[0m\u001b[0;34m)\u001b[0m\u001b[0;34m\u001b[0m\u001b[0;34m\u001b[0m\u001b[0m\n",
      "\u001b[0;32mPETSc/DMSwarm.pyx\u001b[0m in \u001b[0;36mpetsc4py.PETSc.DMSwarm.createGlobalVectorFromField\u001b[0;34m()\u001b[0m\n",
      "\u001b[0;31mError\u001b[0m: error code 83\n[0] DMSwarmCreateGlobalVectorFromField() line 367 in /tmp/petsc-build/petsc/src/dm/impls/swarm/swarm.c\n[0] DMSwarmCreateVectorFromField_Private() line 150 in /tmp/petsc-build/petsc/src/dm/impls/swarm/swarm.c\n[0] DMSwarmGetField() line 793 in /tmp/petsc-build/petsc/src/dm/impls/swarm/swarm.c\n[0] DMSwarmDataFieldGetAccess() line 346 in /tmp/petsc-build/petsc/src/dm/impls/swarm/data_bucket.c\n[0]   \n[0] Field \"viscosity\" is already active. You must call DMSwarmDataFieldRestoreAccess()"
     ]
    }
   ],
   "source": [
    "visc = dms.createGlobalVectorFromField(\"viscosity\")\n",
    "visc.view()\n",
    "dms.destroyGlobalVectorFromField(\"viscosity\")"
   ]
  },
  {
   "cell_type": "code",
   "execution_count": null,
   "metadata": {},
   "outputs": [],
   "source": []
  },
  {
   "cell_type": "code",
   "execution_count": null,
   "metadata": {},
   "outputs": [],
   "source": []
  }
 ],
 "metadata": {
  "kernelspec": {
   "display_name": "Python 3",
   "language": "python",
   "name": "python3"
  },
  "language_info": {
   "codemirror_mode": {
    "name": "ipython",
    "version": 3
   },
   "file_extension": ".py",
   "mimetype": "text/x-python",
   "name": "python",
   "nbconvert_exporter": "python",
   "pygments_lexer": "ipython3",
   "version": "3.7.3"
  }
 },
 "nbformat": 4,
 "nbformat_minor": 2
}
