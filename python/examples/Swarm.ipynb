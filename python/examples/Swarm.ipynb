{
 "cells": [
  {
   "cell_type": "code",
   "execution_count": 1,
   "metadata": {},
   "outputs": [],
   "source": [
    "import petsc4py.PETSc as PETSc\n",
    "import underworld3 as uw\n",
    "import numpy as np"
   ]
  },
  {
   "cell_type": "code",
   "execution_count": 2,
   "metadata": {},
   "outputs": [],
   "source": [
    "mesh = uw.FeMesh((6,6), simplex=False)"
   ]
  },
  {
   "cell_type": "code",
   "execution_count": 3,
   "metadata": {},
   "outputs": [],
   "source": [
    "dim = mesh.plex.getDimension()"
   ]
  },
  {
   "cell_type": "code",
   "execution_count": 4,
   "metadata": {},
   "outputs": [],
   "source": [
    "# Get Element Count\n",
    "eStart, eEnd = mesh.plex.getHeightStratum(0)\n",
    "elCount = eEnd - eStart"
   ]
  },
  {
   "cell_type": "markdown",
   "metadata": {},
   "source": [
    "# Build Velocity ad Solution vectors"
   ]
  },
  {
   "cell_type": "code",
   "execution_count": 5,
   "metadata": {},
   "outputs": [],
   "source": [
    "dim = mesh.plex.getDimension()"
   ]
  },
  {
   "cell_type": "code",
   "execution_count": 6,
   "metadata": {},
   "outputs": [],
   "source": [
    "ds = mesh.plex.getDS()"
   ]
  },
  {
   "cell_type": "code",
   "execution_count": 7,
   "metadata": {},
   "outputs": [
    {
     "data": {
      "text/plain": [
       "<petsc4py.PETSc.FE at 0x7fd8cc198d58>"
      ]
     },
     "execution_count": 7,
     "metadata": {},
     "output_type": "execute_result"
    }
   ],
   "source": [
    "# Get Communicator from DM\n",
    "comm = mesh.plex.comm\n",
    "# Create Default FE\n",
    "fe_vel = PETSc.FE().createDefault(dim=mesh.dim, nc=2, isSimplex=mesh.isSimplex, qorder=-1, comm=comm)\n",
    "# Set Name\n",
    "fe_vel.setName(\"velocity\")\n",
    "# Get Quadrature\n",
    "fe_vel_quad = fe_vel.getQuadrature()\n",
    "# Get Face Quadrature\n",
    "fe_vel_face_quad = fe_vel.getFaceQuadrature()\n",
    "# Set Discretisation\n",
    "ds.setDiscretisation(0, fe_vel)\n",
    "fe_vel.destroy()"
   ]
  },
  {
   "cell_type": "code",
   "execution_count": 8,
   "metadata": {},
   "outputs": [
    {
     "data": {
      "text/plain": [
       "<petsc4py.PETSc.FE at 0x7fd8748a6888>"
      ]
     },
     "execution_count": 8,
     "metadata": {},
     "output_type": "execute_result"
    }
   ],
   "source": [
    "# Create Default FE\n",
    "fe_pres = PETSc.FE().createDefault(dim=mesh.dim, nc=1, isSimplex=mesh.isSimplex, qorder=-1, comm=comm)\n",
    "# Set Name\n",
    "fe_pres.setName(\"pressure\")\n",
    "# Set Quadrature\n",
    "fe_pres.setQuadrature(fe_vel_quad)\n",
    "# Set Face Quadrature\n",
    "fe_pres.setFaceQuadrature(fe_vel_face_quad)\n",
    "# Set Discretisation\n",
    "ds.setDiscretisation(1, fe_pres)\n",
    "fe_pres.destroy()"
   ]
  },
  {
   "cell_type": "code",
   "execution_count": 9,
   "metadata": {},
   "outputs": [],
   "source": [
    "swarm = PETSc.DMSwarm().create()"
   ]
  },
  {
   "cell_type": "code",
   "execution_count": 10,
   "metadata": {},
   "outputs": [],
   "source": [
    "swarm.setDimension(dim)"
   ]
  },
  {
   "cell_type": "code",
   "execution_count": 11,
   "metadata": {},
   "outputs": [],
   "source": [
    "swarm.setType(1)"
   ]
  },
  {
   "cell_type": "code",
   "execution_count": 12,
   "metadata": {},
   "outputs": [],
   "source": [
    "swarm.setCellDM(mesh.plex)"
   ]
  },
  {
   "cell_type": "code",
   "execution_count": 13,
   "metadata": {},
   "outputs": [],
   "source": [
    "swarm.registerField(\"eta0\", 1, dtype=PETSc.RealType)"
   ]
  },
  {
   "cell_type": "code",
   "execution_count": 14,
   "metadata": {},
   "outputs": [],
   "source": [
    "swarm.registerField(\"rank\", 1, dtype=PETSc.IntType)"
   ]
  },
  {
   "cell_type": "code",
   "execution_count": 15,
   "metadata": {},
   "outputs": [],
   "source": [
    "swarm.finalizeFieldRegister()"
   ]
  },
  {
   "cell_type": "code",
   "execution_count": 16,
   "metadata": {},
   "outputs": [],
   "source": [
    "ppcell = 2"
   ]
  },
  {
   "cell_type": "code",
   "execution_count": 17,
   "metadata": {},
   "outputs": [
    {
     "data": {
      "text/plain": [
       "<petsc4py.PETSc.DMSwarm at 0x7fd8748a62b0>"
      ]
     },
     "execution_count": 17,
     "metadata": {},
     "output_type": "execute_result"
    }
   ],
   "source": [
    "swarm.setLocalSizes(elCount*ppcell, 0)"
   ]
  },
  {
   "cell_type": "code",
   "execution_count": 18,
   "metadata": {},
   "outputs": [],
   "source": [
    "swarm.insertPointUsingCellDM(1, ppcell)"
   ]
  },
  {
   "cell_type": "code",
   "execution_count": 19,
   "metadata": {},
   "outputs": [
    {
     "data": {
      "text/plain": [
       "144"
      ]
     },
     "execution_count": 19,
     "metadata": {},
     "output_type": "execute_result"
    }
   ],
   "source": [
    "swarm.getSize()"
   ]
  },
  {
   "cell_type": "markdown",
   "metadata": {},
   "source": [
    "### Initialize Swarm Variables"
   ]
  },
  {
   "cell_type": "code",
   "execution_count": 20,
   "metadata": {},
   "outputs": [],
   "source": [
    "coords = swarm.getField(\"DMSwarmPIC_coor\")"
   ]
  },
  {
   "cell_type": "code",
   "execution_count": 21,
   "metadata": {},
   "outputs": [],
   "source": [
    "eta = swarm.getField(\"eta0\")\n",
    "rank0 = swarm.getField(\"rank\")"
   ]
  },
  {
   "cell_type": "code",
   "execution_count": 22,
   "metadata": {},
   "outputs": [],
   "source": [
    "lsize = swarm.getLocalSize()"
   ]
  },
  {
   "cell_type": "code",
   "execution_count": 23,
   "metadata": {},
   "outputs": [],
   "source": [
    "x = coords[0::2]\n",
    "y = coords[1::2]"
   ]
  },
  {
   "cell_type": "code",
   "execution_count": 24,
   "metadata": {},
   "outputs": [],
   "source": [
    "rank0[:] = 0"
   ]
  },
  {
   "cell_type": "code",
   "execution_count": 25,
   "metadata": {},
   "outputs": [],
   "source": [
    "import numpy as np\n",
    "eta[:] = np.cos(4*np.pi*x) * np.cos(2*np.pi*y)"
   ]
  },
  {
   "cell_type": "code",
   "execution_count": 26,
   "metadata": {},
   "outputs": [
    {
     "data": {
      "text/plain": [
       "array([ 0.88160516,  0.6125759 , -0.07893927, -0.05485028, -0.80266589,\n",
       "       -0.55772562, -0.80266589, -0.55772562, -0.07893927, -0.05485028,\n",
       "        0.88160516,  0.6125759 ,  0.88160516,  0.6125759 , -0.07893927,\n",
       "       -0.05485028, -0.80266589, -0.55772562, -0.80266589, -0.55772562,\n",
       "       -0.07893927, -0.05485028,  0.88160516,  0.6125759 ,  0.26902926,\n",
       "       -0.26902926, -0.02408898,  0.02408898, -0.24494027,  0.24494027,\n",
       "       -0.24494027,  0.24494027, -0.02408898,  0.02408898,  0.26902926,\n",
       "       -0.26902926,  0.26902926, -0.26902926, -0.02408898,  0.02408898,\n",
       "       -0.24494027,  0.24494027, -0.24494027,  0.24494027, -0.02408898,\n",
       "        0.02408898,  0.26902926, -0.26902926, -0.6125759 , -0.88160516,\n",
       "        0.05485028,  0.07893927,  0.55772562,  0.80266589,  0.55772562,\n",
       "        0.80266589,  0.05485028,  0.07893927, -0.6125759 , -0.88160516,\n",
       "       -0.6125759 , -0.88160516,  0.05485028,  0.07893927,  0.55772562,\n",
       "        0.80266589,  0.55772562,  0.80266589,  0.05485028,  0.07893927,\n",
       "       -0.6125759 , -0.88160516, -0.88160516, -0.6125759 ,  0.07893927,\n",
       "        0.05485028,  0.80266589,  0.55772562,  0.80266589,  0.55772562,\n",
       "        0.07893927,  0.05485028, -0.88160516, -0.6125759 , -0.88160516,\n",
       "       -0.6125759 ,  0.07893927,  0.05485028,  0.80266589,  0.55772562,\n",
       "        0.80266589,  0.55772562,  0.07893927,  0.05485028, -0.88160516,\n",
       "       -0.6125759 , -0.26902926,  0.26902926,  0.02408898, -0.02408898,\n",
       "        0.24494027, -0.24494027,  0.24494027, -0.24494027,  0.02408898,\n",
       "       -0.02408898, -0.26902926,  0.26902926, -0.26902926,  0.26902926,\n",
       "        0.02408898, -0.02408898,  0.24494027, -0.24494027,  0.24494027,\n",
       "       -0.24494027,  0.02408898, -0.02408898, -0.26902926,  0.26902926,\n",
       "        0.6125759 ,  0.88160516, -0.05485028, -0.07893927, -0.55772562,\n",
       "       -0.80266589, -0.55772562, -0.80266589, -0.05485028, -0.07893927,\n",
       "        0.6125759 ,  0.88160516,  0.6125759 ,  0.88160516, -0.05485028,\n",
       "       -0.07893927, -0.55772562, -0.80266589, -0.55772562, -0.80266589,\n",
       "       -0.05485028, -0.07893927,  0.6125759 ,  0.88160516])"
      ]
     },
     "execution_count": 26,
     "metadata": {},
     "output_type": "execute_result"
    }
   ],
   "source": [
    "eta"
   ]
  },
  {
   "cell_type": "code",
   "execution_count": 27,
   "metadata": {},
   "outputs": [],
   "source": [
    "swarm.restoreField(\"DMSwarmPIC_coor\")\n",
    "swarm.restoreField(\"eta0\")\n",
    "swarm.restoreField(\"rank\")"
   ]
  },
  {
   "cell_type": "code",
   "execution_count": 28,
   "metadata": {},
   "outputs": [],
   "source": [
    "#swarm.viewXDMF(\"swarm.xmf\")"
   ]
  },
  {
   "cell_type": "code",
   "execution_count": 29,
   "metadata": {},
   "outputs": [],
   "source": [
    "#swarm.viewFieldsXDMF(\"swarm2.xmf\", [\"eta0\", \"rank\"])"
   ]
  },
  {
   "cell_type": "code",
   "execution_count": 30,
   "metadata": {},
   "outputs": [],
   "source": [
    "swarm.view()"
   ]
  },
  {
   "cell_type": "code",
   "execution_count": null,
   "metadata": {},
   "outputs": [],
   "source": []
  }
 ],
 "metadata": {
  "kernelspec": {
   "display_name": "Python 3",
   "language": "python",
   "name": "python3"
  },
  "language_info": {
   "codemirror_mode": {
    "name": "ipython",
    "version": 3
   },
   "file_extension": ".py",
   "mimetype": "text/x-python",
   "name": "python",
   "nbconvert_exporter": "python",
   "pygments_lexer": "ipython3",
   "version": "3.7.3"
  }
 },
 "nbformat": 4,
 "nbformat_minor": 2
}
