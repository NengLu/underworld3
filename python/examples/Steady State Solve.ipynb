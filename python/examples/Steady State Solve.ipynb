{
 "cells": [
  {
   "cell_type": "markdown",
   "metadata": {},
   "source": [
    "# Steady State Solve\n",
    "\n",
    "Example is based on Julian's Laplace example."
   ]
  },
  {
   "cell_type": "code",
   "execution_count": 1,
   "metadata": {},
   "outputs": [],
   "source": [
    "import petsc4py.PETSc as PETSc\n",
    "import underworld3 as uw\n",
    "import numpy as np"
   ]
  },
  {
   "cell_type": "markdown",
   "metadata": {},
   "source": [
    "## Create Mesh"
   ]
  },
  {
   "cell_type": "code",
   "execution_count": 2,
   "metadata": {},
   "outputs": [],
   "source": [
    "mesh = uw.FeMesh(elementRes=[200,200], minCoords=(-1.0, -1.0), maxCoords=(1.0, 1.0), simplex=True)\n",
    "mesh.save(\"mesh.h5\")"
   ]
  },
  {
   "cell_type": "code",
   "execution_count": 3,
   "metadata": {},
   "outputs": [],
   "source": [
    "snes = PETSc.SNES().create(comm=mesh.plex.comm)\n",
    "snes.setDM(mesh.plex)"
   ]
  },
  {
   "cell_type": "code",
   "execution_count": 4,
   "metadata": {},
   "outputs": [],
   "source": [
    "walls = {\"bottom\": 1,\n",
    "         \"right\": 2,\n",
    "         \"top\": 3,\n",
    "         \"left\": 4}"
   ]
  },
  {
   "cell_type": "code",
   "execution_count": 5,
   "metadata": {},
   "outputs": [],
   "source": [
    "for key, val in walls.items():\n",
    "    indexSet = mesh.plex.getStratumIS(\"marker\", val)\n",
    "    if not indexSet:\n",
    "        continue\n",
    "    mesh.plex.createLabel(key)\n",
    "    label = mesh.plex.getLabel(key)\n",
    "    if indexSet:\n",
    "        label.insertIS(indexSet, 1)\n",
    "    indexSet.destroy()"
   ]
  },
  {
   "cell_type": "code",
   "execution_count": null,
   "metadata": {},
   "outputs": [],
   "source": []
  }
 ],
 "metadata": {
  "kernelspec": {
   "display_name": "Python 3",
   "language": "python",
   "name": "python3"
  },
  "language_info": {
   "codemirror_mode": {
    "name": "ipython",
    "version": 3
   },
   "file_extension": ".py",
   "mimetype": "text/x-python",
   "name": "python",
   "nbconvert_exporter": "python",
   "pygments_lexer": "ipython3",
   "version": "3.7.3"
  }
 },
 "nbformat": 4,
 "nbformat_minor": 2
}
