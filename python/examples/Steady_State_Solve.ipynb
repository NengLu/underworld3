{
 "cells": [
  {
   "cell_type": "markdown",
   "metadata": {},
   "source": [
    "# Steady State Solve\n",
    "\n",
    "Example is based on Julian's Laplace example."
   ]
  },
  {
   "cell_type": "code",
   "execution_count": 1,
   "metadata": {},
   "outputs": [],
   "source": [
    "import petsc4py.PETSc as PETSc\n",
    "import underworld3 as uw"
   ]
  },
  {
   "cell_type": "code",
   "execution_count": 2,
   "metadata": {},
   "outputs": [],
   "source": [
    "user = {\"y0\": -0.6,\n",
    "        \"y1\": 1.3,\n",
    "        \"k\": 0.5,\n",
    "        \"h\": 10,\n",
    "        \"T0\": 4,\n",
    "        \"T1\": 8,\n",
    "        \"simplex\": False}"
   ]
  },
  {
   "cell_type": "markdown",
   "metadata": {},
   "source": [
    "## Create Mesh"
   ]
  },
  {
   "cell_type": "code",
   "execution_count": 3,
   "metadata": {},
   "outputs": [],
   "source": [
    "mesh = uw.FeMesh(elementRes=[6,6], minCoords=(-1.0, -1.0), maxCoords=(1.0, 1.0), simplex=True)\n",
    "mesh.save(\"mesh.h5\")"
   ]
  },
  {
   "cell_type": "code",
   "execution_count": 4,
   "metadata": {},
   "outputs": [],
   "source": [
    "part = mesh.plex.getPartitioner()\n",
    "part.setFromOptions()\n",
    "mesh.plex.distribute()"
   ]
  },
  {
   "cell_type": "code",
   "execution_count": 5,
   "metadata": {},
   "outputs": [],
   "source": [
    "mesh.plex.localizeCoordinates()\n",
    "mesh.plex.setFromOptions()"
   ]
  },
  {
   "cell_type": "markdown",
   "metadata": {},
   "source": [
    "## Setup Discretisation"
   ]
  },
  {
   "cell_type": "code",
   "execution_count": 6,
   "metadata": {},
   "outputs": [],
   "source": [
    "# Get Communicator from DM\n",
    "comm = mesh.plex.comm\n",
    "# Create Default FE\n",
    "fe_temp = PETSc.FE().createDefault(dim=mesh.dim,\n",
    "                                   nc=1,\n",
    "                                   isSimplex=mesh.isSimplex,\n",
    "                                   prefix=\"temperature_\",\n",
    "                                   qorder=-1, comm=comm)\n",
    "mesh.plex.setField(0, fe_temp)\n",
    "mesh.plex.createDS()\n",
    "prob = mesh.plex.getDS()"
   ]
  },
  {
   "cell_type": "markdown",
   "metadata": {},
   "source": [
    "### Setup Problems"
   ]
  },
  {
   "cell_type": "code",
   "execution_count": 7,
   "metadata": {},
   "outputs": [],
   "source": [
    "from underworld3.poisson import PoissonSetup"
   ]
  },
  {
   "cell_type": "code",
   "execution_count": 8,
   "metadata": {},
   "outputs": [],
   "source": [
    "PoissonSetup(mesh.plex, prob, user)"
   ]
  },
  {
   "cell_type": "code",
   "execution_count": null,
   "metadata": {},
   "outputs": [],
   "source": []
  }
 ],
 "metadata": {
  "kernelspec": {
   "display_name": "Python 3",
   "language": "python",
   "name": "python3"
  },
  "language_info": {
   "codemirror_mode": {
    "name": "ipython",
    "version": 3
   },
   "file_extension": ".py",
   "mimetype": "text/x-python",
   "name": "python",
   "nbconvert_exporter": "python",
   "pygments_lexer": "ipython3",
   "version": "3.7.3"
  }
 },
 "nbformat": 4,
 "nbformat_minor": 2
}
