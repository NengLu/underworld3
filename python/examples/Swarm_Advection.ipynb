{
 "cells": [
  {
   "cell_type": "code",
   "execution_count": 1,
   "metadata": {},
   "outputs": [],
   "source": [
    "import petsc4py.PETSc as PETSc\n",
    "import underworld3 as uw\n",
    "import numpy as np"
   ]
  },
  {
   "cell_type": "code",
   "execution_count": 2,
   "metadata": {},
   "outputs": [],
   "source": [
    "mesh = uw.FeMesh((6,6), simplex=False)"
   ]
  },
  {
   "cell_type": "code",
   "execution_count": 3,
   "metadata": {},
   "outputs": [],
   "source": [
    "dim = mesh.plex.getDimension()"
   ]
  },
  {
   "cell_type": "code",
   "execution_count": 4,
   "metadata": {},
   "outputs": [],
   "source": [
    "# Get Element Count\n",
    "eStart, eEnd = mesh.plex.getHeightStratum(0)\n",
    "elCount = eEnd - eStart"
   ]
  },
  {
   "cell_type": "markdown",
   "metadata": {},
   "source": [
    "# Build Velocity ad Solution vectors"
   ]
  },
  {
   "cell_type": "code",
   "execution_count": 5,
   "metadata": {},
   "outputs": [],
   "source": [
    "dim = mesh.plex.getDimension()"
   ]
  },
  {
   "cell_type": "code",
   "execution_count": 6,
   "metadata": {},
   "outputs": [],
   "source": [
    "ds = mesh.plex.getDS()"
   ]
  },
  {
   "cell_type": "code",
   "execution_count": 7,
   "metadata": {},
   "outputs": [
    {
     "data": {
      "text/plain": [
       "<petsc4py.PETSc.FE at 0x7f772ae98e60>"
      ]
     },
     "execution_count": 7,
     "metadata": {},
     "output_type": "execute_result"
    }
   ],
   "source": [
    "# Get Communicator from DM\n",
    "comm = mesh.plex.comm\n",
    "# Create Default FE\n",
    "fe_vel = PETSc.FE().createDefault(dim=mesh.dim, nc=2, isSimplex=mesh.isSimplex, qorder=-1, comm=comm)\n",
    "# Set Name\n",
    "fe_vel.setName(\"velocity\")\n",
    "# Get Quadrature\n",
    "fe_vel_quad = fe_vel.getQuadrature()\n",
    "# Get Face Quadrature\n",
    "fe_vel_face_quad = fe_vel.getFaceQuadrature()\n",
    "# Set Discretisation\n",
    "ds.setDiscretisation(0, fe_vel)\n",
    "fe_vel.destroy()"
   ]
  },
  {
   "cell_type": "code",
   "execution_count": 8,
   "metadata": {},
   "outputs": [
    {
     "data": {
      "text/plain": [
       "<petsc4py.PETSc.FE at 0x7f76e0ddd5c8>"
      ]
     },
     "execution_count": 8,
     "metadata": {},
     "output_type": "execute_result"
    }
   ],
   "source": [
    "# Create Default FE\n",
    "fe_pres = PETSc.FE().createDefault(dim=mesh.dim, nc=1, isSimplex=mesh.isSimplex, qorder=-1, comm=comm)\n",
    "# Set Name\n",
    "fe_pres.setName(\"pressure\")\n",
    "# Set Quadrature\n",
    "fe_pres.setQuadrature(fe_vel_quad)\n",
    "# Set Face Quadrature\n",
    "fe_pres.setFaceQuadrature(fe_vel_face_quad)\n",
    "# Set Discretisation\n",
    "ds.setDiscretisation(1, fe_pres)\n",
    "fe_pres.destroy()"
   ]
  },
  {
   "cell_type": "code",
   "execution_count": 11,
   "metadata": {},
   "outputs": [],
   "source": [
    "vec = mesh.plex.createGlobalVector()"
   ]
  },
  {
   "cell_type": "code",
   "execution_count": 12,
   "metadata": {},
   "outputs": [],
   "source": [
    "vec.setName(\"solution\")"
   ]
  },
  {
   "cell_type": "code",
   "execution_count": null,
   "metadata": {},
   "outputs": [],
   "source": []
  }
 ],
 "metadata": {
  "kernelspec": {
   "display_name": "Python 3",
   "language": "python",
   "name": "python3"
  },
  "language_info": {
   "codemirror_mode": {
    "name": "ipython",
    "version": 3
   },
   "file_extension": ".py",
   "mimetype": "text/x-python",
   "name": "python",
   "nbconvert_exporter": "python",
   "pygments_lexer": "ipython3",
   "version": "3.7.3"
  }
 },
 "nbformat": 4,
 "nbformat_minor": 2
}
