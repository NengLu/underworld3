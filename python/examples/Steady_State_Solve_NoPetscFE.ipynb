{
 "cells": [
  {
   "cell_type": "markdown",
   "metadata": {},
   "source": [
    "# Steady State Solve\n",
    "\n",
    "Example is based on Julian's Laplace example."
   ]
  },
  {
   "cell_type": "code",
   "execution_count": null,
   "metadata": {},
   "outputs": [],
   "source": [
    "import petsc4py.PETSc as PETSc\n",
    "import underworld3 as uw"
   ]
  },
  {
   "cell_type": "code",
   "execution_count": null,
   "metadata": {},
   "outputs": [],
   "source": [
    "options = PETSc.Options()"
   ]
  },
  {
   "cell_type": "code",
   "execution_count": null,
   "metadata": {},
   "outputs": [],
   "source": [
    "options.setValue(\"elRes\", \"10,10\")\n",
    "options.setValue(\"simplex\", 1)\n",
    "options.setValue(\"dm_plex_separate_marker\", None)\n",
    "options.setValue(\"temperature_petscspace_degree\", 1)\n",
    "options.setValue(\"dm_view\", \"hdf5:sol.h5\")\n",
    "options.setValue(\"sol_vec_view\", \"hdf5:sol.h5::append\")\n",
    "options.setValue(\"options_view\",None)"
   ]
  },
  {
   "cell_type": "code",
   "execution_count": null,
   "metadata": {},
   "outputs": [],
   "source": [
    "user = {\"y0\": -0.6,\n",
    "        \"y1\": 1.3,\n",
    "        \"k\": 0.5,\n",
    "        \"h\": 10,\n",
    "        \"T0\": 4.0,\n",
    "        \"T1\": 8.0,\n",
    "        \"simplex\": True}"
   ]
  },
  {
   "cell_type": "code",
   "execution_count": null,
   "metadata": {},
   "outputs": [],
   "source": [
    "from underworld3.poisson import *"
   ]
  },
  {
   "cell_type": "markdown",
   "metadata": {},
   "source": [
    "## Create Mesh"
   ]
  },
  {
   "cell_type": "code",
   "execution_count": null,
   "metadata": {},
   "outputs": [],
   "source": [
    "plex = PETSc.DMPlex().createBoxMesh(faces=(10,10), \n",
    "                                    lower=(-1.0, user[\"y0\"]),\n",
    "                                    upper=(1.0, user[\"y1\"]),\n",
    "                                    simplex=user[\"simplex\"])\n",
    "part = plex.getPartitioner()\n",
    "part.setFromOptions()\n",
    "plex.distribute()\n",
    "plex.localizeCoordinates()\n",
    "plex.setFromOptions()\n",
    "plex.viewFromOptions('-dm_view')"
   ]
  },
  {
   "cell_type": "code",
   "execution_count": null,
   "metadata": {},
   "outputs": [],
   "source": [
    "pySetupDiscretization(plex,user)"
   ]
  },
  {
   "cell_type": "code",
   "execution_count": null,
   "metadata": {},
   "outputs": [],
   "source": [
    "plex.createClosureIndex(None)\n",
    "plex.setSNESLocalFEM()"
   ]
  },
  {
   "cell_type": "code",
   "execution_count": null,
   "metadata": {},
   "outputs": [],
   "source": [
    "# Build snes\n",
    "snes = PETSc.SNES().create(comm=plex.getComm())\n",
    "snes.setDM(plex)\n",
    "snes.setFromOptions()\n",
    "\n",
    "# Build vector\n",
    "vec = plex.createGlobalVector()\n",
    "vec.array.shape\n",
    "\n",
    "snes.solve(None, vec)\n",
    "\n",
    "vec.viewFromOptions('-sol_vec_view')"
   ]
  },
  {
   "cell_type": "code",
   "execution_count": null,
   "metadata": {},
   "outputs": [],
   "source": [
    "from subprocess import call"
   ]
  },
  {
   "cell_type": "code",
   "execution_count": null,
   "metadata": {},
   "outputs": [],
   "source": [
    "# For some reason this doesn't work. I think because petsc4py is holding some reference \n",
    "# to .h5 until the python script finishes\n",
    "\n",
    "\n",
    "# rank = PETSc.COMM_WORLD.getRank()\n",
    "# if rank == 0:\n",
    "#     print(\"Converting h5 -> xmf \", end=\"\")\n",
    "    \n",
    "#     cmd = \"$PETSC_DIR/lib/petsc/bin/petsc_gen_xdmf.py sol.h5\"\n",
    "#     try:\n",
    "#         retcode = call(cmd, shell=True)\n",
    "#         if retcode < 0:\n",
    "#             print(\"... was terminated by signal {}\".format(-retcode), file=sys.stderr)\n",
    "#     except OSError as e:\n",
    "#         print(\"... failed: {}\".format(e), file=sys.stderr)\n",
    "    \n",
    "#     print(\"... done\")"
   ]
  },
  {
   "cell_type": "code",
   "execution_count": null,
   "metadata": {},
   "outputs": [],
   "source": []
  }
 ],
 "metadata": {
  "kernelspec": {
   "display_name": "Python 3",
   "language": "python",
   "name": "python3"
  },
  "language_info": {
   "codemirror_mode": {
    "name": "ipython",
    "version": 3
   },
   "file_extension": ".py",
   "mimetype": "text/x-python",
   "name": "python",
   "nbconvert_exporter": "python",
   "pygments_lexer": "ipython3",
   "version": "3.7.3"
  }
 },
 "nbformat": 4,
 "nbformat_minor": 2
}
